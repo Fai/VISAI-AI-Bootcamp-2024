{
 "cells": [
  {
   "cell_type": "markdown",
   "metadata": {},
   "source": [
    "# Basic Python Lab 5\n",
    "- While loop\n",
    "- Infinite loops and break\n",
    "- For loop\n",
    "- range()"
   ]
  },
  {
   "cell_type": "markdown",
   "metadata": {},
   "source": [
    "***\n",
    "### While loop\n",
    "The while loop in Python is used to iterate over a block of code as long as the test expression (condition) is true.\n",
    "We generally use this loop when we don't know the number of times to iterate beforehand.\n",
    "```python\n",
    "while condition: # expression is boolean \n",
    "    statement(s) # will preform statement till expression is False\n",
    "```"
   ]
  },
  {
   "cell_type": "code",
   "execution_count": 1,
   "metadata": {},
   "outputs": [
    {
     "name": "stdout",
     "output_type": "stream",
     "text": [
      "2 1\n",
      "3 2\n",
      "4 6\n",
      "5 24\n"
     ]
    }
   ],
   "source": [
    "a,b = 1,1\n",
    "while a<5:\n",
    "    b = b*a\n",
    "    a = a+1\n",
    "    print(a,b)"
   ]
  },
  {
   "cell_type": "code",
   "execution_count": 2,
   "metadata": {},
   "outputs": [
    {
     "name": "stdout",
     "output_type": "stream",
     "text": [
      "10\n",
      "9\n",
      "8\n",
      "7\n",
      "6\n",
      "5\n",
      "4\n",
      "3\n",
      "2\n",
      "1\n",
      "0\n",
      "Happy New Year\n"
     ]
    }
   ],
   "source": [
    "n = 10\n",
    "while n >= 0: \n",
    "    print(n) \n",
    "    n -= 1\n",
    "print('Happy New Year')"
   ]
  },
  {
   "cell_type": "code",
   "execution_count": 3,
   "metadata": {},
   "outputs": [
    {
     "name": "stdin",
     "output_type": "stream",
     "text": [
      "Do you love me? (y/n) : n\n",
      "Do you love me? (y/n) : a\n",
      "Do you love me? (y/n) : y\n"
     ]
    },
    {
     "name": "stdout",
     "output_type": "stream",
     "text": [
      "Thank\n"
     ]
    }
   ],
   "source": [
    "# while มักใช้กับการวนที่ไม่รู้จำนวนสิ้นสุด\n",
    "ans = input(\"Do you love me? (y/n) :\")\n",
    "while ans.lower()!='y': \n",
    "    ans = input(\"Do you love me? (y/n) :\")\n",
    "print('Thank')"
   ]
  },
  {
   "cell_type": "markdown",
   "metadata": {},
   "source": [
    "#### Infinite loops and break\n",
    "Sometimes you don’t know it’s time to end a loop until you get half way through\n",
    "the body. In that case you can write an infinite loop on purpose and then use the\n",
    "`break` statement to jump out of the loop.\n",
    "This loop is obviously an infinite loop because the logical expression on the while\n",
    "statement is simply the logical constant `True`\n",
    "\n",
    "```python\n",
    "while True:\n",
    "    statement(s)\n",
    "    if condition:\n",
    "        break\n",
    "```"
   ]
  },
  {
   "cell_type": "code",
   "execution_count": 4,
   "metadata": {},
   "outputs": [
    {
     "name": "stdin",
     "output_type": "stream",
     "text": [
      "Do you love me? (y/n) : n\n",
      "Do you love me? (y/n) : a\n",
      "Do you love me? (y/n) : y\n"
     ]
    },
    {
     "name": "stdout",
     "output_type": "stream",
     "text": [
      "Thank\n"
     ]
    }
   ],
   "source": [
    "while True:\n",
    "    ans = input(\"Do you love me? (y/n) :\")\n",
    "    if ans.lower()=='y':\n",
    "        break\n",
    "print('Thank')"
   ]
  },
  {
   "cell_type": "code",
   "execution_count": 5,
   "metadata": {
    "scrolled": true
   },
   "outputs": [
    {
     "name": "stdin",
     "output_type": "stream",
     "text": [
      "Enter weather (sunny, rainy, snowy, or quit):  sunny\n"
     ]
    },
    {
     "name": "stdout",
     "output_type": "stream",
     "text": [
      "Wear a t-shirt and sunscreen\n"
     ]
    }
   ],
   "source": [
    "while True:\n",
    "    weather = input(\"Enter weather (sunny, rainy, snowy, or quit): \") \n",
    "    if weather.lower() == \"sunny\":\n",
    "        print(\"Wear a t-shirt and sunscreen\")\n",
    "        break\n",
    "    elif weather.lower() == \"rainy\":\n",
    "        print(\"Bring an umbrella and boots\")\n",
    "        break\n",
    "    elif weather.lower() == \"snowy\":\n",
    "        print(\"Wear a warm coat and hat\")\n",
    "        break\n",
    "    elif weather.lower()== \"quit\":\n",
    "        print('\"quit\" detected, exiting')\n",
    "        break\n",
    "    else:\n",
    "        print(\"Sorry, not sure what to suggest for \"+weather)"
   ]
  },
  {
   "cell_type": "markdown",
   "metadata": {},
   "source": [
    "#### Test Yourself!\n",
    "#####  Check number"
   ]
  },
  {
   "cell_type": "code",
   "execution_count": null,
   "metadata": {},
   "outputs": [],
   "source": [
    "num = input(\"Input :\")\n",
    "while ______: \n",
    "    ______\n",
    "\n",
    "if int(num)%2==0: \n",
    "    print(f\"{num} is an even number\")\n",
    "else:\n",
    "    print(f\"{num} is a odd number\")"
   ]
  },
  {
   "cell_type": "code",
   "execution_count": 6,
   "metadata": {},
   "outputs": [
    {
     "name": "stdin",
     "output_type": "stream",
     "text": [
      "Input : a\n"
     ]
    },
    {
     "name": "stdout",
     "output_type": "stream",
     "text": [
      "a is not a number\n"
     ]
    },
    {
     "name": "stdin",
     "output_type": "stream",
     "text": [
      "Input again: 10\n"
     ]
    },
    {
     "name": "stdout",
     "output_type": "stream",
     "text": [
      "10 is an even number\n"
     ]
    }
   ],
   "source": [
    "# Solution\n",
    "num = input(\"Input :\")\n",
    "while not num.isnumeric(): \n",
    "    print(f\"{num} is not a number\") \n",
    "    num = input(\"Input again:\")\n",
    "if int(num)%2==0: \n",
    "    print(f\"{num} is an even number\")\n",
    "else:\n",
    "    print(f\"{num} is a odd number\")"
   ]
  },
  {
   "cell_type": "markdown",
   "metadata": {},
   "source": [
    "***\n",
    "### For loop\n",
    "The for loop in Python is used to iterate over a sequence or other iterable objects. Iterating over a sequence is called traversal.\n",
    "```python\n",
    "for element in sequence: # iterate over a sequence\n",
    "    statement(s) # will preform statement\n",
    "```"
   ]
  },
  {
   "cell_type": "code",
   "execution_count": 7,
   "metadata": {},
   "outputs": [
    {
     "name": "stdout",
     "output_type": "stream",
     "text": [
      "H\n",
      "e\n",
      "l\n",
      "l\n",
      "o\n",
      " \n",
      "W\n",
      "o\n",
      "r\n",
      "l\n",
      "d\n"
     ]
    }
   ],
   "source": [
    "for ch in 'Hello World':\n",
    "    print(ch)"
   ]
  },
  {
   "cell_type": "code",
   "execution_count": 8,
   "metadata": {},
   "outputs": [
    {
     "name": "stdout",
     "output_type": "stream",
     "text": [
      "H_e_l_l_o_ _W_o_r_l_d_"
     ]
    }
   ],
   "source": [
    "for ch in 'Hello World':\n",
    "    print(ch+'_', end='')"
   ]
  },
  {
   "cell_type": "markdown",
   "metadata": {},
   "source": [
    "#### range()\n",
    "The range() type returns an immutable sequence of numbers between the given start integer to the stop integer.\n",
    "```python\n",
    "range(stop) #start from 0 by default, and increments by 1 by default\n",
    "range(start, stop[, step])\n",
    "```"
   ]
  },
  {
   "cell_type": "code",
   "execution_count": 9,
   "metadata": {},
   "outputs": [
    {
     "data": {
      "text/plain": [
       "range(0, 5)"
      ]
     },
     "execution_count": 9,
     "metadata": {},
     "output_type": "execute_result"
    }
   ],
   "source": [
    "range(5)"
   ]
  },
  {
   "cell_type": "code",
   "execution_count": 10,
   "metadata": {},
   "outputs": [
    {
     "data": {
      "text/plain": [
       "range(2, 5)"
      ]
     },
     "execution_count": 10,
     "metadata": {},
     "output_type": "execute_result"
    }
   ],
   "source": [
    "range(2,5)"
   ]
  },
  {
   "cell_type": "code",
   "execution_count": 11,
   "metadata": {},
   "outputs": [
    {
     "data": {
      "text/plain": [
       "range(5, 20, 3)"
      ]
     },
     "execution_count": 11,
     "metadata": {},
     "output_type": "execute_result"
    }
   ],
   "source": [
    "range(5,20,3)"
   ]
  },
  {
   "cell_type": "code",
   "execution_count": 12,
   "metadata": {},
   "outputs": [
    {
     "data": {
      "text/plain": [
       "[5, 8, 11, 14, 17]"
      ]
     },
     "execution_count": 12,
     "metadata": {},
     "output_type": "execute_result"
    }
   ],
   "source": [
    "list(range(5,20,3))"
   ]
  },
  {
   "cell_type": "code",
   "execution_count": 13,
   "metadata": {},
   "outputs": [
    {
     "data": {
      "text/plain": [
       "5"
      ]
     },
     "execution_count": 13,
     "metadata": {},
     "output_type": "execute_result"
    }
   ],
   "source": [
    "len(range(5,20,3))"
   ]
  },
  {
   "cell_type": "code",
   "execution_count": 14,
   "metadata": {},
   "outputs": [
    {
     "name": "stdout",
     "output_type": "stream",
     "text": [
      "55\n"
     ]
    }
   ],
   "source": [
    "total = 0\n",
    "for num in range(5,20,3):\n",
    "    total += num\n",
    "print(total)"
   ]
  },
  {
   "cell_type": "code",
   "execution_count": 15,
   "metadata": {},
   "outputs": [
    {
     "name": "stdout",
     "output_type": "stream",
     "text": [
      "Number\tSquare\n",
      "--------------\n",
      "1 \t 1\n",
      "2 \t 4\n",
      "3 \t 9\n",
      "4 \t 16\n",
      "5 \t 25\n",
      "6 \t 36\n",
      "7 \t 49\n",
      "8 \t 64\n",
      "9 \t 81\n",
      "10 \t 100\n"
     ]
    }
   ],
   "source": [
    "# Print the table headings.\n",
    "print('Number\\tSquare')\n",
    "print('--------------')\n",
    "\n",
    "# Print the numbers 1 through 10\n",
    "# and their squares.\n",
    "for num in range(1, 11):\n",
    "    square = num**2\n",
    "    print(num, '\\t', square)"
   ]
  },
  {
   "cell_type": "markdown",
   "metadata": {},
   "source": [
    "#### Test Yourself!\n",
    "#####  Multiplication table 2,3,4"
   ]
  },
  {
   "cell_type": "code",
   "execution_count": null,
   "metadata": {},
   "outputs": [],
   "source": [
    "# Print the table headings.\n",
    "print('Number\\t 2\\t 3\\t 4')\n",
    "print('---------------------------')\n",
    "for ______"
   ]
  },
  {
   "cell_type": "code",
   "execution_count": 16,
   "metadata": {},
   "outputs": [
    {
     "name": "stdout",
     "output_type": "stream",
     "text": [
      "Number\t 2\t 3\t 4\n",
      "---------------------------\n",
      "1\t2\t3\t4\n",
      "2\t4\t6\t8\n",
      "3\t6\t9\t12\n",
      "4\t8\t12\t16\n",
      "5\t10\t15\t20\n",
      "6\t12\t18\t24\n",
      "7\t14\t21\t28\n",
      "8\t16\t24\t32\n",
      "9\t18\t27\t36\n",
      "10\t20\t30\t40\n",
      "11\t22\t33\t44\n",
      "12\t24\t36\t48\n"
     ]
    }
   ],
   "source": [
    "# Solution\n",
    "# Print the table headings.\n",
    "print('Number\\t 2\\t 3\\t 4')\n",
    "print('---------------------------')\n",
    "for num in range(1, 13):\n",
    "    print(f\"{num}\\t{num*2}\\t{num*3}\\t{num*4}\")"
   ]
  },
  {
   "cell_type": "markdown",
   "metadata": {},
   "source": [
    "##### Sum of Digits in a String\n",
    "Write a program to sum of all the single digit numbers in the string.\n",
    "For example, if the user enters 2514, the method should return\n",
    "12, which is the sum of 2, 5, 1, and 4."
   ]
  },
  {
   "cell_type": "code",
   "execution_count": null,
   "metadata": {},
   "outputs": [],
   "source": [
    "number = '15asd684.as545'\n",
    "# Output 38"
   ]
  },
  {
   "cell_type": "code",
   "execution_count": 17,
   "metadata": {},
   "outputs": [
    {
     "name": "stdout",
     "output_type": "stream",
     "text": [
      "38\n"
     ]
    }
   ],
   "source": [
    "# Solution\n",
    "number = '15asd684.as545'\n",
    "total = 0\n",
    "for ch in number:\n",
    "    if ch.isnumeric():\n",
    "        total += int(ch)\n",
    "print(total)"
   ]
  },
  {
   "cell_type": "markdown",
   "metadata": {},
   "source": [
    "#### Exercise\n",
    "##### Program: Shirt Count\n",
    "- enter a sizes (S, M, L)\n",
    "- count of each size\n",
    "- input \"exit\" when finished\n",
    "- report out the purchase of each shirt size"
   ]
  },
  {
   "cell_type": "code",
   "execution_count": null,
   "metadata": {},
   "outputs": [],
   "source": [
    "# สร้างตัวแปรเพื่อเก็บการนับก่อน\n",
    "count_s = 0\n",
    "count_m = 0\n",
    "count_l = 0\n",
    "\n",
    "# สร้าง while โดยใช้นับ และ condition ที่ใช้ออกจาก loop\n",
    "# Your code"
   ]
  },
  {
   "cell_type": "code",
   "execution_count": 18,
   "metadata": {},
   "outputs": [
    {
     "name": "stdin",
     "output_type": "stream",
     "text": [
      "Enter Shirt Size (S,M,L,exit) :  a\n"
     ]
    },
    {
     "name": "stdout",
     "output_type": "stream",
     "text": [
      "\n",
      "Try again\n"
     ]
    },
    {
     "name": "stdin",
     "output_type": "stream",
     "text": [
      "Enter Shirt Size (S,M,L,exit) :  s\n"
     ]
    },
    {
     "name": "stdout",
     "output_type": "stream",
     "text": [
      "\n"
     ]
    },
    {
     "name": "stdin",
     "output_type": "stream",
     "text": [
      "Enter Shirt Size (S,M,L,exit) :  m\n"
     ]
    },
    {
     "name": "stdout",
     "output_type": "stream",
     "text": [
      "\n"
     ]
    },
    {
     "name": "stdin",
     "output_type": "stream",
     "text": [
      "Enter Shirt Size (S,M,L,exit) :  l\n"
     ]
    },
    {
     "name": "stdout",
     "output_type": "stream",
     "text": [
      "\n"
     ]
    },
    {
     "name": "stdin",
     "output_type": "stream",
     "text": [
      "Enter Shirt Size (S,M,L,exit) :  m\n"
     ]
    },
    {
     "name": "stdout",
     "output_type": "stream",
     "text": [
      "\n"
     ]
    },
    {
     "name": "stdin",
     "output_type": "stream",
     "text": [
      "Enter Shirt Size (S,M,L,exit) :  exit\n"
     ]
    },
    {
     "name": "stdout",
     "output_type": "stream",
     "text": [
      "\n",
      "Shirt Size\n",
      "-------------------\n",
      "S \t M \t L\n",
      "-------------------\n",
      "1 \t 2 \t 1\n"
     ]
    }
   ],
   "source": [
    "# Solution\n",
    "# สร้างตัวแปรเพื่อเก็บการนับก่อน\n",
    "count_s = 0\n",
    "count_m = 0\n",
    "count_l = 0\n",
    "\n",
    "# สร้าง while โดยใช้นับ และ condition ที่ใช้ออกจาก loop\n",
    "while True:  \n",
    "    size = input(\"Enter Shirt Size (S,M,L,exit) : \").lower()\n",
    "    print()\n",
    "    if size == \"s\":\n",
    "        count_s+=1\n",
    "    elif size == \"m\":\n",
    "        count_m+=1\n",
    "    elif size == \"l\":\n",
    "        count_l+=1    \n",
    "    elif size == \"exit\":      \n",
    "        break\n",
    "    else:\n",
    "        print(\"Try again\")\n",
    "        \n",
    "print(\"Shirt Size\")\n",
    "print(\"-------------------\")      \n",
    "print(\"S\",\"\\t\",\"M\",\"\\t\",\"L\")\n",
    "print(\"-------------------\")\n",
    "print(count_s,\"\\t\",count_m,\"\\t\",count_l)"
   ]
  },
  {
   "cell_type": "markdown",
   "metadata": {},
   "source": [
    "#### Exercise \n",
    "##### Caesar Cipher\n",
    "A \"Caesar Cipher\" is a simple way of encrypting a message by replacing each letter\n",
    "with a letter A a certain number of spaces up the alphabet. For example, if shifting the\n",
    "message by 13, an A would become an N, while an S would wrap around to the start\n",
    "of the alphabet to become an F.\n",
    "Write a program that asks the user for a message (a string) and a shift amount (an\n",
    "integer). The values should be passed to a function that accepts a string and an integer\n",
    "as arguments, and returns a string representing the original string encrypted by\n",
    "shfiting the letters by the integer. For example, as string \"BEWARE THE IDES OF\n",
    "MARCH\", and an integer of 13 should result in a string of \"ORJNER GUR VQRF BS\n",
    "ZNEPU\"."
   ]
  },
  {
   "cell_type": "code",
   "execution_count": null,
   "metadata": {},
   "outputs": [],
   "source": [
    "# Input function\n",
    "plain = input(\"What is your plain text? : \") # \"BEWARE THE IDES OF MARCH\"\n",
    "shift = int(input(\"What is your shift? :\")) # 13\n",
    "# Output \"ORJNER GUR VQRF BS ZNEPU\"\n",
    "\n",
    "# Your code"
   ]
  },
  {
   "cell_type": "code",
   "execution_count": 19,
   "metadata": {},
   "outputs": [
    {
     "name": "stdout",
     "output_type": "stream",
     "text": [
      "97\n",
      "98\n",
      "c\n"
     ]
    }
   ],
   "source": [
    "# Hint\n",
    "print(ord('a'))\n",
    "print(ord('b'))\n",
    "print(chr(99))"
   ]
  },
  {
   "cell_type": "code",
   "execution_count": 20,
   "metadata": {},
   "outputs": [
    {
     "name": "stdin",
     "output_type": "stream",
     "text": [
      "What is your plain text? :  BEWARE THE IDES OF MARCH\n",
      "What is your shift? : 13\n"
     ]
    },
    {
     "name": "stdout",
     "output_type": "stream",
     "text": [
      "Your final text(Cipher) is :  ORJNER GUR VQRF BS ZNEPU\n"
     ]
    }
   ],
   "source": [
    "# Solution\n",
    "# Input function\n",
    "plain = input(\"What is your plain text? : \") # \"BEWARE THE IDES OF MARCH\"\n",
    "shift = int(input(\"What is your shift? :\")) # 13\n",
    "\n",
    "plain = plain.upper()\n",
    "cipher = \"\"\n",
    "\n",
    "for ch in plain:\n",
    "    if ch.isalpha():\n",
    "        index_sh = ord(ch)+ shift\n",
    "        if index_sh > ord(\"Z\"):\n",
    "            index_sh -= 26\n",
    "        cipher += chr(index_sh)\n",
    "    else:\n",
    "        cipher += ch\n",
    "\n",
    "print (\"Your final text(Cipher) is : \", cipher)"
   ]
  },
  {
   "cell_type": "code",
   "execution_count": null,
   "metadata": {},
   "outputs": [],
   "source": []
  }
 ],
 "metadata": {
  "kernelspec": {
   "display_name": "Python 3",
   "language": "python",
   "name": "python3"
  },
  "language_info": {
   "codemirror_mode": {
    "name": "ipython",
    "version": 3
   },
   "file_extension": ".py",
   "mimetype": "text/x-python",
   "name": "python",
   "nbconvert_exporter": "python",
   "pygments_lexer": "ipython3",
   "version": "3.8.5"
  }
 },
 "nbformat": 4,
 "nbformat_minor": 4
}
