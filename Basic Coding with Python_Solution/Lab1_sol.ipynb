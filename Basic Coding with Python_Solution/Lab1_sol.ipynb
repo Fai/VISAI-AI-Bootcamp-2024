{
 "cells": [
  {
   "cell_type": "markdown",
   "metadata": {},
   "source": [
    "# Basic Python Lab 1\n",
    "- Jupyter notebook\n",
    "- Data type\n",
    "- Arithmetic Operators\n",
    "- Variables Assignments\n",
    "- Assignment Operators"
   ]
  },
  {
   "cell_type": "markdown",
   "metadata": {},
   "source": [
    "***\n",
    "### Jupyter notebook\n",
    "The Jupyter Notebook is an open-source web application that allows you to create and share documents that contain live code, equations, visualizations and narrative text. Uses include: data cleaning and transformation, numerical simulation, statistical modeling, data visualization, machine learning, and much more.\n",
    "- Cell: Code and Markdown\n",
    "- Comment #......\n",
    "\n",
    "*----------Desirable----------*\n",
    "- Shortcuts\\\n",
    "`Shift + Enter` : run the current cell, select below\\\n",
    "`Ctrl + Enter` : run selected cells\\\n",
    "`Alt + Enter` : run the current cell, insert below\\\n",
    "`Tab code` completion or indent\\\n",
    "`Shift + Tab` tooltip\\\n",
    "`Ctrl + Z` undo\\\n",
    "`Ctrl + Shift + Z` or `Ctrl + Y` redo\n",
    "- Kernal / Runtime(Colab)\n",
    "- Function `print(...)`"
   ]
  },
  {
   "cell_type": "code",
   "execution_count": 1,
   "metadata": {},
   "outputs": [
    {
     "name": "stdout",
     "output_type": "stream",
     "text": [
      "100\n"
     ]
    }
   ],
   "source": [
    "# Code cell\n",
    "print(100)"
   ]
  },
  {
   "cell_type": "markdown",
   "metadata": {},
   "source": [
    "##### Markdown cell\n",
    "- VISTEC\n",
    "- Bangkok\n",
    "- Rayong"
   ]
  },
  {
   "cell_type": "code",
   "execution_count": 2,
   "metadata": {},
   "outputs": [
    {
     "name": "stdout",
     "output_type": "stream",
     "text": [
      "2\n",
      "9\n"
     ]
    }
   ],
   "source": [
    "print(2)\n",
    "print(4+5)"
   ]
  },
  {
   "cell_type": "code",
   "execution_count": 3,
   "metadata": {},
   "outputs": [
    {
     "data": {
      "text/plain": [
       "9"
      ]
     },
     "execution_count": 3,
     "metadata": {},
     "output_type": "execute_result"
    }
   ],
   "source": [
    "4+5"
   ]
  },
  {
   "cell_type": "markdown",
   "metadata": {},
   "source": [
    "***\n",
    "### Data Types\n",
    "1. bool (boolean)\\\n",
    "Ex. True, False\n",
    "2. int (integer number)\\\n",
    "Ex. 30, 0, 999, -20\n",
    "3. float (approximation to a real number) [Desirable: https://docs.python.org/3/tutorial/floatingpoint.html] \\\n",
    "Ex. 1.23, 0.02, -92.34\n",
    "4. str (string or text)\\\n",
    "Ex. \"Hello\", 'World'\n",
    "\n",
    "Function `type(...)`"
   ]
  },
  {
   "cell_type": "code",
   "execution_count": 4,
   "metadata": {},
   "outputs": [
    {
     "name": "stdout",
     "output_type": "stream",
     "text": [
      "<class 'bool'>\n"
     ]
    }
   ],
   "source": [
    "print(type(False))"
   ]
  },
  {
   "cell_type": "code",
   "execution_count": 5,
   "metadata": {},
   "outputs": [
    {
     "name": "stdout",
     "output_type": "stream",
     "text": [
      "<class 'int'>\n"
     ]
    }
   ],
   "source": [
    "print(type(-29))"
   ]
  },
  {
   "cell_type": "code",
   "execution_count": 6,
   "metadata": {},
   "outputs": [
    {
     "name": "stdout",
     "output_type": "stream",
     "text": [
      "<class 'float'>\n"
     ]
    }
   ],
   "source": [
    "print(type(9.823423423))"
   ]
  },
  {
   "cell_type": "code",
   "execution_count": 7,
   "metadata": {},
   "outputs": [
    {
     "name": "stdout",
     "output_type": "stream",
     "text": [
      "4.600000000000001\n"
     ]
    }
   ],
   "source": [
    "# Floating point\n",
    "print(5.0-0.1-0.1-0.1-0.1)"
   ]
  },
  {
   "cell_type": "code",
   "execution_count": 8,
   "metadata": {},
   "outputs": [
    {
     "name": "stdout",
     "output_type": "stream",
     "text": [
      "<class 'str'>\n"
     ]
    }
   ],
   "source": [
    "print(type(\"Hi\"))"
   ]
  },
  {
   "cell_type": "markdown",
   "metadata": {},
   "source": [
    "#### Test Yourself!\n",
    "Type?\n",
    "```python\n",
    "2.1324\n",
    "true\n",
    "-0.0\n",
    "123456\n",
    "False\n",
    "\"Python\"\n",
    "```"
   ]
  },
  {
   "cell_type": "code",
   "execution_count": 9,
   "metadata": {},
   "outputs": [
    {
     "name": "stdout",
     "output_type": "stream",
     "text": [
      "<class 'float'>\n",
      "<class 'float'>\n",
      "<class 'int'>\n",
      "<class 'bool'>\n",
      "<class 'str'>\n"
     ]
    }
   ],
   "source": [
    "# Solution\n",
    "print(type(2.1324)) # --> float\n",
    "# print(type(true)) # --> raise Error\n",
    "print(type(-0.0)) # --> float\n",
    "print(type(123456)) # --> int\n",
    "print(type(False)) # --> bool\n",
    "print(type(\"Python\")) # --> str"
   ]
  },
  {
   "cell_type": "markdown",
   "metadata": {},
   "source": [
    "***\n",
    "### Arithmetic Operators\n",
    "\n",
    "| Operator | Description | Expression | Result |\n",
    "|----------||||\n",
    "|+|addition|9 + 2|11|\n",
    "|-|subtraction|9 - 2|7|\n",
    "|*|multiplication|9 * 2|18|\n",
    "|**|exponentiation|9 ** 2|81|\n",
    "|/|division|9 / 2|4.5|\n",
    "|//|integer division|9 // 2|4|\n",
    "|%|modulo (remainder)|9 % 2|1|\n",
    "\n",
    "### Arithmetic Operator Precedence\n",
    "| Operator | Description |\n",
    "|----------||\n",
    "| () |parentheses|\n",
    "| \\** |exponentiation| \n",
    "| *, /, //, %|multiplication, division, integer division, modulo|\n",
    "|+, -|addition, subtraction|"
   ]
  },
  {
   "cell_type": "code",
   "execution_count": 10,
   "metadata": {},
   "outputs": [
    {
     "name": "stdout",
     "output_type": "stream",
     "text": [
      "13\n",
      "<class 'int'>\n"
     ]
    }
   ],
   "source": [
    "# addition\n",
    "print(10+3)\n",
    "print(type(10+3))"
   ]
  },
  {
   "cell_type": "code",
   "execution_count": 11,
   "metadata": {},
   "outputs": [
    {
     "name": "stdout",
     "output_type": "stream",
     "text": [
      "7.0\n",
      "<class 'float'>\n"
     ]
    }
   ],
   "source": [
    "# subtraction\n",
    "print(10-3.0)\n",
    "print(type(10-3.0))"
   ]
  },
  {
   "cell_type": "code",
   "execution_count": 12,
   "metadata": {},
   "outputs": [
    {
     "name": "stdout",
     "output_type": "stream",
     "text": [
      "30.0\n",
      "<class 'float'>\n"
     ]
    }
   ],
   "source": [
    "# multiplication\n",
    "print(10*3.0)\n",
    "print(type(10*3.0))"
   ]
  },
  {
   "cell_type": "code",
   "execution_count": 13,
   "metadata": {},
   "outputs": [
    {
     "name": "stdout",
     "output_type": "stream",
     "text": [
      "1000\n",
      "<class 'int'>\n"
     ]
    }
   ],
   "source": [
    "# Exponentiation\n",
    "print(10**3)\n",
    "print(type(10**3))"
   ]
  },
  {
   "cell_type": "code",
   "execution_count": 14,
   "metadata": {},
   "outputs": [
    {
     "name": "stdout",
     "output_type": "stream",
     "text": [
      "5.0\n",
      "<class 'float'>\n"
     ]
    }
   ],
   "source": [
    "# division\n",
    "print(10/2)\n",
    "print(type(10/2))"
   ]
  },
  {
   "cell_type": "code",
   "execution_count": 15,
   "metadata": {},
   "outputs": [
    {
     "name": "stdout",
     "output_type": "stream",
     "text": [
      "3\n",
      "<class 'int'>\n"
     ]
    }
   ],
   "source": [
    "# integer division\n",
    "print(10//3)\n",
    "print(type(10//3))"
   ]
  },
  {
   "cell_type": "code",
   "execution_count": 16,
   "metadata": {},
   "outputs": [
    {
     "name": "stdout",
     "output_type": "stream",
     "text": [
      "1\n",
      "<class 'int'>\n"
     ]
    }
   ],
   "source": [
    "# modulo\n",
    "print(10%3)\n",
    "print(type(10%3))"
   ]
  },
  {
   "cell_type": "code",
   "execution_count": 17,
   "metadata": {},
   "outputs": [
    {
     "name": "stdout",
     "output_type": "stream",
     "text": [
      "21\n"
     ]
    }
   ],
   "source": [
    "# Operator Precedence\n",
    "print(10*2+1)"
   ]
  },
  {
   "cell_type": "code",
   "execution_count": 18,
   "metadata": {},
   "outputs": [
    {
     "name": "stdout",
     "output_type": "stream",
     "text": [
      "2.5\n"
     ]
    }
   ],
   "source": [
    "# Operator Precedence\n",
    "print(10/2**2)"
   ]
  },
  {
   "cell_type": "markdown",
   "metadata": {},
   "source": [
    "#### Test Yourself!\n",
    "Answer and Type?\n",
    "```python\n",
    "30+1.0\n",
    "30/3\n",
    "40//2\n",
    "40%3\n",
    "3+True\n",
    "4**5+2*(4+5)\n",
    "```"
   ]
  },
  {
   "cell_type": "code",
   "execution_count": 19,
   "metadata": {},
   "outputs": [
    {
     "name": "stdout",
     "output_type": "stream",
     "text": [
      "31.0\n",
      "<class 'float'>\n",
      "10.0\n",
      "<class 'float'>\n",
      "20\n",
      "<class 'int'>\n"
     ]
    }
   ],
   "source": [
    "# Solution\n",
    "print(30+1.0)\n",
    "print(type(30+1.0))\n",
    "print(30/3)\n",
    "print(type(30/3))\n",
    "print(40//2)\n",
    "print(type(40//2))"
   ]
  },
  {
   "cell_type": "code",
   "execution_count": 20,
   "metadata": {},
   "outputs": [
    {
     "name": "stdout",
     "output_type": "stream",
     "text": [
      "1\n",
      "<class 'int'>\n",
      "4\n",
      "<class 'int'>\n",
      "1042\n",
      "<class 'int'>\n"
     ]
    }
   ],
   "source": [
    "# Solution\n",
    "print(40%3)\n",
    "print(type(40%3))\n",
    "print(3+True)\n",
    "print(type(3+True))\n",
    "print(4**5+2*(4+5))\n",
    "print(type(4**5+2*(4+5)))"
   ]
  },
  {
   "cell_type": "markdown",
   "metadata": {},
   "source": [
    "***\n",
    "### Variable Assignments\n",
    "\n",
    "variable = expression\n",
    "\n",
    "The names you use when creating these labels need to follow a few rules:\n",
    "1. Names must start with a letter or _.\n",
    "2. There can be no spaces in the name, use _ instead.\n",
    "3. Can't use any of these symbols :'\",<>/?|\\()!@#$%^&*~-+\n",
    "4. It's considered best practice (PEP8) that names are lowercase.\n",
    "5. Avoid using the characters 'l' (lowercase letter el), 'O' (uppercase letter oh), \n",
    "   or 'I' (uppercase letter eye) as single character variable names.\n",
    "6. Avoid using words that have special meaning in Python like \"list\" and \"str\""
   ]
  },
  {
   "cell_type": "markdown",
   "metadata": {},
   "source": [
    "#### Test Yourself!\n",
    "Error or not?\n",
    "```python\n",
    "hi = 0\n",
    "hi2 = hi\n",
    "hi2 = hi4\n",
    "0 = hi3\n",
    "_hi = 0\n",
    "___ = 0\n",
    "3hi = 0\n",
    "hi3 = 0\n",
    "hi_world = 0\n",
    "hi$ = 0\n",
    "```"
   ]
  },
  {
   "cell_type": "code",
   "execution_count": 21,
   "metadata": {},
   "outputs": [
    {
     "ename": "SyntaxError",
     "evalue": "invalid syntax (<ipython-input-21-cf1b9b84bb35>, line 8)",
     "output_type": "error",
     "traceback": [
      "\u001b[1;36m  File \u001b[1;32m\"<ipython-input-21-cf1b9b84bb35>\"\u001b[1;36m, line \u001b[1;32m8\u001b[0m\n\u001b[1;33m    3hi = 0 # --> Error ขึ้นชื่อตัวแปรด้วยตัวเลขไม่ได้\u001b[0m\n\u001b[1;37m     ^\u001b[0m\n\u001b[1;31mSyntaxError\u001b[0m\u001b[1;31m:\u001b[0m invalid syntax\n"
     ]
    }
   ],
   "source": [
    "# Solution\n",
    "hi = 0 \n",
    "hi2 = hi\n",
    "hi2 = hi4 # --> Error no hi4 ยังไม่เคยกำหนด hi4 มาก่อน\n",
    "0 = hi3 # --> Error ชื่อตัวแปรต้องอยู่ทางด้านขวา\n",
    "_hi = 0\n",
    "___ = 0\n",
    "3hi = 0 # --> Error ขึ้นชื่อตัวแปรด้วยตัวเลขไม่ได้\n",
    "hi3 = 0\n",
    "hi_world = 0\n",
    "hi$ = 0 # --> Error ชื่อตัวแปรต้องไม่มีอักขระพิเศษ"
   ]
  },
  {
   "cell_type": "markdown",
   "metadata": {},
   "source": [
    "### Assignment Operators\n",
    "| Operator | Example | Same As |\n",
    "|----------|||\n",
    "|=|x = 9|x = 9|\n",
    "|+=|x += 9|x = x + 9|\n",
    "|-=|x -= 9|x = x - 9|\n",
    "|*=|x *= 9|x = x * 9|\n",
    "|**=|x **= 9|x = x ** 9|\n",
    "|/=|x /= 9|x = x / 9|\n",
    "|/=|x //= 9|x = x // 9|\n",
    "|%=|x %= 9|x = x % 9|"
   ]
  },
  {
   "cell_type": "code",
   "execution_count": 22,
   "metadata": {},
   "outputs": [
    {
     "name": "stdout",
     "output_type": "stream",
     "text": [
      "10\n"
     ]
    }
   ],
   "source": [
    "x = 10\n",
    "print(x)"
   ]
  },
  {
   "cell_type": "code",
   "execution_count": 23,
   "metadata": {},
   "outputs": [
    {
     "name": "stdout",
     "output_type": "stream",
     "text": [
      "19\n"
     ]
    }
   ],
   "source": [
    "x += 9\n",
    "print(x)"
   ]
  },
  {
   "cell_type": "code",
   "execution_count": 24,
   "metadata": {},
   "outputs": [
    {
     "name": "stdout",
     "output_type": "stream",
     "text": [
      "4\n"
     ]
    }
   ],
   "source": [
    "x %= 5\n",
    "print(x)"
   ]
  },
  {
   "cell_type": "code",
   "execution_count": 25,
   "metadata": {},
   "outputs": [
    {
     "name": "stdout",
     "output_type": "stream",
     "text": [
      "16\n"
     ]
    }
   ],
   "source": [
    "x **= 2\n",
    "print(x)"
   ]
  },
  {
   "cell_type": "code",
   "execution_count": 26,
   "metadata": {},
   "outputs": [
    {
     "name": "stdout",
     "output_type": "stream",
     "text": [
      "True\n"
     ]
    }
   ],
   "source": [
    "x = True\n",
    "print(x)"
   ]
  },
  {
   "cell_type": "code",
   "execution_count": 27,
   "metadata": {},
   "outputs": [
    {
     "name": "stdout",
     "output_type": "stream",
     "text": [
      "0.5\n"
     ]
    }
   ],
   "source": [
    "x = 10\n",
    "y = 20\n",
    "print(x/y)"
   ]
  },
  {
   "cell_type": "code",
   "execution_count": 28,
   "metadata": {},
   "outputs": [
    {
     "name": "stdout",
     "output_type": "stream",
     "text": [
      "23.437499999999996\n"
     ]
    }
   ],
   "source": [
    "# Calculate BMI\n",
    "weight = 60 #kg\n",
    "height = 1.6 #meters\n",
    "bmi = weight/height**2\n",
    "print(bmi)"
   ]
  },
  {
   "cell_type": "markdown",
   "metadata": {},
   "source": [
    "#### Test Yourself!\n",
    "Answer?\n",
    "```python\n",
    "x = 20\n",
    "y = 10\n",
    "\n",
    "x += 2\n",
    "y *= 2\n",
    "\n",
    "x,y = ??\n",
    "\n",
    "y //= x\n",
    "\n",
    "x,y = ??\n",
    "```"
   ]
  },
  {
   "cell_type": "code",
   "execution_count": 29,
   "metadata": {},
   "outputs": [
    {
     "name": "stdout",
     "output_type": "stream",
     "text": [
      "x= 22 and y= 20\n",
      "x= 22 and y= 0\n"
     ]
    }
   ],
   "source": [
    "# Solution\n",
    "x = 20\n",
    "y = 10\n",
    "\n",
    "x += 2\n",
    "y *= 2\n",
    "\n",
    "# x,y = ??\n",
    "print(\"x=\",x,\"and y=\",y)\n",
    "\n",
    "y //= x\n",
    "\n",
    "# x,y = ??\n",
    "print(\"x=\",x,\"and y=\",y)"
   ]
  },
  {
   "cell_type": "code",
   "execution_count": null,
   "metadata": {},
   "outputs": [],
   "source": []
  }
 ],
 "metadata": {
  "kernelspec": {
   "display_name": "Python 3",
   "language": "python",
   "name": "python3"
  },
  "language_info": {
   "codemirror_mode": {
    "name": "ipython",
    "version": 3
   },
   "file_extension": ".py",
   "mimetype": "text/x-python",
   "name": "python",
   "nbconvert_exporter": "python",
   "pygments_lexer": "ipython3",
   "version": "3.8.5"
  }
 },
 "nbformat": 4,
 "nbformat_minor": 4
}
