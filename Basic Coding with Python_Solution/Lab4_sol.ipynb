{
 "cells": [
  {
   "cell_type": "markdown",
   "metadata": {},
   "source": [
    "# Basic Python Lab 4\n",
    "- Comparison, Logical, and Membership Operators\n",
    "- If-else"
   ]
  },
  {
   "cell_type": "markdown",
   "metadata": {},
   "source": [
    "***\n",
    "### Comparison Operators\n",
    "| Operator | Name |\n",
    "|----------||\n",
    "|==|Equal|\n",
    "|!=|Not equal|\n",
    "|>|Greater than|\n",
    "|<|Less than|\n",
    "|>=|Greater than or equal to|\n",
    "|<=|Less than or equal to|"
   ]
  },
  {
   "cell_type": "code",
   "execution_count": 1,
   "metadata": {},
   "outputs": [
    {
     "data": {
      "text/plain": [
       "True"
      ]
     },
     "execution_count": 1,
     "metadata": {},
     "output_type": "execute_result"
    }
   ],
   "source": [
    "3 == 3"
   ]
  },
  {
   "cell_type": "code",
   "execution_count": 2,
   "metadata": {},
   "outputs": [
    {
     "data": {
      "text/plain": [
       "False"
      ]
     },
     "execution_count": 2,
     "metadata": {},
     "output_type": "execute_result"
    }
   ],
   "source": [
    "5 > 10"
   ]
  },
  {
   "cell_type": "code",
   "execution_count": 3,
   "metadata": {},
   "outputs": [
    {
     "data": {
      "text/plain": [
       "False"
      ]
     },
     "execution_count": 3,
     "metadata": {},
     "output_type": "execute_result"
    }
   ],
   "source": [
    "'a' > 'b'"
   ]
  },
  {
   "cell_type": "code",
   "execution_count": 4,
   "metadata": {},
   "outputs": [
    {
     "data": {
      "text/plain": [
       "True"
      ]
     },
     "execution_count": 4,
     "metadata": {},
     "output_type": "execute_result"
    }
   ],
   "source": [
    "'a' > 'A'"
   ]
  },
  {
   "cell_type": "code",
   "execution_count": 5,
   "metadata": {},
   "outputs": [
    {
     "data": {
      "text/plain": [
       "True"
      ]
     },
     "execution_count": 5,
     "metadata": {},
     "output_type": "execute_result"
    }
   ],
   "source": [
    "'aaa' > 'aa'"
   ]
  },
  {
   "cell_type": "code",
   "execution_count": 6,
   "metadata": {},
   "outputs": [
    {
     "data": {
      "text/plain": [
       "False"
      ]
     },
     "execution_count": 6,
     "metadata": {},
     "output_type": "execute_result"
    }
   ],
   "source": [
    "len('hi') >= len('hello')"
   ]
  },
  {
   "cell_type": "markdown",
   "metadata": {},
   "source": [
    "***\n",
    "### Logical Operators\n",
    "| Operator | Description |\n",
    "|----------||\n",
    "|and|Returns True if both statements are true|\n",
    "|or|Returns True if one of the statements is true|\n",
    "|not|Reverse the result, returns False if the result is true|\n",
    "\n",
    "##### `and`\n",
    "Is a binary operator; it operates on two variables (operands). It produces `True` when both variables are `True` and produces `False` otherwise. The following truth table shows the effect of the `and` operator on combining `A` and `B`.\n",
    "\n",
    "|`A`|`B`|`A and B`|\n",
    "|---|---|---------|\n",
    "|False|False|False|\n",
    "|False|True|False|\n",
    "|True|False|False|\n",
    "|True|True|True|\n",
    "\n",
    "##### `or`\n",
    "Is a binary operator; it operates on two variables (operands). It produces `True` if either (or both) of the variables is `True` and produces `False` otherwise. The following truth table shows the effect of `or` on combining `A` and `B`.\n",
    "\n",
    "|`A`|`B`|`A or B`|\n",
    "|---|---|---------|\n",
    "|False|False|False|\n",
    "|False|True|True|\n",
    "|True|False|True|\n",
    "|True|True|True|\n",
    "\n",
    "##### `not`\n",
    "Is a unary operator; it operates on one variable (operand) by negating it. The following truth table shows the result of negating a `bool` variable `A`.\n",
    "\n",
    "|`A`|`not A`|\n",
    "|---|-------|\n",
    "|False| True|\n",
    "|True|False|"
   ]
  },
  {
   "cell_type": "code",
   "execution_count": 7,
   "metadata": {},
   "outputs": [
    {
     "data": {
      "text/plain": [
       "False"
      ]
     },
     "execution_count": 7,
     "metadata": {},
     "output_type": "execute_result"
    }
   ],
   "source": [
    "#Test whether x is within [10, 20]\n",
    "x = 9\n",
    "(x >= 10) and (x <= 20)"
   ]
  },
  {
   "cell_type": "code",
   "execution_count": 8,
   "metadata": {},
   "outputs": [
    {
     "data": {
      "text/plain": [
       "True"
      ]
     },
     "execution_count": 8,
     "metadata": {},
     "output_type": "execute_result"
    }
   ],
   "source": [
    "#Test whether x is within (-inf,10) or (20,inf)\n",
    "x = 9\n",
    "(x < 10) or (x > 20)"
   ]
  },
  {
   "cell_type": "code",
   "execution_count": 9,
   "metadata": {
    "scrolled": true
   },
   "outputs": [
    {
     "data": {
      "text/plain": [
       "True"
      ]
     },
     "execution_count": 9,
     "metadata": {},
     "output_type": "execute_result"
    }
   ],
   "source": [
    "#Test whether x is within (-inf,10) or (20,inf) = not within [10, 20]\n",
    "x = 9\n",
    "not((x >= 10) and (x <= 20))"
   ]
  },
  {
   "cell_type": "markdown",
   "metadata": {},
   "source": [
    "***\n",
    "### Membership Operators\n",
    "| Operator | Description |\n",
    "|----------||\n",
    "|in|Returns True if a sequence with the specified value is present in the object|\n",
    "|not in|Returns True if a sequence with the specified value is not present in the object|"
   ]
  },
  {
   "cell_type": "code",
   "execution_count": 10,
   "metadata": {},
   "outputs": [
    {
     "name": "stdout",
     "output_type": "stream",
     "text": [
      "True\n"
     ]
    }
   ],
   "source": [
    "menu = \"salad, pasta, sandwich, pizza, drinks, dessert\"\n",
    "print('pizza' in menu)"
   ]
  },
  {
   "cell_type": "code",
   "execution_count": 11,
   "metadata": {},
   "outputs": [
    {
     "name": "stdout",
     "output_type": "stream",
     "text": [
      "False\n"
     ]
    }
   ],
   "source": [
    "menu = \"salad, pasta, sandwich, pizza, drinks, dessert\"\n",
    "print('water' in menu)"
   ]
  },
  {
   "cell_type": "code",
   "execution_count": 12,
   "metadata": {
    "scrolled": true
   },
   "outputs": [
    {
     "name": "stdout",
     "output_type": "stream",
     "text": [
      "True\n"
     ]
    }
   ],
   "source": [
    "menu = \"salad, pasta, sandwich, pizza, drinks, dessert\"\n",
    "print('water' not in menu)"
   ]
  },
  {
   "cell_type": "markdown",
   "metadata": {},
   "source": [
    "***\n",
    "### if, elif, else Statements\n",
    "`if` Statements in Python allow us to tell the computer to perform alternative actions based on a certain set of results.\n",
    "\n",
    "Verbally, we can imagine we are telling the computer:\n",
    "\n",
    "\"Hey if this case happens, perform some action\"\n",
    "\n",
    "We can then expand the idea further with `elif` and `else` statements, which allow us to tell the computer:\n",
    "\n",
    "\"Hey if this case happens, perform some action. Else, if another case happens, perform some other action. Else, if *none* of the above cases happened, perform this action.\"\n",
    "\n",
    "Let's go ahead and look at the syntax format for `if` statements to get a better idea of this:\n",
    "```python\n",
    "if case1:\n",
    "    # Run this code\n",
    "elif case2:\n",
    "    # Run this code\n",
    "else: \n",
    "    # Run this code\n",
    "```"
   ]
  },
  {
   "cell_type": "code",
   "execution_count": 13,
   "metadata": {},
   "outputs": [
    {
     "name": "stdout",
     "output_type": "stream",
     "text": [
      "7\n"
     ]
    }
   ],
   "source": [
    "x = -3\n",
    "if x<0: \n",
    "    x += 10\n",
    "print(x)"
   ]
  },
  {
   "cell_type": "code",
   "execution_count": 14,
   "metadata": {},
   "outputs": [
    {
     "name": "stdin",
     "output_type": "stream",
     "text": [
      "Input : 5\n"
     ]
    },
    {
     "name": "stdout",
     "output_type": "stream",
     "text": [
      "5 is a odd number\n"
     ]
    }
   ],
   "source": [
    "# บอกเลขคู่และคี่\n",
    "num = input(\"Input :\")\n",
    "if int(num)%2==0: \n",
    "    print(f\"{num} is an even number\")\n",
    "else:\n",
    "    print(f\"{num} is a odd number\")"
   ]
  },
  {
   "cell_type": "code",
   "execution_count": 15,
   "metadata": {},
   "outputs": [
    {
     "name": "stdin",
     "output_type": "stream",
     "text": [
      "Input : a\n"
     ]
    },
    {
     "name": "stdout",
     "output_type": "stream",
     "text": [
      "a is not a number\n"
     ]
    }
   ],
   "source": [
    "# บอกเลขคู่และคี่ และเช็คว่าเป็นตัวเลขไหม\n",
    "num = input(\"Input :\")\n",
    "if not num.isnumeric(): \n",
    "    print(f\"{num} is not a number\")\n",
    "elif int(num)%2==0: \n",
    "    print(f\"{num} is an even number\")\n",
    "else:\n",
    "    print(f\"{num} is a odd number\")"
   ]
  },
  {
   "cell_type": "code",
   "execution_count": null,
   "metadata": {},
   "outputs": [],
   "source": [
    "# help(str.isnumeric) # มีข้อจำกัดต้องเป็นจำนวนเต็มเท่านั้น เพราะ . เป็นอักษรจะได้ return เป็น False"
   ]
  },
  {
   "cell_type": "markdown",
   "metadata": {},
   "source": [
    "#### Test Yourself!\n",
    "##### Simple Grading System\n",
    "Write a program calculate a grade of a student\\\n",
    "A : [80,100], (>= 80)\\\n",
    "B : [60,80), (>=60 and <80)\\\n",
    "C : [50,60), (>=50 and <60)\\\n",
    "F : [0,50), (<50)"
   ]
  },
  {
   "cell_type": "code",
   "execution_count": null,
   "metadata": {},
   "outputs": [],
   "source": [
    "score = 75\n",
    "# Grade B"
   ]
  },
  {
   "cell_type": "code",
   "execution_count": 16,
   "metadata": {},
   "outputs": [
    {
     "name": "stdout",
     "output_type": "stream",
     "text": [
      "75 is Grade B\n"
     ]
    }
   ],
   "source": [
    "# Solution\n",
    "score = 75\n",
    "if score >= 80:\n",
    "    print(f\"{score} is Grade A\") \n",
    "elif score >=60:\n",
    "    print(f\"{score} is Grade B\")\n",
    "elif score >=50:\n",
    "    print(f\"{score} is Grade C\")\n",
    "else :\n",
    "    print(f\"{score} is Grade F\")"
   ]
  },
  {
   "cell_type": "markdown",
   "metadata": {},
   "source": [
    "#### Exercise\n",
    "##### Sale Recommendation\n",
    "Ask age and gender(m or f) of a customer\\\n",
    "If a customer is male and older than 35 -> recommend an umbrella\\\n",
    "If a customer is female and older or equal 20 -> recommend an umbrella\\\n",
    "If a customer is male and younger than 15 -> recommend a hat\\\n",
    "Else -> recommend a raincoat"
   ]
  },
  {
   "cell_type": "code",
   "execution_count": null,
   "metadata": {},
   "outputs": [],
   "source": [
    "# Input function\n",
    "age = int(input(\"Age:\"))\n",
    "gender = input(\"Gender(m or f):\").lower()\n",
    "# Your code\n"
   ]
  },
  {
   "cell_type": "code",
   "execution_count": 17,
   "metadata": {},
   "outputs": [
    {
     "name": "stdout",
     "output_type": "stream",
     "text": [
      "We recommend an umbrella for rainy season\n"
     ]
    }
   ],
   "source": [
    "# Solution\n",
    "age = 40\n",
    "gender = 'm'\n",
    "if (gender == 'm' and age > 35) or (gender == 'f' and age >= 25):\n",
    "    print('We recommend an umbrella for rainy season')\n",
    "elif gender == 'm' and age < 15:\n",
    "    print('We recommend a hat for rainy season')\n",
    "else:\n",
    "    print('We recommend a raincoat for rainy season')"
   ]
  },
  {
   "cell_type": "markdown",
   "metadata": {},
   "source": [
    "#### Exercise\n",
    "##### Adding menu\n",
    "Current `menu = \"salad, pasta, sandwich, pizza, drinks, dessert\"`\n",
    "1. Create a program where a user can check if an item is on the menu\n",
    "2. If not in the menu -> ask a user to add new menu or not\n",
    "3. User wants to add new menu -> add new menu to `menu`\n",
    "\n",
    "Hint: always convert to lowercase"
   ]
  },
  {
   "cell_type": "code",
   "execution_count": 18,
   "metadata": {},
   "outputs": [],
   "source": [
    "menu = \"salad, pasta, sandwich, pizza, drinks, dessert\""
   ]
  },
  {
   "cell_type": "code",
   "execution_count": null,
   "metadata": {},
   "outputs": [],
   "source": [
    "item = input(\"Check menu:\").lower()\n",
    "# Your code\n"
   ]
  },
  {
   "cell_type": "code",
   "execution_count": 19,
   "metadata": {},
   "outputs": [
    {
     "name": "stdin",
     "output_type": "stream",
     "text": [
      "Check menu: water\n"
     ]
    },
    {
     "name": "stdout",
     "output_type": "stream",
     "text": [
      "No 'water' is not in our menu\n"
     ]
    },
    {
     "name": "stdin",
     "output_type": "stream",
     "text": [
      "Do you want to add 'water into menu (y/n): y\n"
     ]
    },
    {
     "name": "stdout",
     "output_type": "stream",
     "text": [
      "menu = salad, pasta, sandwich, pizza, drinks, dessert, water\n"
     ]
    }
   ],
   "source": [
    "# Solution\n",
    "item = input(\"Check menu:\").lower()\n",
    "if item in menu:\n",
    "    print(f\"'{item}' is in our menu\")\n",
    "else:\n",
    "    print(f\"No '{item}' is not in our menu\")\n",
    "    add = input(f\"Do you want to add '{item} into menu (y/n):\").lower()\n",
    "    if add == 'y':\n",
    "        menu = menu + ', ' + item\n",
    "print(\"menu =\",menu)"
   ]
  },
  {
   "cell_type": "code",
   "execution_count": null,
   "metadata": {},
   "outputs": [],
   "source": []
  }
 ],
 "metadata": {
  "kernelspec": {
   "display_name": "Python 3",
   "language": "python",
   "name": "python3"
  },
  "language_info": {
   "codemirror_mode": {
    "name": "ipython",
    "version": 3
   },
   "file_extension": ".py",
   "mimetype": "text/x-python",
   "name": "python",
   "nbconvert_exporter": "python",
   "pygments_lexer": "ipython3",
   "version": "3.8.5"
  }
 },
 "nbformat": 4,
 "nbformat_minor": 4
}
