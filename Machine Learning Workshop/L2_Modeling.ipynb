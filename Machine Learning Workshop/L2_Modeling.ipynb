{
 "cells": [
  {
   "cell_type": "markdown",
   "id": "41457255",
   "metadata": {},
   "source": [
    "# Machine learning Workshop (2. Modeling)"
   ]
  },
  {
   "cell_type": "markdown",
   "id": "04f14d01",
   "metadata": {},
   "source": [
    "## <u>Table of contents</u>"
   ]
  },
  {
   "cell_type": "markdown",
   "id": "9f95f8b8",
   "metadata": {},
   "source": [
    "### 1. ELT and EDA"
   ]
  },
  {
   "cell_type": "markdown",
   "id": "07514992",
   "metadata": {},
   "source": [
    "1. Import Python essential modules and dataset\n",
    "2. Preliminary data and data understanding\n",
    "3. Prepareing data before use in model"
   ]
  },
  {
   "cell_type": "markdown",
   "id": "cfe56a09",
   "metadata": {},
   "source": [
    "### 2. Modeling"
   ]
  },
  {
   "cell_type": "markdown",
   "id": "e9d48095",
   "metadata": {},
   "source": [
    "1. Commonly Function hyperparameter\n",
    "2. Commonly Model hyperparameter tuning\n",
    "3. Import Python essential modules and dataset, and prepare data\n",
    "4. Training model (1st attempt)\n",
    "5. Error analysis\n",
    "6. Training model (2nd attempt)\n",
    "7. Save model"
   ]
  },
  {
   "cell_type": "markdown",
   "id": "21bf91f9",
   "metadata": {},
   "source": [
    "### 3. Inference"
   ]
  },
  {
   "cell_type": "markdown",
   "id": "d30c59ac",
   "metadata": {},
   "source": [
    "1. Import Python essential modules and dataset\n",
    "2. Prepare data to for training data\n",
    "3. Load Model\n",
    "4. Predict with prepared data\n",
    "5. Deploy with Gradio"
   ]
  },
  {
   "cell_type": "markdown",
   "id": "23d662f6",
   "metadata": {},
   "source": [
    "---"
   ]
  },
  {
   "cell_type": "markdown",
   "id": "34cbf958",
   "metadata": {},
   "source": [
    "## <u>Contents</u>"
   ]
  },
  {
   "cell_type": "markdown",
   "id": "4c9faca8",
   "metadata": {},
   "source": [
    "## 1. Commonly Function hyperparameter"
   ]
  },
  {
   "cell_type": "markdown",
   "id": "4f9522c7",
   "metadata": {},
   "source": [
    "<table align=\"left\">\n",
    "    <tr>\n",
    "        <th>Function</th>\n",
    "        <th>Type</th>\n",
    "        <th>Hyperparameter</th>\n",
    "    </tr>\n",
    "    <tr>\n",
    "        <td>One Hot Encoder</td>\n",
    "        <td>Preprocressing</td>\n",
    "        <td>-</td>\n",
    "    </tr>\n",
    "    <tr>\n",
    "        <td>Ordinal Encoder</td>\n",
    "        <td>Preprocressing</td>\n",
    "        <td>-</td>\n",
    "    </tr>\n",
    "    <tr>\n",
    "        <td>PolynomialFeatures</td>\n",
    "        <td>Preprocressing</td>\n",
    "        <td>degree</td>\n",
    "    </tr>\n",
    "    <tr>\n",
    "        <td>Standard Scaler</td>\n",
    "        <td>Normalization</td>\n",
    "        <td>-</td>\n",
    "    </tr>\n",
    "    <tr>\n",
    "        <td>Power Transformer</td>\n",
    "        <td>Normalization</td>\n",
    "        <td>-</td>\n",
    "    </tr>\n",
    "    <tr>\n",
    "        <td>Pipeline</td>\n",
    "        <td>Pipeline</td>\n",
    "        <td>-</td>\n",
    "    </tr>\n",
    "    <tr>\n",
    "        <td>Train test split</td>\n",
    "        <td>Model selection</td>\n",
    "        <td>shuffle, stratify</td>\n",
    "    </tr>\n",
    "    <tr>\n",
    "        <td>Cross-validator types <br> (ex. Stratified K-Folds, Time Series)</td>\n",
    "        <td>Model selection</td>\n",
    "        <td>n_splits, (or test_size)</td>\n",
    "    </tr>\n",
    "    <tr>\n",
    "        <td>Grid Search CV</td>\n",
    "        <td>Model selection</td>\n",
    "        <td>param_grid, scoring, cv</td>\n",
    "    </tr>\n",
    "    <tr>\n",
    "        <td>Randomized Search CV</td>\n",
    "        <td>Model selection</td>\n",
    "        <td>param_distributions, n_iter, scoring, cv</td>\n",
    "    </tr>\n",
    "    <tr>\n",
    "        <td>et cetera ~</td>\n",
    "        <td>~</td>\n",
    "        <td>~</td>\n",
    "    </tr>\n",
    "</table>"
   ]
  },
  {
   "cell_type": "markdown",
   "id": "bb8c82d3-1942-431c-87c0-8668c73f0bbd",
   "metadata": {},
   "source": [
    "---"
   ]
  },
  {
   "cell_type": "markdown",
   "id": "74ccabc0",
   "metadata": {},
   "source": [
    "## 2. Commonly Model hyperparameter tuning"
   ]
  },
  {
   "cell_type": "markdown",
   "id": "5aa1fc47",
   "metadata": {},
   "source": [
    "<table align=\"left\">\n",
    "    <tr>\n",
    "        <th>Model</th>\n",
    "        <th>Type</th>\n",
    "        <th>Normalization</th>\n",
    "        <th>Hyperparameter</th>\n",
    "    </tr>\n",
    "    <tr>\n",
    "        <td>Linear Regression</td>\n",
    "        <td>Linear</td>\n",
    "        <td>Yes</td>\n",
    "        <td>-</td>\n",
    "    </tr>\n",
    "    <tr>\n",
    "        <td>Logistic Regression</td>\n",
    "        <td>Linear</td>\n",
    "        <td>Yes</td>\n",
    "        <td>penalty, C</td>\n",
    "    </tr>\n",
    "    <tr>\n",
    "        <td>Ridge Regression (L2)</td>\n",
    "        <td>Linear</td>\n",
    "        <td>Yes</td>\n",
    "        <td>alpha</td>\n",
    "    </tr>\n",
    "    <tr>\n",
    "        <td>Lasso Regression (L1)</td>\n",
    "        <td>Linear</td>\n",
    "        <td>Yes</td>\n",
    "        <td>alpha</td>\n",
    "    </tr>\n",
    "    <tr>\n",
    "        <td>Elastic Net Regression <br>(combine L2 and L1)</td>\n",
    "        <td>Linear</td>\n",
    "        <td>Yes</td>\n",
    "        <td>alpha, l1_ratio</td>\n",
    "    </tr>\n",
    "    <tr>\n",
    "        <td>Naïve Bayes</td>\n",
    "        <td>Naïve Bayes</td>\n",
    "        <td>Not necessary</td>\n",
    "        <td>-</td>\n",
    "    </tr>\n",
    "    <tr>\n",
    "        <td>K-Nearest Neighbors</td>\n",
    "        <td>Nearest Neighbors</td>\n",
    "        <td>Not necessary</td>\n",
    "        <td>n_neighbors</td>\n",
    "    </tr>\n",
    "    <tr>\n",
    "        <td>Support Vector Mechine</td>\n",
    "        <td>Support Vector Mechine</td>\n",
    "        <td>Yes</td>\n",
    "        <td>C, gamma, epsilon (regression)</td>\n",
    "    </tr>\n",
    "    <tr>\n",
    "        <td>Decision Tree</td>\n",
    "        <td>Tree</td>\n",
    "        <td>Not necessary</td>\n",
    "        <td>max_depth, min_samples_leaf</td>\n",
    "    </tr>\n",
    "    <tr>\n",
    "        <td>Random Forest</td>\n",
    "        <td>Ensemble (Tree)</td>\n",
    "        <td>Not necessary</td>\n",
    "        <td>n_estimators, max_depth, min_samples_leaf</td>\n",
    "    </tr>\n",
    "    <tr>\n",
    "        <td>AdaBoost</td>\n",
    "        <td>Ensemble (Tree)</td>\n",
    "        <td>Not necessary</td>\n",
    "        <td>n_estimators, learning_rate</td>\n",
    "    </tr>\n",
    "    <tr>\n",
    "        <td>XGBoost<br>(adapt from gradient boosting)</td>\n",
    "        <td>Ensemble (Tree)</td>\n",
    "        <td>Not necessary</td>\n",
    "        <td>eta, gamma, max_depth, lambda, objective,<br>rate_drop (dart), skip_drop (dart)</td>\n",
    "    </tr>\n",
    "    <tr>\n",
    "        <td>LightGBM<br>(adapt from gradient boosting)</td>\n",
    "        <td>Ensemble (Tree)</td>\n",
    "        <td>Not necessary</td>\n",
    "        <td>learning_rate, objective,<br>max_depth, min_data_in_leaf, lambda_l2,<br>drop_rate (dart), skip_drop (dart)</td>\n",
    "    </tr>\n",
    "    <tr>\n",
    "        <td>Catboost<br>(adapt from gradient boosting)</td>\n",
    "        <td>Ensemble (Tree)</td>\n",
    "        <td>Not necessary</td>\n",
    "        <td>learning_rate, loss_function, eval_metric, <br>depth, min_data_in_leaf</td>\n",
    "    </tr>\n",
    "    <tr>\n",
    "        <td>et cetera ~</td>\n",
    "        <td>~</td>\n",
    "        <td>~</td>\n",
    "        <td>~</td>\n",
    "    </tr>\n",
    "</table>"
   ]
  },
  {
   "cell_type": "markdown",
   "id": "215cc976-15e6-492f-8d36-0a92aef7251c",
   "metadata": {},
   "source": [
    "---"
   ]
  },
  {
   "cell_type": "markdown",
   "id": "e80b9f6f",
   "metadata": {},
   "source": [
    "## 3. Import Python essential modules and dataset, and prepare data"
   ]
  },
  {
   "cell_type": "code",
   "execution_count": null,
   "id": "ced45b1d-31a6-47fa-a085-0e99b93180be",
   "metadata": {},
   "outputs": [],
   "source": [
    "# ! pip install xgboost"
   ]
  },
  {
   "cell_type": "code",
   "execution_count": null,
   "id": "5e8afbd0",
   "metadata": {},
   "outputs": [],
   "source": [
    "import os\n",
    "import numpy as np\n",
    "import pandas as pd\n",
    "import matplotlib.pyplot as plt\n",
    "import seaborn as sns"
   ]
  },
  {
   "cell_type": "code",
   "execution_count": null,
   "id": "6eb1c735-5225-48ea-b8b2-138548826173",
   "metadata": {},
   "outputs": [],
   "source": [
    "from sklearn.model_selection import train_test_split\n",
    "from sklearn.pipeline import Pipeline, make_pipeline\n",
    "from sklearn.impute import SimpleImputer\n",
    "from sklearn.preprocessing import OneHotEncoder, OrdinalEncoder, StandardScaler, MinMaxScaler\n",
    "from sklearn.compose import ColumnTransformer\n",
    "from sklearn.model_selection import GridSearchCV, learning_curve\n",
    "from sklearn.metrics import confusion_matrix, classification_report, accuracy_score, f1_score\n",
    "from sklearn.inspection import permutation_importance"
   ]
  },
  {
   "cell_type": "code",
   "execution_count": null,
   "id": "66a13335-d260-4337-b830-8c9eea89fbb6",
   "metadata": {},
   "outputs": [],
   "source": [
    "from sklearn.linear_model import LogisticRegression\n",
    "from sklearn.neighbors import KNeighborsClassifier\n",
    "from xgboost import XGBClassifier"
   ]
  },
  {
   "cell_type": "code",
   "execution_count": null,
   "id": "b12b33b0-aa58-4043-8e85-43a5bcca7da2",
   "metadata": {},
   "outputs": [],
   "source": [
    "from joblib import dump, load"
   ]
  },
  {
   "cell_type": "code",
   "execution_count": null,
   "id": "9c66eb5b",
   "metadata": {},
   "outputs": [],
   "source": [
    "import warnings\n",
    "warnings.filterwarnings(\"ignore\")"
   ]
  },
  {
   "cell_type": "code",
   "execution_count": null,
   "id": "be6ceed0",
   "metadata": {},
   "outputs": [],
   "source": [
    "data = pd.read_csv(\"./dataset/data_prepared.csv\")"
   ]
  },
  {
   "cell_type": "code",
   "execution_count": null,
   "id": "fea48256-2610-41a8-ad96-cd9773f3ad3b",
   "metadata": {},
   "outputs": [],
   "source": [
    "data.shape"
   ]
  },
  {
   "cell_type": "markdown",
   "id": "78f26abf-3a23-4bf3-abb8-4cfbfa39b693",
   "metadata": {},
   "source": [
    "First, we must split train and test data before use it for training model. "
   ]
  },
  {
   "cell_type": "code",
   "execution_count": null,
   "id": "9fc4ea44",
   "metadata": {},
   "outputs": [],
   "source": [
    "X = data.drop([\"OUTCOME\"], axis=1)\n",
    "y = data[\"OUTCOME\"]"
   ]
  },
  {
   "cell_type": "code",
   "execution_count": null,
   "id": "cc23d3ab",
   "metadata": {},
   "outputs": [],
   "source": [
    "X_train, X_test, y_train, y_test = train_test_split(X, y, test_size=200, random_state=42, stratify=y)"
   ]
  },
  {
   "cell_type": "markdown",
   "id": "a646a3f6-fad1-4e90-8279-8ecd994c29a4",
   "metadata": {},
   "source": [
    "---"
   ]
  },
  {
   "cell_type": "markdown",
   "id": "5a303c21",
   "metadata": {},
   "source": [
    "# 4. Training model (1st attempt)"
   ]
  },
  {
   "cell_type": "markdown",
   "id": "7d86de57",
   "metadata": {},
   "source": [
    "We will create 3 models:"
   ]
  },
  {
   "cell_type": "markdown",
   "id": "4a175478",
   "metadata": {},
   "source": [
    "1. Logistic regression\n",
    "2. K-Nearest Neighbors\n",
    "3. XGBoost"
   ]
  },
  {
   "cell_type": "code",
   "execution_count": null,
   "id": "c1a2aa8d",
   "metadata": {},
   "outputs": [],
   "source": [
    "def confusion_report_formatting(y, report):\n",
    "    y_unique = y.unique()\n",
    "    confusion = pd.DataFrame(\n",
    "        report, \n",
    "        columns=np.column_stack([ [\"Predicted\"]*(len(y_unique)), np.sort(y_unique)]), \n",
    "        index=np.column_stack([[\"Actual\"]*(len(y_unique)), np.sort(y_unique)])\n",
    ")\n",
    "    return confusion"
   ]
  },
  {
   "cell_type": "code",
   "execution_count": null,
   "id": "15066b83",
   "metadata": {},
   "outputs": [],
   "source": [
    "categorical_features = [\"AGE\", \"GENDER\", \"DRIVING_EXPERIENCE\", \"EDUCATION\", \"INCOME\", \"VEHICLE_YEAR\", \"MARRIED\", \"CHILDREN\", \"FREQUENT_ACCIDENT\"]\n",
    "numeric_features = [\"CREDIT_SCORE\", \"ANNUAL_MILEAGE\", \"SPEEDING_VIOLATIONS\", \"DUIS\", \"PAST_ACCIDENTS\"]"
   ]
  },
  {
   "cell_type": "markdown",
   "id": "8a6fa2a8",
   "metadata": {},
   "source": [
    "We create an empty data frame to gather the model's report."
   ]
  },
  {
   "cell_type": "code",
   "execution_count": null,
   "id": "20d5ea96",
   "metadata": {},
   "outputs": [],
   "source": [
    "report_train = pd.DataFrame(columns=[\"Accuracy\", \"F1 score\"])\n",
    "report_test = pd.DataFrame(columns=[\"Accuracy\", \"F1 score\"])"
   ]
  },
  {
   "cell_type": "markdown",
   "id": "0f2c5a9c",
   "metadata": {},
   "source": [
    "### 4.1. Logistic regression"
   ]
  },
  {
   "cell_type": "code",
   "execution_count": null,
   "id": "eea1aa55",
   "metadata": {},
   "outputs": [],
   "source": [
    "transformers_list=[\n",
    "    (\n",
    "        \"category\", \n",
    "        make_pipeline(SimpleImputer(strategy=\"most_frequent\"), OneHotEncoder(drop=\"first\")), \n",
    "        categorical_features\n",
    "    ),\n",
    "    (\n",
    "        \"numeric\", \n",
    "        make_pipeline(SimpleImputer(strategy=\"mean\"), StandardScaler()), \n",
    "        numeric_features\n",
    "    )\n",
    "]\n",
    "preprocess_transformer = ColumnTransformer(transformers_list)"
   ]
  },
  {
   "cell_type": "code",
   "execution_count": null,
   "id": "6c6d756c",
   "metadata": {},
   "outputs": [],
   "source": [
    "steps = [\n",
    "    (\"preprocess\", preprocess_transformer),\n",
    "    (\"logistic\", LogisticRegression(tol=1e-2, solver=\"liblinear\"))\n",
    "]\n",
    "logistic_pipeline = Pipeline(steps)"
   ]
  },
  {
   "cell_type": "markdown",
   "id": "f5ffc418",
   "metadata": {},
   "source": [
    "We create a pipeline because we want to use the warp-up function to create a model."
   ]
  },
  {
   "cell_type": "markdown",
   "id": "3eae6f5c-f114-4ee5-b1e0-d1e2b7a6d8e3",
   "metadata": {},
   "source": [
    "This is pipeline workflow which is written above. "
   ]
  },
  {
   "cell_type": "markdown",
   "id": "10fa8bb4",
   "metadata": {},
   "source": [
    "<img src=\"./image/model_1.png\" style=\"height:250px\"/>"
   ]
  },
  {
   "cell_type": "code",
   "execution_count": null,
   "id": "b345e2b8",
   "metadata": {},
   "outputs": [],
   "source": [
    "logistic_params = {\n",
    "    'logistic__C': np.logspace(-2, 2, 5)\n",
    "}"
   ]
  },
  {
   "cell_type": "code",
   "execution_count": null,
   "id": "8f8f9b3a",
   "metadata": {},
   "outputs": [],
   "source": [
    "logistic_search = GridSearchCV(estimator = logistic_pipeline,\n",
    "                                       param_grid = logistic_params,\n",
    "                                       cv = 5, scoring='f1', verbose=2)"
   ]
  },
  {
   "cell_type": "code",
   "execution_count": null,
   "id": "ad2efee9",
   "metadata": {
    "scrolled": true
   },
   "outputs": [],
   "source": [
    "logistic_search.fit(X_train, y_train)"
   ]
  },
  {
   "cell_type": "code",
   "execution_count": null,
   "id": "c5c237d8",
   "metadata": {},
   "outputs": [],
   "source": [
    "y_train_predict = logistic_search.predict(X_train)"
   ]
  },
  {
   "cell_type": "code",
   "execution_count": null,
   "id": "bf04ddb5",
   "metadata": {},
   "outputs": [],
   "source": [
    "y_test_predict = logistic_search.predict(X_test)"
   ]
  },
  {
   "cell_type": "markdown",
   "id": "2c45b6c0",
   "metadata": {},
   "source": [
    "We will report the data by using confusion_matrix, precision, recall, and f1-score."
   ]
  },
  {
   "cell_type": "code",
   "execution_count": null,
   "id": "193ca022",
   "metadata": {},
   "outputs": [],
   "source": [
    "confusion_report_formatting(y_train, confusion_matrix(y_train, y_train_predict))"
   ]
  },
  {
   "cell_type": "code",
   "execution_count": null,
   "id": "534e7da5",
   "metadata": {},
   "outputs": [],
   "source": [
    "confusion_report_formatting(y_test, confusion_matrix(y_test, y_test_predict))"
   ]
  },
  {
   "cell_type": "code",
   "execution_count": null,
   "id": "416405f1",
   "metadata": {},
   "outputs": [],
   "source": [
    "print(classification_report(y_train, y_train_predict))"
   ]
  },
  {
   "cell_type": "code",
   "execution_count": null,
   "id": "36f66d0e",
   "metadata": {},
   "outputs": [],
   "source": [
    "print(classification_report(y_test, y_test_predict))"
   ]
  },
  {
   "cell_type": "markdown",
   "id": "3252a8eb",
   "metadata": {},
   "source": [
    "And then, we concat the model metric to report the table."
   ]
  },
  {
   "cell_type": "code",
   "execution_count": null,
   "id": "8f67ab1a",
   "metadata": {},
   "outputs": [],
   "source": [
    "score = pd.DataFrame([[\n",
    "    accuracy_score(y_train, y_train_predict), \n",
    "    f1_score(y_train, y_train_predict, average='weighted'), \n",
    "]], index=[\"logistic\"], columns=[\"Accuracy\", \"F1 score\"])"
   ]
  },
  {
   "cell_type": "code",
   "execution_count": null,
   "id": "70332b08",
   "metadata": {},
   "outputs": [],
   "source": [
    "report_train = pd.concat([report_train, score])\n",
    "report_train"
   ]
  },
  {
   "cell_type": "code",
   "execution_count": null,
   "id": "c60c8319",
   "metadata": {},
   "outputs": [],
   "source": [
    "score = pd.DataFrame([[\n",
    "    accuracy_score(y_test, y_test_predict), \n",
    "    f1_score(y_test, y_test_predict, average='weighted'),\n",
    "]], index=[\"logistic\"], columns=[\"Accuracy\", \"F1 score\"])"
   ]
  },
  {
   "cell_type": "code",
   "execution_count": null,
   "id": "63b57b12",
   "metadata": {},
   "outputs": [],
   "source": [
    "report_test = pd.concat([report_test, score])\n",
    "report_test"
   ]
  },
  {
   "cell_type": "markdown",
   "id": "e227fbeb",
   "metadata": {},
   "source": [
    "We repeat this workflow on other models."
   ]
  },
  {
   "cell_type": "markdown",
   "id": "b538c035",
   "metadata": {},
   "source": [
    "### 4.2. K-Nearest neighbors</b>"
   ]
  },
  {
   "cell_type": "code",
   "execution_count": null,
   "id": "b689ada6",
   "metadata": {},
   "outputs": [],
   "source": [
    "transformers_list=[\n",
    "        (\n",
    "            \"category\",\n",
    "            make_pipeline(SimpleImputer(strategy=\"most_frequent\"), OrdinalEncoder(handle_unknown=\"use_encoded_value\", encoded_missing_value=-1, unknown_value=-2)), \n",
    "            categorical_features\n",
    "        ),\n",
    "        (\n",
    "            \"numeric\", \n",
    "            SimpleImputer(strategy=\"mean\"), \n",
    "            numeric_features\n",
    "        )\n",
    "]\n",
    "preprocess_transformer = ColumnTransformer(transformers_list)"
   ]
  },
  {
   "cell_type": "code",
   "execution_count": null,
   "id": "c67e7edb",
   "metadata": {},
   "outputs": [],
   "source": [
    "steps = [\n",
    "    (\"preprocess\", preprocess_transformer),\n",
    "    (\"min_max\", MinMaxScaler()),\n",
    "    (\"knn\", KNeighborsClassifier())\n",
    "]\n",
    "knn_pipeline = Pipeline(steps)"
   ]
  },
  {
   "cell_type": "code",
   "execution_count": null,
   "id": "18dace8e",
   "metadata": {},
   "outputs": [],
   "source": [
    "knn_params = {\n",
    "    'knn__n_neighbors': [3, 5, 7],\n",
    "    'knn__leaf_size': np.linspace(10, 80, 5, dtype=int)\n",
    "}"
   ]
  },
  {
   "cell_type": "markdown",
   "id": "3533bdc9-a56d-4376-9ed0-00e5c0720b5d",
   "metadata": {},
   "source": [
    "This is pipeline workflow which is written above. "
   ]
  },
  {
   "cell_type": "markdown",
   "id": "9e4a06ab-bfdd-4d22-af6b-49ee52fa1dc1",
   "metadata": {},
   "source": [
    "<img src=\"./image/model_2.png\" style=\"height:300px\"/>"
   ]
  },
  {
   "cell_type": "code",
   "execution_count": null,
   "id": "c3ea16d1",
   "metadata": {},
   "outputs": [],
   "source": [
    "knn_search = GridSearchCV(estimator = knn_pipeline,\n",
    "                          param_grid = knn_params,\n",
    "                          cv = 5, scoring='f1', verbose=2)"
   ]
  },
  {
   "cell_type": "code",
   "execution_count": null,
   "id": "dfd661fb",
   "metadata": {
    "scrolled": true
   },
   "outputs": [],
   "source": [
    "knn_search.fit(X_train, y_train)"
   ]
  },
  {
   "cell_type": "code",
   "execution_count": null,
   "id": "823f28e7",
   "metadata": {},
   "outputs": [],
   "source": [
    "y_train_predict = knn_search.predict(X_train)\n",
    "y_test_predict = knn_search.predict(X_test)"
   ]
  },
  {
   "cell_type": "code",
   "execution_count": null,
   "id": "6b87730b",
   "metadata": {},
   "outputs": [],
   "source": [
    "# Example of evaluate model\n",
    "# confusion_report_formatting(y_train, confusion_matrix(y_train, y_train_predict))\n",
    "# confusion_report_formatting(y_test, confusion_matrix(y_test, y_test_predict))\n",
    "\n",
    "# print(classification_report(y_train, y_train_predict))\n",
    "# print(classification_report(y_test, y_test_predict))"
   ]
  },
  {
   "cell_type": "code",
   "execution_count": null,
   "id": "b6579c9b",
   "metadata": {},
   "outputs": [],
   "source": [
    "score = pd.DataFrame([[\n",
    "    accuracy_score(y_train, y_train_predict), \n",
    "    f1_score(y_train, y_train_predict, average='weighted'), \n",
    "]], index=[\"knn\"], columns=[\"Accuracy\", \"F1 score\"])"
   ]
  },
  {
   "cell_type": "code",
   "execution_count": null,
   "id": "7c69ea28",
   "metadata": {},
   "outputs": [],
   "source": [
    "report_train = pd.concat([report_train, score])\n",
    "report_train"
   ]
  },
  {
   "cell_type": "code",
   "execution_count": null,
   "id": "ae475052",
   "metadata": {},
   "outputs": [],
   "source": [
    "score = pd.DataFrame([[\n",
    "    accuracy_score(y_test, y_test_predict), \n",
    "    f1_score(y_test, y_test_predict, average='weighted'), \n",
    "]], index=[\"knn\"], columns=[\"Accuracy\", \"F1 score\"])"
   ]
  },
  {
   "cell_type": "code",
   "execution_count": null,
   "id": "6837f9d1",
   "metadata": {},
   "outputs": [],
   "source": [
    "report_test = pd.concat([report_test, score])\n",
    "report_test"
   ]
  },
  {
   "cell_type": "markdown",
   "id": "35718bb5",
   "metadata": {},
   "source": [
    "### 4.3. XGBoost"
   ]
  },
  {
   "cell_type": "code",
   "execution_count": null,
   "id": "1f119a79",
   "metadata": {},
   "outputs": [],
   "source": [
    "transformers_list=[\n",
    "        (\"category\", OrdinalEncoder(handle_unknown=\"use_encoded_value\", encoded_missing_value=-1, unknown_value=-2), categorical_features),\n",
    "        (\"numeric\", \"passthrough\", numeric_features)\n",
    "]\n",
    "preprocess_transformer = ColumnTransformer(transformers_list)"
   ]
  },
  {
   "cell_type": "code",
   "execution_count": null,
   "id": "95151ff9",
   "metadata": {},
   "outputs": [],
   "source": [
    "xgb_pipeline = Pipeline([\n",
    "    (\"preprocess\", preprocess_transformer),\n",
    "    (\"xgb\", XGBClassifier())\n",
    "])"
   ]
  },
  {
   "cell_type": "code",
   "execution_count": null,
   "id": "96c516d3",
   "metadata": {},
   "outputs": [],
   "source": [
    "xgb_params = {\n",
    "    'xgb__max_depth': [3, 5, 7],\n",
    "    'xgb__min_child_weight': [0.1, 1, 10]\n",
    "}"
   ]
  },
  {
   "cell_type": "markdown",
   "id": "c7727034-7276-46ca-8b76-4de16f407a5f",
   "metadata": {},
   "source": [
    "This is pipeline workflow which is written above. "
   ]
  },
  {
   "cell_type": "markdown",
   "id": "2bf554de-e63f-446f-984b-804fc550de99",
   "metadata": {},
   "source": [
    "<img src=\"./image/model_3.png\" style=\"height:200px\"/>"
   ]
  },
  {
   "cell_type": "code",
   "execution_count": null,
   "id": "8acb2fd1",
   "metadata": {},
   "outputs": [],
   "source": [
    "xgb_search = GridSearchCV(estimator = xgb_pipeline,\n",
    "                                       param_grid = xgb_params,\n",
    "                                       cv = 5, scoring='f1', verbose=2)"
   ]
  },
  {
   "cell_type": "code",
   "execution_count": null,
   "id": "ab1e99db",
   "metadata": {
    "scrolled": true
   },
   "outputs": [],
   "source": [
    "xgb_search.fit(X_train, y_train)"
   ]
  },
  {
   "cell_type": "code",
   "execution_count": null,
   "id": "aea57544",
   "metadata": {},
   "outputs": [],
   "source": [
    "y_train_predict = xgb_search.predict(X_train)\n",
    "y_test_predict = xgb_search.predict(X_test)"
   ]
  },
  {
   "cell_type": "code",
   "execution_count": null,
   "id": "c8a3a686",
   "metadata": {},
   "outputs": [],
   "source": [
    "# Example of evaluate model\n",
    "# confusion_report_formatting(y_train, confusion_matrix(y_train, y_train_predict))\n",
    "# confusion_report_formatting(y_test, confusion_matrix(y_test, y_test_predict))\n",
    "\n",
    "# print(classification_report(y_train, y_train_predict))\n",
    "# print(classification_report(y_test, y_test_predict))"
   ]
  },
  {
   "cell_type": "code",
   "execution_count": null,
   "id": "5580b718",
   "metadata": {},
   "outputs": [],
   "source": [
    "score = pd.DataFrame([[\n",
    "    accuracy_score(y_train, y_train_predict), \n",
    "    f1_score(y_train, y_train_predict, average='weighted'), \n",
    "]], index=[\"xgb (1st)\"], columns=[\"Accuracy\", \"F1 score\"])"
   ]
  },
  {
   "cell_type": "code",
   "execution_count": null,
   "id": "81bf4ab1",
   "metadata": {},
   "outputs": [],
   "source": [
    "report_train = pd.concat([report_train, score])\n",
    "report_train"
   ]
  },
  {
   "cell_type": "code",
   "execution_count": null,
   "id": "55aa99fa",
   "metadata": {},
   "outputs": [],
   "source": [
    "score = pd.DataFrame([[\n",
    "    accuracy_score(y_test, y_test_predict), \n",
    "    f1_score(y_test, y_test_predict, average='weighted'), \n",
    "]], index=[\"xgb (1st)\"], columns=[\"Accuracy\", \"F1 score\"])"
   ]
  },
  {
   "cell_type": "code",
   "execution_count": null,
   "id": "78b4ec13",
   "metadata": {},
   "outputs": [],
   "source": [
    "report_test = pd.concat([report_test, score])\n",
    "report_test"
   ]
  },
  {
   "cell_type": "markdown",
   "id": "35931d38-d53f-4950-8b42-cd8a9673f7cc",
   "metadata": {},
   "source": [
    "---"
   ]
  },
  {
   "cell_type": "markdown",
   "id": "9d73548f",
   "metadata": {},
   "source": [
    "# 5. Error analysis"
   ]
  },
  {
   "cell_type": "markdown",
   "id": "fc0705de-1d8a-4596-ba52-4eaed7dfc8ad",
   "metadata": {},
   "source": [
    "## 5.1. Checking learning curve"
   ]
  },
  {
   "cell_type": "markdown",
   "id": "549c06fb",
   "metadata": {},
   "source": [
    "XGBoost is our the best model. <br>\n",
    "First, We will see effect of training size by create a graph of learning curve."
   ]
  },
  {
   "cell_type": "code",
   "execution_count": null,
   "id": "66e28538",
   "metadata": {
    "scrolled": true
   },
   "outputs": [],
   "source": [
    "train_sizes, train_scores, test_scores = learning_curve(xgb_search.best_estimator_, X, y,\n",
    "                                                        scoring='f1', cv=5, train_sizes=np.linspace(0.1, 1.0, 20))"
   ]
  },
  {
   "cell_type": "code",
   "execution_count": null,
   "id": "a0a35c49",
   "metadata": {},
   "outputs": [],
   "source": [
    "plt.figure(figsize=(6,3))\n",
    "plt.plot(train_sizes, train_scores.mean(axis=1), \"-o\", label=\"train set\")\n",
    "plt.plot(train_sizes, test_scores.mean(axis=1), \"-o\", label=\"test set\")\n",
    "plt.xlabel(\"Train sizes\")\n",
    "plt.ylabel(\"F1 score\")\n",
    "plt.legend()\n",
    "plt.ylim([0,1])\n",
    "plt.show()"
   ]
  },
  {
   "cell_type": "markdown",
   "id": "323291d5-dedd-4423-9c1d-06c9101e7941",
   "metadata": {},
   "source": [
    "Found that, we have enough training size to train this model."
   ]
  },
  {
   "cell_type": "markdown",
   "id": "1bc2b766-0169-4727-ab67-913b8314dc44",
   "metadata": {},
   "source": [
    "## 5.2. Compare actual and predict values"
   ]
  },
  {
   "cell_type": "markdown",
   "id": "3cb7d795-558a-442e-90f8-f967e9878f27",
   "metadata": {},
   "source": [
    "Then, we concat prediction value to the starting dataset for visualization."
   ]
  },
  {
   "cell_type": "code",
   "execution_count": null,
   "id": "11b73a0a",
   "metadata": {},
   "outputs": [],
   "source": [
    "y_train_predict = pd.DataFrame(y_train_predict, index=y_train.index).rename({0:\"predict\"},axis=1)\n",
    "data_concat_train = pd.concat([X_train, y_train, y_train_predict], axis=1).rename({\"OUTCOME\":\"actual\"},axis=1)\n",
    "data_concat_train[\"is_error\"] = data_concat_train[\"actual\"] != data_concat_train[\"predict\"]"
   ]
  },
  {
   "cell_type": "markdown",
   "id": "526e0ec8-09b5-45a2-94e5-a1495a07155b",
   "metadata": {},
   "source": [
    "In this example, we investigate numerical columns which are only the `CREDIT_SCORE` column."
   ]
  },
  {
   "cell_type": "code",
   "execution_count": null,
   "id": "538380c6-cd2e-45e2-a03f-e65a90a0cb1c",
   "metadata": {},
   "outputs": [],
   "source": [
    "def subplot_distribution(data, x, hue, bins=20, discrete=False):\n",
    "    y_unique = y.unique() \n",
    "    ncol = y_unique.shape[0]\n",
    "\n",
    "    fig, ax = plt.subplots(nrows=1, ncols=ncol, figsize=(8,3), sharex=True, sharey=True)\n",
    "    for i in range(ncol):\n",
    "        ax1 = sns.histplot(ax=ax[i], data=data[data[\"actual\"]==y_unique[i]], x=x, hue=hue, bins=bins, hue_order=[True, False], discrete=discrete, palette=sns.set_palette(sns.color_palette([\"#FF0B04\", \"#4374B3\"])))\n",
    "        ax1.set_title(f\"actual class = {y_unique[i]}\")\n",
    "\n",
    "    plt.tight_layout()\n",
    "    plt.show()"
   ]
  },
  {
   "cell_type": "code",
   "execution_count": null,
   "id": "2a7e0dfb-5b37-4a1f-b257-b0d27a467481",
   "metadata": {},
   "outputs": [],
   "source": [
    "subplot_distribution(data_concat_train, x=\"CREDIT_SCORE\", hue=\"is_error\")"
   ]
  },
  {
   "cell_type": "markdown",
   "id": "bc6f7293-0177-4afd-9024-f692ce8f0ead",
   "metadata": {},
   "source": [
    "Found that, A error range of actual class False is not equal class True. <br>\n",
    "Maybe, if we expand hyperparameter grid in `GridSearchCV`, we will get better model."
   ]
  },
  {
   "cell_type": "markdown",
   "id": "a48b41a9-4c7f-4e77-b985-c2a775357a9a",
   "metadata": {},
   "source": [
    "We look into a categorical column which is only the `AGE` column on this example."
   ]
  },
  {
   "cell_type": "code",
   "execution_count": null,
   "id": "8f68a929-ff8c-4f6d-b909-778865dfb378",
   "metadata": {},
   "outputs": [],
   "source": [
    "subplot_distribution(data_concat_train, x=\"AGE\", hue=\"is_error\", discrete=True)"
   ]
  },
  {
   "cell_type": "markdown",
   "id": "99b71b69-6b35-4c42-be81-7abad3cbd3e3",
   "metadata": {},
   "source": [
    "The conclude from above visualizes is same that we found from the `CREDIT_SCORE` and `ANNUAL_MILEAGE` columns."
   ]
  },
  {
   "cell_type": "markdown",
   "id": "30b2c3cf-c9c6-40e6-851b-510afd184b20",
   "metadata": {},
   "source": [
    "## 5.3. Features effect in model   "
   ]
  },
  {
   "cell_type": "markdown",
   "id": "53ffcab1-0f1c-47c9-a9e5-8ab5ed9ab72c",
   "metadata": {},
   "source": [
    "There are many methods to validate feature effect in model, such as,\n",
    "- Coefficients in linear model\n",
    "- Feature importance in tree base model\n",
    "- Permutation importance\n",
    "- LIME and SHAP"
   ]
  },
  {
   "cell_type": "markdown",
   "id": "49a4a299-b0c9-4c95-a1e1-2bd0cb856683",
   "metadata": {},
   "source": [
    "### 5.3.1. Coefficients in linear model"
   ]
  },
  {
   "cell_type": "markdown",
   "id": "99062b32-b37d-4a79-b656-4c8563968e2f",
   "metadata": {},
   "source": [
    "Validating feature by coefficients is limited in linear base model (model type see in table 2)"
   ]
  },
  {
   "cell_type": "markdown",
   "id": "b6fa91f7-797a-44b7-a570-ea1fff656f10",
   "metadata": {},
   "source": [
    "<img src=\"./image/log_reg.png\" style=\"height:300px\"/>"
   ]
  },
  {
   "cell_type": "markdown",
   "id": "5bf88f17-4333-4047-ab33-a23ced47c879",
   "metadata": {},
   "source": [
    "figure ref: https://www.saedsayad.com/logistic_regression.htm"
   ]
  },
  {
   "cell_type": "markdown",
   "id": "db6e8600-3a0b-4190-b8d2-e9dacff077bc",
   "metadata": {},
   "source": [
    "In this section, we will validate logistic model which is trained on previous. <br>\n",
    "The image of logistic pipeline is describe, as following."
   ]
  },
  {
   "cell_type": "markdown",
   "id": "6b96f355-6d56-46ee-b713-ab4501228804",
   "metadata": {},
   "source": [
    "<img src=\"./image/model_1_grid.png\" style=\"height:300px\"/>"
   ]
  },
  {
   "cell_type": "code",
   "execution_count": null,
   "id": "7d16f05b-7308-40de-8412-7121419637ed",
   "metadata": {},
   "outputs": [],
   "source": [
    "# Get best model in GridSearchCV\n",
    "best_logistic = logistic_search.best_estimator_"
   ]
  },
  {
   "cell_type": "code",
   "execution_count": null,
   "id": "bcf5251f-48a0-4a79-9175-b978752ccd13",
   "metadata": {},
   "outputs": [],
   "source": [
    "# Get logistic model in Pipeline  \n",
    "logistic_model = best_logistic[\"logistic\"] # \"logistic\" is writen on train pipeline\n",
    "# logistic_model = best_logistic[-1] # mostly model is in the latest pipeline layer"
   ]
  },
  {
   "cell_type": "code",
   "execution_count": null,
   "id": "a12eed60-79fd-4fd9-9a77-f1e0d3d1c33e",
   "metadata": {},
   "outputs": [],
   "source": [
    "# Get coefficients in logistic model  \n",
    "coef_logistic = logistic_model.coef_\n",
    "coef_logistic"
   ]
  },
  {
   "cell_type": "code",
   "execution_count": null,
   "id": "5fea8704-b655-489f-8a94-3c9020ea5628",
   "metadata": {},
   "outputs": [],
   "source": [
    "# Example of get coefficients in logistic model in one line\n",
    "# logistic_search.best_estimator_[\"logistic\"].coef_"
   ]
  },
  {
   "cell_type": "markdown",
   "id": "98481413-bd2d-4113-849c-c3b6db35e86b",
   "metadata": {},
   "source": [
    "To clarity, we will add feature name and convert it to Pandas DataFrame."
   ]
  },
  {
   "cell_type": "markdown",
   "id": "2ef88ab4-5f11-4229-8d27-e3b8d923035c",
   "metadata": {},
   "source": [
    "Due to pipeline have one-hot encoding, we can not directly add feature columns. <br>\n",
    "We must get feature out from encoder and concat with the rest of data. "
   ]
  },
  {
   "cell_type": "code",
   "execution_count": null,
   "id": "0caae356-4e86-44a6-9feb-0f56afe43c18",
   "metadata": {},
   "outputs": [],
   "source": [
    "# Get column name input from Pipeline\n",
    "cat_colname = logistic_search.best_estimator_[\"preprocess\"][\"category\"].feature_names_in_\n",
    "num_colname = logistic_search.best_estimator_[\"preprocess\"][\"numeric\"].feature_names_in_"
   ]
  },
  {
   "cell_type": "code",
   "execution_count": null,
   "id": "eef1ea2f-ec14-458b-b322-5825441930a5",
   "metadata": {},
   "outputs": [],
   "source": [
    "# Get column name input from one-hot encoder\n",
    "cat_onehot_colname = logistic_search.best_estimator_[\"preprocess\"][\"category\"][-1].get_feature_names_out()\n",
    "cat_onehot_colname"
   ]
  },
  {
   "cell_type": "code",
   "execution_count": null,
   "id": "2cea830b-86e0-4235-afb2-a27288f30ea1",
   "metadata": {},
   "outputs": [],
   "source": [
    "# Create dict for replace x in cat_onehot_colname\n",
    "cat_word = {f\"x{i}\": n for (i, n) in enumerate(cat_colname)}\n",
    "cat_word"
   ]
  },
  {
   "cell_type": "code",
   "execution_count": null,
   "id": "0f4fbcfa-6902-4f88-943d-f5924aa2e57f",
   "metadata": {},
   "outputs": [],
   "source": [
    "# Replace x in cat_onehot_colname\n",
    "for index, data in enumerate(cat_onehot_colname):\n",
    "    for key, value in cat_word.items():\n",
    "        if key in data:\n",
    "            cat_onehot_colname[index]=data.replace(key, cat_word[key])\n",
    "\n",
    "cat_onehot_colname"
   ]
  },
  {
   "cell_type": "code",
   "execution_count": null,
   "id": "2745aeea-0f22-4acf-b9b6-9bd29c2d6636",
   "metadata": {},
   "outputs": [],
   "source": [
    "# Concat one-hot output name and numerical output name\n",
    "colname = np.concatenate([cat_onehot_colname, num_colname])"
   ]
  },
  {
   "cell_type": "code",
   "execution_count": null,
   "id": "34796965-6c09-4338-a560-64678fb12a47",
   "metadata": {},
   "outputs": [],
   "source": [
    "# Concat with coefficients, make to DataFrame, and sort values\n",
    "coef_data = pd.DataFrame(np.vstack([colname, coef_logistic[0]]), index=[\"feature_name\", \"coefficient\"]).T.sort_values(\"coefficient\", ascending=False)\n",
    "coef_data"
   ]
  },
  {
   "cell_type": "markdown",
   "id": "30436904-cbca-4131-a0f2-cd3498360e85",
   "metadata": {},
   "source": [
    "The sign of the coefficient mean the direction of the relationship. "
   ]
  },
  {
   "cell_type": "markdown",
   "id": "5abae66b-2055-412a-9380-6ef42990872e",
   "metadata": {},
   "source": [
    "If we are interested in magnitude of coefficient, we will apply absolute value."
   ]
  },
  {
   "cell_type": "code",
   "execution_count": null,
   "id": "dcbe624d-3a58-40f6-ab7f-cdb80deb5ef1",
   "metadata": {},
   "outputs": [],
   "source": [
    "coef_data[\"abs_coefficient\"] = coef_data[\"coefficient\"].abs()"
   ]
  },
  {
   "cell_type": "code",
   "execution_count": null,
   "id": "2687e8e9-5ebd-4564-8ccd-4415b1f48a42",
   "metadata": {},
   "outputs": [],
   "source": [
    "coef_data.sort_values(\"abs_coefficient\", ascending=False)"
   ]
  },
  {
   "cell_type": "markdown",
   "id": "ad2f4e77-d7d0-4d8a-ac51-73b2a5226286",
   "metadata": {},
   "source": [
    "From above, the `DRIVING_EXPERIENCE` and `GENDER` columns have the most effect in the logistic regression model. <br>\n",
    "However, the `CREDIT_SCORE`is the least effect in this model, following by, `DUIS`, and `EDUCATION` respectively. "
   ]
  },
  {
   "cell_type": "markdown",
   "id": "685882a8-4d1e-4f05-8f36-5334e37eeeb4",
   "metadata": {},
   "source": [
    "### 5.3.2. Feature importance in tree base model"
   ]
  },
  {
   "cell_type": "markdown",
   "id": "b4c9b111-719c-4f69-8c57-ff07f6a5174e",
   "metadata": {},
   "source": [
    "Validating feature by feature importance is limited in tree model (model type see in table 2)"
   ]
  },
  {
   "cell_type": "markdown",
   "id": "ac3cbf52-05f4-4b3e-82cc-cf4deae59bdb",
   "metadata": {},
   "source": [
    "In this section, we will validate XGBoost model which is trained on previous. <br>\n",
    "The image of XGBoost pipeline is describe, as following."
   ]
  },
  {
   "cell_type": "markdown",
   "id": "0df6be9d-e5eb-4b4c-82e4-d2e6b6682c26",
   "metadata": {},
   "source": [
    "<img src=\"./image/model_2_grid.png\" style=\"height:250px\"/>"
   ]
  },
  {
   "cell_type": "code",
   "execution_count": null,
   "id": "6358d741-69fc-43a3-8d32-1b195cca2cac",
   "metadata": {},
   "outputs": [],
   "source": [
    "# Get XGBoost model from GridSearchCV\n",
    "xgb_model = xgb_search.best_estimator_[\"xgb\"]"
   ]
  },
  {
   "cell_type": "code",
   "execution_count": null,
   "id": "1db9753f-5146-4772-8940-8176e91cb240",
   "metadata": {},
   "outputs": [],
   "source": [
    "# Get feature importances in XGBoost \n",
    "fim_xgb = xgb_model.feature_importances_\n",
    "fim_xgb"
   ]
  },
  {
   "cell_type": "code",
   "execution_count": null,
   "id": "68625921-6649-4150-847f-abbf0d746535",
   "metadata": {},
   "outputs": [],
   "source": [
    "# Example of feature importances in XGBoost in one line\n",
    "# xgb_search.best_estimator_[\"xgb\"].feature_importances_"
   ]
  },
  {
   "cell_type": "markdown",
   "id": "04dd31cb-59e9-4847-aca1-15b98f73d676",
   "metadata": {},
   "source": [
    "Same as latest section, we will add feature name and convert it to Pandas DataFrame. <br>\n",
    "This time, we used an ordinal encoder instead of a one-hot encoder, allowing us to directly add the feature columns, with categorical features encoded first, followed by the numeric ones."
   ]
  },
  {
   "cell_type": "code",
   "execution_count": null,
   "id": "90e14208-8953-48c4-9091-532021674f9c",
   "metadata": {},
   "outputs": [],
   "source": [
    "# Get column name input from Pipeline\n",
    "cat_colname = xgb_search.best_estimator_[\"preprocess\"][\"category\"].feature_names_in_\n",
    "num_colname = xgb_search.best_estimator_[\"preprocess\"][\"numeric\"].feature_names_in_"
   ]
  },
  {
   "cell_type": "code",
   "execution_count": null,
   "id": "b41013d4-e7f9-499b-9b9c-a2f78cc99e58",
   "metadata": {},
   "outputs": [],
   "source": [
    "# Concat categorical output name and numerical output name\n",
    "colname = np.concatenate([cat_colname, num_colname])"
   ]
  },
  {
   "cell_type": "code",
   "execution_count": null,
   "id": "f2493e70-e689-4b8d-bc60-c2a73ed661db",
   "metadata": {},
   "outputs": [],
   "source": [
    "# Concat with coefficients, make to DataFrame, and sort values\n",
    "fim_data = pd.DataFrame(np.vstack([colname, fim_xgb]), index=[\"feature_name\", \"feature_importances\"]).T.sort_values(\"feature_importances\", ascending=False)\n",
    "fim_data"
   ]
  },
  {
   "cell_type": "markdown",
   "id": "dd9b2b7d-e37c-4bd9-8e0d-f7f7e50536d3",
   "metadata": {},
   "source": [
    "Unlike logistic regression, we found that the `DRIVING_EXPERIENCE` and `VEHICLE_YEAR` columns have the most effect in the XGBoost model. <br>\n",
    "However, the `DUIS` and `SPEEDING_VIOLATIONS` columns are the least effect in this model. "
   ]
  },
  {
   "cell_type": "markdown",
   "id": "b6dfdb69-aefc-4bf0-8670-2c4d6b5cd9b9",
   "metadata": {},
   "source": [
    "### 5.3.3. Permutation importance"
   ]
  },
  {
   "cell_type": "markdown",
   "id": "e930fc54-7c59-4223-8f75-ef5f63fc2853",
   "metadata": {},
   "source": [
    "We observe that permuting a predictive feature breaks the correlation between the feature and the target."
   ]
  },
  {
   "cell_type": "markdown",
   "id": "f4bd7829-393b-41e7-b326-732fd3a3835a",
   "metadata": {},
   "source": [
    "<img src=\"./image/permuted_predictive_feature.png\" style=\"height:300px\"/>"
   ]
  },
  {
   "cell_type": "markdown",
   "id": "cc39d7fe-cfbf-4bf8-8ded-133d4cf962cd",
   "metadata": {},
   "source": [
    "<img src=\"./image/permuted_non_predictive_feature.png\" style=\"height:300px\"/>"
   ]
  },
  {
   "cell_type": "markdown",
   "id": "998742bc-70c4-47c6-8878-1a559ccb740f",
   "metadata": {},
   "source": [
    "Therefore, we must retrain the interesting model which is XGBoost."
   ]
  },
  {
   "cell_type": "code",
   "execution_count": null,
   "id": "18a7bcb3-ecaf-4c96-888b-f1391b7a3d19",
   "metadata": {},
   "outputs": [],
   "source": [
    "result = permutation_importance(xgb_search.best_estimator_, X_test, y_test, n_repeats=20, random_state=0)"
   ]
  },
  {
   "cell_type": "code",
   "execution_count": null,
   "id": "462c80ea-a03f-4f4e-a69e-c2e8983f7afb",
   "metadata": {},
   "outputs": [],
   "source": [
    "index_sort = result.importances_mean.argsort()[::-1].tolist()"
   ]
  },
  {
   "cell_type": "code",
   "execution_count": null,
   "id": "4ce8fb50-0855-4b5f-94ea-3c2e6421fd00",
   "metadata": {},
   "outputs": [],
   "source": [
    "pd.DataFrame({\n",
    "    \"column_name\":X_test.columns[index_sort], \n",
    "    \"permutation_importances\": [f\"{result.importances_mean[i]:.3f} +/- {result.importances_std[i]:.3f}\" for i in index_sort]\n",
    "})"
   ]
  },
  {
   "cell_type": "markdown",
   "id": "d987a7d7-31f4-42ac-b997-b531118c7bfe",
   "metadata": {},
   "source": [
    "The logical interpretation of permutation importances is same as coefficient. <br>\n",
    "If the importance value is close to zero, the feature will less effect in the model. "
   ]
  },
  {
   "cell_type": "markdown",
   "id": "78d8528f-4820-4afd-9de6-707b2e25a02b",
   "metadata": {},
   "source": [
    "The `DRIVING_EXPERIENCE` and `VEHICLE_YEAR` columns have the most effect in the XGBoost model. <br>\n",
    "However, the `AGE` and `CHILDREN` columns are the least effect in this model. "
   ]
  },
  {
   "cell_type": "markdown",
   "id": "e8f67d08-09f0-45dd-bffa-0543d17e5077",
   "metadata": {},
   "source": [
    "### 5.3.4. LIME and SHAP"
   ]
  },
  {
   "cell_type": "markdown",
   "id": "2361239d-06b6-4630-816f-5b8ee69f52ee",
   "metadata": {},
   "source": [
    "In this example, we will not focus on LIME and SHAP. However, if you are interested in these methods, you can read the following bibliography."
   ]
  },
  {
   "cell_type": "markdown",
   "id": "206f6dfe-2fbe-48e7-b521-ea0ac7dd0d14",
   "metadata": {},
   "source": [
    "- SHAP and LIME: https://www.datacamp.com/tutorial/explainable-ai-understanding-and-trusting-machine-learning-models"
   ]
  },
  {
   "cell_type": "markdown",
   "id": "9458d7c9-c629-49a3-bd0f-38a4fbfdb377",
   "metadata": {},
   "source": [
    "- LIME 1: https://github.com/marcotcr/lime\n",
    "- LIME 2: https://towardsdatascience.com/decrypting-your-machine-learning-model-using-lime-5adc035109b5"
   ]
  },
  {
   "cell_type": "markdown",
   "id": "02d75d4a-866c-4ddf-a3cc-16828a14317d",
   "metadata": {},
   "source": [
    "- SHAP 1: https://shap.readthedocs.io/en/latest/example_notebooks/overviews/An%20introduction%20to%20explainable%20AI%20with%20Shapley%20values.html\n",
    "- SHAP 2: https://medium.com/@anshulgoel991/model-exploitability-using-shap-shapley-additive-explanations-and-lime-local-interpretable-cb4f5594fc1a"
   ]
  },
  {
   "cell_type": "markdown",
   "id": "c495b700-7adc-40e8-83b5-5f8c557dba48",
   "metadata": {},
   "source": [
    "---"
   ]
  },
  {
   "cell_type": "markdown",
   "id": "e2887923-8489-4bb5-b776-9a7ad467065e",
   "metadata": {},
   "source": [
    "All the methods we use to validate the impact of features on the model yield different results. <br>\n",
    "It is highly recommended to choose one consistent method for the entire project."
   ]
  },
  {
   "attachments": {},
   "cell_type": "markdown",
   "id": "e0f38c15-ef34-415d-85a2-d910d176954f",
   "metadata": {},
   "source": [
    "In this example, we will use <b> feature importance in tree base model </b> to investigate the effect of features."
   ]
  },
  {
   "cell_type": "code",
   "execution_count": null,
   "id": "290153b8-dfc7-4eaa-8d7d-5621ba41dbe9",
   "metadata": {},
   "outputs": [],
   "source": [
    "fim_data"
   ]
  },
  {
   "cell_type": "markdown",
   "id": "ab4e6cc6-a801-4e1a-b4e1-135531387879",
   "metadata": {},
   "source": [
    "The model highly effect in the `DRIVING_EXPERIENCE` and `VEHICLE_YEAR` columns. <br>\n",
    "we can add \"lambda\" in grid hyperparameter to focus on L2 regularization term on weights."
   ]
  },
  {
   "cell_type": "markdown",
   "id": "b6e7597d-ca98-4dd3-820e-8cc0a0ed2a73",
   "metadata": {},
   "source": [
    "Moreover, The `FREQUENT_ACCIDENT` column is more effect this model than the `PAST_ACCIDENTS` column. <br>\n",
    "Binning some features can improve model performance."
   ]
  },
  {
   "cell_type": "markdown",
   "id": "ec034177-8500-4e4c-9219-2cf572ff7d82",
   "metadata": {},
   "source": [
    "---"
   ]
  },
  {
   "cell_type": "markdown",
   "id": "e3399e82-90db-4e09-95cd-94d7458707fd",
   "metadata": {},
   "source": [
    "# 6. Training model (2nd attempt)"
   ]
  },
  {
   "cell_type": "markdown",
   "id": "93656a00-59fa-4f0a-b9ea-fc39e4614921",
   "metadata": {},
   "source": [
    "Data preprocessing is applied starting from the error analysis, and the steps are as follows:\n",
    "- Binning certain features\n",
    "- Including 'lambda' in the grid hyperparameters\n",
    "- Expanding the grid of hyperparameters"
   ]
  },
  {
   "cell_type": "markdown",
   "id": "7c52314b-f4af-40e6-a014-bd46f15932f2",
   "metadata": {},
   "source": [
    "First, we will binning the latest features effect in previous model which are `DUIS`, and `SPEEDING_VIOLATIONS`."
   ]
  },
  {
   "cell_type": "markdown",
   "id": "e1aff0fc-1612-40bc-a0c8-4bc4741298ac",
   "metadata": {},
   "source": [
    "In this example, The `DUIS` column will be divided into `Never` and `Used to`. <br>\n",
    "Additionally, the `SPEEDING_VIOLATIONS` column will be categorized as follows: <br>\n",
    "- \"Never\": [0]\n",
    "- \"Rarely\": [1,2,3,4,5]\n",
    "- \"Often\": 6+"
   ]
  },
  {
   "cell_type": "code",
   "execution_count": null,
   "id": "cfaaff0e-0ded-49f3-b7d3-d8b2e367d0b7",
   "metadata": {},
   "outputs": [],
   "source": [
    "data = pd.read_csv(\"./dataset/data_prepared.csv\")"
   ]
  },
  {
   "cell_type": "code",
   "execution_count": null,
   "id": "3ccd2034-7e3a-4169-8537-0f0ddae1e719",
   "metadata": {},
   "outputs": [],
   "source": [
    "def duis_binning(row):\n",
    "    duis = row[\"DUIS\"] \n",
    "    if duis in [0]:\n",
    "        return \"Never\"\n",
    "    else:\n",
    "        return \"Used to\""
   ]
  },
  {
   "cell_type": "code",
   "execution_count": null,
   "id": "585bc8ea-3e66-447a-911a-a0b21efb8946",
   "metadata": {},
   "outputs": [],
   "source": [
    "def speed_binning(row):\n",
    "    speed = row[\"SPEEDING_VIOLATIONS\"] \n",
    "    if speed in [0]:\n",
    "        return \"Never\"\n",
    "    elif speed in [1,2,3,4,5]:\n",
    "        return \"Rarely\"\n",
    "    else:\n",
    "        return \"Often\""
   ]
  },
  {
   "cell_type": "code",
   "execution_count": null,
   "id": "86decf8c-24ca-467a-b971-ae3f1c48e9e6",
   "metadata": {},
   "outputs": [],
   "source": [
    "data[\"USED_TO_DUIS\"] = data.apply(duis_binning, axis=1)"
   ]
  },
  {
   "cell_type": "code",
   "execution_count": null,
   "id": "9a219803-828a-48ad-9ef7-2e52adb444e2",
   "metadata": {},
   "outputs": [],
   "source": [
    "data[\"FREQUENT_SPEED_VIOLATIONS\"] = data.apply(speed_binning, axis=1)"
   ]
  },
  {
   "cell_type": "markdown",
   "id": "48ccc4be-6374-4f54-9560-a33fbc981036",
   "metadata": {},
   "source": [
    "Dividing train and test dataset."
   ]
  },
  {
   "cell_type": "code",
   "execution_count": null,
   "id": "a0e73a2c-3b16-43aa-89fc-9779ad606179",
   "metadata": {},
   "outputs": [],
   "source": [
    "X = data.drop([\"OUTCOME\"], axis=1)\n",
    "y = data[\"OUTCOME\"]"
   ]
  },
  {
   "cell_type": "code",
   "execution_count": null,
   "id": "c71c2a15-08a2-4f7c-b8e2-22f11bb58537",
   "metadata": {},
   "outputs": [],
   "source": [
    "X_train, X_test, y_train, y_test = train_test_split(X, y, test_size=200, random_state=42, stratify=y)"
   ]
  },
  {
   "cell_type": "markdown",
   "id": "feabc0f7-e26c-490a-8f9b-4bd9e49bb38f",
   "metadata": {},
   "source": [
    "Finally, we will include \"lambda\" in the grid of hyperparameters and expand the overall grid."
   ]
  },
  {
   "cell_type": "markdown",
   "id": "448ac60a-55a6-46df-84b8-212f7b8c38bf",
   "metadata": {},
   "source": [
    "### Exercise 2"
   ]
  },
  {
   "cell_type": "markdown",
   "id": "ab556430-33ca-415a-b554-e0c9bda6d3ae",
   "metadata": {},
   "source": [
    "Complete the code for training an XGBoost model."
   ]
  },
  {
   "cell_type": "code",
   "execution_count": null,
   "id": "79b320c6-06d3-4485-9a85-9479f0e2cdc2",
   "metadata": {},
   "outputs": [],
   "source": [
    "categorical_features = [\"AGE\", \"GENDER\", \"DRIVING_EXPERIENCE\", \"EDUCATION\", \"INCOME\", \"VEHICLE_YEAR\", \"MARRIED\", \"CHILDREN\", \"FREQUENT_ACCIDENT\", \"USED_TO_DUIS\", \"FREQUENT_SPEED_VIOLATIONS\"]\n",
    "numeric_features = [\"CREDIT_SCORE\", \"ANNUAL_MILEAGE\", \"SPEEDING_VIOLATIONS\", \"DUIS\", \"PAST_ACCIDENTS\"]"
   ]
  },
  {
   "cell_type": "code",
   "execution_count": null,
   "id": "e58a0e73-0e6a-46f3-8a34-5aea1943fb58",
   "metadata": {},
   "outputs": [],
   "source": [
    "transformers_list=[\n",
    "        (\"category\", ____________, categorical_features),\n",
    "        (\"numeric\", \"passthrough\", numeric_features)\n",
    "]\n",
    "preprocess_transformer = ____________(transformers_list)"
   ]
  },
  {
   "cell_type": "code",
   "execution_count": null,
   "id": "e09519ca-91ff-45ad-9fd9-b653de637dad",
   "metadata": {},
   "outputs": [],
   "source": [
    "xgb_pipeline = ____________([\n",
    "    (\"preprocess\", preprocess_transformer),\n",
    "    (\"xgb\", ____________)\n",
    "])"
   ]
  },
  {
   "cell_type": "code",
   "execution_count": null,
   "id": "f1f60d4c-3ff2-46cd-9b9c-51ec75461f5d",
   "metadata": {},
   "outputs": [],
   "source": [
    "xgb_params = {\n",
    "    'xgb__max_depth': [2, 3, 5],\n",
    "    'xgb__min_child_weight': [0.1, 1, 10, 100],\n",
    "    'xgb__lambda': [0.1, 1, 10, 100]\n",
    "}"
   ]
  },
  {
   "cell_type": "code",
   "execution_count": null,
   "id": "c7bb7af5-8d21-4fc5-9adb-f9fe32747784",
   "metadata": {},
   "outputs": [],
   "source": [
    "xgb_second_search = ____________(estimator = xgb_pipeline,\n",
    "                                       param_grid = xgb_params,\n",
    "                                       cv = 5, scoring='f1', verbose=2)"
   ]
  },
  {
   "cell_type": "markdown",
   "id": "37626bcc-433b-4b63-bcb1-55442a1f0a81",
   "metadata": {},
   "source": [
    "---"
   ]
  },
  {
   "cell_type": "markdown",
   "id": "0ab9cb2c-9e4a-46ff-b82c-aba4c4e6f28a",
   "metadata": {},
   "source": [
    "Training and evaluating model"
   ]
  },
  {
   "cell_type": "code",
   "execution_count": null,
   "id": "a4c08e5a-d2a9-4fab-b462-1a5875cea7d6",
   "metadata": {
    "scrolled": true
   },
   "outputs": [],
   "source": [
    "xgb_second_search.fit(X_train, y_train)"
   ]
  },
  {
   "cell_type": "code",
   "execution_count": null,
   "id": "85c1cbc4-f66e-490c-b60f-3c37d9ba3317",
   "metadata": {},
   "outputs": [],
   "source": [
    "y_train_predict = xgb_second_search.predict(X_train)\n",
    "y_test_predict = xgb_second_search.predict(X_test)"
   ]
  },
  {
   "cell_type": "code",
   "execution_count": null,
   "id": "aa775ad5-9769-436a-9af1-0e39405debad",
   "metadata": {},
   "outputs": [],
   "source": [
    "# Example of evaluate model\n",
    "# confusion_report_formatting(y_train, confusion_matrix(y_train, y_train_predict))\n",
    "# confusion_report_formatting(y_test, confusion_matrix(y_test, y_test_predict))\n",
    "\n",
    "# print(classification_report(y_train, y_train_predict))\n",
    "# print(classification_report(y_test, y_test_predict))"
   ]
  },
  {
   "cell_type": "code",
   "execution_count": null,
   "id": "9865846b-4e4e-43cc-b8a7-b5655d83d9c7",
   "metadata": {},
   "outputs": [],
   "source": [
    "score = pd.DataFrame([[\n",
    "    accuracy_score(y_train, y_train_predict), \n",
    "    f1_score(y_train, y_train_predict, average='weighted'), \n",
    "]], index=[\"xgb (2nd)\"], columns=[\"Accuracy\", \"F1 score\"])"
   ]
  },
  {
   "cell_type": "code",
   "execution_count": null,
   "id": "49ddb4ad-96f9-4a0f-9451-f9fb2df20599",
   "metadata": {},
   "outputs": [],
   "source": [
    "report_train = pd.concat([report_train, score])\n",
    "report_train"
   ]
  },
  {
   "cell_type": "code",
   "execution_count": null,
   "id": "296a85e5-c617-40e7-8e24-c814124fe37e",
   "metadata": {},
   "outputs": [],
   "source": [
    "score = pd.DataFrame([[\n",
    "    accuracy_score(y_test, y_test_predict), \n",
    "    f1_score(y_test, y_test_predict, average='weighted'), \n",
    "]], index=[\"xgb (2nd)\"], columns=[\"Accuracy\", \"F1 score\"])"
   ]
  },
  {
   "cell_type": "code",
   "execution_count": null,
   "id": "2b76a275-2f70-400c-82bd-cb29ce0e9915",
   "metadata": {},
   "outputs": [],
   "source": [
    "report_test = pd.concat([report_test, score])\n",
    "report_test"
   ]
  },
  {
   "cell_type": "code",
   "execution_count": null,
   "id": "55bb5ed4-1c0f-4d27-8319-aa66841e7655",
   "metadata": {},
   "outputs": [],
   "source": [
    "# check best params\n",
    "xgb_second_search.best_params_"
   ]
  },
  {
   "cell_type": "markdown",
   "id": "0ff4c78f-f8a3-4b97-97a2-2469676593d3",
   "metadata": {},
   "source": [
    "To improve the model, we can do another error analysis, create other feature, group (cluter) feature, or try a different model."
   ]
  },
  {
   "cell_type": "markdown",
   "id": "3924a5ce-6e15-4af7-be61-d469b44ff48a",
   "metadata": {},
   "source": [
    "---"
   ]
  },
  {
   "cell_type": "markdown",
   "id": "344013fb",
   "metadata": {},
   "source": [
    "## 7. Save model"
   ]
  },
  {
   "cell_type": "markdown",
   "id": "093e24fc-0f99-4de5-967e-a8c3ffccf515",
   "metadata": {},
   "source": [
    "Lastly, we save model to use in the next Python notebook."
   ]
  },
  {
   "cell_type": "code",
   "execution_count": null,
   "id": "009e98e1-8e05-42cf-a5ed-a333e6b24ef6",
   "metadata": {},
   "outputs": [],
   "source": [
    "if os.path.exists(\"./model\") != 1:\n",
    "    os.mkdir(\"./model\")"
   ]
  },
  {
   "cell_type": "code",
   "execution_count": null,
   "id": "bedc63b2",
   "metadata": {},
   "outputs": [],
   "source": [
    "dump(xgb_second_search, 'model/best_model.joblib') "
   ]
  },
  {
   "cell_type": "code",
   "execution_count": null,
   "id": "e01151a3-32a8-42a0-8540-c28fe20bddcf",
   "metadata": {},
   "outputs": [],
   "source": [
    "# Example for load model in joblib library\n",
    "# model = load('model/best_model.joblib')"
   ]
  },
  {
   "cell_type": "markdown",
   "id": "e83b0a22",
   "metadata": {},
   "source": [
    "---\n",
    "---"
   ]
  }
 ],
 "metadata": {
  "kernelspec": {
   "display_name": "Python 3 (ipykernel)",
   "language": "python",
   "name": "python3"
  },
  "language_info": {
   "codemirror_mode": {
    "name": "ipython",
    "version": 3
   },
   "file_extension": ".py",
   "mimetype": "text/x-python",
   "name": "python",
   "nbconvert_exporter": "python",
   "pygments_lexer": "ipython3",
   "version": "3.10.11"
  },
  "varInspector": {
   "cols": {
    "lenName": 16,
    "lenType": 16,
    "lenVar": 40
   },
   "kernels_config": {
    "python": {
     "delete_cmd_postfix": "",
     "delete_cmd_prefix": "del ",
     "library": "var_list.py",
     "varRefreshCmd": "print(var_dic_list())"
    },
    "r": {
     "delete_cmd_postfix": ") ",
     "delete_cmd_prefix": "rm(",
     "library": "var_list.r",
     "varRefreshCmd": "cat(var_dic_list()) "
    }
   },
   "types_to_exclude": [
    "module",
    "function",
    "builtin_function_or_method",
    "instance",
    "_Feature"
   ],
   "window_display": false
  }
 },
 "nbformat": 4,
 "nbformat_minor": 5
}
