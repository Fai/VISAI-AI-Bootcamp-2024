{
 "cells": [
  {
   "cell_type": "markdown",
   "id": "08390986",
   "metadata": {},
   "source": [
    "# Machine learning Workshop (3. Inference)"
   ]
  },
  {
   "cell_type": "markdown",
   "id": "a414c57d",
   "metadata": {},
   "source": [
    "## <u>Table of contents</u>"
   ]
  },
  {
   "cell_type": "markdown",
   "id": "6cfd38c8",
   "metadata": {},
   "source": [
    "### 1. ELT and EDA"
   ]
  },
  {
   "cell_type": "markdown",
   "id": "07514992",
   "metadata": {},
   "source": [
    "1. Import Python essential modules and dataset\n",
    "2. Preliminary data and data understanding\n",
    "3. Prepareing data before use in model"
   ]
  },
  {
   "cell_type": "markdown",
   "id": "cfe56a09",
   "metadata": {},
   "source": [
    "### 2. Modeling"
   ]
  },
  {
   "cell_type": "markdown",
   "id": "e9d48095",
   "metadata": {},
   "source": [
    "1. Commonly Function hyperparameter\n",
    "2. Commonly Model hyperparameter tuning\n",
    "3. Import Python essential modules and dataset, and prepare data\n",
    "4. Training model (1st attempt)\n",
    "5. Error analysis\n",
    "6. Training model (2nd attempt)\n",
    "7. Save model"
   ]
  },
  {
   "cell_type": "markdown",
   "id": "f4c2dd34",
   "metadata": {},
   "source": [
    "### 3. Inference"
   ]
  },
  {
   "cell_type": "markdown",
   "id": "549ef7da",
   "metadata": {},
   "source": [
    "1. Import Python essential modules and dataset\n",
    "2. Prepare data to for training data\n",
    "3. Load Model\n",
    "4. Predict with prepared data\n",
    "5. Deploy with Gradio"
   ]
  },
  {
   "cell_type": "markdown",
   "id": "12fa6149",
   "metadata": {},
   "source": [
    "---"
   ]
  },
  {
   "cell_type": "markdown",
   "id": "7fa31024",
   "metadata": {},
   "source": [
    "## <u>Contents</u>"
   ]
  },
  {
   "cell_type": "markdown",
   "id": "0440b14b-3c98-4345-b23f-04a7958b4e5f",
   "metadata": {},
   "source": [
    "After we have trained the model, we want to predict and deploy it using the Gradio library."
   ]
  },
  {
   "cell_type": "markdown",
   "id": "78a0db4f",
   "metadata": {},
   "source": [
    "## 1. Import Python essential modules and dataset"
   ]
  },
  {
   "cell_type": "code",
   "execution_count": null,
   "id": "60fc6bd2-b567-431b-b10d-512dd2829163",
   "metadata": {},
   "outputs": [],
   "source": [
    "# ! pip install gradio"
   ]
  },
  {
   "cell_type": "code",
   "execution_count": null,
   "id": "6e510577",
   "metadata": {},
   "outputs": [],
   "source": [
    "import os\n",
    "import pandas as pd\n",
    "import gradio as gr\n",
    "\n",
    "from joblib import load"
   ]
  },
  {
   "cell_type": "code",
   "execution_count": null,
   "id": "29548751",
   "metadata": {},
   "outputs": [],
   "source": [
    "data_inference = pd.read_csv(\"dataset/test_data.csv\")"
   ]
  },
  {
   "cell_type": "code",
   "execution_count": null,
   "id": "379541db",
   "metadata": {},
   "outputs": [],
   "source": [
    "data_inference.head()"
   ]
  },
  {
   "cell_type": "code",
   "execution_count": null,
   "id": "4ccaee98",
   "metadata": {},
   "outputs": [],
   "source": [
    "data_inference.shape"
   ]
  },
  {
   "cell_type": "markdown",
   "id": "a54c6c26-ff3a-41ac-b143-bfc0ee2ccbda",
   "metadata": {},
   "source": [
    "## 2. Prepare data to for training data"
   ]
  },
  {
   "cell_type": "markdown",
   "id": "9855260b-6dab-40dd-b5bd-261a3be89f64",
   "metadata": {},
   "source": [
    "We must prepare the same workflow as we did for preparing the training data. <br>\n",
    "<b> *** Except for operations that remove rows, such as `drop`, `drop_duplicates`, `filter`. *** </b>"
   ]
  },
  {
   "cell_type": "markdown",
   "id": "14ba16b3-b159-4f1a-a7a4-b028562c84d7",
   "metadata": {},
   "source": [
    "- Change the data type of the columns.\n",
    "- Replace `CREDIT_SCORE` values lower than 0 with NaN, and set `ANNUAL_MILEAGE` values lower than 0 to 0.\n",
    "- Categorize (bin) the `PAST_ACCIDENTS`, `DUIS`, and `SPEEDING_VIOLATIONS` features.\n",
    "- Remove the columns are not relevan."
   ]
  },
  {
   "cell_type": "markdown",
   "id": "54f361b5-1eb8-4066-a051-26be0a2d6802",
   "metadata": {},
   "source": [
    "First, we change the data type of the columns."
   ]
  },
  {
   "cell_type": "code",
   "execution_count": null,
   "id": "f4af82ea-915e-4ebb-8d66-5d5e8ab7009c",
   "metadata": {},
   "outputs": [],
   "source": [
    "data_inference[\"MARRIED\"] = data_inference[\"MARRIED\"].astype(bool)\n",
    "data_inference[\"CHILDREN\"] = data_inference[\"CHILDREN\"].astype(bool)"
   ]
  },
  {
   "cell_type": "markdown",
   "id": "58398b23-c8c5-46d7-aa93-81ecd1dd0cc1",
   "metadata": {},
   "source": [
    "Then, we replace `CREDIT_SCORE` values lower than 0 with NaN, and set `ANNUAL_MILEAGE` values lower than 0 to 0."
   ]
  },
  {
   "cell_type": "code",
   "execution_count": null,
   "id": "9a4a3838-464a-400d-a713-c597f2f27c40",
   "metadata": {},
   "outputs": [],
   "source": [
    "data_inference.loc[data_inference[\"CREDIT_SCORE\"] > 1, \"CREDIT_SCORE\"] = pd.NA"
   ]
  },
  {
   "cell_type": "code",
   "execution_count": null,
   "id": "dd9ac5ae-3069-4c4e-8fb2-ba4697b3b47f",
   "metadata": {},
   "outputs": [],
   "source": [
    "data_inference.loc[data_inference[\"ANNUAL_MILEAGE\"] < 0, \"ANNUAL_MILEAGE\"] = 0"
   ]
  },
  {
   "cell_type": "markdown",
   "id": "d6d303ff-a4b5-42e5-925c-250eecfca6ed",
   "metadata": {},
   "source": [
    "Moreover, we categorize the `PAST_ACCIDENTS`, `DUIS`, and `SPEEDING_VIOLATIONS` features."
   ]
  },
  {
   "cell_type": "code",
   "execution_count": null,
   "id": "7a906c3d-0321-45ae-8e7c-2ff26de41a94",
   "metadata": {},
   "outputs": [],
   "source": [
    "def accident_binning(row):\n",
    "    past_accident = row[\"PAST_ACCIDENTS\"] \n",
    "    if past_accident in [0]:\n",
    "        return \"Never\"\n",
    "    elif past_accident in [1,2]:\n",
    "        return \"Rarely\"\n",
    "    else:\n",
    "        return \"Often\""
   ]
  },
  {
   "cell_type": "code",
   "execution_count": null,
   "id": "0ba39df0-4860-421c-840a-e1b5d12fbc31",
   "metadata": {},
   "outputs": [],
   "source": [
    "def duis_binning(row):\n",
    "    duis = row[\"DUIS\"] \n",
    "    if duis in [0]:\n",
    "        return \"Never\"\n",
    "    else:\n",
    "        return \"Used to\""
   ]
  },
  {
   "cell_type": "code",
   "execution_count": null,
   "id": "1eda48dc-ed80-4057-97a6-ee53a528e166",
   "metadata": {},
   "outputs": [],
   "source": [
    "def speed_binning(row):\n",
    "    speed = row[\"SPEEDING_VIOLATIONS\"] \n",
    "    if speed in [0]:\n",
    "        return \"Never\"\n",
    "    elif speed in [1,2,3,4,5]:\n",
    "        return \"Rarely\"\n",
    "    else:\n",
    "        return \"Often\""
   ]
  },
  {
   "cell_type": "code",
   "execution_count": null,
   "id": "bec21f6a-98a6-4f8c-9084-70dc650aff9c",
   "metadata": {},
   "outputs": [],
   "source": [
    "data_inference[\"FREQUENT_ACCIDENT\"] = data_inference.apply(accident_binning, axis=1)"
   ]
  },
  {
   "cell_type": "code",
   "execution_count": null,
   "id": "b864a889-1883-4b8b-bb0b-722e053fcfa4",
   "metadata": {},
   "outputs": [],
   "source": [
    "data_inference[\"USED_TO_DUIS\"] = data_inference.apply(duis_binning, axis=1)"
   ]
  },
  {
   "cell_type": "code",
   "execution_count": null,
   "id": "39507de8-edfe-49f1-b5c0-89241116df8d",
   "metadata": {},
   "outputs": [],
   "source": [
    "data_inference[\"FREQUENT_SPEED_VIOLATIONS\"] = data_inference.apply(speed_binning, axis=1)"
   ]
  },
  {
   "cell_type": "markdown",
   "id": "b79fb6ea-e271-4db0-9aaa-d36b3e30061d",
   "metadata": {},
   "source": [
    "Finally, we remove the columns are not relevan."
   ]
  },
  {
   "cell_type": "code",
   "execution_count": null,
   "id": "9c8f226f-02b8-4d5e-9fdb-e3ec145e74bc",
   "metadata": {},
   "outputs": [],
   "source": [
    "# before remove ID column, we save ID for map in prediction data\n",
    "id_test = data_inference[\"ID\"].tolist()"
   ]
  },
  {
   "cell_type": "code",
   "execution_count": null,
   "id": "a69187a5-90ec-45c5-96ad-8462afd0b0cc",
   "metadata": {},
   "outputs": [],
   "source": [
    "data_inference = data_inference.drop([\"ID\", \"POSTAL_CODE\"], axis=1)"
   ]
  },
  {
   "cell_type": "code",
   "execution_count": null,
   "id": "c3209b31-6d35-4b7d-9e54-23564b1d42e6",
   "metadata": {},
   "outputs": [],
   "source": [
    "# preview test input\n",
    "data_inference.head()"
   ]
  },
  {
   "cell_type": "markdown",
   "id": "89fdc482",
   "metadata": {},
   "source": [
    "## 3. Load Model"
   ]
  },
  {
   "cell_type": "code",
   "execution_count": null,
   "id": "afd8d464",
   "metadata": {},
   "outputs": [],
   "source": [
    "model = load('model/best_model.joblib')"
   ]
  },
  {
   "cell_type": "code",
   "execution_count": null,
   "id": "8fbc82cb",
   "metadata": {},
   "outputs": [],
   "source": [
    "model"
   ]
  },
  {
   "cell_type": "markdown",
   "id": "a590448b",
   "metadata": {},
   "source": [
    "## 4. Predict with prepared data"
   ]
  },
  {
   "cell_type": "markdown",
   "id": "5fcd5069",
   "metadata": {},
   "source": [
    "The desired output prediction which we want is shown in `submission_template.csv` file."
   ]
  },
  {
   "cell_type": "markdown",
   "id": "e1897c42",
   "metadata": {},
   "source": [
    "<img src=\"./image/submission_template.png\" style=\"height:300px\"/>"
   ]
  },
  {
   "cell_type": "code",
   "execution_count": null,
   "id": "3821c41c-775a-4a6d-bad1-c61c686ef69e",
   "metadata": {},
   "outputs": [],
   "source": [
    "y_predict = model.predict(data_inference)\n",
    "y_predict"
   ]
  },
  {
   "cell_type": "markdown",
   "id": "7644e3a4-2e88-45d2-9831-adcc9fc52815",
   "metadata": {},
   "source": [
    "After obtaining the prediction data, we will create a DataFrame with it."
   ]
  },
  {
   "cell_type": "code",
   "execution_count": null,
   "id": "9ebf7d9a-6d12-4824-bd98-9c8ff9fafb9c",
   "metadata": {},
   "outputs": [],
   "source": [
    "df_submission = pd.DataFrame({\n",
    "    \"ID\": id_test,\n",
    "    \"OUTCOME\": y_predict\n",
    "})\n",
    "df_submission"
   ]
  },
  {
   "cell_type": "markdown",
   "id": "0a09fd95-02db-4dfe-8cc9-3d45d62c1836",
   "metadata": {},
   "source": [
    "Finally, we save submission table to csv."
   ]
  },
  {
   "cell_type": "code",
   "execution_count": null,
   "id": "35ce906c",
   "metadata": {},
   "outputs": [],
   "source": [
    "df_submission.to_csv(\"dataset/submission_1.csv\", index=False)"
   ]
  },
  {
   "cell_type": "markdown",
   "id": "b1c82776-8be6-42df-b213-8c241cda3ec1",
   "metadata": {},
   "source": [
    "## 5. Deploy with Gradio"
   ]
  },
  {
   "cell_type": "markdown",
   "id": "2eb4de34-c385-45e2-88ad-94484d432237",
   "metadata": {},
   "source": [
    "In this example, we will mainly use `gradio.Interface` <br><br>\n",
    "For more information, you can look into this bibliography: <br>\n",
    "https://www.gradio.app/docs/gradio/introduction"
   ]
  },
  {
   "cell_type": "markdown",
   "id": "a5983f29-6038-425e-a6ca-272c1c39d368",
   "metadata": {},
   "source": [
    "With `gr.Interface`, you simply combine 3 ingredients:\n",
    "- `fn` (a Python function)\n",
    "- `inputs` (input component)\n",
    "- `outputs` (output component)"
   ]
  },
  {
   "cell_type": "markdown",
   "id": "612c12dd-e6a8-4527-b0c8-e0fe1a251b5f",
   "metadata": {},
   "source": [
    "First, we will warp up preprocess data code into function."
   ]
  },
  {
   "cell_type": "code",
   "execution_count": null,
   "id": "0aed5696-5dfb-4ff8-b6d3-7cefefe6fa08",
   "metadata": {},
   "outputs": [],
   "source": [
    "def preprocess_data(path):\n",
    "    data = pd.read_csv(path)\n",
    "\n",
    "    data[\"MARRIED\"] = data[\"MARRIED\"].astype(bool)\n",
    "    data[\"CHILDREN\"] = data[\"CHILDREN\"].astype(bool)\n",
    "    \n",
    "    data.loc[data[\"CREDIT_SCORE\"] > 1, \"CREDIT_SCORE\"] = pd.NA\n",
    "    data.loc[data[\"ANNUAL_MILEAGE\"] < 0, \"ANNUAL_MILEAGE\"] = 0\n",
    "    \n",
    "    data[\"FREQUENT_ACCIDENT\"] = data.apply(accident_binning, axis=1)\n",
    "    data[\"USED_TO_DUIS\"] = data.apply(duis_binning, axis=1)\n",
    "    data[\"FREQUENT_SPEED_VIOLATIONS\"] = data.apply(speed_binning, axis=1)\n",
    "\n",
    "    id = data[\"ID\"].tolist()\n",
    "    data = data.drop([\"ID\", \"POSTAL_CODE\"], axis=1)\n",
    "    \n",
    "    return id_test, data"
   ]
  },
  {
   "cell_type": "code",
   "execution_count": null,
   "id": "4a574788-e249-496b-a66e-e96dab34d494",
   "metadata": {},
   "outputs": [],
   "source": [
    "def predict_model(id, data):\n",
    "    if \"OUTCOME\" in data.columns:\n",
    "        data = data.drop([\"OUTCOME\"], axis=1)\n",
    "\n",
    "    y_predict = model.predict(data_inference)\n",
    "    df_submission = pd.DataFrame({\n",
    "        \"ID\": id_test,\n",
    "        \"OUTCOME\": y_predict\n",
    "    })\n",
    "    \n",
    "    return df_submission"
   ]
  },
  {
   "cell_type": "markdown",
   "id": "700c4c75-65ab-45a7-ba0f-f0cf30bda50d",
   "metadata": {},
   "source": [
    "Then, we create inference function for Gradio interface."
   ]
  },
  {
   "cell_type": "code",
   "execution_count": null,
   "id": "0cdb6773-30eb-4f74-96b8-0af1e4d067ac",
   "metadata": {},
   "outputs": [],
   "source": [
    "def inference(path):\n",
    "    id, df_preprocessed = preprocess_data(path)\n",
    "    df_submission = predict_model(id, df_preprocessed)\n",
    "    df_submission.to_csv(\"output.csv\", index=False)\n",
    "    \n",
    "    return \"output.csv\", df_submission"
   ]
  },
  {
   "cell_type": "markdown",
   "id": "e1178c20-aecc-4541-bd9e-3deabaa35009",
   "metadata": {},
   "source": [
    "Finally, we use Gradio interface."
   ]
  },
  {
   "cell_type": "code",
   "execution_count": null,
   "id": "e9427c3a-2d7e-419a-b6e7-516f036441aa",
   "metadata": {},
   "outputs": [],
   "source": [
    "demo = gr.Interface(\n",
    "    fn=inference,\n",
    "\n",
    "    inputs=\"file\",\n",
    "\n",
    "    outputs=[\"file\", \"dataframe\"],\n",
    "\n",
    "    title=\"Upload the CSV file to obtain the prediction values.\",\n",
    "\n",
    "    description=\"This deployment use XGBoost model\"\n",
    ")"
   ]
  },
  {
   "cell_type": "code",
   "execution_count": null,
   "id": "633e919e-7bb2-4ad0-9145-a44f6755dd09",
   "metadata": {},
   "outputs": [],
   "source": [
    "demo.launch()"
   ]
  },
  {
   "cell_type": "markdown",
   "id": "daaeb352",
   "metadata": {},
   "source": [
    "---\n",
    "---"
   ]
  }
 ],
 "metadata": {
  "kernelspec": {
   "display_name": "Python 3 (ipykernel)",
   "language": "python",
   "name": "python3"
  },
  "language_info": {
   "codemirror_mode": {
    "name": "ipython",
    "version": 3
   },
   "file_extension": ".py",
   "mimetype": "text/x-python",
   "name": "python",
   "nbconvert_exporter": "python",
   "pygments_lexer": "ipython3",
   "version": "3.10.11"
  },
  "varInspector": {
   "cols": {
    "lenName": 16,
    "lenType": 16,
    "lenVar": 40
   },
   "kernels_config": {
    "python": {
     "delete_cmd_postfix": "",
     "delete_cmd_prefix": "del ",
     "library": "var_list.py",
     "varRefreshCmd": "print(var_dic_list())"
    },
    "r": {
     "delete_cmd_postfix": ") ",
     "delete_cmd_prefix": "rm(",
     "library": "var_list.r",
     "varRefreshCmd": "cat(var_dic_list()) "
    }
   },
   "types_to_exclude": [
    "module",
    "function",
    "builtin_function_or_method",
    "instance",
    "_Feature"
   ],
   "window_display": false
  }
 },
 "nbformat": 4,
 "nbformat_minor": 5
}
