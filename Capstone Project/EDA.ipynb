{
  "cells": [
    {
      "cell_type": "code",
      "execution_count": 2,
      "metadata": {},
      "outputs": [
        {
          "name": "stdout",
          "output_type": "stream",
          "text": [
            "Requirement already satisfied: pandas in /workspaces/VISAI-AI-Bootcamp-2024/.conda/lib/python3.11/site-packages (2.2.3)\n",
            "Requirement already satisfied: numpy in /workspaces/VISAI-AI-Bootcamp-2024/.conda/lib/python3.11/site-packages (2.1.2)\n",
            "Requirement already satisfied: matplotlib in /workspaces/VISAI-AI-Bootcamp-2024/.conda/lib/python3.11/site-packages (3.9.2)\n",
            "Requirement already satisfied: seaborn in /workspaces/VISAI-AI-Bootcamp-2024/.conda/lib/python3.11/site-packages (0.13.2)\n",
            "Requirement already satisfied: scikit-learn in /workspaces/VISAI-AI-Bootcamp-2024/.conda/lib/python3.11/site-packages (1.5.2)\n",
            "Requirement already satisfied: python-dateutil>=2.8.2 in /workspaces/VISAI-AI-Bootcamp-2024/.conda/lib/python3.11/site-packages (from pandas) (2.9.0)\n",
            "Requirement already satisfied: pytz>=2020.1 in /workspaces/VISAI-AI-Bootcamp-2024/.conda/lib/python3.11/site-packages (from pandas) (2024.2)\n",
            "Requirement already satisfied: tzdata>=2022.7 in /workspaces/VISAI-AI-Bootcamp-2024/.conda/lib/python3.11/site-packages (from pandas) (2024.2)\n",
            "Requirement already satisfied: contourpy>=1.0.1 in /workspaces/VISAI-AI-Bootcamp-2024/.conda/lib/python3.11/site-packages (from matplotlib) (1.3.0)\n",
            "Requirement already satisfied: cycler>=0.10 in /workspaces/VISAI-AI-Bootcamp-2024/.conda/lib/python3.11/site-packages (from matplotlib) (0.12.1)\n",
            "Requirement already satisfied: fonttools>=4.22.0 in /workspaces/VISAI-AI-Bootcamp-2024/.conda/lib/python3.11/site-packages (from matplotlib) (4.54.1)\n",
            "Requirement already satisfied: kiwisolver>=1.3.1 in /workspaces/VISAI-AI-Bootcamp-2024/.conda/lib/python3.11/site-packages (from matplotlib) (1.4.7)\n",
            "Requirement already satisfied: packaging>=20.0 in /workspaces/VISAI-AI-Bootcamp-2024/.conda/lib/python3.11/site-packages (from matplotlib) (24.1)\n",
            "Requirement already satisfied: pillow>=8 in /workspaces/VISAI-AI-Bootcamp-2024/.conda/lib/python3.11/site-packages (from matplotlib) (11.0.0)\n",
            "Requirement already satisfied: pyparsing>=2.3.1 in /workspaces/VISAI-AI-Bootcamp-2024/.conda/lib/python3.11/site-packages (from matplotlib) (3.2.0)\n",
            "Requirement already satisfied: scipy>=1.6.0 in /workspaces/VISAI-AI-Bootcamp-2024/.conda/lib/python3.11/site-packages (from scikit-learn) (1.14.1)\n",
            "Requirement already satisfied: joblib>=1.2.0 in /workspaces/VISAI-AI-Bootcamp-2024/.conda/lib/python3.11/site-packages (from scikit-learn) (1.4.2)\n",
            "Requirement already satisfied: threadpoolctl>=3.1.0 in /workspaces/VISAI-AI-Bootcamp-2024/.conda/lib/python3.11/site-packages (from scikit-learn) (3.5.0)\n",
            "Requirement already satisfied: six>=1.5 in /workspaces/VISAI-AI-Bootcamp-2024/.conda/lib/python3.11/site-packages (from python-dateutil>=2.8.2->pandas) (1.16.0)\n",
            "Note: you may need to restart the kernel to use updated packages.\n"
          ]
        }
      ],
      "source": [
        "pip install pandas numpy matplotlib seaborn scikit-learn"
      ]
    },
    {
      "cell_type": "markdown",
      "metadata": {
        "id": "r78PjK-t20tK"
      },
      "source": [
        "Import the libraries"
      ]
    },
    {
      "cell_type": "code",
      "execution_count": 120,
      "metadata": {
        "id": "mn5FxvNZ2yEv"
      },
      "outputs": [],
      "source": [
        "import re\n",
        "import numpy as np\n",
        "import pandas as pd\n",
        "import matplotlib.pyplot as plt\n",
        "import seaborn as sns\n",
        "import scipy.stats as ss\n",
        "from itertools import product"
      ]
    },
    {
      "cell_type": "markdown",
      "metadata": {
        "id": "A6Eon8X723Zt"
      },
      "source": [
        "Load the data"
      ]
    },
    {
      "cell_type": "code",
      "execution_count": 121,
      "metadata": {
        "id": "7_srodiP24gT"
      },
      "outputs": [],
      "source": [
        "data = pd.read_csv('train.csv')"
      ]
    },
    {
      "cell_type": "markdown",
      "metadata": {
        "id": "Auc2FfYa2-AE"
      },
      "source": [
        "Explore the data"
      ]
    },
    {
      "cell_type": "code",
      "execution_count": 122,
      "metadata": {},
      "outputs": [
        {
          "data": {
            "text/plain": [
              "Index(['productID', 'model', 'color', 'gpu', 'cpu', 'ram', 'harddisk', 'OS',\n",
              "       'special_features', 'price'],\n",
              "      dtype='object')"
            ]
          },
          "execution_count": 122,
          "metadata": {},
          "output_type": "execute_result"
        }
      ],
      "source": [
        "data.columns"
      ]
    },
    {
      "cell_type": "code",
      "execution_count": 123,
      "metadata": {
        "colab": {
          "base_uri": "https://localhost:8080/",
          "height": 310
        },
        "id": "fs9bG7zC3AE_",
        "outputId": "aed56383-06bf-438f-dd24-26586bcfa96e"
      },
      "outputs": [
        {
          "data": {
            "text/html": [
              "<div>\n",
              "<style scoped>\n",
              "    .dataframe tbody tr th:only-of-type {\n",
              "        vertical-align: middle;\n",
              "    }\n",
              "\n",
              "    .dataframe tbody tr th {\n",
              "        vertical-align: top;\n",
              "    }\n",
              "\n",
              "    .dataframe thead th {\n",
              "        text-align: right;\n",
              "    }\n",
              "</style>\n",
              "<table border=\"1\" class=\"dataframe\">\n",
              "  <thead>\n",
              "    <tr style=\"text-align: right;\">\n",
              "      <th></th>\n",
              "      <th>productID</th>\n",
              "      <th>model</th>\n",
              "      <th>color</th>\n",
              "      <th>gpu</th>\n",
              "      <th>cpu</th>\n",
              "      <th>ram</th>\n",
              "      <th>harddisk</th>\n",
              "      <th>OS</th>\n",
              "      <th>special_features</th>\n",
              "      <th>price</th>\n",
              "    </tr>\n",
              "  </thead>\n",
              "  <tbody>\n",
              "    <tr>\n",
              "      <th>0</th>\n",
              "      <td>0</td>\n",
              "      <td>Dell Dell Latitude 14 Inches</td>\n",
              "      <td>NaN</td>\n",
              "      <td>Integrated, NVIDIA GeForce GT 720M</td>\n",
              "      <td>Core i5 / 1.7 GHz</td>\n",
              "      <td>4 GB</td>\n",
              "      <td>500 GB</td>\n",
              "      <td>Windows 8</td>\n",
              "      <td>NaN</td>\n",
              "      <td>180.00</td>\n",
              "    </tr>\n",
              "    <tr>\n",
              "      <th>1</th>\n",
              "      <td>1</td>\n",
              "      <td>ASUS ASUS CHROMEBOOK CX9 14 INCHES</td>\n",
              "      <td>STAR BLACK</td>\n",
              "      <td>INTEGRATED</td>\n",
              "      <td>INTEL CORE I7</td>\n",
              "      <td>16 GB</td>\n",
              "      <td>512 GB</td>\n",
              "      <td>CHROME OS</td>\n",
              "      <td>STYLUS</td>\n",
              "      <td>1211.99</td>\n",
              "    </tr>\n",
              "    <tr>\n",
              "      <th>2</th>\n",
              "      <td>2</td>\n",
              "      <td>Dell Inspiron 3511 Laptop 15.6 Inches</td>\n",
              "      <td>Black</td>\n",
              "      <td>Integrated</td>\n",
              "      <td>Core i5</td>\n",
              "      <td>32 GB</td>\n",
              "      <td>2000 GB</td>\n",
              "      <td>Windows 10 Home</td>\n",
              "      <td>Wifi &amp; Bluetooth</td>\n",
              "      <td>735.59</td>\n",
              "    </tr>\n",
              "    <tr>\n",
              "      <th>3</th>\n",
              "      <td>3</td>\n",
              "      <td>hp 14 Inches</td>\n",
              "      <td>NaN</td>\n",
              "      <td>Unknown</td>\n",
              "      <td>3.7 GHz</td>\n",
              "      <td>4 GB</td>\n",
              "      <td>NaN</td>\n",
              "      <td>Windows 10 Home</td>\n",
              "      <td>Anti-glare</td>\n",
              "      <td>339.00</td>\n",
              "    </tr>\n",
              "    <tr>\n",
              "      <th>4</th>\n",
              "      <td>4</td>\n",
              "      <td>Dell Alienware X14 Laptop 14 Inches</td>\n",
              "      <td>Lunar Light</td>\n",
              "      <td>Integrated, NVIDIA GeForce RTX 3060</td>\n",
              "      <td>Core i7</td>\n",
              "      <td>12 GB</td>\n",
              "      <td>1000 GB</td>\n",
              "      <td>Windows 11 Home</td>\n",
              "      <td>NaN</td>\n",
              "      <td>2086.99</td>\n",
              "    </tr>\n",
              "  </tbody>\n",
              "</table>\n",
              "</div>"
            ],
            "text/plain": [
              "   productID                                  model        color  \\\n",
              "0          0           Dell Dell Latitude 14 Inches          NaN   \n",
              "1          1     ASUS ASUS CHROMEBOOK CX9 14 INCHES   STAR BLACK   \n",
              "2          2  Dell Inspiron 3511 Laptop 15.6 Inches        Black   \n",
              "3          3                           hp 14 Inches          NaN   \n",
              "4          4    Dell Alienware X14 Laptop 14 Inches  Lunar Light   \n",
              "\n",
              "                                   gpu                cpu     ram harddisk  \\\n",
              "0   Integrated, NVIDIA GeForce GT 720M  Core i5 / 1.7 GHz    4 GB   500 GB   \n",
              "1                           INTEGRATED      INTEL CORE I7   16 GB   512 GB   \n",
              "2                           Integrated            Core i5  32 GB   2000 GB   \n",
              "3                              Unknown            3.7 GHz   4 GB       NaN   \n",
              "4  Integrated, NVIDIA GeForce RTX 3060            Core i7  12 GB   1000 GB   \n",
              "\n",
              "                OS  special_features    price  \n",
              "0        Windows 8               NaN   180.00  \n",
              "1        CHROME OS            STYLUS  1211.99  \n",
              "2  Windows 10 Home  Wifi & Bluetooth   735.59  \n",
              "3  Windows 10 Home        Anti-glare   339.00  \n",
              "4  Windows 11 Home               NaN  2086.99  "
            ]
          },
          "execution_count": 123,
          "metadata": {},
          "output_type": "execute_result"
        }
      ],
      "source": [
        "data.head()"
      ]
    },
    {
      "cell_type": "markdown",
      "metadata": {
        "id": "bny_1L4X3GWc"
      },
      "source": [
        "Check data types, missing values, and descriptive statistics"
      ]
    },
    {
      "cell_type": "code",
      "execution_count": 124,
      "metadata": {},
      "outputs": [
        {
          "name": "stdout",
          "output_type": "stream",
          "text": [
            "<class 'pandas.core.frame.DataFrame'>\n",
            "RangeIndex: 2943 entries, 0 to 2942\n",
            "Data columns (total 10 columns):\n",
            " #   Column            Non-Null Count  Dtype  \n",
            "---  ------            --------------  -----  \n",
            " 0   productID         2943 non-null   int64  \n",
            " 1   model             2943 non-null   object \n",
            " 2   color             2311 non-null   object \n",
            " 3   gpu               2943 non-null   object \n",
            " 4   cpu               2943 non-null   object \n",
            " 5   ram               2878 non-null   object \n",
            " 6   harddisk          2741 non-null   object \n",
            " 7   OS                2911 non-null   object \n",
            " 8   special_features  1946 non-null   object \n",
            " 9   price             2943 non-null   float64\n",
            "dtypes: float64(1), int64(1), object(8)\n",
            "memory usage: 230.1+ KB\n"
          ]
        }
      ],
      "source": [
        "data.info()"
      ]
    },
    {
      "cell_type": "code",
      "execution_count": 125,
      "metadata": {},
      "outputs": [
        {
          "data": {
            "text/html": [
              "<div>\n",
              "<style scoped>\n",
              "    .dataframe tbody tr th:only-of-type {\n",
              "        vertical-align: middle;\n",
              "    }\n",
              "\n",
              "    .dataframe tbody tr th {\n",
              "        vertical-align: top;\n",
              "    }\n",
              "\n",
              "    .dataframe thead th {\n",
              "        text-align: right;\n",
              "    }\n",
              "</style>\n",
              "<table border=\"1\" class=\"dataframe\">\n",
              "  <thead>\n",
              "    <tr style=\"text-align: right;\">\n",
              "      <th></th>\n",
              "      <th>productID</th>\n",
              "      <th>price</th>\n",
              "    </tr>\n",
              "  </thead>\n",
              "  <tbody>\n",
              "    <tr>\n",
              "      <th>count</th>\n",
              "      <td>2943.000000</td>\n",
              "      <td>2943.000000</td>\n",
              "    </tr>\n",
              "    <tr>\n",
              "      <th>mean</th>\n",
              "      <td>1471.000000</td>\n",
              "      <td>1387.568634</td>\n",
              "    </tr>\n",
              "    <tr>\n",
              "      <th>std</th>\n",
              "      <td>849.715246</td>\n",
              "      <td>926.904366</td>\n",
              "    </tr>\n",
              "    <tr>\n",
              "      <th>min</th>\n",
              "      <td>0.000000</td>\n",
              "      <td>3.790000</td>\n",
              "    </tr>\n",
              "    <tr>\n",
              "      <th>25%</th>\n",
              "      <td>735.500000</td>\n",
              "      <td>740.985000</td>\n",
              "    </tr>\n",
              "    <tr>\n",
              "      <th>50%</th>\n",
              "      <td>1471.000000</td>\n",
              "      <td>1194.770000</td>\n",
              "    </tr>\n",
              "    <tr>\n",
              "      <th>75%</th>\n",
              "      <td>2206.500000</td>\n",
              "      <td>1819.990000</td>\n",
              "    </tr>\n",
              "    <tr>\n",
              "      <th>max</th>\n",
              "      <td>2942.000000</td>\n",
              "      <td>11261.240000</td>\n",
              "    </tr>\n",
              "  </tbody>\n",
              "</table>\n",
              "</div>"
            ],
            "text/plain": [
              "         productID         price\n",
              "count  2943.000000   2943.000000\n",
              "mean   1471.000000   1387.568634\n",
              "std     849.715246    926.904366\n",
              "min       0.000000      3.790000\n",
              "25%     735.500000    740.985000\n",
              "50%    1471.000000   1194.770000\n",
              "75%    2206.500000   1819.990000\n",
              "max    2942.000000  11261.240000"
            ]
          },
          "execution_count": 125,
          "metadata": {},
          "output_type": "execute_result"
        }
      ],
      "source": [
        "data.describe()"
      ]
    },
    {
      "cell_type": "code",
      "execution_count": 126,
      "metadata": {
        "colab": {
          "base_uri": "https://localhost:8080/",
          "height": 701
        },
        "id": "dAJOb9Dv3DV4",
        "outputId": "862d511c-da36-42cd-d15c-54217fcd42d7"
      },
      "outputs": [
        {
          "data": {
            "text/plain": [
              "productID             0\n",
              "model                 0\n",
              "color               632\n",
              "gpu                   0\n",
              "cpu                   0\n",
              "ram                  65\n",
              "harddisk            202\n",
              "OS                   32\n",
              "special_features    997\n",
              "price                 0\n",
              "dtype: int64"
            ]
          },
          "execution_count": 126,
          "metadata": {},
          "output_type": "execute_result"
        }
      ],
      "source": [
        "data.isnull().sum()"
      ]
    },
    {
      "cell_type": "markdown",
      "metadata": {},
      "source": [
        "<b>Key finding </b> <br>\n",
        "1. there're missing values on color, ram, hardisk, os and special_features"
      ]
    },
    {
      "cell_type": "code",
      "execution_count": 127,
      "metadata": {},
      "outputs": [],
      "source": [
        "# Remove Duplicates\n",
        "data.drop_duplicates(inplace=True)"
      ]
    },
    {
      "cell_type": "markdown",
      "metadata": {},
      "source": [
        "# Idea\n",
        "\n",
        "Model คอม\n",
        "- แยกแบรนด์ แยกรุ่น แยก screen size\n",
        "\n",
        "Color\n",
        "- อาจจะไม่มีผลต่อราคา\n",
        "\n",
        "GPU\n",
        "- แยกประเภท (Integrated, Dedicated, ...) แยกแบรนด์ แยกรุ่น\n",
        "\n",
        "CPU\n",
        "- รุ่น\n",
        "- หน่วยของ CPU เฉพาะ Intel\n",
        "\n",
        "RAM\n",
        "- น่าจะแปลงเป็น GB ให้เหมือนกัน\n",
        "\n",
        "HDD\n",
        "- น่าจะแปลงเป็น GB ให้เหมือนกัน\n",
        "\n",
        "OS\n",
        "- อาจจะแยก\n",
        "\n",
        "Special Features\n",
        "- แบ่งย่อยๆจากใน column โดยใช้ & และ ,"
      ]
    },
    {
      "cell_type": "code",
      "execution_count": 128,
      "metadata": {},
      "outputs": [],
      "source": [
        "computer_brands = [\n",
        "    'Lenovo',\n",
        "    'Acer',\n",
        "    'Dell',\n",
        "    'ASUS',\n",
        "    'Samsung',\n",
        "    'HP',\n",
        "    'Apple',\n",
        "    'LG',\n",
        "    'Toughbook'\n",
        "]"
      ]
    },
    {
      "cell_type": "code",
      "execution_count": 129,
      "metadata": {},
      "outputs": [],
      "source": [
        "def extract_brand(model):\n",
        "    for brand in computer_brands:\n",
        "        if brand.lower() in model.lower():\n",
        "            return brand\n",
        "    return None\n",
        "\n",
        "data['brand'] = data['model'].apply(extract_brand)\n",
        "data['brand'] = data['brand'].str.title()\n",
        "data['brand'] = data['brand'].fillna('Other')"
      ]
    },
    {
      "cell_type": "code",
      "execution_count": 130,
      "metadata": {},
      "outputs": [
        {
          "name": "stdout",
          "output_type": "stream",
          "text": [
            "brand\n",
            "Dell         1677\n",
            "Lenovo        359\n",
            "Hp            295\n",
            "Other         193\n",
            "Asus          182\n",
            "Acer          125\n",
            "Lg             43\n",
            "Apple          28\n",
            "Samsung        25\n",
            "Toughbook      16\n",
            "Name: count, dtype: int64\n"
          ]
        }
      ],
      "source": [
        "print(data['brand'].value_counts())"
      ]
    },
    {
      "cell_type": "code",
      "execution_count": 131,
      "metadata": {},
      "outputs": [],
      "source": [
        "def remove_brand_from_model(model):\n",
        "    for brand in computer_brands:\n",
        "        model = re.sub(brand, '', model, flags=re.IGNORECASE)\n",
        "    return model.strip()\n",
        "\n",
        "data['model'] = data['model'].apply(remove_brand_from_model)\n",
        "data['model'] = data['model'].str.title()"
      ]
    },
    {
      "cell_type": "code",
      "execution_count": 132,
      "metadata": {},
      "outputs": [],
      "source": [
        "def extract_screen_size(model):\n",
        "    match = re.search(r'(\\d+(\\.\\d+)?)\\s*Inches', model, re.IGNORECASE)\n",
        "    if match:\n",
        "        return float(match.group(1))\n",
        "    return None\n",
        "\n",
        "data['screen_size'] = data['model'].apply(extract_screen_size)"
      ]
    },
    {
      "cell_type": "code",
      "execution_count": 133,
      "metadata": {},
      "outputs": [
        {
          "name": "stdout",
          "output_type": "stream",
          "text": [
            "screen_size\n",
            "15.60    1140\n",
            "14.00     732\n",
            "16.00     246\n",
            "13.30     206\n",
            "17.30     159\n",
            "17.00      92\n",
            "11.60      86\n",
            "13.40      49\n",
            "18.00      45\n",
            "13.00      37\n",
            "15.00      24\n",
            "13.50      12\n",
            "14.10      10\n",
            "12.50       9\n",
            "13.10       8\n",
            "16.10       7\n",
            "12.00       7\n",
            "10.10       7\n",
            "16.20       5\n",
            "13.90       5\n",
            "14.50       4\n",
            "13.60       4\n",
            "15.40       3\n",
            "12.30       3\n",
            "12.45       2\n",
            "11.00       2\n",
            "22.00       1\n",
            "10.00       1\n",
            "12.20       1\n",
            "27.00       1\n",
            "10.50       1\n",
            "14.40       1\n",
            "12.40       1\n",
            "15.66       1\n",
            "Name: count, dtype: int64\n"
          ]
        }
      ],
      "source": [
        "print(data['screen_size'].value_counts())"
      ]
    },
    {
      "cell_type": "code",
      "execution_count": 134,
      "metadata": {},
      "outputs": [],
      "source": [
        "def remove_screen_size(model):\n",
        "    return re.sub(r'\\d+(\\.\\d+)?\\s*Inches', '', model, flags=re.IGNORECASE).strip()\n",
        "\n",
        "data['model'] = data['model'].apply(remove_screen_size)\n"
      ]
    },
    {
      "cell_type": "code",
      "execution_count": 135,
      "metadata": {},
      "outputs": [
        {
          "name": "stderr",
          "output_type": "stream",
          "text": [
            "/tmp/ipykernel_12292/147240693.py:1: FutureWarning: A value is trying to be set on a copy of a DataFrame or Series through chained assignment using an inplace method.\n",
            "The behavior will change in pandas 3.0. This inplace method will never work because the intermediate object on which we are setting values always behaves as a copy.\n",
            "\n",
            "For example, when doing 'df[col].method(value, inplace=True)', try using 'df.method({col: value}, inplace=True)' or df[col] = df[col].method(value) instead, to perform the operation inplace on the original object.\n",
            "\n",
            "\n",
            "  data['model'].fillna('Unknown', inplace=True)\n"
          ]
        }
      ],
      "source": [
        "data['model'].fillna('Unknown', inplace=True)\n",
        "data['model'] = data['model'].str.title()"
      ]
    },
    {
      "cell_type": "code",
      "execution_count": 136,
      "metadata": {},
      "outputs": [
        {
          "name": "stdout",
          "output_type": "stream",
          "text": [
            "model\n",
            "                         141\n",
            "Inspiron 3511 Laptop     100\n",
            "Latitude 5520 Laptop      96\n",
            "Latitude                  84\n",
            "Latitude 3520 Laptop      63\n",
            "                        ... \n",
            "Flex 5                     1\n",
            "20Gb000Lus                 1\n",
            "15-Dy100                   1\n",
            "Xammue One Netbook T1      1\n",
            "Latitude E7440             1\n",
            "Name: count, Length: 997, dtype: int64\n"
          ]
        }
      ],
      "source": [
        "print(data['model'].value_counts())"
      ]
    },
    {
      "cell_type": "code",
      "execution_count": 137,
      "metadata": {},
      "outputs": [],
      "source": [
        "# Step 2: Color\n",
        "data['color'] = data['color'].fillna('Unknown')\n",
        "data['color'] = data['color'].str.title()\n"
      ]
    },
    {
      "cell_type": "code",
      "execution_count": 138,
      "metadata": {},
      "outputs": [
        {
          "name": "stdout",
          "output_type": "stream",
          "text": [
            "color\n",
            "Black                                1059\n",
            "Unknown                               632\n",
            "Silver                                348\n",
            "Platinum Silver                       140\n",
            "Gray                                   96\n",
            "                                     ... \n",
            "Classic Black                           1\n",
            "Beige Mousse                            1\n",
            "Neptune Blue                            1\n",
            "Eclipse Grey                            1\n",
            "Black With Illuminated Razer Logo       1\n",
            "Name: count, Length: 170, dtype: int64\n"
          ]
        }
      ],
      "source": [
        "print(data['color'].value_counts())"
      ]
    },
    {
      "cell_type": "code",
      "execution_count": 139,
      "metadata": {},
      "outputs": [],
      "source": [
        "def determine_and_clean_gpu(gpu):\n",
        "    if 'integrated' in gpu.lower():\n",
        "        gpu_type = 'Integrated'\n",
        "        cleaned_gpu = re.sub(r'integrated', '', gpu, flags=re.IGNORECASE).strip()\n",
        "    elif 'dedicated' in gpu.lower():\n",
        "        gpu_type = 'Dedicated'\n",
        "        cleaned_gpu = re.sub(r'dedicated', '', gpu, flags=re.IGNORECASE).strip()\n",
        "    elif gpu:  # If GPU model is available but type is not specified\n",
        "        gpu_type = 'Dedicated'\n",
        "        cleaned_gpu = gpu.strip()\n",
        "    else:\n",
        "        gpu_type = 'Unknown'\n",
        "        cleaned_gpu = gpu.strip()\n",
        "    return gpu_type, cleaned_gpu\n",
        "\n",
        "data[['gpu_type', 'gpu']] = data['gpu'].apply(lambda x: pd.Series(determine_and_clean_gpu(x)))\n"
      ]
    },
    {
      "cell_type": "code",
      "execution_count": 140,
      "metadata": {},
      "outputs": [
        {
          "name": "stdout",
          "output_type": "stream",
          "text": [
            "gpu_type\n",
            "Integrated    1871\n",
            "Dedicated     1072\n",
            "Name: count, dtype: int64\n"
          ]
        }
      ],
      "source": [
        "print(data['gpu_type'].value_counts())"
      ]
    },
    {
      "cell_type": "code",
      "execution_count": 141,
      "metadata": {},
      "outputs": [],
      "source": [
        "data['gpu'] = data['gpu'].str.replace(', ','').str.title()\n",
        "data['gpu'] = data['gpu'].fillna('Unknown')"
      ]
    },
    {
      "cell_type": "code",
      "execution_count": 142,
      "metadata": {},
      "outputs": [
        {
          "name": "stdout",
          "output_type": "stream",
          "text": [
            "gpu\n",
            "                                         1369\n",
            "Intel  Graphics                           113\n",
            "Intel Iris Xe Graphics                     99\n",
            "Intel Uhd Graphics                         75\n",
            "Nvidia Geforce Rtx 4070                    59\n",
            "                                         ... \n",
            "Intel Hd Graphics 530                       1\n",
            "Rtx 3050 Tinvidia Geforce Rtx 3050 Ti       1\n",
            "Rtx 3070 Ti                                 1\n",
            "Rtx2050Intel Iris Xe Graphics               1\n",
            "Rtx 3070Tinvidia Geforce Rtx 3070           1\n",
            "Name: count, Length: 296, dtype: int64\n"
          ]
        }
      ],
      "source": [
        "print(data['gpu'].value_counts())"
      ]
    },
    {
      "cell_type": "code",
      "execution_count": 143,
      "metadata": {},
      "outputs": [],
      "source": [
        "data['CPU_Model'] = data['cpu'].str.extract(r'(Core i\\d)')  # Add more patterns as necessary\n",
        "data['CPU_Speed'] = data['cpu'].str.extract(r'(\\d+\\.\\d+)').astype(float)  # GHz extraction\n"
      ]
    },
    {
      "cell_type": "code",
      "execution_count": 144,
      "metadata": {},
      "outputs": [
        {
          "name": "stdout",
          "output_type": "stream",
          "text": [
            "CPU_Model\n",
            "Core i7    645\n",
            "Core i5    446\n",
            "Core i9    118\n",
            "Core i3     56\n",
            "Name: count, dtype: int64\n"
          ]
        }
      ],
      "source": [
        "print(data['CPU_Model'].value_counts())"
      ]
    },
    {
      "cell_type": "code",
      "execution_count": 145,
      "metadata": {},
      "outputs": [
        {
          "name": "stdout",
          "output_type": "stream",
          "text": [
            "CPU_Speed\n",
            "2.60    32\n",
            "1.80    28\n",
            "2.40    27\n",
            "1.10    25\n",
            "1.70    18\n",
            "2.80    14\n",
            "2.30    13\n",
            "1.20    13\n",
            "3.50    13\n",
            "3.40    12\n",
            "2.20    10\n",
            "1.60    10\n",
            "2.70     9\n",
            "4.50     9\n",
            "4.70     8\n",
            "2.50     7\n",
            "4.20     7\n",
            "2.10     7\n",
            "4.60     6\n",
            "3.60     6\n",
            "4.80     6\n",
            "1.90     6\n",
            "3.30     5\n",
            "3.70     5\n",
            "5.60     4\n",
            "4.40     4\n",
            "1.30     4\n",
            "4.30     3\n",
            "2.90     3\n",
            "3.90     3\n",
            "5.10     2\n",
            "3.80     2\n",
            "3.20     2\n",
            "4.10     2\n",
            "1.40     1\n",
            "2.66     1\n",
            "3.49     1\n",
            "1.50     1\n",
            "2.53     1\n",
            "0.90     1\n",
            "5.20     1\n",
            "Name: count, dtype: int64\n"
          ]
        }
      ],
      "source": [
        "print(data['CPU_Speed'].value_counts())"
      ]
    },
    {
      "cell_type": "code",
      "execution_count": 146,
      "metadata": {},
      "outputs": [],
      "source": [
        "# Step to clean RAM and Harddisk fields\n",
        "def convert_to_gb(value):\n",
        "    if pd.isna(value):\n",
        "        return None\n",
        "    value = value.strip()  # Remove any leading or trailing whitespace\n",
        "    if 'GB' in value:\n",
        "        return float(value.replace('GB', '').strip())\n",
        "    elif 'TB' in value:\n",
        "        return float(value.replace('TB', '').strip()) * 1024  # Convert TB to GB\n",
        "    elif 'MB' in value:\n",
        "        return float(value.replace('MB', '').strip()) / 1024  # Convert MB to GB\n",
        "    else:\n",
        "        return None  # Handle unexpected formats\n",
        "\n",
        "# Apply conversion functions\n",
        "data['ram'] = data['ram'].apply(convert_to_gb)\n",
        "data['harddisk'] = data['harddisk'].apply(convert_to_gb)"
      ]
    },
    {
      "cell_type": "code",
      "execution_count": 147,
      "metadata": {},
      "outputs": [
        {
          "name": "stdout",
          "output_type": "stream",
          "text": [
            "ram\n",
            "16.0000     1132\n",
            "32.0000      602\n",
            "8.0000       515\n",
            "64.0000      273\n",
            "4.0000       232\n",
            "12.0000       35\n",
            "24.0000       22\n",
            "40.0000       15\n",
            "48.0000       15\n",
            "20.0000       12\n",
            "2.0000         9\n",
            "6.0000         4\n",
            "1.0000         4\n",
            "128.0000       3\n",
            "96.0000        2\n",
            "5.0000         1\n",
            "0.0625         1\n",
            "31.9900        1\n",
            "Name: count, dtype: int64\n"
          ]
        }
      ],
      "source": [
        "print(data['ram'].value_counts())"
      ]
    },
    {
      "cell_type": "code",
      "execution_count": 148,
      "metadata": {},
      "outputs": [
        {
          "name": "stdout",
          "output_type": "stream",
          "text": [
            "harddisk\n",
            "512.00000     798\n",
            "256.00000     509\n",
            "1000.00000    369\n",
            "1024.00000    344\n",
            "2000.00000    161\n",
            "2048.00000    134\n",
            "128.00000     124\n",
            "64.00000       63\n",
            "4000.00000     53\n",
            "32.00000       51\n",
            "500.00000      37\n",
            "4096.00000     32\n",
            "8000.00000     17\n",
            "320.00000       8\n",
            "16.00000        7\n",
            "8192.00000      3\n",
            "8.00000         3\n",
            "160.00000       3\n",
            "6000.00000      3\n",
            "480.00000       2\n",
            "240.00000       2\n",
            "250.00000       2\n",
            "1152.00000      1\n",
            "120.00000       1\n",
            "300.00000       1\n",
            "3072.00000      1\n",
            "1536.00000      1\n",
            "640.00000       1\n",
            "0.06250         1\n",
            "1966.08000      1\n",
            "1256.00000      1\n",
            "0.50000         1\n",
            "0.03125         1\n",
            "65.00000        1\n",
            "1512.00000      1\n",
            "Name: count, dtype: int64\n"
          ]
        }
      ],
      "source": [
        "print(data['harddisk'].value_counts())"
      ]
    },
    {
      "cell_type": "code",
      "execution_count": 149,
      "metadata": {},
      "outputs": [],
      "source": [
        "data['OS'] = data['OS'].str.title()"
      ]
    },
    {
      "cell_type": "code",
      "execution_count": 150,
      "metadata": {},
      "outputs": [],
      "source": [
        "def map_os(os):\n",
        "    if isinstance(os, str):\n",
        "        if 'windows' in os.lower():\n",
        "            return 'windows'\n",
        "        elif 'mac' in os.lower():\n",
        "            return 'mac'\n",
        "        else:\n",
        "            return 'others'\n",
        "    else:\n",
        "        return 'others'\n",
        "    \n",
        "data['OS'] = data['OS'].apply(map_os)"
      ]
    },
    {
      "cell_type": "code",
      "execution_count": 151,
      "metadata": {},
      "outputs": [
        {
          "name": "stdout",
          "output_type": "stream",
          "text": [
            "OS\n",
            "windows    2736\n",
            "others      178\n",
            "mac          29\n",
            "Name: count, dtype: int64\n"
          ]
        }
      ],
      "source": [
        "print(data['OS'].value_counts())"
      ]
    },
    {
      "cell_type": "code",
      "execution_count": 152,
      "metadata": {},
      "outputs": [
        {
          "name": "stdout",
          "output_type": "stream",
          "text": [
            "   productID                 model        color                      gpu  \\\n",
            "0          0              Latitude      Unknown   Nvidia Geforce Gt 720M   \n",
            "1          1        Chromebook Cx9   Star Black                            \n",
            "2          2  Inspiron 3511 Laptop        Black                            \n",
            "3          3                            Unknown                  Unknown   \n",
            "4          4  Alienware X14 Laptop  Lunar Light  Nvidia Geforce Rtx 3060   \n",
            "\n",
            "                 cpu   ram  harddisk       OS  special_features    price  ...  \\\n",
            "0  Core i5 / 1.7 GHz   4.0     500.0  windows               NaN   180.00  ...   \n",
            "1      INTEL CORE I7  16.0     512.0   others            STYLUS  1211.99  ...   \n",
            "2            Core i5  32.0    2000.0  windows  Wifi & Bluetooth   735.59  ...   \n",
            "3            3.7 GHz   4.0       NaN  windows        Anti-glare   339.00  ...   \n",
            "4            Core i7  12.0    1000.0  windows               NaN  2086.99  ...   \n",
            "\n",
            "  WORK  Water Proof Water Resistant White backlight 84 Key  Wifi  \\\n",
            "0  NaN          NaN             NaN                    NaN   NaN   \n",
            "1  0.0          0.0             0.0                    0.0   0.0   \n",
            "2  0.0          0.0             0.0                    0.0   1.0   \n",
            "3  0.0          0.0             0.0                    0.0   0.0   \n",
            "4  NaN          NaN             NaN                    NaN   NaN   \n",
            "\n",
            "   built for entertainment  camera  multitasking  \\\n",
            "0                      NaN     NaN           NaN   \n",
            "1                      0.0     0.0           0.0   \n",
            "2                      0.0     0.0           0.0   \n",
            "3                      0.0     0.0           0.0   \n",
            "4                      NaN     NaN           NaN   \n",
            "\n",
            "   premium business-class notebook  privacy  \n",
            "0                              NaN      NaN  \n",
            "1                              0.0      0.0  \n",
            "2                              0.0      0.0  \n",
            "3                              0.0      0.0  \n",
            "4                              NaN      NaN  \n",
            "\n",
            "[5 rows x 176 columns]\n"
          ]
        }
      ],
      "source": [
        "# Assuming data is your DataFrame and is already loaded\n",
        "\n",
        "# Step 1: Split special features\n",
        "features_split = data['special_features'].str.split(r'[,&]', expand=True)\n",
        "\n",
        "# Step 2: Stack the split DataFrame and remove NaNs\n",
        "stacked_features = features_split.stack().str.strip().dropna()\n",
        "\n",
        "# Step 3: Create a DataFrame of dummy variables\n",
        "data_special_features = pd.get_dummies(stacked_features, prefix='', prefix_sep='').groupby(level=0).sum()\n",
        "\n",
        "# Step 4: Concatenate the new dummy features back to the original DataFrame\n",
        "data = pd.concat([data, data_special_features], axis=1)\n",
        "\n",
        "# Check the result\n",
        "print(data.head())\n"
      ]
    },
    {
      "cell_type": "code",
      "execution_count": 153,
      "metadata": {},
      "outputs": [],
      "source": [
        "\n",
        "# Clean up and drop original columns if necessary\n",
        "data.drop(columns=['cpu', 'special_features'], inplace=True)"
      ]
    },
    {
      "cell_type": "code",
      "execution_count": 154,
      "metadata": {},
      "outputs": [
        {
          "name": "stdout",
          "output_type": "stream",
          "text": [
            "   productID                 model        color                      gpu  \\\n",
            "0          0              Latitude      Unknown   Nvidia Geforce Gt 720M   \n",
            "1          1        Chromebook Cx9   Star Black                            \n",
            "2          2  Inspiron 3511 Laptop        Black                            \n",
            "3          3                            Unknown                  Unknown   \n",
            "4          4  Alienware X14 Laptop  Lunar Light  Nvidia Geforce Rtx 3060   \n",
            "\n",
            "    ram  harddisk       OS    price brand  screen_size  ... WORK Water Proof  \\\n",
            "0   4.0     500.0  windows   180.00  Dell         14.0  ...  NaN         NaN   \n",
            "1  16.0     512.0   others  1211.99  Asus         14.0  ...  0.0         0.0   \n",
            "2  32.0    2000.0  windows   735.59  Dell         15.6  ...  0.0         0.0   \n",
            "3   4.0       NaN  windows   339.00    Hp         14.0  ...  0.0         0.0   \n",
            "4  12.0    1000.0  windows  2086.99  Dell         14.0  ...  NaN         NaN   \n",
            "\n",
            "   Water Resistant  White backlight 84 Key  Wifi  built for entertainment  \\\n",
            "0              NaN                     NaN   NaN                      NaN   \n",
            "1              0.0                     0.0   0.0                      0.0   \n",
            "2              0.0                     0.0   1.0                      0.0   \n",
            "3              0.0                     0.0   0.0                      0.0   \n",
            "4              NaN                     NaN   NaN                      NaN   \n",
            "\n",
            "   camera  multitasking  premium business-class notebook  privacy  \n",
            "0     NaN           NaN                              NaN      NaN  \n",
            "1     0.0           0.0                              0.0      0.0  \n",
            "2     0.0           0.0                              0.0      0.0  \n",
            "3     0.0           0.0                              0.0      0.0  \n",
            "4     NaN           NaN                              NaN      NaN  \n",
            "\n",
            "[5 rows x 174 columns]\n"
          ]
        }
      ],
      "source": [
        "# Final DataFrame ready for modeling\n",
        "print(data.head())"
      ]
    },
    {
      "cell_type": "markdown",
      "metadata": {
        "id": "0SrFeO6h3J3H"
      },
      "source": [
        "Handle missing values"
      ]
    },
    {
      "cell_type": "code",
      "execution_count": 155,
      "metadata": {
        "id": "kV252XBD3La0"
      },
      "outputs": [
        {
          "name": "stderr",
          "output_type": "stream",
          "text": [
            "/tmp/ipykernel_12292/4205422876.py:1: FutureWarning: Setting an item of incompatible dtype is deprecated and will raise an error in a future version of pandas. Value 'Unknown' has dtype incompatible with float64, please explicitly cast to a compatible dtype first.\n",
            "  data.fillna('Unknown', inplace=True)\n"
          ]
        }
      ],
      "source": [
        "data.fillna('Unknown', inplace=True)"
      ]
    },
    {
      "cell_type": "code",
      "execution_count": 156,
      "metadata": {},
      "outputs": [],
      "source": [
        "data = data.convert_dtypes()"
      ]
    },
    {
      "cell_type": "markdown",
      "metadata": {
        "id": "Qbfua-P13OJy"
      },
      "source": [
        "Feature encoding: Convert categorical variables like model, color, gpu, cpu, OS, etc., into numeric values using one-hot encoding or label encoding.\n"
      ]
    },
    {
      "cell_type": "markdown",
      "metadata": {
        "id": "RXICVIzI3TOc"
      },
      "source": [
        "Normalize or scale continuous variables like ram and harddisk if needed.\n"
      ]
    },
    {
      "cell_type": "code",
      "execution_count": 157,
      "metadata": {
        "colab": {
          "base_uri": "https://localhost:8080/"
        },
        "id": "iLSWxUdY91gV",
        "outputId": "3a81759c-b2bd-4b93-9b80-c9ee195818c4"
      },
      "outputs": [
        {
          "name": "stdout",
          "output_type": "stream",
          "text": [
            "0\n",
            "0\n"
          ]
        }
      ],
      "source": [
        "print(data['ram'].isnull().sum())  # Check if there are missing values in the 'ram' column\n",
        "print(data['harddisk'].isnull().sum())  # Check for missing values in 'harddisk'"
      ]
    },
    {
      "cell_type": "markdown",
      "metadata": {
        "id": "Nl33Ergw3VDe"
      },
      "source": [
        "Feature Exploration:\n",
        "\n"
      ]
    },
    {
      "cell_type": "markdown",
      "metadata": {
        "id": "77464Fiv3X0A"
      },
      "source": [
        "Correlation matrix: Identify which features are correlated with the target variable (price).\n"
      ]
    },
    {
      "cell_type": "code",
      "execution_count": 158,
      "metadata": {
        "colab": {
          "base_uri": "https://localhost:8080/",
          "height": 700
        },
        "id": "dcgkrLaZ3Zqc",
        "outputId": "495e9255-d88d-4f38-e7d4-c7bb3db39ded"
      },
      "outputs": [
        {
          "data": {
            "image/png": "[encoded data removed]",
            "text/plain": [
              "<Figure size 1000x800 with 2 Axes>"
            ]
          },
          "metadata": {},
          "output_type": "display_data"
        }
      ],
      "source": [
        "data_sample = data.sample(frac=0.1, random_state=42)\n",
        "\n",
        "# Step 1: Select only numeric columns for correlation\n",
        "numeric_cols = data_sample.select_dtypes(include=['float64', 'int64'])\n",
        "\n",
        "# Step 2: Compute correlation\n",
        "correlation_matrix = numeric_cols.corr()\n",
        "\n",
        "# Step 3: Plot heatmap\n",
        "plt.figure(figsize=(10, 8))\n",
        "sns.heatmap(correlation_matrix, annot=True, cmap='coolwarm', fmt='.2f')\n",
        "plt.title('Correlation Heatmap')\n",
        "plt.show()"
      ]
    },
    {
      "cell_type": "markdown",
      "metadata": {
        "id": "FP58ZFQM3cvz"
      },
      "source": [
        "Distribution of price: Visualize the price distribution and identify outliers."
      ]
    },
    {
      "cell_type": "code",
      "execution_count": 159,
      "metadata": {
        "colab": {
          "base_uri": "https://localhost:8080/",
          "height": 467
        },
        "id": "TmfG6PyI3cMD",
        "outputId": "f0451df4-f503-4115-8382-f6124bd838d2"
      },
      "outputs": [
        {
          "data": {
            "image/png": "[encoded data removed]",
            "text/plain": [
              "<Figure size 1000x500 with 1 Axes>"
            ]
          },
          "metadata": {},
          "output_type": "display_data"
        }
      ],
      "source": [
        "# Histogram\n",
        "plt.figure(figsize=(10, 5))\n",
        "sns.histplot(data['price'], bins=30, kde=True)\n",
        "plt.title('Price Distribution')\n",
        "plt.show()"
      ]
    },
    {
      "cell_type": "markdown",
      "metadata": {
        "id": "8ON39llD3f-d"
      },
      "source": [
        "Relationship between features and price: Plot the relationship between price and other features like ram, harddisk, etc.\n"
      ]
    },
    {
      "cell_type": "markdown",
      "metadata": {},
      "source": [
        "Boxplots: Use boxplots to identify potential outliers in numerical features."
      ]
    },
    {
      "cell_type": "code",
      "execution_count": 161,
      "metadata": {},
      "outputs": [
        {
          "data": {
            "image/png": "[encoded data removed]",
            "text/plain": [
              "<Figure size 1000x500 with 1 Axes>"
            ]
          },
          "metadata": {},
          "output_type": "display_data"
        }
      ],
      "source": [
        "# Boxplot\n",
        "plt.figure(figsize=(10, 5))\n",
        "sns.boxplot(x=data['price'])\n",
        "plt.title('Price Boxplot')\n",
        "plt.show()\n"
      ]
    },
    {
      "cell_type": "markdown",
      "metadata": {
        "id": "yQXy344L-LIY"
      },
      "source": [
        "Saving Data using CSV\n"
      ]
    },
    {
      "cell_type": "code",
      "execution_count": 162,
      "metadata": {
        "id": "Uz2PQSOO-Ke0"
      },
      "outputs": [],
      "source": [
        "data.to_csv('cleaned_data.csv', index=False)"
      ]
    }
  ],
  "metadata": {
    "colab": {
      "provenance": []
    },
    "kernelspec": {
      "display_name": "Python 3",
      "name": "python3"
    },
    "language_info": {
      "codemirror_mode": {
        "name": "ipython",
        "version": 3
      },
      "file_extension": ".py",
      "mimetype": "text/x-python",
      "name": "python",
      "nbconvert_exporter": "python",
      "pygments_lexer": "ipython3",
      "version": "3.11.10"
    }
  },
  "nbformat": 4,
  "nbformat_minor": 0
}
