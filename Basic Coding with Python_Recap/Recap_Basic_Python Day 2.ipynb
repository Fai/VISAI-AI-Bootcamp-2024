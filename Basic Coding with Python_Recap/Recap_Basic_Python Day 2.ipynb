{
  "cells": [
    {
      "cell_type": "markdown",
      "metadata": {
        "id": "bLIjGovT0nc3"
      },
      "source": [
        "# Workshop 1 : Basic Python\n"
      ]
    },
    {
      "cell_type": "markdown",
      "metadata": {
        "id": "CYD_Wnu12pak"
      },
      "source": [
        "### Why Python?\n",
        "- Data volume\n",
        "- Human error\n",
        "- Repeted tasks\n",
        "\n",
        "Python is a **programming language**\n",
        "> A computer program stores data, and it does stuff with that data.\n",
        "---"
      ]
    },
    {
      "cell_type": "markdown",
      "metadata": {
        "id": "KT-6-zJs2sOA"
      },
      "source": [
        "\n",
        "#### Day 1\n",
        "- Part 1: Basic Data Type and Operator <br>\n",
        "- Part 2: **Function and Method** <br>\n",
        "- Part 3: **If-else and For Loop** and While Loop <br>\n",
        "- Part 4: Coding with AI<br>\n",
        "#### Day 2\n",
        "- Part 4: **Data Structure** <br>\n",
        "- Part 6: **Comprehension** <br>\n",
        "- Part 7: Object-Oriented Programming Concept <br>"
      ]
    },
    {
      "cell_type": "markdown",
      "metadata": {},
      "source": [
        "---\n",
        "#### Practice !!!\n",
        "- User-defined function\n",
        "- If-else\n",
        "- Loop\n",
        "\n",
        "Writing a **Change Machine** program for supermarket<br>\n",
        "Example<br>\n",
        "Input: 1000<br>\n",
        "Amount: 245<br>\n",
        "Change: 755<br>\n",
        "   -> Banknote 500 - 1<br>\n",
        "   -> Banknote 100 - 2<br>\n",
        "   -> Banknote 50 - 1<br>\n",
        "   -> Coin 5 - 1<br>"
      ]
    },
    {
      "cell_type": "code",
      "execution_count": null,
      "metadata": {},
      "outputs": [],
      "source": []
    },
    {
      "cell_type": "markdown",
      "metadata": {
        "id": "wE5PxJvGRmDx"
      },
      "source": [
        "---\n",
        "---\n",
        "### Part 5: Data structure: List, Tuple, Set, Dict\n",
        "\n",
        "\n",
        "<img src=https://qph.fs.quoracdn.net/main-qimg-a4b9e6959aceb73fc326ad5df93867b5-lq width=600>\n",
        "\n",
        "- data structure -> **sequence** of data types\n",
        "- ordered -> can use indexing/ slicing\n",
        "- changeable/ mutable -> can replace data store in the structure"
      ]
    },
    {
      "cell_type": "markdown",
      "metadata": {
        "id": "hBQvGXa-SMED"
      },
      "source": [
        "#### Part 5.1: List and Tuple\n",
        "\n",
        "- **list** `[] , list() , [1,2,3]`\n",
        "- **tuple** `() , tuple(), (1,2,3)`"
      ]
    },
    {
      "cell_type": "code",
      "execution_count": null,
      "metadata": {
        "id": "e-gsqUUQSlVJ"
      },
      "outputs": [],
      "source": [
        "list_a = [2,\"two\", True]\n",
        "list_b = [1, 1, \"one\", \"two\", 2.0, list_a, \"Hello World\"]\n",
        "print(list_b)"
      ]
    },
    {
      "cell_type": "code",
      "execution_count": null,
      "metadata": {
        "id": "ffokgVtOSUiw"
      },
      "outputs": [],
      "source": [
        "tuple_a = (2,\"two\", True)\n",
        "tuple_b = (1, 1, \"one\", \"two\", 2.0, list_a, \"Hello World\")\n",
        "print(tuple_b)"
      ]
    },
    {
      "cell_type": "code",
      "execution_count": null,
      "metadata": {
        "id": "iisYDi_uTmrq"
      },
      "outputs": [],
      "source": [
        "# sequence -> for loop -> loop over a sequence\n",
        "for item in tuple_b:\n",
        "    print(f\"Type of {item} is {type(item)}\")"
      ]
    },
    {
      "cell_type": "code",
      "execution_count": null,
      "metadata": {
        "id": "VVKA5nSMSVUh"
      },
      "outputs": [],
      "source": [
        "# ordered sequence -> indexing/slicing\n",
        "print(list_b[0])\n",
        "print(list_b[: 4])\n",
        "print(tuple_b[-2])\n",
        "print(tuple_b[1: 4])"
      ]
    },
    {
      "cell_type": "code",
      "execution_count": null,
      "metadata": {
        "id": "ZE467X68Ss8o"
      },
      "outputs": [],
      "source": [
        "# changeable -> list\n",
        "\n",
        "list_a = [2,\"two\"]\n",
        "list_a[0] = 3\n",
        "print(list_a)"
      ]
    },
    {
      "cell_type": "code",
      "execution_count": null,
      "metadata": {
        "id": "1p9tDpkzT1Wp"
      },
      "outputs": [],
      "source": [
        "# not changeable -> tuple\n",
        "\n",
        "tuple_a = (2,\"two\")\n",
        "# tuple_a[0] = 3\n",
        "print(tuple_a)"
      ]
    },
    {
      "cell_type": "code",
      "execution_count": null,
      "metadata": {},
      "outputs": [],
      "source": [
        "# string?\n",
        "\n",
        "str_a = 'hello'\n",
        "print(str_a[1])\n",
        "str_a[1] = 'a'\n",
        "print(str_a)"
      ]
    },
    {
      "cell_type": "code",
      "execution_count": null,
      "metadata": {
        "id": "8_Xb0pp8T9jC"
      },
      "outputs": [],
      "source": [
        "# List method and function\n",
        "# help(list)\n",
        "# Function\n",
        "# 1. len()\n",
        "# 2. sum(), min(), max()\n",
        "# 3. sorted()\n",
        "# Method\n",
        "# 1. append(item) \n",
        "# 2. pop()\n",
        "# 3. index(item)\n",
        "# 4. reverse()\n",
        "# 5. sort()\n"
      ]
    },
    {
      "cell_type": "code",
      "execution_count": null,
      "metadata": {},
      "outputs": [],
      "source": [
        "list_a = [2,\"two\"]\n",
        "list_a.append(3)\n",
        "print(list_a)"
      ]
    },
    {
      "cell_type": "markdown",
      "metadata": {
        "id": "zf2sU5SMUO5q"
      },
      "source": [
        "##### > Let's try (3 min)\n",
        "```python\n",
        "old_list = [3, 5, 9, 2]\n",
        "```\n",
        "1. sort `old_list`<br>\n",
        "expected result -> new_list = [2, 3, 5, 9]\n",
        "\n",
        "2. create `new_sq_list` by sort squared number of `old_list`<br>\n",
        "expected result -> new_sq_list = [4, 9, 25, 81]"
      ]
    },
    {
      "cell_type": "code",
      "execution_count": null,
      "metadata": {
        "id": "o2C9OYmxUWRi"
      },
      "outputs": [],
      "source": [
        "# Problem 1\n",
        "'''\n",
        "old_list = [3, 5, 9, 2]\n",
        "new_list = ___\n",
        "print(new_list)\n",
        "'''"
      ]
    },
    {
      "cell_type": "code",
      "execution_count": null,
      "metadata": {
        "id": "d9I2LLPiUYDt"
      },
      "outputs": [],
      "source": [
        "# Problem 2\n",
        "'''\n",
        "new_sq_list = ___\n",
        "for item in ___:\n",
        "    new_sq_list.___(___)\n",
        "print(new_sq_list)\n",
        "'''"
      ]
    },
    {
      "cell_type": "markdown",
      "metadata": {
        "id": "OwQJ5dVBUngH"
      },
      "source": [
        "#### Part 5.2: Set and Dict\n",
        "\n",
        "<img src=https://qph.fs.quoracdn.net/main-qimg-a4b9e6959aceb73fc326ad5df93867b5-lq width=600>\n",
        "\n",
        "- **set** ` set(), {1,2,3}`\n",
        "- **dict** (key-value pair)` {}, dict(), {1:'one', 2:'two'}`"
      ]
    },
    {
      "cell_type": "code",
      "execution_count": null,
      "metadata": {
        "id": "J_OibYZ2Uo6P"
      },
      "outputs": [],
      "source": [
        "# Set\n",
        "# unordered\n",
        "numbers = {3, 2, 1, 4}\n",
        "print(numbers)"
      ]
    },
    {
      "cell_type": "code",
      "execution_count": null,
      "metadata": {},
      "outputs": [],
      "source": [
        "# Set\n",
        "# duplicated member\n",
        "letters = {'a', 'b', 'a', 'c', 'b'}\n",
        "print(letters)\n",
        "print('a' in letters)\n",
        "print('d' in letters)"
      ]
    },
    {
      "cell_type": "code",
      "execution_count": null,
      "metadata": {
        "id": "v8jYFARwU8Zw"
      },
      "outputs": [],
      "source": [
        "# Set\n",
        "# index\n",
        "numbers = {3, 2, 1, 4}\n",
        "print(numbers[0])"
      ]
    },
    {
      "cell_type": "code",
      "execution_count": null,
      "metadata": {
        "id": "D8MBR7ipVeg6"
      },
      "outputs": [],
      "source": [
        "# Set method and function\n",
        "# help(set)\n",
        "# Function\n",
        "# 1. len()\n",
        "# 2. sum(), min(), max()\n",
        "# Method\n",
        "#* 1. add(item), update([])\n",
        "#* 2. pop()\n",
        "# 3. union(set)\n",
        "#* 4. intersection(set)"
      ]
    },
    {
      "cell_type": "code",
      "execution_count": null,
      "metadata": {
        "id": "g-gC0ehDV2P7"
      },
      "outputs": [],
      "source": []
    },
    {
      "cell_type": "markdown",
      "metadata": {},
      "source": [
        "##### > Let's try (5 min)\n",
        "Find unique number in 2D list\n",
        "```python\n",
        "arr = [[1,2,5,6],\n",
        "       [10,7,5,7,9],\n",
        "       [8,3,4,20,5],\n",
        "       [9,1,2,6]]\n",
        "```"
      ]
    },
    {
      "cell_type": "code",
      "execution_count": null,
      "metadata": {},
      "outputs": [],
      "source": [
        "array = [[1,2,5,6],\n",
        "        [10,7,5,7,9],\n",
        "        [8,3,4,20,5],\n",
        "        [9,1,2,6]]"
      ]
    },
    {
      "cell_type": "code",
      "execution_count": null,
      "metadata": {},
      "outputs": [],
      "source": [
        "# Problem\n",
        "'''\n",
        "result = ___\n",
        "___\n",
        "print(result)\n",
        "print(len(result))\n",
        "'''"
      ]
    },
    {
      "cell_type": "code",
      "execution_count": null,
      "metadata": {
        "id": "kBJAbdaqWOQt"
      },
      "outputs": [],
      "source": [
        "# Dict\n",
        "squares = {1: True, 2: 'four', 3: 9, 'four': 16}\n",
        "print(f\"squares dict = {squares}\")"
      ]
    },
    {
      "cell_type": "code",
      "execution_count": null,
      "metadata": {
        "id": "b00fJS-EWRH9"
      },
      "outputs": [],
      "source": [
        "data = [(1, 'one'), (2, 'two'), (3, 'three')]\n",
        "names = dict(data)\n",
        "print(names)"
      ]
    },
    {
      "cell_type": "code",
      "execution_count": null,
      "metadata": {
        "id": "148F2ayDWTgF"
      },
      "outputs": [],
      "source": [
        "# Using key: dict[key]\n",
        "print(names[1])\n",
        "\n",
        "# changeable\n",
        "# Modify : dict[key] = new value\n",
        "names[1] = 'หนึ่ง'\n",
        "print(names)\n",
        "\n",
        "# Add : dict[new key] = value\n",
        "names[4] = 'four'\n",
        "print(names)\n",
        "\n",
        "# Delete : del dict[key], dict.pop(key)\n",
        "del names[4]\n",
        "print(names)"
      ]
    },
    {
      "cell_type": "code",
      "execution_count": null,
      "metadata": {
        "id": "uJVBkLQPWaw5"
      },
      "outputs": [],
      "source": [
        "# Dict method\n",
        "# help(dict)\n",
        "#* 1. get(item, default) \n",
        "#* 2. keys()\n",
        "#* 3. values()\n",
        "#* 4. item()"
      ]
    },
    {
      "cell_type": "code",
      "execution_count": null,
      "metadata": {
        "id": "pCjcS264Wd-r"
      },
      "outputs": [],
      "source": [
        "for i in names.items():\n",
        "    print('key=',i[0],'val=',i[1])"
      ]
    },
    {
      "cell_type": "code",
      "execution_count": null,
      "metadata": {
        "id": "FqjcST-jWfU0"
      },
      "outputs": [],
      "source": [
        "for k,v in names.items():\n",
        "    print('key=',k,'val=',v)"
      ]
    },
    {
      "cell_type": "markdown",
      "metadata": {
        "id": "GVpq04urXlt1"
      },
      "source": [
        "##### > Let's try (5 min)\n",
        "Sum value in dictionary\n",
        "```python\n",
        "d = {\"a\": 1, \"b\": 10, \"c\": 3}\n",
        "```\n",
        "expected result -> 14\n"
      ]
    },
    {
      "cell_type": "code",
      "execution_count": null,
      "metadata": {},
      "outputs": [],
      "source": [
        "# Problem\n",
        "'''\n",
        "d = {\"a\": 1, \"b\": 10, \"c\": 3}\n",
        "___\n",
        "print(__)\n",
        "'''"
      ]
    },
    {
      "cell_type": "markdown",
      "metadata": {
        "id": "P335ZcuGWsBf"
      },
      "source": [
        "##### > Extra: Let's try\n",
        "Encode Morse (https://edabit.com/challenge/5bYXQfpyoithnQisa) \\\n",
        "Create a program that takes a string as an argument and returns the Morse code equivalent.\\\n",
        "\\\n",
        "Examples\n",
        "- \"Help me !\" -> \"......-...--.--.-.-.--\"\n",
        "- \"AI and DS\" > \".-...--.-..-.....\"\n",
        "\n",
        "Hint:\n",
        "There is no \" \" (space bar) in dict using \" \" (space bar) instead of morse code"
      ]
    },
    {
      "cell_type": "code",
      "execution_count": null,
      "metadata": {
        "id": "oVD3On0qWtE4"
      },
      "outputs": [],
      "source": [
        "char_to_dots = {\n",
        "  'A': '.-', 'B': '-...', 'C': '-.-.', 'D': '-..', 'E': '.', 'F': '..-.',\n",
        "  'G': '--.', 'H': '....', 'I': '..', 'J': '.---', 'K': '-.-', 'L': '.-..',\n",
        "  'M': '--', 'N': '-.', 'O': '---', 'P': '.--.', 'Q': '--.-', 'R': '.-.',\n",
        "  'S': '...', 'T': '-', 'U': '..-', 'V': '...-', 'W': '.--', 'X': '-..-',\n",
        "  'Y': '-.--', 'Z': '--..', '0': '-----',\n",
        "  '1': '.----', '2': '..---', '3': '...--', '4': '....-', '5': '.....',\n",
        "  '6': '-....', '7': '--...', '8': '---..', '9': '----.',\n",
        "  '&': '.-...', \"'\": '.----.', '@': '.--.-.', ')': '-.--.-', '(': '-.--.',\n",
        "  ':': '---...', ',': '--..--', '=': '-...-', '!': '-.-.--', '.': '.-.-.-',\n",
        "  '-': '-....-', '+': '.-.-.', '\"': '.-..-.', '?': '..--..', '/': '-..-.'\n",
        "}"
      ]
    },
    {
      "cell_type": "code",
      "execution_count": null,
      "metadata": {},
      "outputs": [],
      "source": [
        "char_to_dots['A']"
      ]
    },
    {
      "cell_type": "code",
      "execution_count": null,
      "metadata": {},
      "outputs": [],
      "source": [
        "char_to_dots[' ']  # No space bar in keys"
      ]
    },
    {
      "cell_type": "code",
      "execution_count": null,
      "metadata": {},
      "outputs": [],
      "source": [
        "char_to_dots.get(' ', '')"
      ]
    },
    {
      "cell_type": "code",
      "execution_count": null,
      "metadata": {
        "id": "J0M0i8MTW0-H"
      },
      "outputs": [],
      "source": [
        "txt1 = \"Help me !\"\n",
        "txt2 = \"AI and DS\""
      ]
    },
    {
      "cell_type": "code",
      "execution_count": null,
      "metadata": {},
      "outputs": [],
      "source": [
        "# Problem\n",
        "'''\n",
        "def txt2morse(txt):\n",
        "    morse = ''\n",
        "    for char in ___:\n",
        "        ___\n",
        "\n",
        "txt2morse(txt1)\n",
        "txt2morse(txt2)\n",
        "'''"
      ]
    },
    {
      "cell_type": "markdown",
      "metadata": {
        "id": "skXbgdDaYJ3e"
      },
      "source": [
        "---\n",
        "---\n",
        "### Part 6: **Comprehension**"
      ]
    },
    {
      "cell_type": "markdown",
      "metadata": {
        "id": "C41D4fMqYSmq"
      },
      "source": [
        "#### List Comprehension\n",
        "\n",
        "**Equivalent `for` loop:**\n",
        "```python\n",
        "result = []\n",
        "for item in collection:\n",
        "    result.append(expression)\n",
        "```\n",
        "**Syntax:**\n",
        "```python\n",
        "result = [ expression for item in collection ]\n",
        "```"
      ]
    },
    {
      "cell_type": "code",
      "execution_count": null,
      "metadata": {
        "id": "hzQln1XLW6Ci"
      },
      "outputs": [],
      "source": [
        "# for loop\n",
        "cube = []\n",
        "for n in range(11):\n",
        "   cube.append(n**3)\n",
        "    \n",
        "print(cube)"
      ]
    },
    {
      "cell_type": "code",
      "execution_count": null,
      "metadata": {
        "id": "Hq8mSmb3YW5P"
      },
      "outputs": [],
      "source": [
        "# List comprehension\n",
        "cube = [n**3 for n in range(11)]\n",
        "\n",
        "print(cube)"
      ]
    },
    {
      "cell_type": "markdown",
      "metadata": {
        "id": "VU26MmG5ahBv"
      },
      "source": [
        "##### > Let's try (5 min)\n",
        "\n",
        "Given a list of numbers, half numbers from the list:\n",
        "```python\n",
        "numbers = [3,5,45,97,32,22,10,19,39,43]\n",
        "result = []\n",
        "for number in numbers:\n",
        "    result.append(number/2)\n",
        "print(result)\n",
        "```"
      ]
    },
    {
      "cell_type": "code",
      "execution_count": null,
      "metadata": {
        "id": "jAnn9vVKaiGX"
      },
      "outputs": [],
      "source": [
        "# Solution for loop\n",
        "numbers = [3,5,45,97,32,22,10,19,39,43]\n",
        "result = []\n",
        "for number in numbers:\n",
        "    result.append(number/2)\n",
        "print(result)"
      ]
    },
    {
      "cell_type": "code",
      "execution_count": null,
      "metadata": {},
      "outputs": [],
      "source": [
        "# Problem\n",
        "'''\n",
        "numbers = [3,5,45,97,32,22,10,19,39,43]\n",
        "result = ___\n",
        "print(result)\n",
        "'''"
      ]
    },
    {
      "cell_type": "code",
      "execution_count": null,
      "metadata": {},
      "outputs": [],
      "source": [
        "# ', '.join(str(i) for i in result)"
      ]
    },
    {
      "cell_type": "markdown",
      "metadata": {
        "id": "zSy3duo_Ytjg"
      },
      "source": [
        "#### If-else in List Comprehension\n",
        "\n",
        "**Equivalent to**\n",
        "```python\n",
        "lista = []\n",
        "for i in range(10):\n",
        "    if i%2==0:\n",
        "        lista.append(i**2)\n",
        "    else:\n",
        "        lista.append(i**3)\n",
        "print(lista)\n",
        "```\n",
        "\n",
        "**Syntax:**\n",
        "```python\n",
        "result = [ expression for item in collection if condition]\n",
        "result = [ expression1 if condition else expression2 for item in collection]\n",
        "```"
      ]
    },
    {
      "cell_type": "code",
      "execution_count": null,
      "metadata": {
        "id": "kxe1_yvcYvvR"
      },
      "outputs": [],
      "source": [
        "words = ['apple','banana','orange','pear']\n",
        "print(words)\n",
        "[len(w) for w in words]"
      ]
    },
    {
      "cell_type": "code",
      "execution_count": null,
      "metadata": {},
      "outputs": [],
      "source": [
        "[len(w) for w in words if 'p' in w]"
      ]
    },
    {
      "cell_type": "code",
      "execution_count": null,
      "metadata": {
        "id": "x9_-Nb_pYyml"
      },
      "outputs": [],
      "source": [
        "[len(w) if 'p' in w else w for w in words]"
      ]
    },
    {
      "cell_type": "markdown",
      "metadata": {
        "id": "tWYFz6euaoKq"
      },
      "source": [
        "##### > Let's try (5 min)\n",
        "\n",
        "Given a list of numbers\n",
        "1. Remove odd numbers from the list:\n",
        "2. Change odd numbers to zero:\n",
        "```python\n",
        "numbers = [3,5,45,97,32,22,10,19,39,43]\n",
        "```"
      ]
    },
    {
      "cell_type": "code",
      "execution_count": null,
      "metadata": {
        "id": "m77Ub9KfaruK"
      },
      "outputs": [],
      "source": [
        "# Solution 1 for loop\n",
        "numbers = [3,5,45,97,32,22,10,19,39,43]\n",
        "result = []\n",
        "for number in numbers:\n",
        "  if number % 2 == 0:\n",
        "    result.append(number)\n",
        "print(result)\n"
      ]
    },
    {
      "cell_type": "code",
      "execution_count": null,
      "metadata": {},
      "outputs": [],
      "source": [
        "# Problem 1\n",
        "'''\n",
        "numbers = [3,5,45,97,32,22,10,19,39,43]\n",
        "result = ___\n",
        "print(result)\n",
        "'''"
      ]
    },
    {
      "cell_type": "code",
      "execution_count": null,
      "metadata": {
        "id": "tYgYgdekauzF"
      },
      "outputs": [],
      "source": [
        "# Problem 2\n",
        "'''\n",
        "numbers = [3,5,45,97,32,22,10,19,39,43]\n",
        "result = ___\n",
        "print(result)\n",
        "'''"
      ]
    },
    {
      "cell_type": "markdown",
      "metadata": {
        "id": "97YFHMV7azHb"
      },
      "source": [
        "#### Dictionary Comprehension\n",
        "\n",
        "**Equivalent `for` loop:**\n",
        "```python\n",
        "result = {}\n",
        "for item in collection:\n",
        "    result[key_expression] = value_expression\n",
        "```\n",
        "\n",
        "**Syntax:**\n",
        "```python\n",
        "result = { key_expression:value_expression for item in collection }\n",
        "```"
      ]
    },
    {
      "cell_type": "code",
      "execution_count": null,
      "metadata": {
        "id": "TSOq7kmVa2Sg"
      },
      "outputs": [],
      "source": [
        "# For loop\n",
        "cube_dict = {}\n",
        "for n in range(11):\n",
        "    cube_dict[n] = (n**3)\n",
        "    \n",
        "print(cube_dict)"
      ]
    },
    {
      "cell_type": "code",
      "execution_count": null,
      "metadata": {
        "id": "baMK5JNQa46m"
      },
      "outputs": [],
      "source": [
        "# Dict comprehension\n",
        "cube_dict = {n:n**3 for n in range(11)}\n",
        "\n",
        "print(cube_dict)"
      ]
    },
    {
      "cell_type": "markdown",
      "metadata": {
        "id": "Ue2l7sx8a-N4"
      },
      "source": [
        "##### > Let's try (5 min)\n",
        "\n",
        "Flipping key value pairs in dict\\\n",
        "```python\n",
        "ori_dict = {1:'a', 2:'b', 3:'c', 4:'d'}\\\n",
        "result = {'a':1, 'b':2, 'c':3, 'd':4}\n",
        "```"
      ]
    },
    {
      "cell_type": "code",
      "execution_count": null,
      "metadata": {
        "id": "FPvXwuJVbG4g"
      },
      "outputs": [],
      "source": [
        "# Problem\n",
        "'''\n",
        "ori_dict = {1:'a', 2:'b', 3:'c', 4:'d'}\n",
        "result = { ___:___ for ______ in ori_dict.____ }\n",
        "print(result)\n",
        "'''"
      ]
    },
    {
      "cell_type": "markdown",
      "metadata": {},
      "source": [
        "---\n",
        "#### Practice !!!\n",
        "- User-defined function\n",
        "- If-else\n",
        "- Loop/comprehension\n",
        "- Data structure\n",
        "\n",
        "1. Make a new_list of word without stopwords\n"
      ]
    },
    {
      "cell_type": "code",
      "execution_count": null,
      "metadata": {},
      "outputs": [],
      "source": [
        "stopword = ['i', 'me', 'my', 'myself', 'we', 'our', 'ours', 'ourselves', 'you', \"you're\", \"you've\", \"you'll\",\n",
        "            \"you'd\", 'your', 'yours', 'yourself', 'yourselves', 'he', 'him', 'his', 'himself', 'she', \"she's\",\n",
        "            'her', 'hers', 'herself', 'it', \"it's\", 'its', 'itself', 'they', 'them', 'their', 'theirs',\n",
        "            'themselves', 'what', 'which', 'who', 'whom', 'this', 'that', \"that'll\", 'these', 'those', 'am',\n",
        "            'is', 'are', 'was', 'were', 'be', 'been', 'being', 'have', 'has', 'had', 'having', 'do', 'does',\n",
        "            'did', 'doing', 'a', 'an', 'the', 'and', 'but', 'if', 'or', 'because', 'as', 'until', 'while', 'of',\n",
        "            'at', 'by', 'for', 'with', 'about', 'against', 'between', 'into', 'through', 'during', 'before',\n",
        "            'after', 'above', 'below', 'to', 'from', 'up', 'down', 'in', 'out', 'on', 'off', 'over', 'under',\n",
        "            'again', 'further', 'then', 'once', 'here', 'there', 'when', 'where', 'why', 'how', 'all', 'any',\n",
        "            'both', 'each', 'few', 'more', 'most', 'other', 'some', 'such', 'no', 'nor', 'not', 'only', 'own',\n",
        "            'same', 'so', 'than', 'too', 'very', 's', 't', 'can', 'will', 'just', 'don', \"don't\", 'should',\n",
        "            \"should've\", 'now', 'd', 'll', 'm', 'o', 're', 've', 'y', 'ain', 'aren', \"aren't\", 'couldn',\n",
        "            \"couldn't\", 'didn', \"didn't\", 'doesn', \"doesn't\", 'hadn', \"hadn't\", 'hasn', \"hasn't\", 'haven',\n",
        "            \"haven't\", 'isn', \"isn't\", 'ma', 'mightn', \"mightn't\", 'mustn', \"mustn't\", 'needn', \"needn't\",\n",
        "            'shan', \"shan't\", 'shouldn', \"shouldn't\", 'wasn', \"wasn't\", 'weren', \"weren't\", 'won', \"won't\",\n",
        "            'wouldn', \"wouldn't\"]\n",
        "txt = \"The Jupyter Notebook is an open-source web application that allows you to create and share documents \\\n",
        "that contain live code equations visualizations and narrative text Uses include data cleaning and transformation \\\n",
        "numerical simulation statistical modeling data visualization machine learning and much more\""
      ]
    },
    {
      "cell_type": "code",
      "execution_count": null,
      "metadata": {},
      "outputs": [],
      "source": [
        "expected_result = ['jupyter', 'notebook', 'open-source', 'web', 'application', 'allows', 'create',\n",
        "                   'share', 'documents', 'contain', 'live', 'code', 'equations', 'visualizations',\n",
        "                   'narrative', 'text', 'uses', 'include', 'data', 'cleaning', 'transformation',\n",
        "                   'numerical', 'simulation', 'statistical', 'modeling', 'data', 'visualization',\n",
        "                   'machine', 'learning', 'much']"
      ]
    },
    {
      "cell_type": "code",
      "execution_count": null,
      "metadata": {},
      "outputs": [],
      "source": [
        "# Problem\n",
        "\n",
        "# print(len(new_list))\n",
        "# print(new_list)"
      ]
    },
    {
      "cell_type": "markdown",
      "metadata": {},
      "source": [
        "2. Make a dict of word: frequency/no. of words\\\n",
        "Example \"Jupyter Notebook is a notebook\"\n",
        "```python\n",
        "{'jupyter' : 0.33,\n",
        "'notebook' : 0.67}\n",
        "```"
      ]
    },
    {
      "cell_type": "code",
      "execution_count": null,
      "metadata": {},
      "outputs": [],
      "source": [
        "# Problem\n",
        "'''\n",
        "new_dict = dict()\n",
        "no_word = len(set(new_list))\n",
        "print(no_word)\n",
        "'''\n",
        "\n",
        "# print(new_dict)"
      ]
    },
    {
      "cell_type": "markdown",
      "metadata": {
        "id": "x7TBAaBHckWV"
      },
      "source": [
        "---\n",
        "---\n",
        "### Part 7: Object-Oriented Programming Concept\n",
        "\n",
        "In python, everything is an object. Strings are objects, lists are objects, integers are objects, etc.\n",
        "- `type(obj)` - Returns the object's type, which is essentially a synonym for class.\n",
        "- `isinstance(obj, class_type)` - Returns `True` if `obj` is an instance of `class_type`. Otherwise, returns `False`."
      ]
    },
    {
      "cell_type": "code",
      "execution_count": null,
      "metadata": {
        "id": "K_y2vbXRcmoq"
      },
      "outputs": [],
      "source": [
        "print(type('abc'))"
      ]
    },
    {
      "cell_type": "code",
      "execution_count": null,
      "metadata": {
        "id": "Pwoph1xfcx4X"
      },
      "outputs": [],
      "source": [
        "isinstance('abc', str) "
      ]
    },
    {
      "cell_type": "code",
      "execution_count": null,
      "metadata": {
        "id": "vb20p-pPcyfH"
      },
      "outputs": [],
      "source": [
        "isinstance(123, int) "
      ]
    },
    {
      "cell_type": "code",
      "execution_count": null,
      "metadata": {
        "id": "4XVB8JH5c2Q_"
      },
      "outputs": [],
      "source": [
        "isinstance(123, float) "
      ]
    },
    {
      "cell_type": "markdown",
      "metadata": {
        "id": "NULHYyIpc8lz"
      },
      "source": [
        "Each car has different features and function abilities\n",
        "- **Attributes** : specify the data of that class\n",
        "- **Method** : specify the ability that class can prนduce\n",
        "\n",
        "<img src='https://webcourses.ucf.edu/courses/1249560/files/64181432/download?verifier=GH3L7R124eDD6AGbwXwFC4OYrzGNNy4UsnarTveV&wrap=1' width=400>\n",
        "\n",
        "**Syntax:**\n",
        "```python\n",
        "class ClassName:\n",
        "    class_att1 = a\n",
        "    class_att2 = b\n",
        "    def __init__(self, x, y):\n",
        "        self.instance_att1 = x\n",
        "        self.instance_att2 = y\n",
        "    def method(self):\n",
        "        # do something\n",
        "```"
      ]
    },
    {
      "cell_type": "markdown",
      "metadata": {
        "id": "FOkWXnu_dUFh"
      },
      "source": [
        "#### Attribute and Method"
      ]
    },
    {
      "cell_type": "markdown",
      "metadata": {},
      "source": [
        "Fruit Smoothie (https://edabit.com/challenge/yuPWwSbCGPm2KzSzx) \\\n",
        "Create a class Smoothie and do the following:\n",
        "- Create an instance attribute called ingredients.\n",
        "- Create a `get_cost` method which calculates the total cost of the ingredients used to make the smoothie.\n",
        "\n",
        "| Ingredient | Price |\n",
        "| --- | --- |\n",
        "| Strawberries | 1.50 |\n",
        "| Banana | 0.50 |\n",
        "| Mango | 2.50 |\n",
        "| Blueberries | 1.00 |\n",
        "| Raspberries | 1.00 |\n",
        "| Apple | 1.75 |\n",
        "| Pineapple | 3.50 |\n",
        "\n",
        "Example\n",
        "\n",
        "s1 = Smoothie([\"Banana\"])\\\n",
        "s1.ingredients ➞ [\"Banana\"]\\\n",
        "s1.get_cost() ➞ \"0.50\"\n",
        "\n",
        "s2 = Smoothie([\"Raspberries\", \"Strawberries\", \"Blueberries\"])\\\n",
        "s2.ingredients ➞ [\"Raspberries\", \"Strawberries\", \"Blueberries\"]\\\n",
        "s2.get_cost() ➞ \"3.50\""
      ]
    },
    {
      "cell_type": "code",
      "execution_count": null,
      "metadata": {},
      "outputs": [],
      "source": [
        "in_price = {'Strawberries':1.50,\n",
        "            'Banana':0.50,\n",
        "            'Mango':2.50,\n",
        "            'Blueberries':1.00,\n",
        "            'Raspberries':1.00,\n",
        "            'Apple':1.75,\n",
        "            'Pineapple':3.50}"
      ]
    },
    {
      "cell_type": "code",
      "execution_count": null,
      "metadata": {},
      "outputs": [],
      "source": [
        "class Smoothie():\n",
        "    def __init__(self, ingred):\n",
        "        self.ingredients = ingred\n",
        "    def get_cost(self):\n",
        "        return sum([in_price[f] for f in self.ingredients])"
      ]
    },
    {
      "cell_type": "code",
      "execution_count": null,
      "metadata": {},
      "outputs": [],
      "source": [
        "s1 = Smoothie([\"Banana\"])\n",
        "print('Ingredient:', s1.ingredients)\n",
        "print('Cost:',s1.get_cost())"
      ]
    },
    {
      "cell_type": "code",
      "execution_count": null,
      "metadata": {},
      "outputs": [],
      "source": [
        "s2 = Smoothie([\"Raspberries\", \"Strawberries\", \"Blueberries\"])\n",
        "print('Ingredient:', s2.ingredients)\n",
        "print('Cost:',s2.get_cost())"
      ]
    },
    {
      "cell_type": "markdown",
      "metadata": {},
      "source": [
        "Create a class Smoothie and do the following:\n",
        "- Create a `get_price` method which returns the number from `get_cost` plus the number from `get_cost` multiplied by 1.5. Round to two decimal places.\n",
        "- Create a `get_name` method which gets the ingredients and puts them in alphabetical order into a nice descriptive sentence. If there are multiple ingredients, add the word \"Fusion\" to the end but otherwise, add \"Smoothie\". Remember to change \"-berries\" to \"-berry\". See the examples below.\n",
        "\n",
        "Example\n",
        "\n",
        "s1 = Smoothie([\"Banana\"])\\\n",
        "s1.ingredients ➞ [\"Banana\"]\\\n",
        "s1.get_cost() ➞ \"0.50\"\\\n",
        "s1.get_price() ➞ \"1.25\"\\\n",
        "s1.get_name() ➞ \"Banana Smoothie\"\n",
        "\n",
        "s2 = Smoothie([\"Raspberries\", \"Strawberries\", \"Blueberries\"])\\\n",
        "s2.ingredients ➞ [\"Raspberries\", \"Strawberries\", \"Blueberries\"]\\\n",
        "s2.get_cost() ➞ \"3.50\"\\\n",
        "s2.get_price() ➞ \"8.75\"\\\n",
        "s2.get_name() ➞ \"Blueberry Raspberry Strawberry Fusion\""
      ]
    },
    {
      "cell_type": "code",
      "execution_count": null,
      "metadata": {},
      "outputs": [],
      "source": [
        "# Problem\n",
        "class Smoothie():\n",
        "    def __init__(self, ingred):\n",
        "        self.ingredients = ingred\n",
        "    def get_cost(self):\n",
        "        return sum([in_price[f] for f in self.ingredients])\n",
        "    def get_price(self):\n",
        "        return ''\n",
        "    def get_name(self):\n",
        "        return ''"
      ]
    },
    {
      "cell_type": "code",
      "execution_count": null,
      "metadata": {},
      "outputs": [],
      "source": [
        "s1 = Smoothie([\"Banana\"])\n",
        "print('Ingredient:', s1.ingredients)\n",
        "print('Cost:',s1.get_cost())\n",
        "print('Price:',s1.get_price())\n",
        "print('Name:',s1.get_name())"
      ]
    },
    {
      "cell_type": "code",
      "execution_count": null,
      "metadata": {},
      "outputs": [],
      "source": [
        "s2 = Smoothie([\"Raspberries\", \"Strawberries\", \"Blueberries\"])\n",
        "print('Ingredient:', s2.ingredients)\n",
        "print('Cost:',s2.get_cost())\n",
        "print('Price:',s2.get_price())\n",
        "print('Name:',s2.get_name())"
      ]
    },
    {
      "cell_type": "markdown",
      "metadata": {},
      "source": [
        "### Read Document"
      ]
    },
    {
      "cell_type": "code",
      "execution_count": null,
      "metadata": {},
      "outputs": [],
      "source": [
        "import numpy as np\n",
        "rng = np.random.rand(20)\n",
        "print(rng)\n",
        "print(type(rng))"
      ]
    },
    {
      "cell_type": "code",
      "execution_count": null,
      "metadata": {},
      "outputs": [],
      "source": [
        "help(np.random.rand())\n",
        "# https://numpy.org/doc/stable/reference/random/generated/numpy.random.rand.html"
      ]
    },
    {
      "cell_type": "code",
      "execution_count": null,
      "metadata": {},
      "outputs": [],
      "source": [
        "help(np.ndarray)\n",
        "# https://numpy.org/doc/stable/reference/generated/numpy.ndarray.html"
      ]
    },
    {
      "cell_type": "code",
      "execution_count": null,
      "metadata": {},
      "outputs": [],
      "source": [
        "rng.size"
      ]
    },
    {
      "cell_type": "code",
      "execution_count": null,
      "metadata": {},
      "outputs": [],
      "source": [
        "rng.clip(0.2,0.7)"
      ]
    },
    {
      "cell_type": "code",
      "execution_count": null,
      "metadata": {},
      "outputs": [],
      "source": []
    }
  ],
  "metadata": {
    "colab": {
      "provenance": [],
      "toc_visible": true
    },
    "kernelspec": {
      "display_name": "Python 3",
      "name": "python3"
    },
    "language_info": {
      "codemirror_mode": {
        "name": "ipython",
        "version": 3
      },
      "file_extension": ".py",
      "mimetype": "text/x-python",
      "name": "python",
      "nbconvert_exporter": "python",
      "pygments_lexer": "ipython3",
      "version": "3.8.10"
    }
  },
  "nbformat": 4,
  "nbformat_minor": 0
}
