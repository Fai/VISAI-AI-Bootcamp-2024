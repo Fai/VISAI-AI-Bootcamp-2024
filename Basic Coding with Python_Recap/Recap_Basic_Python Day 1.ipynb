{
  "cells": [
    {
      "cell_type": "markdown",
      "metadata": {
        "id": "bLIjGovT0nc3"
      },
      "source": [
        "# Workshop 1 : Basic Python\n"
      ]
    },
    {
      "cell_type": "markdown",
      "metadata": {
        "id": "CYD_Wnu12pak"
      },
      "source": [
        "### Why Python?\n",
        "- Data volume\n",
        "- Human error\n",
        "- Repeted tasks\n",
        "\n",
        "Python is a **programming language**\n",
        "> A computer program stores data, and it does stuff with that data.\n",
        "---"
      ]
    },
    {
      "cell_type": "markdown",
      "metadata": {
        "id": "KT-6-zJs2sOA"
      },
      "source": [
        "\n",
        "#### Day 1\n",
        "- Part 1: Basic Data Type and Operator <br>\n",
        "- Part 2: **Function and Method** <br>\n",
        "- Part 3: **If-else and For Loop** and While Loop <br>\n",
        "- Part 4: Coding with AI<br>\n",
        "#### Day 2\n",
        "- Part 4: **Data Structure** <br>\n",
        "- Part 6: **Comprehension** <br>\n",
        "- Part 7: Object-Oriented Programming Concept <br>"
      ]
    },
    {
      "cell_type": "markdown",
      "metadata": {
        "id": "QfTSS4zr18En"
      },
      "source": [
        "---\n",
        "---\n",
        "### Part 1.1: Basic Data Type: Int, Float, Boolean, String <br>"
      ]
    },
    {
      "cell_type": "code",
      "execution_count": null,
      "metadata": {
        "id": "d2uOexjD0mSM"
      },
      "outputs": [],
      "source": [
        "a = 2                           # int, whole number\n",
        "b = 1.52                        # float, decimal\n",
        "c = True                        # bool, case sensitive\n",
        "d = False                       # bool, case sensitive\n",
        "e = 'hello, I am DataSci'       # str, sequence of character [ ' ', \" \", ''' ''' ]"
      ]
    },
    {
      "cell_type": "code",
      "execution_count": null,
      "metadata": {
        "id": "hoIObcOo42aC"
      },
      "outputs": [],
      "source": [
        "type(a)                         # built-in function"
      ]
    },
    {
      "cell_type": "code",
      "execution_count": null,
      "metadata": {
        "id": "_jY77KIp8XOk"
      },
      "outputs": [],
      "source": [
        "print(type(a))\n",
        "print(type(b))\n",
        "print(type(c))\n",
        "print(type(d))\n",
        "print(type(e))"
      ]
    },
    {
      "cell_type": "code",
      "execution_count": null,
      "metadata": {
        "id": "Ex8Ck3Qq8XIB"
      },
      "outputs": [],
      "source": [
        "# converting data type\n",
        "float(-2), int(2.6), int('2'), float('-0.005'), str(2.5)"
      ]
    },
    {
      "cell_type": "code",
      "execution_count": null,
      "metadata": {
        "id": "HXNqybyE_CRe"
      },
      "outputs": [],
      "source": [
        "type(str(0.04))"
      ]
    },
    {
      "cell_type": "markdown",
      "metadata": {
        "id": "iXenzURN93tL"
      },
      "source": [
        "#### > Let's try\n",
        "\n",
        "```python\n",
        "1. type(358123)\n",
        "2. type('12.0')\n",
        "3. type(True)\n",
        "4. type(35856.0001)\n",
        "5. type(\"hello\")\n",
        "6. type(-5267)\n",
        "7. type(float('4'))\n",
        "8. type('hello I'm VIS')\n",
        "\n",
        "```"
      ]
    },
    {
      "cell_type": "code",
      "execution_count": null,
      "metadata": {},
      "outputs": [],
      "source": [
        "# print(type(358123))\n",
        "# print(type('12.0'))\n",
        "# print(type(True))\n",
        "# print(type(35856.0001))\n",
        "# print(type(\"hello\"))\n",
        "# print(type(-5267))\n",
        "# print(type(float('4')))\n",
        "# print(type('hello I'm VIS'))"
      ]
    },
    {
      "cell_type": "markdown",
      "metadata": {
        "id": "uYoneSye93oI"
      },
      "source": [
        "#### Indexing and Slicing\n",
        "use with **sequence data type** -> str"
      ]
    },
    {
      "cell_type": "code",
      "execution_count": null,
      "metadata": {
        "id": "evqlkpIv-Vhj"
      },
      "outputs": [],
      "source": [
        "# Index and Slicing\n",
        "# [start:stop], [start:stop:step]\n",
        "word = \"pYthon\"\n",
        "text = \"python can be easy to pick up whether you're a first time programmer or you're experienced with other languages.\""
      ]
    },
    {
      "cell_type": "code",
      "execution_count": null,
      "metadata": {
        "id": "QKBoOwIQ_s83"
      },
      "outputs": [],
      "source": [
        "print(text[10])\n",
        "print(text[0:10])\n",
        "print(text[0:10:2])"
      ]
    },
    {
      "cell_type": "code",
      "execution_count": null,
      "metadata": {},
      "outputs": [],
      "source": [
        "print(text[:10])\n",
        "print(text[-3:])\n",
        "print(text[:])\n",
        "print(text[::2])"
      ]
    },
    {
      "cell_type": "markdown",
      "metadata": {
        "id": "3UHSalnBCNEY"
      },
      "source": [
        "### Part 1.2: Operator\n",
        "Assign operator: =\n",
        "\n",
        "Arithmetic operator: +, -, *, **, /, //, %\n",
        "\n",
        "Comparison operator: ==, !=, >, >=, <, <=\n",
        "\n",
        "Operator use with sequence data type: in, not in"
      ]
    },
    {
      "cell_type": "code",
      "execution_count": null,
      "metadata": {},
      "outputs": [],
      "source": [
        "# Number\n",
        "# Arithmetic operation: + - * ** / // %\n",
        "\n",
        "print(2 + 4)        \n",
        "print(2 - 4.0)\n",
        "print(2 * 4)\n",
        "print(4 / 2)\n",
        "print(2.00 ** 4) \n",
        "print(4 // 2)\n",
        "print(4 % 2)"
      ]
    },
    {
      "cell_type": "code",
      "execution_count": null,
      "metadata": {},
      "outputs": [],
      "source": [
        "# Arithmetic operation: + * -> str + str, str*int\n",
        "# String\n",
        "\n",
        "print('a' + 'b') \n",
        "# print('a' - 'b')\n",
        "# print('a' * 4)\n",
        "# print('a' * 4.0)"
      ]
    },
    {
      "cell_type": "code",
      "execution_count": null,
      "metadata": {},
      "outputs": [],
      "source": [
        "# Comparis operation: == != > >= < <= \n",
        "\n",
        "print(2 == 4)\n",
        "print(2 != 4)\n",
        "print(2 < 4)\n",
        "print(True < False)\n",
        "print(\"a\" > \"b\")\n",
        "print(\"a\" < \"b\")"
      ]
    },
    {
      "cell_type": "code",
      "execution_count": null,
      "metadata": {},
      "outputs": [],
      "source": [
        "# Logical operator: and (True if both True), or (True if at least one is True), not (True only if False)\n",
        "\n",
        "print((9 > 7) and (2 < 4))\t    # Both original expressions are True\n",
        "print((8 == 8) or (6 != 6))\t    # One original expression is True\n",
        "print(not(3 <= 1))\t\t        # The original expression is False -> not(False)"
      ]
    },
    {
      "cell_type": "code",
      "execution_count": null,
      "metadata": {},
      "outputs": [],
      "source": [
        "# in, not in using with sequence data type\n",
        "print('A' in 'apple')\n",
        "print('b' not in 'apple')"
      ]
    },
    {
      "cell_type": "markdown",
      "metadata": {},
      "source": [
        "---\n",
        "---\n",
        "### Part 2.1: Function and Method\n",
        "\n",
        "To save time, you may write a block of code that can be executed whenever you want without rewriting the logic/methods again."
      ]
    },
    {
      "cell_type": "markdown",
      "metadata": {},
      "source": [
        "|Function|Method|\n",
        "|---|---|\n",
        "|function(Argument1, Argument2 = default_value)|object.method (Argument1, Argument2 = default_value)|"
      ]
    },
    {
      "cell_type": "code",
      "execution_count": null,
      "metadata": {},
      "outputs": [],
      "source": [
        "# Function\n",
        "print('aa','bb') # default sep = ' '\n",
        "print('aa','bb', sep='**')"
      ]
    },
    {
      "cell_type": "code",
      "execution_count": null,
      "metadata": {},
      "outputs": [],
      "source": [
        "# Method of String\n",
        "# https://www.w3schools.com/python/python_ref_string.asp\n",
        "# 1. upper(), lower(), capitalize()\n",
        "# 2. find(sub[, start[, end]])\n",
        "#    index(sub[, start[, end]])\n",
        "# 3. count(sub[, start[, end]])\n",
        "# 4. replace(old, new, [,counter])\n",
        "# 5. strip(), rstrip(), lstrip()\n",
        "# 6. split([sep, [maxsplit]])\n",
        "#    join(iterable)"
      ]
    },
    {
      "cell_type": "code",
      "execution_count": null,
      "metadata": {},
      "outputs": [],
      "source": [
        "print('DAta SCience'.upper())\n",
        "print('DAta SCience'.count('A'))\n",
        "print('DAta SCience'.upper().count('A'))"
      ]
    },
    {
      "cell_type": "markdown",
      "metadata": {},
      "source": [
        "##### > Let's try (5 min)\n",
        "\n",
        "txt = '---data science---' <br>\n",
        "Problem 1: using function len() to count no. of char -> answer = 18 <br>\n",
        "Problem 2: using method to change it to '---ai science---' <br>\n",
        "Problem 3: using method to change it to 'ai science' <br>"
      ]
    },
    {
      "cell_type": "code",
      "execution_count": null,
      "metadata": {},
      "outputs": [],
      "source": [
        "# Problem\n",
        "txt = '---data science---'\n",
        "'''\n",
        "print(___)\n",
        "print(txt.___(___,___))\n",
        "print(txt.___(___,___).___)\n",
        "'''"
      ]
    },
    {
      "cell_type": "markdown",
      "metadata": {},
      "source": [
        "### Part 2.2: User-defined function"
      ]
    },
    {
      "cell_type": "markdown",
      "metadata": {},
      "source": [
        "#### def Statement\n",
        "\n",
        "```python\n",
        "def function_name(arg1,arg2=default):\n",
        "    '''\n",
        "    This is where the function's Document String (docstring) goes\n",
        "    '''\n",
        "    # Do stuff here\n",
        "```"
      ]
    },
    {
      "cell_type": "code",
      "execution_count": null,
      "metadata": {},
      "outputs": [],
      "source": [
        "def greeting():\n",
        "    print('HELLO')\n",
        "\n",
        "greeting()\n",
        "greeting()"
      ]
    },
    {
      "cell_type": "code",
      "execution_count": null,
      "metadata": {},
      "outputs": [],
      "source": [
        "def greeting_name(name):\n",
        "    print('HELLO ' + name)\n",
        "\n",
        "greeting_name('Tom')\n",
        "greeting_name('Jerry')\n",
        "greeting_name()"
      ]
    },
    {
      "cell_type": "code",
      "execution_count": null,
      "metadata": {},
      "outputs": [],
      "source": [
        "def greeting_name(name=''):\n",
        "    print('HELLO ' + name)\n",
        "\n",
        "greeting_name('Tom')\n",
        "greeting_name('Jerry')\n",
        "greeting_name()"
      ]
    },
    {
      "cell_type": "markdown",
      "metadata": {},
      "source": [
        "#### Using return\n",
        "```python\n",
        "def function_name(arg1,arg2=default):\n",
        "    '''\n",
        "    This is where the function's Document String (docstring) goes\n",
        "    '''\n",
        "    # Do stuff here\n",
        "    \n",
        "    return result1, result2\n",
        "```"
      ]
    },
    {
      "cell_type": "code",
      "execution_count": null,
      "metadata": {},
      "outputs": [],
      "source": [
        "def area_circle(r):\n",
        "    return 3.142*r*r\n",
        "\n",
        "cir_r10 = area_circle(10)\n",
        "print(cir_r10)"
      ]
    },
    {
      "cell_type": "code",
      "execution_count": null,
      "metadata": {},
      "outputs": [],
      "source": [
        "def convert_C2F(c_deg=0):\n",
        "    return c_deg/5*9 +32\n",
        "\n",
        "print(convert_C2F(37))\n",
        "print(convert_C2F())"
      ]
    },
    {
      "cell_type": "code",
      "execution_count": null,
      "metadata": {},
      "outputs": [],
      "source": [
        "def convert_C2FK(c_deg=0):\n",
        "    f_deg = c_deg/5*9 +32\n",
        "    k_deg = c_deg-273\n",
        "    return f_deg, k_deg\n",
        "\n",
        "print(convert_C2FK(37))\n",
        "c37_2f, c37_k = convert_C2FK(37)\n",
        "print(c37_2f)\n",
        "print(c37_k)"
      ]
    },
    {
      "cell_type": "markdown",
      "metadata": {},
      "source": [
        "##### > Let's try (5 min)\n",
        "\n",
        "Problem: writing the function to calculate and return total travel time\n",
        "  - drive_time -> using the function drive_time\n",
        "  - rest_time -> every x hour[default=4] of drive_time needs to rest y hour[default=0.5]\n",
        "  - total_time = drive_time + rest_time<br>\n",
        "  \n",
        "  Example<br>\n",
        "  distance = 500, speed = 50 -> drive_time = 10 hours<br>\n",
        "  rest every 4 hours -> rest 2 times<br>\n",
        "  rest 0.5 hour per each -> rest_time = 1 hour<br>\n",
        "  total_time = 11 hours"
      ]
    },
    {
      "cell_type": "code",
      "execution_count": null,
      "metadata": {},
      "outputs": [],
      "source": [
        "def drive_time(distance, speed=60):\n",
        "    drive_hr = distance/speed\n",
        "    return drive_hr\n",
        "drive_time(500)"
      ]
    },
    {
      "cell_type": "code",
      "execution_count": null,
      "metadata": {},
      "outputs": [],
      "source": [
        "# Problem\n",
        "'''\n",
        "def total_travel_time(distance, speed=60, rest=___, rest_time=___):\n",
        "    drive_hr = drive_time(___, ___)\n",
        "    rest_hr =  ___\n",
        "    total_hr = ___\n",
        "    return total_hr\n",
        "total_travel_time(500, 50)\n",
        "'''"
      ]
    },
    {
      "cell_type": "code",
      "execution_count": null,
      "metadata": {},
      "outputs": [],
      "source": [
        "# help(total_travel_time)"
      ]
    },
    {
      "cell_type": "markdown",
      "metadata": {},
      "source": [
        "---\n",
        "---\n",
        "### Part 3.1: If-else"
      ]
    },
    {
      "cell_type": "markdown",
      "metadata": {},
      "source": [
        "#### if, elif, else statements\n",
        "```python\n",
        "if condition1:\n",
        "    # Run this code\n",
        "elif condition2:                    # optional\n",
        "    # Run this code\n",
        "else:                               # optional\n",
        "    # Run this code\n",
        "```\n"
      ]
    },
    {
      "cell_type": "code",
      "execution_count": null,
      "metadata": {},
      "outputs": [],
      "source": [
        "# if\n",
        "login = 'myname'\n",
        "\n",
        "if login == 'myname':\n",
        "    print('Login......')"
      ]
    },
    {
      "cell_type": "code",
      "execution_count": null,
      "metadata": {},
      "outputs": [],
      "source": [
        "# if\n",
        "login = 'yourname'\n",
        "\n",
        "if login == 'myname':\n",
        "    print('Login......')"
      ]
    },
    {
      "cell_type": "code",
      "execution_count": null,
      "metadata": {},
      "outputs": [],
      "source": [
        "# if, else\n",
        "login = 'yourname'\n",
        "\n",
        "if login == 'myname':\n",
        "    print('Login......')\n",
        "else:\n",
        "    print('wrong username')"
      ]
    },
    {
      "cell_type": "code",
      "execution_count": null,
      "metadata": {},
      "outputs": [],
      "source": [
        "# if, elif, else\n",
        "login = 'myname'\n",
        "password = '12345'\n",
        "\n",
        "if login == 'myname' and password == '12345':\n",
        "    print('Login......')\n",
        "elif login == 'myname':\n",
        "    print('wrong password')\n",
        "else:\n",
        "    print('wrong username')"
      ]
    },
    {
      "cell_type": "markdown",
      "metadata": {},
      "source": [
        "##### > Let's try (5-10 min)\n",
        "Problem 1: Checking divisibility by 5\n",
        "\n",
        "Problem 2: Writing a function to suggest calories needs per day by age and gender\n",
        "|Age| Male    | Female |\n",
        "|--------| -------- | ------- |\n",
        "|16-19|2400|1850|\n",
        "|20-29|2787|2017|\n",
        "|30-59|2767|2075|\n"
      ]
    },
    {
      "cell_type": "code",
      "execution_count": null,
      "metadata": {},
      "outputs": [],
      "source": [
        "# Problem 1\n",
        "num = 6\n",
        "'''\n",
        "if ___:\n",
        "    print(\"number is divisible\")\n",
        "___:\n",
        "    print(\"number is not divisible\")\n",
        "'''"
      ]
    },
    {
      "cell_type": "code",
      "execution_count": null,
      "metadata": {},
      "outputs": [],
      "source": [
        "# Problem 2\n",
        "# using 'm' or 'f' for gender\n",
        "'''\n",
        "def suggest_cal(age, gender):\n",
        "    if ___ and ___:             # 16-19\n",
        "        if gender == 'm':\n",
        "            cal = ___\n",
        "        elif gender == ___:\n",
        "            cal = ___\n",
        "    elif ___:                   # 20-29\n",
        "        if ___:\n",
        "            cal = ___\n",
        "        elif ___:\n",
        "            cal = ___\n",
        "    elif ___:                   # 30-59\n",
        "        if ___:\n",
        "            cal = ___\n",
        "        elif ___:\n",
        "            cal = ___\n",
        "    print(f'Suggest {cal} kcal per day')\n",
        "suggest_cal(28,'m')\n",
        "'''"
      ]
    },
    {
      "cell_type": "markdown",
      "metadata": {},
      "source": [
        "### Part 3.2: For Loop and Range\n",
        "```python\n",
        "for element in sequence: # iterate over a sequence\n",
        "    statement(s) # will preform statement\n",
        "```\n",
        "\n",
        "```python\n",
        "range(stop) #start from 0 by default, and increments by 1 by default\n",
        "range(start, stop[, step])\n",
        "```"
      ]
    },
    {
      "cell_type": "code",
      "execution_count": null,
      "metadata": {},
      "outputs": [],
      "source": [
        "txt = 'hello'\n",
        "for c in txt:\n",
        "    print(c, end='\\n')"
      ]
    },
    {
      "cell_type": "code",
      "execution_count": null,
      "metadata": {},
      "outputs": [],
      "source": [
        "for i in range(5):\n",
        "    print(i,end='_')"
      ]
    },
    {
      "cell_type": "code",
      "execution_count": null,
      "metadata": {},
      "outputs": [],
      "source": [
        "for i in range(2,5):\n",
        "    print(i,end='_')"
      ]
    },
    {
      "cell_type": "code",
      "execution_count": null,
      "metadata": {},
      "outputs": [],
      "source": [
        "for i in range(2,10,2):\n",
        "    print(i,end='_')"
      ]
    },
    {
      "cell_type": "code",
      "execution_count": null,
      "metadata": {},
      "outputs": [],
      "source": [
        "for i in range(10,2,-2):\n",
        "    print(i,end='_')"
      ]
    },
    {
      "cell_type": "markdown",
      "metadata": {},
      "source": [
        "##### > Let's try (5 min)\n",
        "\n",
        "Coverting Fahrenheit [100-110] to Celcius and round up to 1 decimal\n",
        "\n",
        "Formula: **C = (5/9) * (F - 32)**\n",
        "\n",
        "expected result: 37.8, 38.3, 38.9, 39.4, 40.0, 40.6, 41.1, 41.7, 42.2, 42.8, 43.3,"
      ]
    },
    {
      "cell_type": "code",
      "execution_count": null,
      "metadata": {},
      "outputs": [],
      "source": [
        "# Problem\n",
        "'''\n",
        "for fahrenheit in range(___, ___, 1):\n",
        "    celcius = ___\n",
        "    print(___, end=___)\n",
        "'''"
      ]
    },
    {
      "cell_type": "markdown",
      "metadata": {},
      "source": [
        "#### Part 3.3: While loop\n",
        "```python\n",
        "while condition: # expression is boolean \n",
        "    statement(s) # will preform statement till expression is False\n",
        "```"
      ]
    },
    {
      "cell_type": "code",
      "execution_count": null,
      "metadata": {},
      "outputs": [],
      "source": [
        "txt = 'hello'\n",
        "i = 0\n",
        "while txt[i] != 'l':\n",
        "    print(txt[i], end='')\n",
        "    i += 1"
      ]
    },
    {
      "cell_type": "markdown",
      "metadata": {},
      "source": [
        "#### Practice !!!\n",
        "- User-defined function\n",
        "- If-else\n",
        "- Loop\n",
        "\n",
        "Writing a **Change Machine** program for supermarket<br>\n",
        "Example<br>\n",
        "Input: 1000<br>\n",
        "Amount: 245<br>\n",
        "Change: 755<br>\n",
        "   -> Banknote 500 - 1<br>\n",
        "   -> Banknote 100 - 2<br>\n",
        "   -> Banknote 50 - 1<br>\n",
        "   -> Coin 5 -> 1<br>"
      ]
    },
    {
      "cell_type": "code",
      "execution_count": null,
      "metadata": {},
      "outputs": [],
      "source": []
    },
    {
      "cell_type": "markdown",
      "metadata": {},
      "source": [
        "---\n",
        "---\n",
        "### Part 4: Coding with AI\n",
        "- ChatGPT: https://chat.openai.com/\n",
        "- Codeium: https://codeium.com/live/general\n",
        "- Github Copilot: https://github.com/features/copilot\n",
        "- Codewhisperer: https://aws.amazon.com/codewhisperer/"
      ]
    },
    {
      "cell_type": "markdown",
      "metadata": {},
      "source": [
        "<img src=https://shared.ontariotechu.ca/shared/department/tlc/academic-integrity/chatgpt-decision-flowchart.png width=600>"
      ]
    },
    {
      "cell_type": "code",
      "execution_count": null,
      "metadata": {},
      "outputs": [],
      "source": [
        "# 1. Generate Code\n",
        "# 2. Write DocString\n",
        "# 3. Refactor Code\n",
        "# 4. Solve Error"
      ]
    },
    {
      "cell_type": "code",
      "execution_count": null,
      "metadata": {},
      "outputs": [],
      "source": [
        "# 1. Generate Code\n",
        "'''\n",
        "Writing a function to suggest calories needs per day by age and gender\n",
        "|Age| Male    | Female |\n",
        "|--------| -------- | ------- |\n",
        "|16-19|2400|1850|\n",
        "|20-29|2787|2017|\n",
        "|30-59|2767|2075|\n",
        "'''"
      ]
    },
    {
      "cell_type": "code",
      "execution_count": null,
      "metadata": {},
      "outputs": [],
      "source": [
        "# 2. Write DocString\n",
        "'''\n",
        "Write a docstring for this function\n",
        "def total_travel_time(distance, speed=60, rest=4, rest_time=0.5):\n",
        "    drive_hr = drive_time(distance, speed)\n",
        "    rest_hr =  drive_hr//rest*rest_time\n",
        "    total_hr = drive_hr+rest_hr\n",
        "    return total_hr\n",
        "'''"
      ]
    },
    {
      "cell_type": "code",
      "execution_count": null,
      "metadata": {},
      "outputs": [],
      "source": [
        "# 3. Refactor Code\n",
        "'''\n",
        "Refactor this code\n",
        "def assign_letter_grade(score):\n",
        "    if score >= 60:\n",
        "        grade = \"C\"\n",
        "        if score >= 70:\n",
        "            grade = \"B\"\n",
        "            if score >= 80:\n",
        "                grade = \"A\"\n",
        "    else:\n",
        "        grade = \"F\"\n",
        "    return grade\n",
        "assign_letter_grade(85)\n",
        "'''"
      ]
    },
    {
      "cell_type": "code",
      "execution_count": null,
      "metadata": {},
      "outputs": [],
      "source": [
        "# 4. Solve Error\n",
        "# Identify error and solve\n",
        "'''\n",
        "for fahrenheit in range(100, 111, 1):\n",
        "    celcius = (fahrenheit-32)*5/9\n",
        "    print(round(celcius,1.2), end=', ')\n",
        "'''"
      ]
    },
    {
      "cell_type": "code",
      "execution_count": null,
      "metadata": {},
      "outputs": [],
      "source": []
    }
  ],
  "metadata": {
    "colab": {
      "provenance": [],
      "toc_visible": true
    },
    "kernelspec": {
      "display_name": "Python 3",
      "name": "python3"
    },
    "language_info": {
      "codemirror_mode": {
        "name": "ipython",
        "version": 3
      },
      "file_extension": ".py",
      "mimetype": "text/x-python",
      "name": "python",
      "nbconvert_exporter": "python",
      "pygments_lexer": "ipython3",
      "version": "3.8.10"
    }
  },
  "nbformat": 4,
  "nbformat_minor": 0
}
