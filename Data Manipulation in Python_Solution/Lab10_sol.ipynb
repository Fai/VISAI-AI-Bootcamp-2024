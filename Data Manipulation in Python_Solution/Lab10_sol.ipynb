{
 "cells": [
  {
   "cell_type": "markdown",
   "metadata": {},
   "source": [
    "# Basic Python Lab 10\n",
    "- User-defined function"
   ]
  },
  {
   "cell_type": "markdown",
   "metadata": {},
   "source": [
    "***\n",
    "### User-defined function\n",
    "Function is a **callable object** in Python. We can simply see it as **a block of code** that it will be used as we call. \n",
    "\n",
    "For using a user-defined function we have to define\n",
    "- function name\n",
    "- argument(s)\n",
    "- docstring\n",
    "- expression\n",
    "- return"
   ]
  },
  {
   "cell_type": "markdown",
   "metadata": {
    "colab_type": "text",
    "id": "UGaKmk0rGyav"
   },
   "source": [
    "#### def Statement\n",
    "\n",
    "This is how to define a function\n",
    "```python\n",
    "def funciton_name(arg1,arg2=default):\n",
    "    '''\n",
    "    This is where the function's Document String (docstring) goes\n",
    "    '''\n",
    "    # Do stuff here\n",
    "```"
   ]
  },
  {
   "cell_type": "code",
   "execution_count": 1,
   "metadata": {},
   "outputs": [
    {
     "name": "stdout",
     "output_type": "stream",
     "text": [
      "Hello\n"
     ]
    }
   ],
   "source": [
    "def say_hello1():\n",
    "    '''\n",
    "    This is hello function\n",
    "    '''\n",
    "    print('Hello')\n",
    "say_hello1()"
   ]
  },
  {
   "cell_type": "code",
   "execution_count": 2,
   "metadata": {},
   "outputs": [
    {
     "name": "stdout",
     "output_type": "stream",
     "text": [
      "Hello\n"
     ]
    }
   ],
   "source": [
    "say_hello1()"
   ]
  },
  {
   "cell_type": "code",
   "execution_count": 3,
   "metadata": {},
   "outputs": [
    {
     "name": "stdout",
     "output_type": "stream",
     "text": [
      "Help on function say_hello1 in module __main__:\n",
      "\n",
      "say_hello1()\n",
      "    This is hello function\n",
      "\n"
     ]
    }
   ],
   "source": [
    "help(say_hello1)"
   ]
  },
  {
   "cell_type": "code",
   "execution_count": 4,
   "metadata": {},
   "outputs": [
    {
     "name": "stdout",
     "output_type": "stream",
     "text": [
      "Hello Tom\n"
     ]
    }
   ],
   "source": [
    "def say_hello2(name):\n",
    "    '''\n",
    "    This is hello with name function\n",
    "    '''\n",
    "    print('Hello '+name)\n",
    "say_hello2('Tom')"
   ]
  },
  {
   "cell_type": "code",
   "execution_count": 5,
   "metadata": {},
   "outputs": [
    {
     "name": "stdout",
     "output_type": "stream",
     "text": [
      "Hello John\n"
     ]
    }
   ],
   "source": [
    "say_hello2('John')"
   ]
  },
  {
   "cell_type": "code",
   "execution_count": 6,
   "metadata": {},
   "outputs": [
    {
     "name": "stdout",
     "output_type": "stream",
     "text": [
      "Help on function say_hello2 in module __main__:\n",
      "\n",
      "say_hello2(name)\n",
      "    This is hello with name function\n",
      "\n"
     ]
    }
   ],
   "source": [
    "help(say_hello2)"
   ]
  },
  {
   "cell_type": "code",
   "execution_count": 7,
   "metadata": {},
   "outputs": [
    {
     "name": "stdout",
     "output_type": "stream",
     "text": [
      "Hello David\n",
      "Hello Tim\n",
      "Hello Alan\n"
     ]
    }
   ],
   "source": [
    "name_list = ['David','Tim','Alan']\n",
    "for name in name_list:\n",
    "    say_hello2(name)"
   ]
  },
  {
   "cell_type": "code",
   "execution_count": 8,
   "metadata": {},
   "outputs": [
    {
     "name": "stdout",
     "output_type": "stream",
     "text": [
      "Hello World\n"
     ]
    }
   ],
   "source": [
    "def say_hello3(name='World'):\n",
    "    print('Hello '+name)\n",
    "say_hello3()"
   ]
  },
  {
   "cell_type": "code",
   "execution_count": 9,
   "metadata": {},
   "outputs": [
    {
     "name": "stdout",
     "output_type": "stream",
     "text": [
      "Hello John\n"
     ]
    }
   ],
   "source": [
    "say_hello3('John')"
   ]
  },
  {
   "cell_type": "code",
   "execution_count": 10,
   "metadata": {},
   "outputs": [
    {
     "name": "stdout",
     "output_type": "stream",
     "text": [
      "Hello Tom and John\n"
     ]
    }
   ],
   "source": [
    "def say_hello4(name1, name2):\n",
    "    print('Hello '+name1+' and '+name2)\n",
    "say_hello4('Tom','John')"
   ]
  },
  {
   "cell_type": "code",
   "execution_count": 11,
   "metadata": {},
   "outputs": [
    {
     "name": "stdout",
     "output_type": "stream",
     "text": [
      "Hello John and Tom\n"
     ]
    }
   ],
   "source": [
    "say_hello4(name2 = 'Tom',name1 = 'John')"
   ]
  },
  {
   "cell_type": "markdown",
   "metadata": {},
   "source": [
    "#### Test yourself"
   ]
  },
  {
   "cell_type": "code",
   "execution_count": null,
   "metadata": {},
   "outputs": [],
   "source": [
    "# Write a function fahrenheit_to_celsius to convert Fahrentheit to Celsius temperature.\n",
    "def ____(__):\n",
    "    "
   ]
  },
  {
   "cell_type": "code",
   "execution_count": 12,
   "metadata": {},
   "outputs": [
    {
     "name": "stdout",
     "output_type": "stream",
     "text": [
      "100.00 Fahrenheit is: 37.78 Celsius\n"
     ]
    }
   ],
   "source": [
    "# Solution\n",
    "# Write a function fahrenheit_to_celsius to convert Fahrentheit to Celsius temperature.\n",
    "def fahrenheit_to_celsius(f):\n",
    "    '''\n",
    "    Input temperature in fahrenheit\n",
    "    Print temperature in celsius\n",
    "    '''\n",
    "    c = (f - 32) * 5/9\n",
    "    print(f\"{f:.2f} Fahrenheit is: {c:.2f} Celsius\")\n",
    "fahrenheit_to_celsius(100)"
   ]
  },
  {
   "cell_type": "code",
   "execution_count": 13,
   "metadata": {},
   "outputs": [
    {
     "name": "stdout",
     "output_type": "stream",
     "text": [
      "50.00 Fahrenheit is: 10.00 Celsius\n"
     ]
    }
   ],
   "source": [
    "fahrenheit_to_celsius(50)"
   ]
  },
  {
   "cell_type": "code",
   "execution_count": 14,
   "metadata": {},
   "outputs": [
    {
     "name": "stdout",
     "output_type": "stream",
     "text": [
      "Help on function fahrenheit_to_celsius in module __main__:\n",
      "\n",
      "fahrenheit_to_celsius(f)\n",
      "    Input temperature in fahrenheit\n",
      "    Print temperature in celsius\n",
      "\n"
     ]
    }
   ],
   "source": [
    "help(fahrenheit_to_celsius)"
   ]
  },
  {
   "cell_type": "code",
   "execution_count": null,
   "metadata": {},
   "outputs": [],
   "source": [
    "# Write a function triangle_area to compute the area of a triangle\n",
    "def ____(__,__):\n",
    "    "
   ]
  },
  {
   "cell_type": "code",
   "execution_count": 15,
   "metadata": {},
   "outputs": [
    {
     "name": "stdout",
     "output_type": "stream",
     "text": [
      "Area = 3.0\n"
     ]
    }
   ],
   "source": [
    "# Solution\n",
    "# Write a function triangle_area to compute the area of a triangle\n",
    "def triangle_area(b,h):\n",
    "    '''\n",
    "    Input base and height of a triangle\n",
    "    Print area of a triangle\n",
    "    '''\n",
    "    print(f\"Area = {.5*b*h}\")\n",
    "triangle_area(3,2)"
   ]
  },
  {
   "cell_type": "code",
   "execution_count": 16,
   "metadata": {},
   "outputs": [
    {
     "name": "stdout",
     "output_type": "stream",
     "text": [
      "Area = 15.0\n"
     ]
    }
   ],
   "source": [
    "triangle_area(5,6)"
   ]
  },
  {
   "cell_type": "markdown",
   "metadata": {},
   "source": [
    "#### Using return\n",
    "Let's see some example that use a `return` statement. `return` allows a function to *return* a result that can then be stored as a variable, or used in whatever manner a user wants.\n",
    "\n",
    "```python\n",
    "def funciton_name(arg1,arg2=default):\n",
    "    '''\n",
    "    This is where the function's Document String (docstring) goes\n",
    "    '''\n",
    "    # Do stuff here\n",
    "    \n",
    "    return result1, result2\n",
    "```"
   ]
  },
  {
   "cell_type": "code",
   "execution_count": 17,
   "metadata": {},
   "outputs": [],
   "source": [
    "def sum_of_squares(num1, num2):\n",
    "    sq1 = num1 * num1\n",
    "    sq2 = num2 * num2\n",
    "    sumsq = sq1 + sq2\n",
    "    print(sumsq)"
   ]
  },
  {
   "cell_type": "code",
   "execution_count": 18,
   "metadata": {},
   "outputs": [
    {
     "name": "stdout",
     "output_type": "stream",
     "text": [
      "34\n"
     ]
    }
   ],
   "source": [
    "sum_of_squares(3,5)"
   ]
  },
  {
   "cell_type": "code",
   "execution_count": 19,
   "metadata": {},
   "outputs": [
    {
     "name": "stdout",
     "output_type": "stream",
     "text": [
      "34\n"
     ]
    },
    {
     "data": {
      "text/plain": [
       "NoneType"
      ]
     },
     "execution_count": 19,
     "metadata": {},
     "output_type": "execute_result"
    }
   ],
   "source": [
    "type(sum_of_squares(3,5))"
   ]
  },
  {
   "cell_type": "code",
   "execution_count": 20,
   "metadata": {},
   "outputs": [],
   "source": [
    "def sum_of_squares_r(num1, num2):\n",
    "    sq1 = num1 * num1\n",
    "    sq2 = num2 * num2\n",
    "    sumsq = sq1 + sq2\n",
    "    return sumsq"
   ]
  },
  {
   "cell_type": "code",
   "execution_count": 21,
   "metadata": {},
   "outputs": [
    {
     "name": "stdout",
     "output_type": "stream",
     "text": [
      "34\n"
     ]
    }
   ],
   "source": [
    "result = sum_of_squares_r(3,5)\n",
    "print(result)"
   ]
  },
  {
   "cell_type": "code",
   "execution_count": 22,
   "metadata": {
    "scrolled": true
   },
   "outputs": [
    {
     "data": {
      "text/plain": [
       "int"
      ]
     },
     "execution_count": 22,
     "metadata": {},
     "output_type": "execute_result"
    }
   ],
   "source": [
    "type(sum_of_squares_r(3,5))"
   ]
  },
  {
   "cell_type": "code",
   "execution_count": 23,
   "metadata": {},
   "outputs": [],
   "source": [
    "def square_cube(num):\n",
    "    return num**2, num**3"
   ]
  },
  {
   "cell_type": "code",
   "execution_count": 24,
   "metadata": {},
   "outputs": [
    {
     "data": {
      "text/plain": [
       "(25, 125)"
      ]
     },
     "execution_count": 24,
     "metadata": {},
     "output_type": "execute_result"
    }
   ],
   "source": [
    "result = square_cube(5)\n",
    "result"
   ]
  },
  {
   "cell_type": "code",
   "execution_count": 25,
   "metadata": {},
   "outputs": [
    {
     "name": "stdout",
     "output_type": "stream",
     "text": [
      "25\n",
      "125\n"
     ]
    }
   ],
   "source": [
    "r1, r2 = square_cube(5)\n",
    "print(r1)\n",
    "print(r2)"
   ]
  },
  {
   "cell_type": "markdown",
   "metadata": {},
   "source": [
    "#### Test yourself"
   ]
  },
  {
   "cell_type": "code",
   "execution_count": null,
   "metadata": {},
   "outputs": [],
   "source": [
    "# Write a function meter_to_inch_foot to convert meter to inch and foot.\n",
    "def ____(__):"
   ]
  },
  {
   "cell_type": "code",
   "execution_count": 26,
   "metadata": {},
   "outputs": [],
   "source": [
    "# Solution\n",
    "# Write a function meter_to_inch_foot to convert meter to inch and foot.\n",
    "def meter_to_inch_foot(m):\n",
    "    return m*39.3700787, m * 3.2808"
   ]
  },
  {
   "cell_type": "code",
   "execution_count": 27,
   "metadata": {},
   "outputs": [
    {
     "data": {
      "text/plain": [
       "(393.700787, 32.808)"
      ]
     },
     "execution_count": 27,
     "metadata": {},
     "output_type": "execute_result"
    }
   ],
   "source": [
    "ans = meter_to_inch_foot(10)\n",
    "ans"
   ]
  },
  {
   "cell_type": "code",
   "execution_count": null,
   "metadata": {},
   "outputs": [],
   "source": [
    "# Write a function: Dot product\n",
    "# a = [1,3,5]\n",
    "# b = [3,-3,1]\n",
    "# Output a · b = 1 × 3 + 3 × (-3) + 5 × 1 = -1\n",
    "def ____(__,__):"
   ]
  },
  {
   "cell_type": "code",
   "execution_count": 28,
   "metadata": {},
   "outputs": [],
   "source": [
    "# Solution\n",
    "# Write a function: Dot product\n",
    "a = [1,3,5]\n",
    "b = [3,-3,1]\n",
    "# Output a · b = 1 × 3 + 3 × (-3) + 5 × 1 = -1\n",
    "\n",
    "def dot_product(vec1, vec2):\n",
    "    ## Please write your code here\n",
    "    dot = 0\n",
    "    for i in range(len(vec1)):\n",
    "        dot += vec1[i]*vec2[i]\n",
    "    return dot"
   ]
  },
  {
   "cell_type": "code",
   "execution_count": 29,
   "metadata": {},
   "outputs": [
    {
     "data": {
      "text/plain": [
       "-1"
      ]
     },
     "execution_count": 29,
     "metadata": {},
     "output_type": "execute_result"
    }
   ],
   "source": [
    "dot_product(a,b)"
   ]
  },
  {
   "cell_type": "markdown",
   "metadata": {},
   "source": [
    "### Exercise\n",
    "#### Train,Test split\n",
    "Input list of data and %train\\\n",
    "Return train set and test set\\\n",
    "For example `split_data(['a','b','c','d','e'],0.6)` -> `['e', 'c', 'b'], ['d', 'a']`"
   ]
  },
  {
   "cell_type": "code",
   "execution_count": 30,
   "metadata": {},
   "outputs": [],
   "source": [
    "# Help\n",
    "import random"
   ]
  },
  {
   "cell_type": "code",
   "execution_count": 31,
   "metadata": {},
   "outputs": [
    {
     "name": "stdout",
     "output_type": "stream",
     "text": [
      "0.2761140016544159\n"
     ]
    }
   ],
   "source": [
    "print(random.random())"
   ]
  },
  {
   "cell_type": "code",
   "execution_count": 32,
   "metadata": {},
   "outputs": [
    {
     "data": {
      "text/plain": [
       "0.8444218515250481"
      ]
     },
     "execution_count": 32,
     "metadata": {},
     "output_type": "execute_result"
    }
   ],
   "source": [
    "random.seed(0)\n",
    "random.random()"
   ]
  },
  {
   "cell_type": "code",
   "execution_count": 33,
   "metadata": {},
   "outputs": [
    {
     "name": "stdout",
     "output_type": "stream",
     "text": [
      "[('e', 1), ('c', 2), ('b', 3), ('d', 4), ('a', 5)]\n",
      "['e', 'c', 'b', 'd', 'a']\n"
     ]
    }
   ],
   "source": [
    "# Help\n",
    "list1 = ['a','b','c','d','e']\n",
    "list2 = [5,3,2,4,1]\n",
    "\n",
    "def order2(item):\n",
    "    return item[1]\n",
    "\n",
    "list_sort = sorted(zip(list1,list2), key=order2)\n",
    "\n",
    "print(list_sort)\n",
    "print([item[0] for item in list_sort])"
   ]
  },
  {
   "cell_type": "code",
   "execution_count": null,
   "metadata": {},
   "outputs": [],
   "source": [
    "def split_data(data,percent):\n",
    "    # Your code\n",
    "    "
   ]
  },
  {
   "cell_type": "code",
   "execution_count": 34,
   "metadata": {},
   "outputs": [],
   "source": [
    "# Solution\n",
    "def split_data(data,percent):\n",
    "    \n",
    "    # สร้าง random list ขึ้นมาก่อน\n",
    "    random.seed(0)\n",
    "    random_ls = [random.random() for i in range(len(data))]\n",
    "    # print(random_ls)\n",
    "    \n",
    "    # ทำการ order data โดยใช้ random_ls\n",
    "    def order2(item):\n",
    "        return item[1]\n",
    "    zip_sort = sorted(zip(data,random_ls), key=order2)\n",
    "    # print(zip_sort)\n",
    "    \n",
    "    # เลือกเฉพาะ data ไม่เอาค่า random\n",
    "    data_sort = [item[0] for item in zip_sort]\n",
    "    # print(data_sort)\n",
    "    \n",
    "    # หา index ที่จะ split\n",
    "    split_index = round(len(data)*0.6)\n",
    "    \n",
    "    return data_sort[:split_index], data_sort[split_index:]"
   ]
  },
  {
   "cell_type": "code",
   "execution_count": 35,
   "metadata": {},
   "outputs": [
    {
     "data": {
      "text/plain": [
       "['a', 'b', 'c', 'd', 'e', 'f', 'g', 'h', 'i', 'j', 'k', 'l', 'm']"
      ]
     },
     "execution_count": 35,
     "metadata": {},
     "output_type": "execute_result"
    }
   ],
   "source": [
    "data = [chr(97+i) for i in range(13)]\n",
    "data"
   ]
  },
  {
   "cell_type": "code",
   "execution_count": 36,
   "metadata": {},
   "outputs": [],
   "source": [
    "train, test = split_data(data,0.6)"
   ]
  },
  {
   "cell_type": "code",
   "execution_count": 37,
   "metadata": {},
   "outputs": [
    {
     "name": "stdout",
     "output_type": "stream",
     "text": [
      "8\n"
     ]
    },
    {
     "data": {
      "text/plain": [
       "['d', 'm', 'h', 'f', 'c', 'i', 'l', 'e']"
      ]
     },
     "execution_count": 37,
     "metadata": {},
     "output_type": "execute_result"
    }
   ],
   "source": [
    "print(len(train))\n",
    "train"
   ]
  },
  {
   "cell_type": "code",
   "execution_count": 38,
   "metadata": {},
   "outputs": [
    {
     "name": "stdout",
     "output_type": "stream",
     "text": [
      "5\n"
     ]
    },
    {
     "data": {
      "text/plain": [
       "['j', 'b', 'g', 'a', 'k']"
      ]
     },
     "execution_count": 38,
     "metadata": {},
     "output_type": "execute_result"
    }
   ],
   "source": [
    "print(len(test))\n",
    "test"
   ]
  },
  {
   "cell_type": "code",
   "execution_count": null,
   "metadata": {},
   "outputs": [],
   "source": []
  }
 ],
 "metadata": {
  "kernelspec": {
   "display_name": "Python 3",
   "language": "python",
   "name": "python3"
  },
  "language_info": {
   "codemirror_mode": {
    "name": "ipython",
    "version": 3
   },
   "file_extension": ".py",
   "mimetype": "text/x-python",
   "name": "python",
   "nbconvert_exporter": "python",
   "pygments_lexer": "ipython3",
   "version": "3.8.5"
  }
 },
 "nbformat": 4,
 "nbformat_minor": 4
}
