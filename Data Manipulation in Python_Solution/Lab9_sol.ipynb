{
 "cells": [
  {
   "cell_type": "markdown",
   "metadata": {},
   "source": [
    "# Basic Python Lab 9\n",
    "- List comprehension\n",
    "- Dict comprehension"
   ]
  },
  {
   "cell_type": "markdown",
   "metadata": {},
   "source": [
    "***\n",
    "### List Comprehension\n",
    "- A comprehension is a compact way to construct a new collection by performing some simple operations on some or all of the elements of another collection. \n",
    "- It is simply a shortcut for expressing a way to create a new collection from an old collection. \n",
    "- Any comprehension could be implemented using a regular `for` loop.\n",
    "\n",
    "**Syntax:**\n",
    "```python\n",
    "result = [ expression for item in collection ]\n",
    "```\n",
    "\n",
    "**Equivalent `for` loop:**\n",
    "```python\n",
    "result = []\n",
    "for item in collection:\n",
    "    result.append(expression)\n",
    "```"
   ]
  },
  {
   "cell_type": "code",
   "execution_count": 1,
   "metadata": {},
   "outputs": [
    {
     "name": "stdout",
     "output_type": "stream",
     "text": [
      "[0, 1, 4, 9, 16, 25, 36, 49, 64, 81, 100]\n"
     ]
    }
   ],
   "source": [
    "# for loop\n",
    "squares = []\n",
    "for n in range(11):\n",
    "    squares.append(n * n)\n",
    "    \n",
    "print(squares)"
   ]
  },
  {
   "cell_type": "code",
   "execution_count": 2,
   "metadata": {},
   "outputs": [
    {
     "name": "stdout",
     "output_type": "stream",
     "text": [
      "[0, 1, 4, 9, 16, 25, 36, 49, 64, 81, 100]\n"
     ]
    }
   ],
   "source": [
    "# List comprehension\n",
    "squares = [n * n for n in range(11)]\n",
    "\n",
    "print(squares)"
   ]
  },
  {
   "cell_type": "markdown",
   "metadata": {},
   "source": [
    "#### Test yourself"
   ]
  },
  {
   "cell_type": "code",
   "execution_count": 3,
   "metadata": {},
   "outputs": [
    {
     "name": "stdout",
     "output_type": "stream",
     "text": [
      "['Mr.John', 'Mr.David', 'Mr.Tom']\n"
     ]
    }
   ],
   "source": [
    "# for loop\n",
    "name_title = []\n",
    "mister = ['John','David','Tom']\n",
    "for name in mister:\n",
    "    name_title.append('Mr.'+name)\n",
    "    \n",
    "print(name_title)\n",
    "# List comprehension\n",
    "# Your code"
   ]
  },
  {
   "cell_type": "code",
   "execution_count": 4,
   "metadata": {},
   "outputs": [
    {
     "data": {
      "text/plain": [
       "['Mr.John', 'Mr.David', 'Mr.Tom']"
      ]
     },
     "execution_count": 4,
     "metadata": {},
     "output_type": "execute_result"
    }
   ],
   "source": [
    "# Solution\n",
    "['Mr.'+name for name in mister]"
   ]
  },
  {
   "cell_type": "markdown",
   "metadata": {},
   "source": [
    "***\n",
    "*----------Desirable----------*\n",
    "#### If-else in List Comprehension\n",
    "\n",
    "**Syntax:**\n",
    "```python\n",
    "result = [ expression for item in collection if condition]\n",
    "```\n",
    "\n",
    "**Equivalent `for` loop:**\n",
    "```python\n",
    "result = []\n",
    "for item in collection:\n",
    "    if condition:\n",
    "        result.append(expression)\n",
    "```"
   ]
  },
  {
   "cell_type": "code",
   "execution_count": 5,
   "metadata": {},
   "outputs": [
    {
     "name": "stdout",
     "output_type": "stream",
     "text": [
      "[0, 4, 16, 36, 64]\n"
     ]
    }
   ],
   "source": [
    "# for loop\n",
    "lista = []\n",
    "for i in range(10):\n",
    "    if i%2==0:\n",
    "        lista.append(i**2)\n",
    "print(lista)"
   ]
  },
  {
   "cell_type": "code",
   "execution_count": 6,
   "metadata": {},
   "outputs": [
    {
     "name": "stdout",
     "output_type": "stream",
     "text": [
      "[0, 4, 16, 36, 64]\n"
     ]
    }
   ],
   "source": [
    "# List comprehension\n",
    "lista = [i**2 for i in range(10) if i%2==0]\n",
    "print(lista)"
   ]
  },
  {
   "cell_type": "markdown",
   "metadata": {},
   "source": [
    "\n",
    "**Syntax:**\n",
    "```python\n",
    "result = [ expression1 if condition else expression2 for item in collection]\n",
    "```\n",
    "\n",
    "**Equivalent `for` loop:**\n",
    "```python\n",
    "result = []\n",
    "for item in collection:\n",
    "    if condition:\n",
    "        result.append(expression1)\n",
    "    else:\n",
    "        result.append(expression2)\n",
    "```"
   ]
  },
  {
   "cell_type": "code",
   "execution_count": 7,
   "metadata": {},
   "outputs": [
    {
     "name": "stdout",
     "output_type": "stream",
     "text": [
      "[0, 1, 4, 27, 16, 125, 36, 343, 64, 729]\n"
     ]
    }
   ],
   "source": [
    "# for loop\n",
    "lista = []\n",
    "for i in range(10):\n",
    "    if i%2==0:\n",
    "        lista.append(i**2)\n",
    "    else:\n",
    "        lista.append(i**3)\n",
    "print(lista)"
   ]
  },
  {
   "cell_type": "code",
   "execution_count": 8,
   "metadata": {},
   "outputs": [
    {
     "name": "stdout",
     "output_type": "stream",
     "text": [
      "[0, 1, 4, 27, 16, 125, 36, 343, 64, 729]\n"
     ]
    }
   ],
   "source": [
    "# List comprehension\n",
    "lista = [i**2 if i%2==0 else i**3 for i in range(10) ]\n",
    "print(lista)"
   ]
  },
  {
   "cell_type": "markdown",
   "metadata": {},
   "source": [
    "#### Speed test"
   ]
  },
  {
   "cell_type": "code",
   "execution_count": 9,
   "metadata": {},
   "outputs": [
    {
     "name": "stdout",
     "output_type": "stream",
     "text": [
      "Time:  5.6422448\n"
     ]
    }
   ],
   "source": [
    "# for loop\n",
    "import timeit\n",
    "start = timeit.default_timer()\n",
    "\n",
    "result = []\n",
    "for n in range(10**7):\n",
    "    if n%2 == 0:\n",
    "        result.append(n**2)\n",
    "    else:\n",
    "        result.append(n**3)\n",
    "\n",
    "stop = timeit.default_timer()\n",
    "print('Time: ', stop - start)"
   ]
  },
  {
   "cell_type": "code",
   "execution_count": 10,
   "metadata": {},
   "outputs": [
    {
     "name": "stdout",
     "output_type": "stream",
     "text": [
      "Time:  4.524151\n"
     ]
    }
   ],
   "source": [
    "# List comprehension\n",
    "# ปกติ list comprehension จะเร็วกว่า for loop\n",
    "import timeit\n",
    "start = timeit.default_timer()\n",
    "\n",
    "result = [n**2 if n%2 == 0 else n**3 for n in range(10**7)]\n",
    "\n",
    "stop = timeit.default_timer()\n",
    "print('Time: ', stop - start)"
   ]
  },
  {
   "cell_type": "markdown",
   "metadata": {},
   "source": [
    "***\n",
    "### Dictionary Comprehension\n",
    "Just like list comprehensions, dictionary data types also support their own version of comprehension for quick creation. It is not as commonly used as list comprehensions. One of the reasons it is not as common is the difficulty in structuring the key names that are not based off the values.\n",
    "\n",
    "**Syntax:**\n",
    "```python\n",
    "result = { key_expression:value_expression for item in collection }\n",
    "```\n",
    "\n",
    "**Equivalent `for` loop:**\n",
    "```python\n",
    "result = {}\n",
    "for item in collection:\n",
    "    result[key_expression] = value_expression\n",
    "```"
   ]
  },
  {
   "cell_type": "code",
   "execution_count": 11,
   "metadata": {},
   "outputs": [
    {
     "name": "stdout",
     "output_type": "stream",
     "text": [
      "{0: 0, 1: 1, 2: 4, 3: 9, 4: 16, 5: 25, 6: 36, 7: 49, 8: 64, 9: 81, 10: 100}\n"
     ]
    }
   ],
   "source": [
    "# for loop\n",
    "squares = {}\n",
    "for n in range(11):\n",
    "    squares[n] = (n * n)\n",
    "    \n",
    "print(squares)"
   ]
  },
  {
   "cell_type": "code",
   "execution_count": 12,
   "metadata": {},
   "outputs": [
    {
     "name": "stdout",
     "output_type": "stream",
     "text": [
      "{0: 0, 1: 1, 2: 4, 3: 9, 4: 16, 5: 25, 6: 36, 7: 49, 8: 64, 9: 81, 10: 100}\n"
     ]
    }
   ],
   "source": [
    "# List comprehension\n",
    "squares = {n:n * n for n in range(11)}\n",
    "\n",
    "print(squares)"
   ]
  },
  {
   "cell_type": "markdown",
   "metadata": {},
   "source": [
    "#### Test yourself"
   ]
  },
  {
   "cell_type": "code",
   "execution_count": null,
   "metadata": {},
   "outputs": [],
   "source": [
    "# {A:1, B:2, B:3 .....}\n",
    "# chr(65) -> 'A'\n",
    "# Your code"
   ]
  },
  {
   "cell_type": "code",
   "execution_count": 13,
   "metadata": {},
   "outputs": [
    {
     "name": "stdout",
     "output_type": "stream",
     "text": [
      "{'A': 1, 'B': 2, 'C': 3, 'D': 4, 'E': 5, 'F': 6, 'G': 7, 'H': 8, 'I': 9, 'J': 10, 'K': 11, 'L': 12, 'M': 13, 'N': 14, 'O': 15, 'P': 16, 'Q': 17, 'R': 18, 'S': 19, 'T': 20, 'U': 21, 'V': 22, 'W': 23, 'X': 24, 'Y': 25, 'Z': 26}\n"
     ]
    }
   ],
   "source": [
    "# Solution\n",
    "# {A:1, B:2, B:3 .....}\n",
    "# chr(65) -> 'A'\n",
    "dict_ch = {chr(i):i-64 for i in range(65,65+26)}\n",
    "print(dict_ch)"
   ]
  },
  {
   "cell_type": "markdown",
   "metadata": {},
   "source": [
    "#### Exercise \n",
    "##### Caesar Cipher -> Using dict"
   ]
  },
  {
   "cell_type": "code",
   "execution_count": null,
   "metadata": {},
   "outputs": [],
   "source": [
    "plain = \"BEWARE THE IDES OF MARCH\"\n",
    "shift = 13\n",
    "# Output ORJNER GUR VQRF BS ZNEPU\n",
    "\n",
    "# Hint\n",
    "\n",
    "# สร้าง dict_shift\n",
    "# {'A':'N','B':'O', ......}\n",
    "dict_shift = {'A':'N','B':'O'}\n",
    "\n",
    "# ใช้ dict_shift ในการแปลงตัวอักษร คู่กับ .get()\n",
    "ch = 'B'\n",
    "print(dict_shift.get(ch,ch))\n",
    "ch = '?'\n",
    "print(dict_shift.get(ch,ch))"
   ]
  },
  {
   "cell_type": "code",
   "execution_count": 14,
   "metadata": {},
   "outputs": [
    {
     "data": {
      "text/plain": [
       "'ORJNER GUR VQRF BS ZNEPU'"
      ]
     },
     "execution_count": 14,
     "metadata": {},
     "output_type": "execute_result"
    }
   ],
   "source": [
    "# Solution\n",
    "plain = \"BEWARE THE IDES OF MARCH\"\n",
    "shift = 13\n",
    "# Output ORJNER GUR VQRF BS ZNEPU\n",
    "\n",
    "plain = plain.upper()\n",
    "# Dict comprehension\n",
    "dict_shift = {chr(i+65):chr((i+shift)%26+65) for i in range(26)}\n",
    "''.join([dict_shift.get(ch,ch) for ch in plain])"
   ]
  },
  {
   "cell_type": "code",
   "execution_count": 15,
   "metadata": {},
   "outputs": [
    {
     "data": {
      "text/plain": [
       "'ORJNER GUR VQRF BS ZNEPU'"
      ]
     },
     "execution_count": 15,
     "metadata": {},
     "output_type": "execute_result"
    }
   ],
   "source": [
    "# Solution\n",
    "plain = \"BEWARE THE IDES OF MARCH\"\n",
    "shift = 13\n",
    "# Output ORJNER GUR VQRF BS ZNEPU\n",
    "\n",
    "plain = plain.upper()\n",
    "# List comprehension -> dict\n",
    "letters = [chr(n) for n in range(65,91)]\n",
    "dict_shift = dict(zip(letters,letters[shift:] + letters[:shift]))\n",
    "''.join([dict_shift.get(ch,ch) for ch in plain])"
   ]
  },
  {
   "cell_type": "code",
   "execution_count": null,
   "metadata": {},
   "outputs": [],
   "source": []
  }
 ],
 "metadata": {
  "kernelspec": {
   "display_name": "Python 3",
   "language": "python",
   "name": "python3"
  },
  "language_info": {
   "codemirror_mode": {
    "name": "ipython",
    "version": 3
   },
   "file_extension": ".py",
   "mimetype": "text/x-python",
   "name": "python",
   "nbconvert_exporter": "python",
   "pygments_lexer": "ipython3",
   "version": "3.8.5"
  }
 },
 "nbformat": 4,
 "nbformat_minor": 4
}
