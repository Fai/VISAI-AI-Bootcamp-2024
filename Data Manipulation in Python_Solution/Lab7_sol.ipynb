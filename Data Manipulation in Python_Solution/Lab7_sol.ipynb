{
 "cells": [
  {
   "cell_type": "markdown",
   "metadata": {},
   "source": [
    "# Basic Python Lab 7\n",
    "- Set"
   ]
  },
  {
   "cell_type": "markdown",
   "metadata": {},
   "source": [
    "***\n",
    "### Set\n",
    "Sets are mutable **unordered collections** of distinct immutable objects. So, while the set itself can be modified, it cannot be populated with objects that can be modified.\n",
    "In Python sets are written with curly brackets `{}`.\n",
    "1. Set Creation and Operation\n",
    "2. Set Method and Function"
   ]
  },
  {
   "cell_type": "markdown",
   "metadata": {},
   "source": [
    "#### Set Creation\n",
    "Set object types are not restricted so a mix of object types can be in single set"
   ]
  },
  {
   "cell_type": "code",
   "execution_count": 1,
   "metadata": {},
   "outputs": [
    {
     "name": "stdout",
     "output_type": "stream",
     "text": [
      "{1, 2, 3, 4}\n",
      "{'b', 'c', 'a'}\n"
     ]
    }
   ],
   "source": [
    "numbers = {3, 2, 1, 4}\n",
    "print(numbers)\n",
    "\n",
    "letters = {'a', 'b', 'a', 'c', 'b'}\n",
    "print(letters)"
   ]
  },
  {
   "cell_type": "code",
   "execution_count": 2,
   "metadata": {},
   "outputs": [
    {
     "name": "stdout",
     "output_type": "stream",
     "text": [
      "{1, 3, 5, 6}\n",
      "{0, 1, 2, 3, 4}\n"
     ]
    }
   ],
   "source": [
    "set1 = set([3, 1, 1, 3, 6, 5])\n",
    "print(set1)\n",
    "\n",
    "set2 = set(range(5))\n",
    "print(set2)"
   ]
  },
  {
   "cell_type": "code",
   "execution_count": 3,
   "metadata": {},
   "outputs": [
    {
     "name": "stdout",
     "output_type": "stream",
     "text": [
      "1\n",
      "3\n",
      "5\n",
      "6\n"
     ]
    }
   ],
   "source": [
    "for i in set1:\n",
    "    print(i)"
   ]
  },
  {
   "cell_type": "markdown",
   "metadata": {},
   "source": [
    "#### In Operation"
   ]
  },
  {
   "cell_type": "code",
   "execution_count": 4,
   "metadata": {},
   "outputs": [
    {
     "name": "stdout",
     "output_type": "stream",
     "text": [
      "True\n",
      "False\n"
     ]
    }
   ],
   "source": [
    "classes = {'English', 'Math', 'Art', 'Music'}\n",
    "print('Math' in classes)\n",
    "print('Thai' in classes)"
   ]
  },
  {
   "cell_type": "markdown",
   "metadata": {},
   "source": [
    "*----------Desirable----------* ไม่จำเป็นต้องจำทุกตัวจำแค่ที่สำคัญๆ\n",
    "#### Set Method and Function\n",
    "- `.add()` : add a single element to the set. !สำคัญ!\n",
    "- `.update()` : add multiple elements to the set.\n",
    "- `.remove()` : remove the specified element, will cause an error if the element being removed is not part of the set. \n",
    "- `.discard()` : remove the specified element, will not give an error even if the argument being removed does not exist in the set. There is no value returned.\n",
    "- `.pop()` : remove and return an arbitrary set element. Raises KeyError if the set is empty.\n",
    "- `.clear()` : remove all elements from a set (making it empty).\n",
    "- `.union()` : return the union of two sets. !สำคัญ!\n",
    "- `.intersection()` : return  the intersection of two or more sets as a new set. !สำคัญ!\n",
    "- `.difference()` : return the difference of two or more sets.\n",
    "- `.isdisjoint()` : return True if two sets have a null intersection.\n",
    "- `.issubset()` : report whether another set contains this set.\n",
    "- `.issuperset()` : report whether this set contains another set.\n",
    "- `len()` : return the length of collection !สำคัญ!\n",
    "- `min()` : return the minimum element in collection.\n",
    "- `max()` : return the maximum element in collection.\n",
    "- `sum()` : return the sum of elements in set. The particular function requires that the list elements be numbers.\n",
    "- `sorted()` : create an ordered list copy"
   ]
  },
  {
   "cell_type": "code",
   "execution_count": 5,
   "metadata": {},
   "outputs": [
    {
     "name": "stdout",
     "output_type": "stream",
     "text": [
      "{1, 3, 5, 6}\n",
      "{1, 3, 5, 6, 10}\n",
      "{1, 3, 5, 6, 10}\n",
      "{1, 66, 3, 5, 6, 39, 10, 27}\n"
     ]
    }
   ],
   "source": [
    "my_set = set([3, 1, 1, 3, 6, 5])\n",
    "print(my_set)\n",
    "\n",
    "# Add a single element\n",
    "my_set.add(10)\n",
    "print(my_set)\n",
    "\n",
    "# Try to add the same element\n",
    "my_set.add(5)\n",
    "print(my_set)\n",
    "\n",
    "# Add multiple elements\n",
    "my_set.update({10, 66, 27, 39})\n",
    "print(my_set)"
   ]
  },
  {
   "cell_type": "code",
   "execution_count": 6,
   "metadata": {},
   "outputs": [
    {
     "name": "stdout",
     "output_type": "stream",
     "text": [
      "{1, 66, 5, 6, 39, 10, 27}\n",
      "{1, 66, 6, 39, 10, 27}\n",
      "{1, 66, 6, 39, 10, 27}\n"
     ]
    },
    {
     "ename": "KeyError",
     "evalue": "7",
     "output_type": "error",
     "traceback": [
      "\u001b[1;31m---------------------------------------------------------------------------\u001b[0m",
      "\u001b[1;31mKeyError\u001b[0m                                  Traceback (most recent call last)",
      "\u001b[1;32m<ipython-input-6-48c842a48338>\u001b[0m in \u001b[0;36m<module>\u001b[1;34m\u001b[0m\n\u001b[0;32m     12\u001b[0m \u001b[1;33m\u001b[0m\u001b[0m\n\u001b[0;32m     13\u001b[0m \u001b[1;31m# If the element is not a member, raise an error.\u001b[0m\u001b[1;33m\u001b[0m\u001b[1;33m\u001b[0m\u001b[1;33m\u001b[0m\u001b[0m\n\u001b[1;32m---> 14\u001b[1;33m \u001b[0mmy_set\u001b[0m\u001b[1;33m.\u001b[0m\u001b[0mremove\u001b[0m\u001b[1;33m(\u001b[0m\u001b[1;36m7\u001b[0m\u001b[1;33m)\u001b[0m \u001b[1;31m# --> raise Error\u001b[0m\u001b[1;33m\u001b[0m\u001b[1;33m\u001b[0m\u001b[0m\n\u001b[0m\u001b[0;32m     15\u001b[0m \u001b[0mprint\u001b[0m\u001b[1;33m(\u001b[0m\u001b[0mmy_set\u001b[0m\u001b[1;33m)\u001b[0m\u001b[1;33m\u001b[0m\u001b[1;33m\u001b[0m\u001b[0m\n",
      "\u001b[1;31mKeyError\u001b[0m: 7"
     ]
    }
   ],
   "source": [
    "# Remove an element from a set if it is a member.\n",
    "my_set.discard(3)\n",
    "print(my_set)\n",
    "\n",
    "# Remove an element from a set if it is a member.\n",
    "my_set.remove(5)\n",
    "print(my_set)\n",
    "\n",
    "# If the element is not a member, do nothing.\n",
    "my_set.discard(7)\n",
    "print(my_set)\n",
    "\n",
    "# If the element is not a member, raise an error.\n",
    "my_set.remove(7) # --> raise Error\n",
    "print(my_set)"
   ]
  },
  {
   "cell_type": "code",
   "execution_count": 7,
   "metadata": {},
   "outputs": [
    {
     "name": "stdout",
     "output_type": "stream",
     "text": [
      "1\n",
      "{66, 6, 39, 10, 27}\n"
     ]
    }
   ],
   "source": [
    "# Remove and return an arbitrary set element.\n",
    "print(my_set.pop())\n",
    "print(my_set)"
   ]
  },
  {
   "cell_type": "code",
   "execution_count": 8,
   "metadata": {},
   "outputs": [
    {
     "name": "stdout",
     "output_type": "stream",
     "text": [
      "set()\n"
     ]
    }
   ],
   "source": [
    "# Remove all elements from a set\n",
    "my_set.clear()\n",
    "print(my_set)"
   ]
  },
  {
   "cell_type": "code",
   "execution_count": 9,
   "metadata": {},
   "outputs": [
    {
     "name": "stdout",
     "output_type": "stream",
     "text": [
      "{1, 2, 3, 4, 5}\n",
      "{1, 2, 3, 4, 5}\n"
     ]
    }
   ],
   "source": [
    "# Union\n",
    "set1 = {1, 2, 3}\n",
    "set2 = {1, 2, 4, 5}\n",
    "\n",
    "print(set1.union(set2))\n",
    "print(set2.union(set1))"
   ]
  },
  {
   "cell_type": "code",
   "execution_count": 10,
   "metadata": {},
   "outputs": [
    {
     "name": "stdout",
     "output_type": "stream",
     "text": [
      "{1, 2}\n",
      "{1, 2}\n"
     ]
    }
   ],
   "source": [
    "# Intersection\n",
    "set1 = {1, 2, 3}\n",
    "set2 = {1, 2, 4, 5}\n",
    "\n",
    "print(set1.intersection(set2))\n",
    "print(set2.intersection(set1))"
   ]
  },
  {
   "cell_type": "code",
   "execution_count": 11,
   "metadata": {},
   "outputs": [
    {
     "name": "stdout",
     "output_type": "stream",
     "text": [
      "{3}\n",
      "{4, 5}\n"
     ]
    }
   ],
   "source": [
    "# Difference\n",
    "set1 = {1, 2, 3}\n",
    "set2 = {1, 2, 4, 5}\n",
    "\n",
    "print(set1.difference(set2)) # set1-set2\n",
    "print(set2.difference(set1)) # set2-set1"
   ]
  },
  {
   "cell_type": "code",
   "execution_count": 12,
   "metadata": {},
   "outputs": [
    {
     "name": "stdout",
     "output_type": "stream",
     "text": [
      "True\n",
      "False\n"
     ]
    }
   ],
   "source": [
    "# Issubset\n",
    "set1 = {1, 2}\n",
    "set2 = {1, 2, 4, 5}\n",
    "\n",
    "print(set1.issubset(set2))\n",
    "print(set2.issubset(set1))"
   ]
  },
  {
   "cell_type": "code",
   "execution_count": 13,
   "metadata": {},
   "outputs": [
    {
     "name": "stdout",
     "output_type": "stream",
     "text": [
      "False\n",
      "True\n"
     ]
    }
   ],
   "source": [
    "# Issuperset\n",
    "set1 = {1, 2}\n",
    "set2 = {1, 2, 4, 5}\n",
    "\n",
    "print(set1.issuperset(set2))\n",
    "print(set2.issuperset(set1))"
   ]
  },
  {
   "cell_type": "code",
   "execution_count": 14,
   "metadata": {},
   "outputs": [
    {
     "name": "stdout",
     "output_type": "stream",
     "text": [
      "6\n",
      "-8\n",
      "20\n",
      "31\n",
      "[-8, 1, 4, 5, 9, 20]\n"
     ]
    }
   ],
   "source": [
    "# len, Min, Max, Sum\n",
    "set1 = {1, 9, 20, 4, -8, 5}\n",
    "\n",
    "print(len(set1))\n",
    "print(min(set1))\n",
    "print(max(set1))\n",
    "print(sum(set1))\n",
    "print(sorted(set1))"
   ]
  },
  {
   "cell_type": "markdown",
   "metadata": {},
   "source": [
    "#### Test Yourself!"
   ]
  },
  {
   "cell_type": "code",
   "execution_count": 15,
   "metadata": {},
   "outputs": [
    {
     "name": "stdout",
     "output_type": "stream",
     "text": [
      "The Zen of Python, by Tim Peters\n",
      "\n",
      "Beautiful is better than ugly.\n",
      "Explicit is better than implicit.\n",
      "Simple is better than complex.\n",
      "Complex is better than complicated.\n",
      "Flat is better than nested.\n",
      "Sparse is better than dense.\n",
      "Readability counts.\n",
      "Special cases aren't special enough to break the rules.\n",
      "Although practicality beats purity.\n",
      "Errors should never pass silently.\n",
      "Unless explicitly silenced.\n",
      "In the face of ambiguity, refuse the temptation to guess.\n",
      "There should be one-- and preferably only one --obvious way to do it.\n",
      "Although that way may not be obvious at first unless you're Dutch.\n",
      "Now is better than never.\n",
      "Although never is often better than *right* now.\n",
      "If the implementation is hard to explain, it's a bad idea.\n",
      "If the implementation is easy to explain, it may be a good idea.\n",
      "Namespaces are one honking great idea -- let's do more of those!\n"
     ]
    }
   ],
   "source": [
    "import this"
   ]
  },
  {
   "cell_type": "code",
   "execution_count": 16,
   "metadata": {},
   "outputs": [],
   "source": [
    "TheZenofPython = \"\"\"\n",
    "Beautiful is better than ugly.\n",
    "Explicit is better than implicit.\n",
    "Simple is better than complex.\n",
    "Complex is better than complicated.\n",
    "Flat is better than nested.\n",
    "Sparse is better than dense.\n",
    "Readability counts.\n",
    "Special cases aren't special enough to break the rules.\n",
    "Although practicality beats purity.\n",
    "Errors should never pass silently.\n",
    "Unless explicitly silenced.\n",
    "In the face of ambiguity, refuse the temptation to guess.\n",
    "There should be one-- and preferably only one --obvious way to do it.\n",
    "Although that way may not be obvious at first unless you're Dutch.\n",
    "Now is better than never.\n",
    "Although never is often better than *right* now.\n",
    "If the implementation is hard to explain, it's a bad idea.\n",
    "If the implementation is easy to explain, it may be a good idea.\n",
    "Namespaces are one honking great idea -- let's do more of those!\n",
    "\"\"\"\n",
    "# Find unique alphabet in The Zen of Python"
   ]
  },
  {
   "cell_type": "code",
   "execution_count": 17,
   "metadata": {},
   "outputs": [
    {
     "name": "stdout",
     "output_type": "stream",
     "text": [
      "23\n",
      "{'n', 'm', 's', 'i', 'u', 'x', 'c', 'v', 'h', 'b', 'w', 't', 'e', 'a', 'r', 'd', 'f', 'g', 'y', 'l', 'o', 'k', 'p'}\n"
     ]
    }
   ],
   "source": [
    "# Solution\n",
    "# Unique alphabet in The Zen of Python\n",
    "text = TheZenofPython.lower()\n",
    "set1 = set()\n",
    "\n",
    "for a in text:\n",
    "    if a.isalpha():\n",
    "        set1.add(a)\n",
    "\n",
    "print(len(set1))\n",
    "print(set1)"
   ]
  },
  {
   "cell_type": "code",
   "execution_count": 18,
   "metadata": {},
   "outputs": [
    {
     "name": "stdout",
     "output_type": "stream",
     "text": [
      "23\n",
      "{'n', 'm', 's', 'i', 'u', 'x', 'c', 'v', 'h', 'b', 'w', 't', 'e', 'a', 'r', 'd', 'f', 'g', 'l', 'y', 'o', 'k', 'p'}\n"
     ]
    }
   ],
   "source": [
    "# Solution\n",
    "# Unique alphabet in The Zen of Python\n",
    "text = TheZenofPython.lower()\n",
    "result = set(list(text))\n",
    "alp = {'a','b','c','d','e','f','g','h','i','j','k','l','m','n','o','p','q','r','s','t','u','v','w','x','y','z'}\n",
    "\n",
    "print(len(result.intersection(alp)))\n",
    "print(result.intersection(alp))"
   ]
  },
  {
   "cell_type": "markdown",
   "metadata": {},
   "source": [
    "#### Exercise\n",
    "##### Adding menu\n",
    "Current `menu = {salad, pasta, sandwich, pizza, drinks, dessert}`\n",
    "1. Create a program where a user can check if an item is on the menu\n",
    "2. If not in the menu -> ask a user to add new menu or not\n",
    "3. User wants to add new menu -> add new menu to `menu`\n",
    "\n",
    "Hint: always convert to lowercase"
   ]
  },
  {
   "cell_type": "code",
   "execution_count": 19,
   "metadata": {},
   "outputs": [],
   "source": [
    "menu = {'salad', 'pasta', 'sandwich', 'pizza', 'drinks', 'dessert'}"
   ]
  },
  {
   "cell_type": "code",
   "execution_count": 20,
   "metadata": {},
   "outputs": [
    {
     "name": "stdin",
     "output_type": "stream",
     "text": [
      "Check menu: water\n"
     ]
    },
    {
     "name": "stdout",
     "output_type": "stream",
     "text": [
      "No 'water' is not in our menu\n"
     ]
    },
    {
     "name": "stdin",
     "output_type": "stream",
     "text": [
      "Do you want to add 'water into menu (y/n): y\n"
     ]
    },
    {
     "name": "stdout",
     "output_type": "stream",
     "text": [
      "menu = {'drinks', 'water', 'dessert', 'salad', 'pizza', 'sandwich', 'pasta'}\n"
     ]
    }
   ],
   "source": [
    "# Solution\n",
    "item = input(\"Check menu:\").lower()\n",
    "if item in menu:\n",
    "    print(f\"'{item}' is in our menu\")\n",
    "else:\n",
    "    print(f\"No '{item}' is not in our menu\")\n",
    "    add = input(f\"Do you want to add '{item} into menu (y/n):\").lower()\n",
    "    if add == 'y':\n",
    "        menu.add(item)\n",
    "print(\"menu =\",menu)"
   ]
  },
  {
   "cell_type": "code",
   "execution_count": null,
   "metadata": {},
   "outputs": [],
   "source": []
  }
 ],
 "metadata": {
  "kernelspec": {
   "display_name": "Python 3",
   "language": "python",
   "name": "python3"
  },
  "language_info": {
   "codemirror_mode": {
    "name": "ipython",
    "version": 3
   },
   "file_extension": ".py",
   "mimetype": "text/x-python",
   "name": "python",
   "nbconvert_exporter": "python",
   "pygments_lexer": "ipython3",
   "version": "3.8.5"
  }
 },
 "nbformat": 4,
 "nbformat_minor": 4
}
