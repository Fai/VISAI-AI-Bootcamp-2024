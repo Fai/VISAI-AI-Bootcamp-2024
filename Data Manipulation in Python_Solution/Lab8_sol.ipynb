{
 "cells": [
  {
   "cell_type": "markdown",
   "metadata": {},
   "source": [
    "# Basic Python Lab 8\n",
    "- Dictionary"
   ]
  },
  {
   "cell_type": "markdown",
   "metadata": {},
   "source": [
    "***\n",
    "### Dictionary\n",
    "Dictionary is a collection on Python. This collection is **unordered** but **indexed**. We use curly brackets `{key: value}` to refer to this data type.\\\n",
    "Dictionary will contain 2 entities: the left one is called **key** and the right one is called **value**.\n",
    "\n",
    "1. Dict Creation\n",
    "2. Dict Lookup\n",
    "3. Dict Method\n",
    "4. Iteration"
   ]
  },
  {
   "cell_type": "markdown",
   "metadata": {},
   "source": [
    "#### Dict Creation\n",
    "A dictionary is a collection, but it is not a sequence.\\\n",
    "A dictionary is often referred to as a map collection.\\\n",
    "Dictionaries are mappings that use arbitrary keys to map to values.\\\n",
    "Dictionaries are created by surrounding key/value pairs in curly brackets and separating them with commas, like this\n",
    "```python\n",
    "phonebook = {'VISTEC': '01-111-1111',  'Bangkok': '02-222-2222',  'Rayong': '03-333-3333'}\n",
    "```"
   ]
  },
  {
   "cell_type": "code",
   "execution_count": 1,
   "metadata": {},
   "outputs": [
    {
     "name": "stdout",
     "output_type": "stream",
     "text": [
      "squares dict = {1: 1, 2: 4, 3: 9, 4: 16}\n",
      "grades dict = {'English': 97, 'Math': 93, 'Art': 74, 'Music': 86}\n",
      "cities dict = {'China': ['Shanghai', 'Beijing'], 'USA': ['New York', 'Los Angeles'], 'Spain': ['Madrid', 'Barcelona'], 'Australia': ['Sydney', 'Melbourne']}\n"
     ]
    }
   ],
   "source": [
    "squares = {1: 1, 2: 4, 3: 9, 4: 16}\n",
    "print(f\"squares dict = {squares}\")\n",
    "\n",
    "grades = {'English':97, 'Math':93, 'Art':74, 'Music':86}\n",
    "print(f\"grades dict = {grades}\")\n",
    "\n",
    "\n",
    "cities = {'China': ['Shanghai', 'Beijing'],\n",
    "          'USA': ['New York', 'Los Angeles'],\n",
    "          'Spain': ['Madrid', 'Barcelona'],\n",
    "          'Australia': ['Sydney', 'Melbourne']}\n",
    "print(f\"cities dict = {cities}\")"
   ]
  },
  {
   "cell_type": "code",
   "execution_count": 2,
   "metadata": {},
   "outputs": [
    {
     "name": "stdout",
     "output_type": "stream",
     "text": [
      "{1: 'one', 2: 'two', 3: 'three'}\n"
     ]
    }
   ],
   "source": [
    "data = [(1, 'one'), (2, 'two'), (3, 'three')]\n",
    "names = dict(data)\n",
    "print(names)"
   ]
  },
  {
   "cell_type": "code",
   "execution_count": 3,
   "metadata": {},
   "outputs": [
    {
     "name": "stdout",
     "output_type": "stream",
     "text": [
      "<zip object at 0x0000019279A28080>\n",
      "[(1, 'one'), (2, 'two'), (3, 'three')]\n",
      "{1: 'one', 2: 'two', 3: 'three'}\n"
     ]
    }
   ],
   "source": [
    "# zip() function\n",
    "list1 = [1,2,3]\n",
    "list2 = ['one','two','three']\n",
    "print(zip(list1,list2))\n",
    "print(list(zip(list1,list2)))\n",
    "print(dict(zip(list1,list2)))"
   ]
  },
  {
   "cell_type": "markdown",
   "metadata": {},
   "source": [
    "#### Test yourself!"
   ]
  },
  {
   "cell_type": "code",
   "execution_count": null,
   "metadata": {},
   "outputs": [],
   "source": [
    "# Create dict of month using number of the month as key and month as value\n",
    "\n",
    "# 1. from scratch\n",
    "dict_mon = {____}\n",
    "print(dict_mon)\n",
    "\n",
    "# 2. from list of [1,2,3,4,5,6,7,8,9,10,11,12] and list of month\n",
    "list_num = ____\n",
    "list_mon = ____\n",
    "dict_tuple = dict(zip(____))\n",
    "print(dict_tuple)\n"
   ]
  },
  {
   "cell_type": "code",
   "execution_count": 4,
   "metadata": {},
   "outputs": [
    {
     "name": "stdout",
     "output_type": "stream",
     "text": [
      "{1: 'Jan', 2: 'Feb', 3: 'Mar', 4: 'Apr', 5: 'May', 6: 'Jun', 7: 'Jul', 8: 'Aug', 9: 'Sep', 10: 'Oct', 11: 'Nov', 12: 'Dec'}\n",
      "{1: 'Jan', 2: 'Feb', 3: 'Mar', 4: 'Apr', 5: 'May', 6: 'Jun', 7: 'Jul', 8: 'Aug', 9: 'Sep', 10: 'Oct', 11: 'Nov', 12: 'Dec'}\n"
     ]
    }
   ],
   "source": [
    "# Solution\n",
    "# Create dict of month using number of the month as key and month as value\n",
    "\n",
    "# 1. from scratch\n",
    "dict_mon = {1:'Jan',2:'Feb',3:'Mar',4:'Apr',5:'May',6:'Jun',7:'Jul',8:'Aug',9:'Sep',10:'Oct',11:'Nov',12:'Dec'}\n",
    "print(dict_mon)\n",
    "\n",
    "# 2. from list of [1,2,3,4,5,6,7,8,9,10,11,12] and list of month\n",
    "list_num = [1,2,3,4,5,6,7,8,9,10,11,12]\n",
    "list_mon = ['Jan','Feb','Mar','Apr','May','Jun','Jul','Aug','Sep','Oct','Nov','Dec']\n",
    "dict_tuple = dict(zip(list_num,list_mon))\n",
    "print(dict_tuple)\n"
   ]
  },
  {
   "cell_type": "markdown",
   "metadata": {},
   "source": [
    "#### Dict Lookup\n",
    "Use indexing with keys to access values.\\\n",
    "Do not support indexing or slicing as they have no set order."
   ]
  },
  {
   "cell_type": "code",
   "execution_count": 5,
   "metadata": {},
   "outputs": [
    {
     "name": "stdout",
     "output_type": "stream",
     "text": [
      "English grade = 97\n"
     ]
    }
   ],
   "source": [
    "grades = {'English':97, 'Math':93, 'Art':74, 'Music':86}\n",
    "print(f\"English grade = {grades['English']}\")"
   ]
  },
  {
   "cell_type": "code",
   "execution_count": 6,
   "metadata": {},
   "outputs": [
    {
     "ename": "KeyError",
     "evalue": "'Thai'",
     "output_type": "error",
     "traceback": [
      "\u001b[1;31m---------------------------------------------------------------------------\u001b[0m",
      "\u001b[1;31mKeyError\u001b[0m                                  Traceback (most recent call last)",
      "\u001b[1;32m<ipython-input-6-7e35c83b60e2>\u001b[0m in \u001b[0;36m<module>\u001b[1;34m\u001b[0m\n\u001b[1;32m----> 1\u001b[1;33m \u001b[0mprint\u001b[0m\u001b[1;33m(\u001b[0m\u001b[1;34mf\"Thai grade = {grades['Thai']}\"\u001b[0m\u001b[1;33m)\u001b[0m \u001b[1;31m# --> raise Error ไม่มี key 'Thai'\u001b[0m\u001b[1;33m\u001b[0m\u001b[1;33m\u001b[0m\u001b[0m\n\u001b[0m",
      "\u001b[1;31mKeyError\u001b[0m: 'Thai'"
     ]
    }
   ],
   "source": [
    "print(f\"Thai grade = {grades['Thai']}\") # --> raise Error ไม่มี key 'Thai'"
   ]
  },
  {
   "cell_type": "code",
   "execution_count": 7,
   "metadata": {},
   "outputs": [
    {
     "name": "stdout",
     "output_type": "stream",
     "text": [
      "{4.0: 2, 'a': 3, True: 'hello', False: 'bye'}\n",
      "hello\n",
      "bye\n",
      "2\n"
     ]
    }
   ],
   "source": [
    "# Mix of key types\n",
    "# Not recommended\n",
    "mapping = {4.0: 2, 'a': 3, True: 'hello', False: 'bye'}\n",
    "print(mapping)\n",
    "print(mapping[1])\n",
    "print(mapping[0])\n",
    "print(mapping[4])"
   ]
  },
  {
   "cell_type": "code",
   "execution_count": 8,
   "metadata": {},
   "outputs": [
    {
     "ename": "TypeError",
     "evalue": "unhashable type: 'list'",
     "output_type": "error",
     "traceback": [
      "\u001b[1;31m---------------------------------------------------------------------------\u001b[0m",
      "\u001b[1;31mTypeError\u001b[0m                                 Traceback (most recent call last)",
      "\u001b[1;32m<ipython-input-8-2c5b1a94f741>\u001b[0m in \u001b[0;36m<module>\u001b[1;34m\u001b[0m\n\u001b[0;32m      1\u001b[0m \u001b[1;31m# lists cannot be keys for dictionay\u001b[0m\u001b[1;33m\u001b[0m\u001b[1;33m\u001b[0m\u001b[1;33m\u001b[0m\u001b[0m\n\u001b[1;32m----> 2\u001b[1;33m cities = {['Shanghai', 'Beijing'] : 'China',\n\u001b[0m\u001b[0;32m      3\u001b[0m           \u001b[1;33m[\u001b[0m\u001b[1;34m'New York'\u001b[0m\u001b[1;33m,\u001b[0m \u001b[1;34m'Los Angeles'\u001b[0m\u001b[1;33m]\u001b[0m \u001b[1;33m:\u001b[0m \u001b[1;34m'USA'\u001b[0m\u001b[1;33m,\u001b[0m\u001b[1;33m\u001b[0m\u001b[1;33m\u001b[0m\u001b[0m\n\u001b[0;32m      4\u001b[0m           \u001b[1;33m[\u001b[0m\u001b[1;34m'Madrid'\u001b[0m\u001b[1;33m,\u001b[0m \u001b[1;34m'Barcelona'\u001b[0m\u001b[1;33m]\u001b[0m \u001b[1;33m:\u001b[0m \u001b[1;34m'Spain'\u001b[0m\u001b[1;33m,\u001b[0m\u001b[1;33m\u001b[0m\u001b[1;33m\u001b[0m\u001b[0m\n\u001b[0;32m      5\u001b[0m           ['Sydney', 'Melbourne'] : 'Australia'}\n",
      "\u001b[1;31mTypeError\u001b[0m: unhashable type: 'list'"
     ]
    }
   ],
   "source": [
    "# lists cannot be keys for dictionay\n",
    "cities = {['Shanghai', 'Beijing'] : 'China',\n",
    "          ['New York', 'Los Angeles'] : 'USA',\n",
    "          ['Madrid', 'Barcelona'] : 'Spain',\n",
    "          ['Sydney', 'Melbourne'] : 'Australia'}\n",
    "print(f\"cities dict = {cities}\")"
   ]
  },
  {
   "cell_type": "code",
   "execution_count": 9,
   "metadata": {},
   "outputs": [
    {
     "ename": "TypeError",
     "evalue": "unhashable type: 'set'",
     "output_type": "error",
     "traceback": [
      "\u001b[1;31m---------------------------------------------------------------------------\u001b[0m",
      "\u001b[1;31mTypeError\u001b[0m                                 Traceback (most recent call last)",
      "\u001b[1;32m<ipython-input-9-853cd41e695a>\u001b[0m in \u001b[0;36m<module>\u001b[1;34m\u001b[0m\n\u001b[0;32m      1\u001b[0m \u001b[1;31m# sets cannot be keys for dictionay\u001b[0m\u001b[1;33m\u001b[0m\u001b[1;33m\u001b[0m\u001b[1;33m\u001b[0m\u001b[0m\n\u001b[1;32m----> 2\u001b[1;33m cities = {{'Shanghai', 'Beijing'}: 'China',\n\u001b[0m\u001b[0;32m      3\u001b[0m           \u001b[1;33m{\u001b[0m\u001b[1;34m'New York'\u001b[0m\u001b[1;33m,\u001b[0m \u001b[1;34m'Los Angeles'\u001b[0m\u001b[1;33m}\u001b[0m \u001b[1;33m:\u001b[0m \u001b[1;34m'USA'\u001b[0m\u001b[1;33m,\u001b[0m\u001b[1;33m\u001b[0m\u001b[1;33m\u001b[0m\u001b[0m\n\u001b[0;32m      4\u001b[0m           \u001b[1;33m{\u001b[0m\u001b[1;34m'Madrid'\u001b[0m\u001b[1;33m,\u001b[0m \u001b[1;34m'Barcelona'\u001b[0m\u001b[1;33m}\u001b[0m \u001b[1;33m:\u001b[0m \u001b[1;34m'Spain'\u001b[0m\u001b[1;33m,\u001b[0m\u001b[1;33m\u001b[0m\u001b[1;33m\u001b[0m\u001b[0m\n\u001b[0;32m      5\u001b[0m           {'Sydney', 'Melbourne'} : 'Australia'}\n",
      "\u001b[1;31mTypeError\u001b[0m: unhashable type: 'set'"
     ]
    }
   ],
   "source": [
    "# sets cannot be keys for dictionay\n",
    "cities = {{'Shanghai', 'Beijing'}: 'China',\n",
    "          {'New York', 'Los Angeles'} : 'USA',\n",
    "          {'Madrid', 'Barcelona'} : 'Spain',\n",
    "          {'Sydney', 'Melbourne'} : 'Australia'}\n",
    "print(f\"cities dict = {cities}\")"
   ]
  },
  {
   "cell_type": "code",
   "execution_count": 10,
   "metadata": {},
   "outputs": [
    {
     "name": "stdout",
     "output_type": "stream",
     "text": [
      "cities dict = {('Shanghai', 'Beijing'): 'China', ('New York', 'Los Angeles'): 'USA', ('Madrid', 'Barcelona'): 'Spain', ('Sydney', 'Melbourne'): 'Australia'}\n"
     ]
    }
   ],
   "source": [
    "# tuples can be keys for dictionay\n",
    "cities = {('Shanghai', 'Beijing'): 'China',\n",
    "          ('New York', 'Los Angeles') : 'USA',\n",
    "          ('Madrid', 'Barcelona') : 'Spain',\n",
    "          ('Sydney', 'Melbourne') : 'Australia'}\n",
    "print(f\"cities dict = {cities}\")"
   ]
  },
  {
   "cell_type": "markdown",
   "metadata": {},
   "source": [
    "#### Dict Modify, Add, Delete\n",
    "- Modify : `dict[key] = new value`\n",
    "- Add : `dict[new key] = value`\n",
    "- Delete : `del dict[key]`, `dict.pop(key)`"
   ]
  },
  {
   "cell_type": "code",
   "execution_count": 11,
   "metadata": {},
   "outputs": [
    {
     "name": "stdout",
     "output_type": "stream",
     "text": [
      "English grade = 97\n",
      "English grade = 55\n"
     ]
    }
   ],
   "source": [
    "grades = {'English':97, 'Math':93, 'Art':74, 'Music':86}\n",
    "print(f\"English grade = {grades['English']}\")\n",
    "\n",
    "# Modify\n",
    "grades['English'] = 55\n",
    "print(f\"English grade = {grades['English']}\")"
   ]
  },
  {
   "cell_type": "code",
   "execution_count": 12,
   "metadata": {},
   "outputs": [
    {
     "name": "stdout",
     "output_type": "stream",
     "text": [
      "Thai grade = 88\n"
     ]
    }
   ],
   "source": [
    "# Add\n",
    "grades['Thai'] = 88\n",
    "print(f\"Thai grade = {grades['Thai']}\")"
   ]
  },
  {
   "cell_type": "code",
   "execution_count": 13,
   "metadata": {},
   "outputs": [
    {
     "name": "stdout",
     "output_type": "stream",
     "text": [
      "grades dict = {'English': 55, 'Math': 93, 'Art': 74, 'Music': 86}\n"
     ]
    }
   ],
   "source": [
    "# Delete\n",
    "del grades['Thai']\n",
    "print(f\"grades dict = {grades}\")"
   ]
  },
  {
   "cell_type": "code",
   "execution_count": 14,
   "metadata": {},
   "outputs": [
    {
     "ename": "KeyError",
     "evalue": "'Thai'",
     "output_type": "error",
     "traceback": [
      "\u001b[1;31m---------------------------------------------------------------------------\u001b[0m",
      "\u001b[1;31mKeyError\u001b[0m                                  Traceback (most recent call last)",
      "\u001b[1;32m<ipython-input-14-aeae50a69696>\u001b[0m in \u001b[0;36m<module>\u001b[1;34m\u001b[0m\n\u001b[0;32m      1\u001b[0m \u001b[1;31m# Delete\u001b[0m\u001b[1;33m\u001b[0m\u001b[1;33m\u001b[0m\u001b[1;33m\u001b[0m\u001b[0m\n\u001b[1;32m----> 2\u001b[1;33m \u001b[1;32mdel\u001b[0m \u001b[0mgrades\u001b[0m\u001b[1;33m[\u001b[0m\u001b[1;34m'Thai'\u001b[0m\u001b[1;33m]\u001b[0m\u001b[1;33m\u001b[0m\u001b[1;33m\u001b[0m\u001b[0m\n\u001b[0m\u001b[0;32m      3\u001b[0m \u001b[0mprint\u001b[0m\u001b[1;33m(\u001b[0m\u001b[1;34mf\"grades dict = {grades}\"\u001b[0m\u001b[1;33m)\u001b[0m \u001b[1;31m# --> raise Error ไม่มี key 'Thai'\u001b[0m\u001b[1;33m\u001b[0m\u001b[1;33m\u001b[0m\u001b[0m\n",
      "\u001b[1;31mKeyError\u001b[0m: 'Thai'"
     ]
    }
   ],
   "source": [
    "# Delete\n",
    "del grades['Thai']\n",
    "print(f\"grades dict = {grades}\") # --> raise Error ไม่มี key 'Thai'"
   ]
  },
  {
   "cell_type": "code",
   "execution_count": 15,
   "metadata": {},
   "outputs": [
    {
     "name": "stdout",
     "output_type": "stream",
     "text": [
      "grades dict = {'Math': 93, 'Art': 74, 'Music': 86}\n"
     ]
    }
   ],
   "source": [
    "# Delete\n",
    "grades.pop('English')\n",
    "print(f\"grades dict = {grades}\")"
   ]
  },
  {
   "cell_type": "code",
   "execution_count": 16,
   "metadata": {},
   "outputs": [
    {
     "ename": "KeyError",
     "evalue": "'English'",
     "output_type": "error",
     "traceback": [
      "\u001b[1;31m---------------------------------------------------------------------------\u001b[0m",
      "\u001b[1;31mKeyError\u001b[0m                                  Traceback (most recent call last)",
      "\u001b[1;32m<ipython-input-16-666c574c859e>\u001b[0m in \u001b[0;36m<module>\u001b[1;34m\u001b[0m\n\u001b[0;32m      1\u001b[0m \u001b[1;31m# Delete\u001b[0m\u001b[1;33m\u001b[0m\u001b[1;33m\u001b[0m\u001b[1;33m\u001b[0m\u001b[0m\n\u001b[1;32m----> 2\u001b[1;33m \u001b[0mgrades\u001b[0m\u001b[1;33m.\u001b[0m\u001b[0mpop\u001b[0m\u001b[1;33m(\u001b[0m\u001b[1;34m'English'\u001b[0m\u001b[1;33m)\u001b[0m\u001b[1;33m\u001b[0m\u001b[1;33m\u001b[0m\u001b[0m\n\u001b[0m\u001b[0;32m      3\u001b[0m \u001b[0mprint\u001b[0m\u001b[1;33m(\u001b[0m\u001b[1;34mf\"grades dict = {grades}\"\u001b[0m\u001b[1;33m)\u001b[0m \u001b[1;31m# --> raise Error ไม่มี key 'English'\u001b[0m\u001b[1;33m\u001b[0m\u001b[1;33m\u001b[0m\u001b[0m\n",
      "\u001b[1;31mKeyError\u001b[0m: 'English'"
     ]
    }
   ],
   "source": [
    "# Delete\n",
    "grades.pop('English')\n",
    "print(f\"grades dict = {grades}\") # --> raise Error ไม่มี key 'English'"
   ]
  },
  {
   "cell_type": "markdown",
   "metadata": {},
   "source": [
    "*----------Desirable----------* ไม่จำเป็นต้องจำทุกตัวจำแค่ที่สำคัญๆ\n",
    "#### Dict Method\n",
    "- `.get()` : returns the value for key if it is found. Otherwise, it returns default if passed in or None if it is not. !สำคัญ!\n",
    "- `.update()` : mused to add new key/value pairs to a dictionary or to overwrite the values of existing keys or both.\n",
    "- `.setdefault()` : If key does not exist in the dictionary, key is added with a value of default, If key exists in the dictionary, the value for key is left unchanged.\n",
    "- `.clear()` : remove all elements from a dictionary.\n",
    "- `.keys()` : get all keys from a dictionary !สำคัญ!\n",
    "- `.values()` : get all values from a dictionary !สำคัญ!\n",
    "- `.items()` : get all (key,value) in  from a dictionary !สำคัญ!"
   ]
  },
  {
   "cell_type": "code",
   "execution_count": 17,
   "metadata": {},
   "outputs": [
    {
     "name": "stdout",
     "output_type": "stream",
     "text": [
      "93\n",
      "None\n",
      "default_value\n"
     ]
    }
   ],
   "source": [
    "# .get(), use when you are unsure if the key exists.\n",
    "\n",
    "grades = {'English':97, 'Math':93, 'Art':74, 'Music':86}\n",
    "\n",
    "print(grades.get('Math'))\n",
    "print(grades.get('Thai'))\n",
    "print(grades.get('Thai', 'default_value'))"
   ]
  },
  {
   "cell_type": "code",
   "execution_count": 18,
   "metadata": {},
   "outputs": [
    {
     "name": "stdout",
     "output_type": "stream",
     "text": [
      "{'English': 97, 'Math': 100, 'Art': 74, 'Music': 86, 'Gym': 50}\n"
     ]
    }
   ],
   "source": [
    "# .update()\n",
    "\n",
    "grades = {'English':97, 'Math':93, 'Art':74, 'Music':86}\n",
    "\n",
    "grades.update({'Math':100, 'Gym':50}) # update Math, add Gym\n",
    "print(grades)"
   ]
  },
  {
   "cell_type": "code",
   "execution_count": 19,
   "metadata": {},
   "outputs": [
    {
     "name": "stdout",
     "output_type": "stream",
     "text": [
      "{'English': 97, 'Math': 93, 'Art': 74, 'Music': 86, 'Gym': 50}\n"
     ]
    }
   ],
   "source": [
    "#.setdefault(key, default)\n",
    "\n",
    "grades = {'English':97, 'Math':93, 'Art':74, 'Music':86} \n",
    "\n",
    "grades.setdefault('Math',100)    # Math key exists. No change.\n",
    "grades.setdefault('Gym',50)      # Gym key is new. Added and set.\n",
    "print(grades)"
   ]
  },
  {
   "cell_type": "code",
   "execution_count": 20,
   "metadata": {},
   "outputs": [
    {
     "name": "stdout",
     "output_type": "stream",
     "text": [
      "dict_keys(['English', 'Math', 'Art', 'Music'])\n",
      "dict_values([97, 93, 74, 86])\n",
      "dict_items([('English', 97), ('Math', 93), ('Art', 74), ('Music', 86)])\n"
     ]
    }
   ],
   "source": [
    "# .keys(), .values(), .items()\n",
    "\n",
    "grades = {'English':97, 'Math':93, 'Art':74, 'Music':86} \n",
    "\n",
    "print(grades.keys())     # -> List\n",
    "print(grades.values())   # -> List\n",
    "print(grades.items())    # -> List of tuples (key,value)"
   ]
  },
  {
   "cell_type": "markdown",
   "metadata": {},
   "source": [
    "#### Iteration\n",
    "Iterate over key and value"
   ]
  },
  {
   "cell_type": "code",
   "execution_count": 21,
   "metadata": {},
   "outputs": [
    {
     "name": "stdout",
     "output_type": "stream",
     "text": [
      "English\n",
      "Math\n",
      "Art\n",
      "Music\n"
     ]
    }
   ],
   "source": [
    "grades = {'English':97, 'Math':93, 'Art':74, 'Music':86} \n",
    "\n",
    "for key in grades:  # use key for loop\n",
    "    print(key)"
   ]
  },
  {
   "cell_type": "code",
   "execution_count": 22,
   "metadata": {
    "scrolled": true
   },
   "outputs": [
    {
     "name": "stdout",
     "output_type": "stream",
     "text": [
      "True\n",
      "False\n",
      "True\n"
     ]
    }
   ],
   "source": [
    "# In operation in Dict\n",
    "print('English' in grades)\n",
    "print('Thai' in grades)\n",
    "print('Math' in grades)"
   ]
  },
  {
   "cell_type": "code",
   "execution_count": 23,
   "metadata": {},
   "outputs": [
    {
     "name": "stdout",
     "output_type": "stream",
     "text": [
      "English\n",
      "Math\n",
      "Art\n",
      "Music\n"
     ]
    }
   ],
   "source": [
    "for key in grades.keys():  #use key for loop\n",
    "    print(key)"
   ]
  },
  {
   "cell_type": "code",
   "execution_count": 24,
   "metadata": {},
   "outputs": [
    {
     "name": "stdout",
     "output_type": "stream",
     "text": [
      "97\n",
      "93\n",
      "74\n",
      "86\n"
     ]
    }
   ],
   "source": [
    "for value in grades.values():  #use value for loop\n",
    "    print(value)"
   ]
  },
  {
   "cell_type": "code",
   "execution_count": 25,
   "metadata": {
    "scrolled": true
   },
   "outputs": [
    {
     "name": "stdout",
     "output_type": "stream",
     "text": [
      "('English', 97)\n",
      "('Math', 93)\n",
      "('Art', 74)\n",
      "('Music', 86)\n"
     ]
    }
   ],
   "source": [
    "for i in grades.items():  #use item for loop\n",
    "    print(i)"
   ]
  },
  {
   "cell_type": "code",
   "execution_count": 26,
   "metadata": {},
   "outputs": [
    {
     "name": "stdout",
     "output_type": "stream",
     "text": [
      "English - 97\n",
      "Math - 93\n",
      "Art - 74\n",
      "Music - 86\n"
     ]
    }
   ],
   "source": [
    "for key, value in grades.items():  #use item for loop\n",
    "    print(key,\"-\",value)"
   ]
  },
  {
   "cell_type": "markdown",
   "metadata": {},
   "source": [
    "#### Test Yourself!"
   ]
  },
  {
   "cell_type": "code",
   "execution_count": null,
   "metadata": {},
   "outputs": [],
   "source": [
    "# Find the average score\n",
    "grades = {'English':97, 'Math':93, 'Art':74, 'Music':86}\n",
    "# Your code"
   ]
  },
  {
   "cell_type": "code",
   "execution_count": 27,
   "metadata": {},
   "outputs": [
    {
     "data": {
      "text/plain": [
       "87.5"
      ]
     },
     "execution_count": 27,
     "metadata": {},
     "output_type": "execute_result"
    }
   ],
   "source": [
    "# Solution\n",
    "sum(grades.values())/len(grades)"
   ]
  },
  {
   "cell_type": "code",
   "execution_count": null,
   "metadata": {},
   "outputs": [],
   "source": [
    "# Write a program to find score of each subject in dict, if no subject in dict -> show \"Not found\"\n",
    "subject = input('Find score:') # Ex. \"Math English Thai Gym Art\"\n",
    "# Your code"
   ]
  },
  {
   "cell_type": "code",
   "execution_count": 28,
   "metadata": {},
   "outputs": [
    {
     "name": "stdin",
     "output_type": "stream",
     "text": [
      "Find score: Math\n"
     ]
    },
    {
     "name": "stdout",
     "output_type": "stream",
     "text": [
      "93\n"
     ]
    }
   ],
   "source": [
    "# Solution\n",
    "subject = input('Find score:')\n",
    "print(grades.get(subject,\"Not found\"))"
   ]
  },
  {
   "cell_type": "markdown",
   "metadata": {},
   "source": [
    "#### Test Yourself!"
   ]
  },
  {
   "cell_type": "code",
   "execution_count": 29,
   "metadata": {},
   "outputs": [],
   "source": [
    "TheZenofPython = \"\"\"\n",
    "Beautiful is better than ugly.\n",
    "Explicit is better than implicit.\n",
    "Simple is better than complex.\n",
    "Complex is better than complicated.\n",
    "Flat is better than nested.\n",
    "Sparse is better than dense.\n",
    "Readability counts.\n",
    "Special cases aren't special enough to break the rules.\n",
    "Although practicality beats purity.\n",
    "Errors should never pass silently.\n",
    "Unless explicitly silenced.\n",
    "In the face of ambiguity, refuse the temptation to guess.\n",
    "There should be one-- and preferably only one --obvious way to do it.\n",
    "Although that way may not be obvious at first unless you're Dutch.\n",
    "Now is better than never.\n",
    "Although never is often better than *right* now.\n",
    "If the implementation is hard to explain, it's a bad idea.\n",
    "If the implementation is easy to explain, it may be a good idea.\n",
    "Namespaces are one honking great idea -- let's do more of those!\n",
    "\"\"\"\n",
    "# Count each alphabet in The Zen of Python and return as Dict"
   ]
  },
  {
   "cell_type": "code",
   "execution_count": 30,
   "metadata": {},
   "outputs": [
    {
     "name": "stdout",
     "output_type": "stream",
     "text": [
      "{'b': 20, 'e': 88, 'a': 53, 'u': 21, 't': 75, 'i': 52, 'f': 11, 'l': 33, 's': 45, 'r': 32, 'h': 29, 'n': 40, 'g': 11, 'y': 15, 'x': 6, 'p': 20, 'c': 17, 'm': 15, 'o': 41, 'd': 17, 'k': 2, 'v': 5, 'w': 4}\n"
     ]
    }
   ],
   "source": [
    "# Solution\n",
    "# Count each alphabet in The Zen of Python and return as Dict\n",
    "text = TheZenofPython.lower()\n",
    "count_dict = {}\n",
    "\n",
    "for a in text:\n",
    "    if a.isalpha():\n",
    "        if a in count_dict:\n",
    "            count_dict[a] += 1 \n",
    "        else:\n",
    "            count_dict[a] = 1 \n",
    "print(count_dict)"
   ]
  },
  {
   "cell_type": "code",
   "execution_count": 31,
   "metadata": {},
   "outputs": [
    {
     "name": "stdout",
     "output_type": "stream",
     "text": [
      "{'b': 20, 'e': 88, 'a': 53, 'u': 21, 't': 75, 'i': 52, 'f': 11, 'l': 33, 's': 45, 'r': 32, 'h': 29, 'n': 40, 'g': 11, 'y': 15, 'x': 6, 'p': 20, 'c': 17, 'm': 15, 'o': 41, 'd': 17, 'k': 2, 'v': 5, 'w': 4}\n"
     ]
    }
   ],
   "source": [
    "# Solution\n",
    "# Count each alphabet in The Zen of Python and return as Dict\n",
    "text = TheZenofPython.lower()\n",
    "count_dict = {}\n",
    "\n",
    "for a in text:\n",
    "    if a.isalpha():\n",
    "        count_dict[a] = count_dict.get(a, 0) + 1\n",
    "\n",
    "print(count_dict)"
   ]
  },
  {
   "cell_type": "markdown",
   "metadata": {},
   "source": [
    "#### Excercise\n",
    "##### Word Index\n",
    "Write a program that reads the contents of a text file. The program should create a\n",
    "dictionary in which the key-value pairs are described as follows:\n",
    "\n",
    "    • Key. The keys are the individual words found in the file.\n",
    "    • Values. Each value is a list that contains the line numbers in the file where the word (the key) is found.\n",
    "For example, suppose the word “implementation ” is found in lines 17, 18. The\n",
    "dictionary would contain an element in which the key was the string “implementation ”, and the\n",
    "value was a list containing the numbers 17, 18."
   ]
  },
  {
   "cell_type": "code",
   "execution_count": 32,
   "metadata": {},
   "outputs": [],
   "source": [
    "TheZenofPython = \"\"\"\n",
    "Beautiful is better than ugly.\n",
    "Explicit is better than implicit.\n",
    "Simple is better than complex.\n",
    "Complex is better than complicated.\n",
    "Flat is better than nested.\n",
    "Sparse is better than dense.\n",
    "Readability counts.\n",
    "Special cases aren't special enough to break the rules.\n",
    "Although practicality beats purity.\n",
    "Errors should never pass silently.\n",
    "Unless explicitly silenced.\n",
    "In the face of ambiguity, refuse the temptation to guess.\n",
    "There should be one-- and preferably only one --obvious way to do it.\n",
    "Although that way may not be obvious at first unless you're Dutch.\n",
    "Now is better than never.\n",
    "Although never is often better than *right* now.\n",
    "If the implementation is hard to explain, it's a bad idea.\n",
    "If the implementation is easy to explain, it may be a good idea.\n",
    "Namespaces are one honking great idea -- let's do more of those!\n",
    "\"\"\"\n",
    "# Example result\n",
    "# Beautiful is found in lines  1\n",
    "# implementation  is found in lines  17,18\n",
    "# idea  is found in lines  17,18,19"
   ]
  },
  {
   "cell_type": "code",
   "execution_count": 33,
   "metadata": {},
   "outputs": [
    {
     "name": "stdout",
     "output_type": "stream",
     "text": [
      "'simple' is found in lines [3]\n",
      "'dense' is found in lines [6]\n",
      "'one' is found in lines [13, 19]\n",
      "'never' is found in lines [10, 15, 16]\n",
      "'one--' is found in lines [13]\n",
      "'you're' is found in lines [14]\n",
      "'guess' is found in lines [12]\n",
      "'now' is found in lines [15, 16]\n",
      "'aren't' is found in lines [8]\n",
      "'cases' is found in lines [8]\n",
      "'bad' is found in lines [17]\n",
      "'idea' is found in lines [17, 18, 19]\n",
      "'sparse' is found in lines [6]\n",
      "'ugly' is found in lines [1]\n",
      "'complex' is found in lines [3, 4]\n",
      "'implicit' is found in lines [2]\n",
      "'that' is found in lines [14]\n",
      "'good' is found in lines [18]\n",
      "'hard' is found in lines [17]\n",
      "'practicality' is found in lines [9]\n",
      "'easy' is found in lines [18]\n",
      "'not' is found in lines [14]\n",
      "'great' is found in lines [19]\n",
      "'explicit' is found in lines [2]\n",
      "'nested' is found in lines [5]\n",
      "'beautiful' is found in lines [1]\n",
      "'are' is found in lines [19]\n",
      "'first' is found in lines [14]\n",
      "'and' is found in lines [13]\n",
      "'errors' is found in lines [10]\n",
      "'special' is found in lines [8]\n",
      "'preferably' is found in lines [13]\n",
      "'honking' is found in lines [19]\n",
      "'enough' is found in lines [8]\n",
      "'should' is found in lines [10, 13]\n",
      "'implementation' is found in lines [17, 18]\n",
      "'way' is found in lines [13, 14]\n",
      "'at' is found in lines [14]\n",
      "'often' is found in lines [16]\n",
      "'may' is found in lines [14, 18]\n",
      "'counts' is found in lines [7]\n",
      "'the' is found in lines [8, 12, 17, 18]\n",
      "'flat' is found in lines [5]\n",
      "'namespaces' is found in lines [19]\n",
      "'is' is found in lines [1, 2, 3, 4, 5, 6, 15, 16, 17, 18]\n",
      "'explicitly' is found in lines [11]\n",
      "'in' is found in lines [12]\n",
      "'break' is found in lines [8]\n",
      "'than' is found in lines [1, 2, 3, 4, 5, 6, 15, 16]\n",
      "'to' is found in lines [8, 12, 13, 17, 18]\n",
      "'*right*' is found in lines [16]\n",
      "'rules' is found in lines [8]\n",
      "'--' is found in lines [19]\n",
      "'--obvious' is found in lines [13]\n",
      "'be' is found in lines [13, 14, 18]\n",
      "'readability' is found in lines [7]\n",
      "'dutch' is found in lines [14]\n",
      "'silently' is found in lines [10]\n",
      "'only' is found in lines [13]\n",
      "'let's' is found in lines [19]\n",
      "'there' is found in lines [13]\n",
      "'beats' is found in lines [9]\n",
      "'although' is found in lines [9, 14, 16]\n",
      "'of' is found in lines [12, 19]\n",
      "'purity' is found in lines [9]\n",
      "'explain,' is found in lines [17, 18]\n",
      "'refuse' is found in lines [12]\n",
      "'unless' is found in lines [11, 14]\n",
      "'pass' is found in lines [10]\n",
      "'complicated' is found in lines [4]\n",
      "'obvious' is found in lines [14]\n",
      "'more' is found in lines [19]\n",
      "'a' is found in lines [17, 18]\n",
      "'better' is found in lines [1, 2, 3, 4, 5, 6, 15, 16]\n",
      "'if' is found in lines [17, 18]\n",
      "'silenced' is found in lines [11]\n",
      "'do' is found in lines [13, 19]\n",
      "'it' is found in lines [13, 18]\n",
      "'those!' is found in lines [19]\n",
      "'ambiguity,' is found in lines [12]\n",
      "'face' is found in lines [12]\n",
      "'temptation' is found in lines [12]\n",
      "'it's' is found in lines [17]\n"
     ]
    }
   ],
   "source": [
    "# Solution\n",
    "# ตัดบรรทัดแรก กับบรรทัดสุดท้ายออก \\n\n",
    "TheZenofPython = TheZenofPython.lower()[1:-1]\n",
    "# แยกบรรทัด\n",
    "lines = TheZenofPython.replace('.','').split('\\n')\n",
    "words = set(TheZenofPython.replace('\\n',' ').replace('.','').split(' '))\n",
    "\n",
    "word_index = dict()    \n",
    "    \n",
    "for word in words:\n",
    "    line_list = []\n",
    "    for num in range(len(lines)):\n",
    "        if word in lines[num].split(' '):\n",
    "            line_list.append(num+1)\n",
    "    word_index[word] = line_list\n",
    "            \n",
    "for word in word_index:\n",
    "    print(f\"'{word}' is found in lines {word_index[word]}\")"
   ]
  },
  {
   "cell_type": "code",
   "execution_count": null,
   "metadata": {},
   "outputs": [],
   "source": []
  }
 ],
 "metadata": {
  "kernelspec": {
   "display_name": "Python 3",
   "language": "python",
   "name": "python3"
  },
  "language_info": {
   "codemirror_mode": {
    "name": "ipython",
    "version": 3
   },
   "file_extension": ".py",
   "mimetype": "text/x-python",
   "name": "python",
   "nbconvert_exporter": "python",
   "pygments_lexer": "ipython3",
   "version": "3.8.5"
  }
 },
 "nbformat": 4,
 "nbformat_minor": 4
}
