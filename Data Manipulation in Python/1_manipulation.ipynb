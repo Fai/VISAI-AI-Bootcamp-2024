{
 "cells": [
  {
   "cell_type": "markdown",
   "id": "1cf0bde8",
   "metadata": {},
   "source": [
    "# Lab 1: Data Manipulation"
   ]
  },
  {
   "cell_type": "markdown",
   "id": "1122593a",
   "metadata": {},
   "source": [
    "## <u>Table of contents</u>"
   ]
  },
  {
   "cell_type": "markdown",
   "id": "dcab303a",
   "metadata": {},
   "source": [
    "### 1. Manipulation\n",
    "1. Data Structure and Input/Output Data <br>\n",
    "2. Getting Data and Modifying Data <br>\n",
    "3. Summary statistics and aggregating data <br>\n",
    "4. Merge and Append Data"
   ]
  },
  {
   "cell_type": "markdown",
   "id": "9772efc0",
   "metadata": {},
   "source": [
    "### 2. Cleaning\n",
    "1. Outlier <br>\n",
    "2. Incorrect data type<br>\n",
    "3. Missing data<br>\n",
    "4. Duplicates<br>\n",
    "5. Inaccurate data/ Invalid category<br>\n",
    "6. Data Binning<br>\n",
    "7. Data encoding"
   ]
  },
  {
   "cell_type": "markdown",
   "id": "1b95ab00",
   "metadata": {},
   "source": [
    "<b>Cheat sheet</b> <br>\n",
    "pandas: https://pandas.pydata.org/Pandas_Cheat_Sheet.pdf"
   ]
  },
  {
   "cell_type": "markdown",
   "id": "1087d549",
   "metadata": {},
   "source": [
    "## 1. Data Structure and Input/Output Data"
   ]
  },
  {
   "cell_type": "markdown",
   "id": "99b654e4",
   "metadata": {},
   "source": [
    "First, `import` is used to import modules in Python. <br>\n",
    "Python has many modules related to data manipulation. The most common modules are `numpy` and `pandas`."
   ]
  },
  {
   "cell_type": "code",
   "execution_count": null,
   "id": "cb8664aa",
   "metadata": {},
   "outputs": [],
   "source": [
    "# To import modules, use these codes\n",
    "import numpy as np\n",
    "import pandas as pd"
   ]
  },
  {
   "cell_type": "markdown",
   "id": "af7ac93d",
   "metadata": {},
   "source": [
    "We can create our own DataFrame by using `<pandas>.DataFrame(<dictionary>)` or `<pandas>.DataFrame(<array>)`<br><br>\n",
    "Doc. df.: https://pandas.pydata.org/docs/reference/api/pandas.DataFrame.html"
   ]
  },
  {
   "cell_type": "code",
   "execution_count": null,
   "id": "c5f40e66",
   "metadata": {},
   "outputs": [],
   "source": [
    "created_data = pd.DataFrame({\n",
    "        \"a\" : [1, 2, 3],\n",
    "        \"b\": [4, 5, 6],\n",
    "        \"c\": [7, 8, 9]\n",
    "    })\n",
    "display(created_data)"
   ]
  },
  {
   "cell_type": "code",
   "execution_count": null,
   "id": "dd6ddb4d",
   "metadata": {},
   "outputs": [],
   "source": [
    "display(\n",
    "    pd.DataFrame([\n",
    "        [1, 2, 3], \n",
    "        [4, 5, 6],\n",
    "        [7, 8, 9]\n",
    "    ])\n",
    ")"
   ]
  },
  {
   "cell_type": "markdown",
   "id": "86d80fcd",
   "metadata": {},
   "source": [
    "We can also create sub column name."
   ]
  },
  {
   "cell_type": "code",
   "execution_count": null,
   "id": "69f4412a",
   "metadata": {},
   "outputs": [],
   "source": [
    "pd.DataFrame({\n",
    "        (1, \"a\") : [1, 2, 3],\n",
    "        (1, \"b\"): [4, 5, 6],\n",
    "        (2, \"a\"): [1, 2, 3],\n",
    "        (2, \"b\"): [4, 5, 6]\n",
    "    }, index=[\"a\", \"b\", \"c\"]\n",
    ")"
   ]
  },
  {
   "cell_type": "markdown",
   "id": "ba16ea45",
   "metadata": {},
   "source": [
    "Sometimes, if we want to see preliminary data, we may use following methods.<br>\n",
    "`DataFrame.head()` is used for returning the first n rows. (default is 5 rows) <br>\n",
    "`DataFrame.tail()` is used for returning the last n rows. (default is 5 rows) <br>\n",
    "`DataFrame.sample()` is used for returning a random sample of items from an axis of object. (default is 5 rows) <br>\n",
    "`DataFrame.describe()` is used for generating descriptive statistics.<br>\n",
    "`DataFrame.info()` is used for printing a concise summary of a DataFrame.<br>\n",
    "`DataFrame.shape`is used for returning a tuple representing the dimensionality of the DataFrame.<br><br>\n",
    "Doc. df.head: https://pandas.pydata.org/docs/reference/api/pandas.DataFrame.head.html <br>\n",
    "Doc. df.tail: https://pandas.pydata.org/docs/reference/api/pandas.DataFrame.tail.html <br>\n",
    "Doc. df.sample: https://pandas.pydata.org/docs/reference/api/pandas.DataFrame.sample.html <br>\n",
    "Doc df.describe: https://pandas.pydata.org/docs/reference/api/pandas.DataFrame.describe.html <br>\n",
    "Doc df.info: https://pandas.pydata.org/docs/reference/api/pandas.DataFrame.info.html <br>\n",
    "Doc df Attributes: https://pandas.pydata.org/docs/reference/api/pandas.DataFrame.html\n"
   ]
  },
  {
   "cell_type": "code",
   "execution_count": null,
   "id": "59b6ae7b",
   "metadata": {},
   "outputs": [],
   "source": [
    "created_data.head(2)"
   ]
  },
  {
   "cell_type": "code",
   "execution_count": null,
   "id": "809c4912",
   "metadata": {},
   "outputs": [],
   "source": [
    "created_data.shape"
   ]
  },
  {
   "cell_type": "markdown",
   "id": "ba2b0955",
   "metadata": {},
   "source": [
    "The Dataset which we use in this session is a Titanic dataset. <br><br>\n",
    "Ref: https://www.kaggle.com/competitions/titanic/data?select=train.csv"
   ]
  },
  {
   "cell_type": "markdown",
   "id": "f7a57d9e",
   "metadata": {},
   "source": [
    "<b>Metadata</b>"
   ]
  },
  {
   "cell_type": "markdown",
   "id": "7d169d79",
   "metadata": {},
   "source": [
    "<table>\n",
    "    <tbody>\n",
    "        <tr>\n",
    "            <th><b>Variable</b></th>\n",
    "            <th><b>Definition</b></th>\n",
    "            <th><b>Remark</b></th>\n",
    "        </tr>\n",
    "        <tr>\n",
    "            <td>survival</td>\n",
    "            <td>Survival</td>\n",
    "            <td>0 = No, 1 = Yes</td>\n",
    "        </tr>\n",
    "        <tr>\n",
    "            <td>pclass</td>\n",
    "            <td>Ticket class</td>\n",
    "            <td>1 = 1st, 2 = 2nd, 3 = 3rd</td>\n",
    "        </tr>\n",
    "        <tr>\n",
    "            <td>sex</td>\n",
    "            <td>Sex</td>\n",
    "            <td></td>\n",
    "        </tr>\n",
    "        <tr>\n",
    "            <td>Age</td>\n",
    "            <td>Age in years</td>\n",
    "            <td></td>\n",
    "        </tr>\n",
    "        <tr>\n",
    "            <td>sibsp</td>\n",
    "            <td># of siblings / spouses aboard the Titanic</td>\n",
    "            <td></td>\n",
    "        </tr>\n",
    "        <tr>\n",
    "            <td>parch</td>\n",
    "            <td># of parents / children aboard the Titanic</td>\n",
    "            <td></td>\n",
    "        </tr>\n",
    "        <tr>\n",
    "            <td>ticket</td>\n",
    "            <td>Ticket number</td>\n",
    "            <td></td>\n",
    "        </tr>\n",
    "        <tr>\n",
    "            <td>fare</td>\n",
    "            <td>Passenger fare</td>\n",
    "            <td></td>\n",
    "        </tr>\n",
    "        <tr>\n",
    "            <td>embarked</td>\n",
    "            <td>Port of Embarkation</td>\n",
    "            <td>C = Cherbourg, Q = Queenstown, S = Southampton</td>\n",
    "        </tr>\n",
    "    </tbody>\n",
    "</table>"
   ]
  },
  {
   "cell_type": "markdown",
   "id": "c7d6467a",
   "metadata": {},
   "source": [
    "We can use `<pandas>.read_csv(\"path_to_file\")` to read csv file or other delimiters. <br><br>\n",
    "Doc. pd.read_csv: https://pandas.pydata.org/docs/reference/api/pandas.read_csv.html"
   ]
  },
  {
   "cell_type": "markdown",
   "id": "f10c10b2",
   "metadata": {},
   "source": [
    "### Absolute and Relative Pathnames"
   ]
  },
  {
   "cell_type": "markdown",
   "id": "1e2b1cdc",
   "metadata": {},
   "source": [
    "`Absolute pathname` is specifying the location of a file or directory from the root directory. <br>\n",
    "`Relative pathname` is path related to the present working directory. Relative pathname uses one of these cryptic symbols.\n",
    "- . (a single dot) - this represents the current directory.\n",
    "- .. (two dots) - this represents the parent directory.\n",
    "- ../.. (two dots, slash, two dots) - this represents the parent of parent directory."
   ]
  },
  {
   "cell_type": "markdown",
   "id": "8cf9212f",
   "metadata": {},
   "source": [
    "<u>P.S.</u> `Relative pathname` is recommended. <br><br>\n",
    "Ref: https://www.geeksforgeeks.org/absolute-relative-pathnames-unix/"
   ]
  },
  {
   "cell_type": "code",
   "execution_count": null,
   "id": "e64eaf6e",
   "metadata": {},
   "outputs": [],
   "source": [
    "# Example of Absolute pathname\n",
    "loaded_data1 = pd.read_csv(\"C:/Users/[username_computer]/Desktop/lab_manipulation/data/1_Titanic_dataset_csv.csv\")\n",
    "data1"
   ]
  },
  {
   "cell_type": "code",
   "execution_count": null,
   "id": "5e4bbee9",
   "metadata": {},
   "outputs": [],
   "source": [
    "# Example of Relative pathname\n",
    "loaded_data2 = pd.read_csv(\"./data/1_Titanic_dataset_csv.csv\")\n",
    "loaded_data2"
   ]
  },
  {
   "cell_type": "markdown",
   "id": "ef10014e",
   "metadata": {},
   "source": [
    "We can use only the file's name if the data's file directory is the same as the notebook's file directory. "
   ]
  },
  {
   "cell_type": "code",
   "execution_count": null,
   "id": "46dfd39c",
   "metadata": {},
   "outputs": [],
   "source": [
    "data_something1 = pd.read_csv(\"1_Temp.csv\")\n",
    "data_something1"
   ]
  },
  {
   "cell_type": "markdown",
   "id": "0f41fadc",
   "metadata": {},
   "source": [
    "If we have a csv file download link, we can import from it."
   ]
  },
  {
   "cell_type": "code",
   "execution_count": null,
   "id": "74db464f",
   "metadata": {},
   "outputs": [],
   "source": [
    "drive_url = \"https://drive.google.com/file/d/1S92f1jwtUefFgp5js39cqURR-_HijNe6/view?usp=sharing\"\n",
    "download_url = 'https://drive.google.com/uc?export=download&id='+drive_url.split('/')[-2]\n",
    "download_url"
   ]
  },
  {
   "cell_type": "code",
   "execution_count": null,
   "id": "f96af72e",
   "metadata": {},
   "outputs": [],
   "source": [
    "data_something2 = pd.read_csv(download_url)\n",
    "data_something2"
   ]
  },
  {
   "cell_type": "markdown",
   "id": "68ac7e98",
   "metadata": {},
   "source": [
    "If we want to save DataFrame as a csv file, we can use `<DataFrame>.to_csv(\"path_to_file\")`. <br><br>\n",
    "Doc. df.to_csv: https://pandas.pydata.org/docs/reference/api/pandas.DataFrame.to_csv.html"
   ]
  },
  {
   "cell_type": "code",
   "execution_count": null,
   "id": "39f7245c",
   "metadata": {},
   "outputs": [],
   "source": [
    "loaded_data1.to_csv(\"./data/1_to_csv_save_file.csv\", index=False)"
   ]
  },
  {
   "cell_type": "markdown",
   "id": "e14a8c55",
   "metadata": {},
   "source": [
    "Sometimes, we might encounter an excel file. <br>\n",
    "In that case, we must use `<pandas>.read_excel(\"path_to_file\")` instead. <br><br>\n",
    "Doc. pd.read_excel: https://pandas.pydata.org/docs/reference/api/pandas.read_excel.html"
   ]
  },
  {
   "cell_type": "markdown",
   "id": "68944f1e",
   "metadata": {},
   "source": [
    "### <u>Exercise 1</u>"
   ]
  },
  {
   "cell_type": "markdown",
   "id": "83a57d70",
   "metadata": {},
   "source": [
    "### <u>Exercise 1-1</u>"
   ]
  },
  {
   "cell_type": "markdown",
   "id": "a69e321a",
   "metadata": {},
   "source": [
    "Import `1_Titanic_dataset_excel_1` file to this notebook and display the <b>first</b> 5 rows.\n",
    "- The file is available in the same file as the notebook.\n",
    "- Make `PassengerId` the DataFrame's index column name by using `index_col` parameter."
   ]
  },
  {
   "cell_type": "markdown",
   "id": "6ac27cd7",
   "metadata": {},
   "source": [
    "<b>DataFrame Desired</b>\n",
    "<img src=\"./images/exercise1-1.png\" alt=\"exercise1-1\" width=\"900\"/>"
   ]
  },
  {
   "cell_type": "code",
   "execution_count": null,
   "id": "d369a87d",
   "metadata": {},
   "outputs": [],
   "source": [
    "# The code for Exercise 1-1 is here\n",
    "\n"
   ]
  },
  {
   "cell_type": "markdown",
   "id": "7c7c42ca",
   "metadata": {},
   "source": [
    "### <u>Exercise 1-2</u>"
   ]
  },
  {
   "cell_type": "markdown",
   "id": "967e863f",
   "metadata": {},
   "source": [
    "Import `Titanic_sheet` (located in the `1_Titanic_dataset_excel_2` file) to this notebook. <br>\n",
    "- The file is available in the data's folder. You have to use <b>relative path</b> as the parameter. \n",
    "- Make `PassengerId` the DataFrame's index column name by using `index_col` parameter."
   ]
  },
  {
   "cell_type": "markdown",
   "id": "76f785e3",
   "metadata": {},
   "source": [
    "<u>P.S.</u> The documents provided above should help you."
   ]
  },
  {
   "cell_type": "code",
   "execution_count": null,
   "id": "e08b72be",
   "metadata": {},
   "outputs": [],
   "source": [
    "# The code Exercise 1-2 is here\n",
    "\n"
   ]
  },
  {
   "cell_type": "markdown",
   "id": "2f62b3e7",
   "metadata": {},
   "source": [
    "---"
   ]
  },
  {
   "cell_type": "markdown",
   "id": "c46c5a23",
   "metadata": {},
   "source": [
    "## 2. Getting Data and Modifying Data"
   ]
  },
  {
   "cell_type": "code",
   "execution_count": null,
   "id": "9ba23253",
   "metadata": {},
   "outputs": [],
   "source": [
    "# To import modules, use these codes\n",
    "import numpy as np\n",
    "import pandas as pd"
   ]
  },
  {
   "cell_type": "markdown",
   "id": "fe72add7",
   "metadata": {},
   "source": [
    "This is the demo data which we will be using in this session."
   ]
  },
  {
   "cell_type": "code",
   "execution_count": null,
   "id": "fee91ebb",
   "metadata": {},
   "outputs": [],
   "source": [
    "main_data = pd.DataFrame({\n",
    "    \"index\": [0,1,2,3,4,5,6,7,8],\n",
    "    \"catergorical_str\": [\"small\",\"mediem\",\"high\",\"small\",\"mediem\",\"high\",\"small\",\"mediem\",\"high\"],\n",
    "    \"catergorical_int\": [2,3,2,1,3,2,2,3,1],\n",
    "    \"increase_1\": [1,2,3,4,5,6,7,8,9],\n",
    "    \"increase_2\": [2,4,6,8,10,12,14,16,18],\n",
    "    \"boolean\": [True, True, False, False, True, True, False, False, True],\n",
    "    \"datetime\": [\"20-01-2022\", \"21-01-2022\", \"22-01-2022\", \"23-01-2022\", \"24-01-2022\", \"25-01-2022\", \"26-01-2022\", \"27-01-2022\", \"28-01-2022\"]\n",
    "}, index=[101, 102, 103, 104, 105, 106, 107, 108, 109])\n",
    "data[\"datetime\"] = pd.to_datetime(main_data[\"datetime\"], format=\"%d-%m-%Y\")"
   ]
  },
  {
   "cell_type": "code",
   "execution_count": null,
   "id": "0ee5ac5c",
   "metadata": {},
   "outputs": [],
   "source": [
    "data = main_data.copy()\n",
    "data"
   ]
  },
  {
   "cell_type": "markdown",
   "id": "758530be",
   "metadata": {},
   "source": [
    "`[] square brackets` is the fastest way to select desired columns. It will return `<pandas>.Series`<br>.\n",
    "Also, `[[]] square brackets` could also be used, but it will return `<pandas>.DataFrame`instead."
   ]
  },
  {
   "cell_type": "code",
   "execution_count": null,
   "id": "da841625",
   "metadata": {},
   "outputs": [],
   "source": [
    "# Select a single column\n",
    "data[\"catergorical_str\"] # Return Series\n",
    "# data[[\"catergorical_str\"]] # Return DataFrame"
   ]
  },
  {
   "cell_type": "code",
   "execution_count": null,
   "id": "d5f40979",
   "metadata": {},
   "outputs": [],
   "source": [
    "# Select multiple columns\n",
    "data[[\"increase_1\", \"increase_2\"]] # Return DataFrame"
   ]
  },
  {
   "cell_type": "markdown",
   "id": "b28de9e4",
   "metadata": {},
   "source": [
    "There are 2 important attributes which is used to access rows and columns in groups.\n",
    "- `<DataFrame>.loc[(row name), (column name)]` is used for accessing by label. <br>\n",
    "- `<DataFrame>.iloc[(row number), (column number)]` is used for accessing by number.<br>"
   ]
  },
  {
   "cell_type": "markdown",
   "id": "f48bb3d2",
   "metadata": {},
   "source": [
    "<u>P.S.</u>  : (colon) means \"select every element\"."
   ]
  },
  {
   "cell_type": "code",
   "execution_count": null,
   "id": "ee4d655c",
   "metadata": {},
   "outputs": [],
   "source": [
    "# Preview data\n",
    "data.head()"
   ]
  },
  {
   "cell_type": "code",
   "execution_count": null,
   "id": "85461c3a",
   "metadata": {},
   "outputs": [],
   "source": [
    "# Single selection \n",
    "data.loc[101] # Return Series rows\n",
    "# data.loc[:, \"catergorical_int\"] # Return Series columns\n",
    "\n",
    "# data.iloc[0] # Return Series rows\n",
    "# data.iloc[:, 2] # Return Series columns"
   ]
  },
  {
   "cell_type": "code",
   "execution_count": null,
   "id": "c6ad5a20",
   "metadata": {},
   "outputs": [],
   "source": [
    "# Multiple selection using lists\n",
    "data.loc[[101, 102]] # Return DataFrame rows\n",
    "# data.loc[:, [\"catergorical_str\", \"catergorical_int\"]] # Return DataFrame columns\n",
    "\n",
    "# data.iloc[[0, 1]] # Return DataFrame rows\n",
    "# data.iloc[:, [1, 2]] # Return DataFrame columns"
   ]
  },
  {
   "cell_type": "code",
   "execution_count": null,
   "id": "6638b520",
   "metadata": {},
   "outputs": [],
   "source": [
    "# Multiple selection using slicing \n",
    "data.loc[101:105] # Return DataFrame rows (for loc include:include)\n",
    "# data.loc[:, :\"increase_2\"] # Return DataFrame columns\n",
    "\n",
    "# data.iloc[0:5] # Return DataFrame row (for iloc include:exclude)\n",
    "# data.iloc[:, :5] # Return DataFrame columns"
   ]
  },
  {
   "cell_type": "markdown",
   "id": "1a4aaa1a",
   "metadata": {},
   "source": [
    "We can select by using datetime slicing if set datetime to index DataFrame."
   ]
  },
  {
   "cell_type": "code",
   "execution_count": null,
   "id": "1f954346",
   "metadata": {},
   "outputs": [],
   "source": [
    "# Preview data\n",
    "data.head()"
   ]
  },
  {
   "cell_type": "code",
   "execution_count": null,
   "id": "44ea211d",
   "metadata": {},
   "outputs": [],
   "source": [
    "data_datetime = data.set_index(\"datetime\")\n",
    "data_datetime.head()"
   ]
  },
  {
   "cell_type": "code",
   "execution_count": null,
   "id": "8eca9527",
   "metadata": {},
   "outputs": [],
   "source": [
    "data_datetime.loc[\"2022-01-20\":\"2022-01-24\"] # Return DataFrame row (for iloc include:include)"
   ]
  },
  {
   "cell_type": "code",
   "execution_count": null,
   "id": "355e7a6f",
   "metadata": {},
   "outputs": [],
   "source": [
    "# Multiple selection using conditions\n",
    "data.loc[data.index<105, :] # Return DataFrame row \n",
    "# data.loc[data[\"datetime\"]<\"2022-01-24\", :] # Return DataFrame row "
   ]
  },
  {
   "cell_type": "markdown",
   "id": "f90f3f61",
   "metadata": {},
   "source": [
    "We can also add DataFrame columns, change element values, and remove rows or columns. <br>\n",
    "(use `<DataFrame>.insert()` to insert a column to a specific location, and use `<DataFrame>.drop()` to remove one)<br><br>\n",
    "Doc. df.drop: https://pandas.pydata.org/docs/reference/api/pandas.DataFrame.drop.html"
   ]
  },
  {
   "cell_type": "code",
   "execution_count": null,
   "id": "4065e639",
   "metadata": {},
   "outputs": [],
   "source": [
    "# Preview data\n",
    "data.head()"
   ]
  },
  {
   "cell_type": "code",
   "execution_count": null,
   "id": "3f9bcfc1",
   "metadata": {},
   "outputs": [],
   "source": [
    "# Add column\n",
    "data[\"summation\"] = data[\"increase_2\"] + data[\"increase_1\"]\n",
    "# data.insert(5, \"difference\", data[\"increase_2\"] - data[\"increase_1\"])\n",
    "data.head()"
   ]
  },
  {
   "cell_type": "code",
   "execution_count": null,
   "id": "1e5a870f",
   "metadata": {},
   "outputs": [],
   "source": [
    "# Drop row and column\n",
    "data = data.drop(108, axis=0, errors=\"ignore\") # remove row\n",
    "# data = data.drop(\"boolean\", axis=1, errors=\"ignore\") # remove column // do not forget to save return a copy\n",
    "data.head()"
   ]
  },
  {
   "cell_type": "code",
   "execution_count": null,
   "id": "d821e48d",
   "metadata": {},
   "outputs": [],
   "source": [
    "# Change element values\n",
    "data.iloc[0,-1] = \"Hello world\"\n",
    "data.head()"
   ]
  },
  {
   "cell_type": "markdown",
   "id": "cdb56a64",
   "metadata": {},
   "source": [
    "We can filter data by using logical operators and compare operators. <br>\n",
    "<b> logical operators:\n",
    "- `>`, `<`, `>=`, `<=`, `==`, `!=`, `~(not)`"
   ]
  },
  {
   "cell_type": "markdown",
   "id": "80b58aa1",
   "metadata": {},
   "source": [
    "<b> compare operators:\n",
    "- `&(and)`, `|(or)`, `^(xor)`"
   ]
  },
  {
   "cell_type": "code",
   "execution_count": null,
   "id": "4a8221bb",
   "metadata": {},
   "outputs": [],
   "source": [
    "# Preview data\n",
    "data = main_data.copy()\n",
    "data"
   ]
  },
  {
   "cell_type": "code",
   "execution_count": null,
   "id": "3294dcbc",
   "metadata": {},
   "outputs": [],
   "source": [
    "data.loc[[True, False, True, False, False, False, False, False, False]]"
   ]
  },
  {
   "cell_type": "code",
   "execution_count": null,
   "id": "cd4cd016",
   "metadata": {},
   "outputs": [],
   "source": [
    "condition1 = data[\"increase_1\"] >= 5\n",
    "condition2 = data[\"catergorical_int\"] == 2"
   ]
  },
  {
   "cell_type": "code",
   "execution_count": null,
   "id": "a3770b81",
   "metadata": {},
   "outputs": [],
   "source": [
    "condition1"
   ]
  },
  {
   "cell_type": "code",
   "execution_count": null,
   "id": "3ad2a26b",
   "metadata": {},
   "outputs": [],
   "source": [
    "data.loc[condition1]"
   ]
  },
  {
   "cell_type": "code",
   "execution_count": null,
   "id": "62fea7e1",
   "metadata": {},
   "outputs": [],
   "source": [
    "combine_condition = (condition1) & (condition2)\n",
    "combine_condition"
   ]
  },
  {
   "cell_type": "code",
   "execution_count": null,
   "id": "6b345d96",
   "metadata": {
    "scrolled": true
   },
   "outputs": [],
   "source": [
    "data.loc[combine_condition]"
   ]
  },
  {
   "cell_type": "markdown",
   "id": "e7ae7234",
   "metadata": {},
   "source": [
    "We can detect each element in the DataFrame is contained in values by using `<DataFrame>.isin()`"
   ]
  },
  {
   "cell_type": "code",
   "execution_count": null,
   "id": "77d76f21",
   "metadata": {},
   "outputs": [],
   "source": [
    "# Preview data\n",
    "data = main_data.copy()\n",
    "data"
   ]
  },
  {
   "cell_type": "code",
   "execution_count": null,
   "id": "7bc4b81f",
   "metadata": {},
   "outputs": [],
   "source": [
    "data[\"catergorical_str\"].isin([\"mediem\", \"high\"])"
   ]
  },
  {
   "cell_type": "code",
   "execution_count": null,
   "id": "ee717e83",
   "metadata": {},
   "outputs": [],
   "source": [
    "data[data[\"catergorical_str\"].isin([\"mediem\", \"high\"])]"
   ]
  },
  {
   "cell_type": "markdown",
   "id": "576c930b",
   "metadata": {},
   "source": [
    "### <u>Exercise 2</u>"
   ]
  },
  {
   "cell_type": "markdown",
   "id": "1da29cf2",
   "metadata": {},
   "source": [
    "The dataset which we use in this exercise is a supermarket sales dataset. <br><br>\n",
    "Ref: https://www.kaggle.com/datasets/aungpyaeap/supermarket-sales"
   ]
  },
  {
   "cell_type": "markdown",
   "id": "e24b5ffb",
   "metadata": {},
   "source": [
    "Import `2_Supermarket_data` file and run codings to solve the following question.\n",
    "1. Calculate the tax for each unit price. (Assuming all items have 7% tax)\n",
    "2. Calculate the total price for each product. (Tax included)\n",
    "3. Which store branch has the most total sales? (You can use `<DataFrame>.sum()` to sum in each column, if is possible.)"
   ]
  },
  {
   "cell_type": "code",
   "execution_count": null,
   "id": "d1972757",
   "metadata": {},
   "outputs": [],
   "source": [
    "# The code for Exercise 2.1 is here\n",
    "\n"
   ]
  },
  {
   "cell_type": "code",
   "execution_count": null,
   "id": "46837cfe",
   "metadata": {},
   "outputs": [],
   "source": [
    "# The code for Exercise 2.2 is here\n",
    "\n"
   ]
  },
  {
   "cell_type": "code",
   "execution_count": null,
   "id": "e6e39445",
   "metadata": {},
   "outputs": [],
   "source": [
    "# The code for Exercise 2.3 is here\n",
    "\n"
   ]
  },
  {
   "cell_type": "markdown",
   "id": "4f7db642",
   "metadata": {},
   "source": [
    "---"
   ]
  },
  {
   "cell_type": "markdown",
   "id": "f9aef4d1",
   "metadata": {},
   "source": [
    "## 3. Summary statistics and aggregating data"
   ]
  },
  {
   "cell_type": "code",
   "execution_count": null,
   "id": "832d04ee",
   "metadata": {},
   "outputs": [],
   "source": [
    "# To import modules, use these codes\n",
    "import numpy as np\n",
    "import pandas as pd"
   ]
  },
  {
   "cell_type": "markdown",
   "id": "6897e9af",
   "metadata": {},
   "source": [
    "This is a demo data from the previous session."
   ]
  },
  {
   "cell_type": "code",
   "execution_count": null,
   "id": "7b0a66b1",
   "metadata": {},
   "outputs": [],
   "source": [
    "main_data = pd.DataFrame({\n",
    "    \"index\": [0,1,2,3,4,5,6,7,8],\n",
    "    \"catergorical_str\": [\"small\",\"mediem\",\"high\",\"small\",\"mediem\",\"high\",\"small\",\"mediem\",\"high\"],\n",
    "    \"catergorical_int\": [2,3,2,1,3,2,2,3,1],\n",
    "    \"increase_1\": [1,2,3,4,5,6,7,8,9],\n",
    "    \"increase_2\": [2,4,6,8,10,12,14,16,18],\n",
    "    \"boolean\": [True, True, False, False, True, True, False, False, True],\n",
    "    \"datetime\": [\"20-01-2022\", \"21-01-2022\", \"22-01-2022\", \"23-01-2022\", \"24-01-2022\", \"25-01-2022\", \"26-01-2022\", \"27-01-2022\", \"28-01-2022\"]\n",
    "}, index=[101, 102, 103, 104, 105, 106, 107, 108, 109])\n",
    "data[\"datetime\"] = pd.to_datetime(main_data[\"datetime\"], format=\"%d-%m-%Y\")"
   ]
  },
  {
   "cell_type": "code",
   "execution_count": null,
   "id": "473af363",
   "metadata": {},
   "outputs": [],
   "source": [
    "data = main_data.copy()"
   ]
  },
  {
   "cell_type": "markdown",
   "id": "b26ea22c",
   "metadata": {},
   "source": [
    "There are many ways to calculate statistical data. We will use the following methods. <br>\n",
    "- `<DataFrame>.min()` https://pandas.pydata.org/docs/reference/api/pandas.DataFrame.min.html\n",
    "- `<DataFrame>.max()` https://pandas.pydata.org/docs/reference/api/pandas.DataFrame.max.html\n",
    "- `<DataFrame>.mean()` https://pandas.pydata.org/docs/reference/api/pandas.DataFrame.mean.html\n",
    "- `<DataFrame>.median()` https://pandas.pydata.org/docs/reference/api/pandas.DataFrame.median.html\n",
    "- `<DataFrame>.mode()` https://pandas.pydata.org/docs/reference/api/pandas.DataFrame.mode.html\n",
    "- `<DataFrame>.var()` https://pandas.pydata.org/docs/reference/api/pandas.DataFrame.var.html\n",
    "- `<DataFrame>.std()` https://pandas.pydata.org/docs/reference/api/pandas.DataFrame.std.html\n",
    "- `<DataFrame>.sum()` https://pandas.pydata.org/docs/reference/api/pandas.DataFrame.sum.html\n",
    "- `<DataFrame>.quantile()` https://pandas.pydata.org/docs/reference/api/pandas.DataFrame.quantile.html\n",
    "- `<DataFrame>.count()` https://pandas.pydata.org/docs/reference/api/pandas.DataFrame.count.html"
   ]
  },
  {
   "cell_type": "code",
   "execution_count": null,
   "id": "13b54a26",
   "metadata": {},
   "outputs": [],
   "source": [
    "data[[\"increase_1\", \"increase_2\"]].sum()"
   ]
  },
  {
   "cell_type": "markdown",
   "id": "3bec5f49",
   "metadata": {},
   "source": [
    "Apply a function along an axis of the DataFrame by using `<DataFrame>.apply()`"
   ]
  },
  {
   "cell_type": "code",
   "execution_count": null,
   "id": "84c24fb7",
   "metadata": {},
   "outputs": [],
   "source": [
    "data[[\"increase_1\", \"increase_2\"]].apply(np.sqrt)"
   ]
  },
  {
   "cell_type": "markdown",
   "id": "1445e6e8",
   "metadata": {},
   "source": [
    "We can also return a Series containing the counts of unique values by using `<Series>.value_counts()`. <br><br>\n",
    "Doc. s.value_counts: https://pandas.pydata.org/docs/reference/api/pandas.Series.value_counts.html"
   ]
  },
  {
   "cell_type": "code",
   "execution_count": null,
   "id": "dd7f0cdf",
   "metadata": {},
   "outputs": [],
   "source": [
    "count = data[\"catergorical_int\"].value_counts()\n",
    "count"
   ]
  },
  {
   "cell_type": "markdown",
   "id": "016be8d9",
   "metadata": {},
   "source": [
    "Sort object by labels by using `<DataFrame>.sort_index()`<br>\n",
    "and, Sort by values along either axis by using `<DataFrame>.sort_values()`<br><br>\n",
    "Doc. df.sort_index: https://pandas.pydata.org/docs/reference/api/pandas.DataFrame.sort_index.html <br>\n",
    "Doc. df.sort_values: https://pandas.pydata.org/docs/reference/api/pandas.DataFrame.sort_values.html"
   ]
  },
  {
   "cell_type": "code",
   "execution_count": null,
   "id": "adb67f28",
   "metadata": {},
   "outputs": [],
   "source": [
    "count = count.sort_index()\n",
    "# count = count.sort_values() #A default is ascending\n",
    "count"
   ]
  },
  {
   "cell_type": "markdown",
   "id": "729e47b3",
   "metadata": {},
   "source": [
    "We group DataFrame using a mapper, or by a Series of columns using `<DataFrame>.groupby()`,<br>\n",
    "and aggregate using one or more operations over the specified axis by using `<groupby>.agg()`."
   ]
  },
  {
   "cell_type": "code",
   "execution_count": null,
   "id": "ed562f89",
   "metadata": {},
   "outputs": [],
   "source": [
    "# Select interesting data\n",
    "selected_data = data[[\"catergorical_str\",\"catergorical_int\"]]"
   ]
  },
  {
   "cell_type": "code",
   "execution_count": null,
   "id": "9f341994",
   "metadata": {},
   "outputs": [],
   "source": [
    "# GroupBy method return pandas DataFrameGroupBy object\n",
    "groupby_object = selected_data.groupby([\"catergorical_str\"])\n",
    "groupby_object"
   ]
  },
  {
   "cell_type": "code",
   "execution_count": null,
   "id": "03ee3ce8",
   "metadata": {},
   "outputs": [],
   "source": [
    "groupby_object.mean()"
   ]
  },
  {
   "cell_type": "code",
   "execution_count": null,
   "id": "407550a6",
   "metadata": {},
   "outputs": [],
   "source": [
    "# Apply statistical data in every DataFrame column by using List.\n",
    "groupby_object.agg([max, min])"
   ]
  },
  {
   "cell_type": "code",
   "execution_count": null,
   "id": "3b73823b",
   "metadata": {},
   "outputs": [],
   "source": [
    "# Apply statistical data in a selected DataFrame column by using Dict.\n",
    "data.groupby([\"catergorical_str\"]).agg({\n",
    "    \"increase_2\": np.median, \n",
    "    \"catergorical_int\": [np.min, np.max],\n",
    "    \"increase_1\": lambda x: x.quantile(0.75)-x.quantile(0.25)\n",
    "})"
   ]
  },
  {
   "cell_type": "code",
   "execution_count": null,
   "id": "a1101dbb",
   "metadata": {},
   "outputs": [],
   "source": [
    "# Apply statistical data in a selected DataFrame column by using Tuple\n",
    "data.groupby([\"catergorical_str\"]).agg(\n",
    "    mean_increase_2 = (\"increase_2\", np.max),\n",
    "    min_increase_1 = (\"increase_1\", np.min)\n",
    ")"
   ]
  },
  {
   "cell_type": "markdown",
   "id": "bed5b56b",
   "metadata": {},
   "source": [
    "### <u>Exercise 3</u>"
   ]
  },
  {
   "cell_type": "markdown",
   "id": "ce1daaff",
   "metadata": {},
   "source": [
    "Import `1_Titanic_dataset_csv` file and do the codings to solve following question. <br>\n",
    "- What is the average, max, and min values of `Fare` for each `Sex`?\n",
    "- How many unique values of each `Pclass` are there? (sort by index labels)"
   ]
  },
  {
   "cell_type": "code",
   "execution_count": null,
   "id": "cbb569d0",
   "metadata": {},
   "outputs": [],
   "source": [
    "# The code for Exercise 3.1 is here\n",
    "\n"
   ]
  },
  {
   "cell_type": "code",
   "execution_count": null,
   "id": "ac5a8971",
   "metadata": {},
   "outputs": [],
   "source": [
    "# The code for Exercise 3.2 is here\n",
    "\n"
   ]
  },
  {
   "cell_type": "markdown",
   "id": "dee81259",
   "metadata": {},
   "source": [
    "---"
   ]
  },
  {
   "cell_type": "markdown",
   "id": "ce5d1135",
   "metadata": {},
   "source": [
    "## 4. Merge and Append Data"
   ]
  },
  {
   "cell_type": "code",
   "execution_count": null,
   "id": "9016c7ae",
   "metadata": {},
   "outputs": [],
   "source": [
    "# To import modules, use these codes\n",
    "import numpy as np\n",
    "import pandas as pd"
   ]
  },
  {
   "cell_type": "markdown",
   "id": "33840f1a",
   "metadata": {},
   "source": [
    "This is the demo data which we will be using in this session."
   ]
  },
  {
   "cell_type": "code",
   "execution_count": null,
   "id": "b7ff0640",
   "metadata": {},
   "outputs": [],
   "source": [
    "left_data = pd.DataFrame({\n",
    "    \"column_A\": [\"A0\",\"A1\",\"A2\",\"A3\",\"A4\"],\n",
    "    \"column_B\": [\"B0\",\"B1\",\"B2\",\"B3\",\"B4\"],\n",
    "    \"column_C\": [\"C0\",\"C1\",\"C2\",\"C3\",\"C4\"],\n",
    "})\n",
    "left_data"
   ]
  },
  {
   "cell_type": "code",
   "execution_count": null,
   "id": "7deb2d17",
   "metadata": {},
   "outputs": [],
   "source": [
    "right_data = pd.DataFrame({\n",
    "    \"column_A\": [\"A1\",\"A2\",\"A5\",\"A6\"],\n",
    "    \"column_B\": [\"B1\",\"B2\",\"B5\",\"B6\"],\n",
    "    \"column_D\": [\"D1\",\"D2\",\"D5\",\"D6\"],\n",
    "    \"column_E\": [\"E1\",\"E2\",\"E5\",\"E6\"],\n",
    "}, index=[1,2,5,6])\n",
    "right_data"
   ]
  },
  {
   "cell_type": "markdown",
   "id": "1053d118",
   "metadata": {},
   "source": [
    "We can concatenate pandas objects along a particular axis with optional set logic along the other axes by using `<pandas>.concat()` <br><br>\n",
    "Doc. pd.concat: https://pandas.pydata.org/docs/reference/api/pandas.concat.html"
   ]
  },
  {
   "cell_type": "code",
   "execution_count": null,
   "id": "ceb66cdb",
   "metadata": {},
   "outputs": [],
   "source": [
    "# Outer join\n",
    "pd.concat([left_data, right_data]) #Defaults are outer join, and index join\n",
    "# pd.concat([left_data, right_data], axis=1) #Column join"
   ]
  },
  {
   "cell_type": "code",
   "execution_count": null,
   "id": "04e346b4",
   "metadata": {},
   "outputs": [],
   "source": [
    "# Inner join\n",
    "pd.concat([left_data, right_data], join=\"inner\") #Index join\n",
    "# pd.concat([left_data, right_data], axis=1, join=\"inner\") #Column join"
   ]
  },
  {
   "cell_type": "markdown",
   "id": "3014b766",
   "metadata": {},
   "source": [
    "Merge DataFrame or named Series objects with a database-style join by using `<pandas>.merge()`. <br>\n",
    "and with Join columns of another DataFrame by using `DataFrame.join()`.<br><br>\n",
    "Doc. pd.merge: https://pandas.pydata.org/docs/reference/api/pandas.merge.html <br>\n",
    "Doc. pd.join: https://pandas.pydata.org/docs/reference/api/pandas.DataFrame.join.html"
   ]
  },
  {
   "cell_type": "code",
   "execution_count": null,
   "id": "4a7878c2",
   "metadata": {},
   "outputs": [],
   "source": [
    "# Set column names to join on to index column for DataFrame join method\n",
    "right_ab_index = right_data.set_index([\"column_A\", \"column_B\"])\n",
    "right_ab_index"
   ]
  },
  {
   "cell_type": "code",
   "execution_count": null,
   "id": "d50c3ce6",
   "metadata": {},
   "outputs": [],
   "source": [
    "# Inner join\n",
    "pd.merge(left_data, right_data) #A default is inner\n",
    "# left_data.join(right_ab_index, how=\"inner\", on=['column_A', \"column_B\"])"
   ]
  },
  {
   "cell_type": "code",
   "execution_count": null,
   "id": "3d11fe03",
   "metadata": {},
   "outputs": [],
   "source": [
    "# Left join\n",
    "pd.merge(left_data, right_data, how=\"left\")\n",
    "# left_data.join(right_ab_index, how=\"left\", on=['column_A', \"column_B\"])"
   ]
  },
  {
   "cell_type": "code",
   "execution_count": null,
   "id": "36d833ee",
   "metadata": {},
   "outputs": [],
   "source": [
    "# Right join\n",
    "pd.merge(left_data, right_data, how=\"right\")\n",
    "# left_data.join(right_ab_index, how=\"right\", on=['column_A', \"column_B\"])"
   ]
  },
  {
   "cell_type": "code",
   "execution_count": null,
   "id": "6d5b65d9",
   "metadata": {},
   "outputs": [],
   "source": [
    "# Outer join\n",
    "pd.merge(left_data, right_data, how=\"outer\")\n",
    "# left_data.join(right_ab_index, how=\"outer\", on=['column_A', \"column_B\"])"
   ]
  },
  {
   "cell_type": "code",
   "execution_count": null,
   "id": "6b47a5ce",
   "metadata": {},
   "outputs": [],
   "source": [
    "# Set column names to join on to index column for DataFrame join method\n",
    "right_a_index = right_data.set_index([\"column_A\"])\n",
    "right_a_index"
   ]
  },
  {
   "cell_type": "code",
   "execution_count": null,
   "id": "29b636d8",
   "metadata": {},
   "outputs": [],
   "source": [
    "# Cross join\n",
    "pd.merge(left_data, right_data, how=\"cross\")"
   ]
  },
  {
   "cell_type": "markdown",
   "id": "86b5416b",
   "metadata": {},
   "source": [
    "### <u>Exercise 4</u>"
   ]
  },
  {
   "cell_type": "markdown",
   "id": "39dbe2bf",
   "metadata": {},
   "source": [
    "Import `3_Customer_member_invoice`, `3_Customer_normal_invoice`, and `3_Sales_invoice` file and do the coding to solve following question. <br>\n",
    "- How many invoices do not have NaN data? (customer data and sales data included)\n",
    "- Save as a csv file titled '`3_exercise_4_data`' including a tab delimiter."
   ]
  },
  {
   "cell_type": "code",
   "execution_count": null,
   "id": "baf20c19",
   "metadata": {},
   "outputs": [],
   "source": [
    "# the code for Exercise 4.1 is here\n",
    "\n"
   ]
  },
  {
   "cell_type": "code",
   "execution_count": null,
   "id": "c7bfdfc5",
   "metadata": {},
   "outputs": [],
   "source": [
    "# The code for Exercise 4.2 is here\n",
    "\n"
   ]
  },
  {
   "cell_type": "markdown",
   "id": "ac459035",
   "metadata": {},
   "source": [
    "---\n",
    "---"
   ]
  }
 ],
 "metadata": {
  "kernelspec": {
   "display_name": "Python 3 (ipykernel)",
   "language": "python",
   "name": "python3"
  },
  "language_info": {
   "codemirror_mode": {
    "name": "ipython",
    "version": 3
   },
   "file_extension": ".py",
   "mimetype": "text/x-python",
   "name": "python",
   "nbconvert_exporter": "python",
   "pygments_lexer": "ipython3",
   "version": "3.10.9"
  },
  "varInspector": {
   "cols": {
    "lenName": 16,
    "lenType": 16,
    "lenVar": 40
   },
   "kernels_config": {
    "python": {
     "delete_cmd_postfix": "",
     "delete_cmd_prefix": "del ",
     "library": "var_list.py",
     "varRefreshCmd": "print(var_dic_list())"
    },
    "r": {
     "delete_cmd_postfix": ") ",
     "delete_cmd_prefix": "rm(",
     "library": "var_list.r",
     "varRefreshCmd": "cat(var_dic_list()) "
    }
   },
   "types_to_exclude": [
    "module",
    "function",
    "builtin_function_or_method",
    "instance",
    "_Feature"
   ],
   "window_display": false
  }
 },
 "nbformat": 4,
 "nbformat_minor": 5
}
