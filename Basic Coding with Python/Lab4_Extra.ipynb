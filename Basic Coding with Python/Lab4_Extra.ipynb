{
 "cells": [
  {
   "cell_type": "markdown",
   "metadata": {},
   "source": [
    "# Basic Python Lab 4_Try&Except\n",
    "- Error Handling with Try and Except"
   ]
  },
  {
   "cell_type": "markdown",
   "metadata": {},
   "source": [
    "***\n",
    "*----------Desirable----------*\n",
    "### Error Handling with Try and Except\n",
    "The try and except block in Python is used to catch and handle exceptions. Python executes code following the try statement as a “normal” part of the program. The code that follows the except statement is the program’s response to any exceptions in the preceding try clause.\n",
    "\n",
    "```python\n",
    "try:\n",
    "    # Run this code\n",
    "except NameError:\n",
    "    # Run this code\n",
    "except:\n",
    "    # Run this code\n",
    "else\n",
    "    # Run this code\n",
    "```\n",
    "\n",
    "More detail: https://realpython.com/python-exceptions/"
   ]
  },
  {
   "cell_type": "code",
   "execution_count": null,
   "metadata": {},
   "outputs": [],
   "source": [
    "print(star) # --> raise Error ยังไม่มีตัวแปร star"
   ]
  },
  {
   "cell_type": "code",
   "execution_count": null,
   "metadata": {},
   "outputs": [],
   "source": [
    "int('star') # --> raise Error เปลี่ยนเป็น int ไม่ได้"
   ]
  },
  {
   "cell_type": "code",
   "execution_count": null,
   "metadata": {},
   "outputs": [],
   "source": [
    "# บอกเลขคู่และคี่ และเช็คว่าเป็นตัวเลขไหม โดยดูว่าแปลงค่าแล้วเกิด Error รึเปล่า\n",
    "num = input(\"Input :\")\n",
    "try:\n",
    "    num = int(num)\n",
    "except:\n",
    "    print(f\"{num} is not a number\")\n",
    "else: \n",
    "    if num%2==0: \n",
    "        print(f\"{num} is an even number\")\n",
    "    else:\n",
    "        print(f\"{num} is a odd number\")"
   ]
  },
  {
   "cell_type": "code",
   "execution_count": null,
   "metadata": {},
   "outputs": [],
   "source": [
    "# ใน except สามารถระบุชนิดของ Error ได้เพื่อแยกกรณีต่างๆ\n",
    "num = input(\"Input :\")\n",
    "try:\n",
    "    num = int(num)\n",
    "except ValueError: # <-ระบุชนิดของ Error\n",
    "    print(f\"{num} is not a number\")\n",
    "else: \n",
    "    if num%2==0: \n",
    "        print(f\"{num} is an even number\")\n",
    "    else:\n",
    "        print(f\"{num} is a odd number\")"
   ]
  },
  {
   "cell_type": "code",
   "execution_count": null,
   "metadata": {},
   "outputs": [],
   "source": []
  }
 ],
 "metadata": {
  "kernelspec": {
   "display_name": "Python 3",
   "language": "python",
   "name": "python3"
  },
  "language_info": {
   "codemirror_mode": {
    "name": "ipython",
    "version": 3
   },
   "file_extension": ".py",
   "mimetype": "text/x-python",
   "name": "python",
   "nbconvert_exporter": "python",
   "pygments_lexer": "ipython3",
   "version": "3.8.5"
  }
 },
 "nbformat": 4,
 "nbformat_minor": 4
}
