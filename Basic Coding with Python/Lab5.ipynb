{
 "cells": [
  {
   "cell_type": "markdown",
   "metadata": {},
   "source": [
    "# Basic Python Lab 5\n",
    "- While loop\n",
    "- Infinite loops and break\n",
    "- For loop\n",
    "- range()"
   ]
  },
  {
   "cell_type": "markdown",
   "metadata": {},
   "source": [
    "***\n",
    "### While loop\n",
    "The while loop in Python is used to iterate over a block of code as long as the test expression (condition) is true.\n",
    "We generally use this loop when we don't know the number of times to iterate beforehand.\n",
    "```python\n",
    "while condition: # expression is boolean \n",
    "    statement(s) # will preform statement till expression is False\n",
    "```"
   ]
  },
  {
   "cell_type": "code",
   "execution_count": null,
   "metadata": {},
   "outputs": [],
   "source": [
    "a,b = 1,1\n",
    "while a<5:\n",
    "    b = b*a\n",
    "    a = a+1\n",
    "    print(a,b)"
   ]
  },
  {
   "cell_type": "code",
   "execution_count": null,
   "metadata": {},
   "outputs": [],
   "source": [
    "n = 10\n",
    "while n >= 0: \n",
    "    print(n) \n",
    "    n -= 1\n",
    "print('Happy New Year')"
   ]
  },
  {
   "cell_type": "code",
   "execution_count": null,
   "metadata": {},
   "outputs": [],
   "source": [
    "# while มักใช้กับการวนที่ไม่รู้จำนวนสิ้นสุด\n",
    "ans = input(\"Do you love me? (y/n) :\")\n",
    "while ans.lower()!='y': \n",
    "    ans = input(\"Do you love me? (y/n) :\")\n",
    "print('Thank')"
   ]
  },
  {
   "cell_type": "markdown",
   "metadata": {},
   "source": [
    "#### Infinite loops and break\n",
    "Sometimes you don’t know it’s time to end a loop until you get half way through\n",
    "the body. In that case you can write an infinite loop on purpose and then use the\n",
    "`break` statement to jump out of the loop.\n",
    "This loop is obviously an infinite loop because the logical expression on the while\n",
    "statement is simply the logical constant `True`\n",
    "\n",
    "```python\n",
    "while True:\n",
    "    statement(s)\n",
    "    if condition:\n",
    "        break\n",
    "```"
   ]
  },
  {
   "cell_type": "code",
   "execution_count": null,
   "metadata": {},
   "outputs": [],
   "source": [
    "while True:\n",
    "    ans = input(\"Do you love me? (y/n) :\")\n",
    "    if ans.lower()=='y':\n",
    "        break\n",
    "print('Thank')"
   ]
  },
  {
   "cell_type": "code",
   "execution_count": null,
   "metadata": {
    "scrolled": true
   },
   "outputs": [],
   "source": [
    "while True:\n",
    "    weather = input(\"Enter weather (sunny, rainy, snowy, or quit): \") \n",
    "    if weather.lower() == \"sunny\":\n",
    "        print(\"Wear a t-shirt and sunscreen\")\n",
    "        break\n",
    "    elif weather.lower() == \"rainy\":\n",
    "        print(\"Bring an umbrella and boots\")\n",
    "        break\n",
    "    elif weather.lower() == \"snowy\":\n",
    "        print(\"Wear a warm coat and hat\")\n",
    "        break\n",
    "    elif weather.lower()== \"quit\":\n",
    "        print('\"quit\" detected, exiting')\n",
    "        break\n",
    "    else:\n",
    "        print(\"Sorry, not sure what to suggest for \"+weather)"
   ]
  },
  {
   "cell_type": "markdown",
   "metadata": {},
   "source": [
    "#### Test Yourself!\n",
    "#####  Check number"
   ]
  },
  {
   "cell_type": "code",
   "execution_count": null,
   "metadata": {},
   "outputs": [],
   "source": [
    "num = input(\"Input :\")\n",
    "while ______: \n",
    "    ______\n",
    "\n",
    "if int(num)%2==0: \n",
    "    print(f\"{num} is an even number\")\n",
    "else:\n",
    "    print(f\"{num} is a odd number\")"
   ]
  },
  {
   "cell_type": "markdown",
   "metadata": {},
   "source": [
    "***\n",
    "### For loop\n",
    "The for loop in Python is used to iterate over a sequence or other iterable objects. Iterating over a sequence is called traversal.\n",
    "```python\n",
    "for element in sequence: # iterate over a sequence\n",
    "    statement(s) # will preform statement\n",
    "```"
   ]
  },
  {
   "cell_type": "code",
   "execution_count": null,
   "metadata": {},
   "outputs": [],
   "source": [
    "for ch in 'Hello World':\n",
    "    print(ch)"
   ]
  },
  {
   "cell_type": "code",
   "execution_count": null,
   "metadata": {},
   "outputs": [],
   "source": [
    "for ch in 'Hello World':\n",
    "    print(ch+'_', end='')"
   ]
  },
  {
   "cell_type": "markdown",
   "metadata": {},
   "source": [
    "#### range()\n",
    "The range() type returns an immutable sequence of numbers between the given start integer to the stop integer.\n",
    "```python\n",
    "range(stop) #start from 0 by default, and increments by 1 by default\n",
    "range(start, stop[, step])\n",
    "```"
   ]
  },
  {
   "cell_type": "code",
   "execution_count": null,
   "metadata": {},
   "outputs": [],
   "source": [
    "range(5)"
   ]
  },
  {
   "cell_type": "code",
   "execution_count": null,
   "metadata": {},
   "outputs": [],
   "source": [
    "range(2,5)"
   ]
  },
  {
   "cell_type": "code",
   "execution_count": null,
   "metadata": {},
   "outputs": [],
   "source": [
    "range(5,20,3)"
   ]
  },
  {
   "cell_type": "code",
   "execution_count": null,
   "metadata": {},
   "outputs": [],
   "source": [
    "list(range(5,20,3))"
   ]
  },
  {
   "cell_type": "code",
   "execution_count": null,
   "metadata": {},
   "outputs": [],
   "source": [
    "len(range(5,20,3))"
   ]
  },
  {
   "cell_type": "code",
   "execution_count": null,
   "metadata": {},
   "outputs": [],
   "source": [
    "total = 0\n",
    "for num in range(5,20,3):\n",
    "    total += num\n",
    "print(total)"
   ]
  },
  {
   "cell_type": "code",
   "execution_count": null,
   "metadata": {},
   "outputs": [],
   "source": [
    "# Print the table headings.\n",
    "print('Number\\tSquare')\n",
    "print('--------------')\n",
    "\n",
    "# Print the numbers 1 through 10\n",
    "# and their squares.\n",
    "for num in range(1, 11):\n",
    "    square = num**2\n",
    "    print(num, '\\t', square)"
   ]
  },
  {
   "cell_type": "markdown",
   "metadata": {},
   "source": [
    "#### Test Yourself!\n",
    "#####  Multiplication table 2,3,4"
   ]
  },
  {
   "cell_type": "code",
   "execution_count": null,
   "metadata": {},
   "outputs": [],
   "source": [
    "# Print the table headings.\n",
    "print('Number\\t 2\\t 3\\t 4')\n",
    "print('---------------------------')\n",
    "for ______"
   ]
  },
  {
   "cell_type": "markdown",
   "metadata": {},
   "source": [
    "##### Sum of Digits in a String\n",
    "Write a program to sum of all the single digit numbers in the string.\n",
    "For example, if the user enters 2514, the method should return\n",
    "12, which is the sum of 2, 5, 1, and 4."
   ]
  },
  {
   "cell_type": "code",
   "execution_count": null,
   "metadata": {},
   "outputs": [],
   "source": [
    "number = '15asd684.as545'\n",
    "# Output 38"
   ]
  },
  {
   "cell_type": "markdown",
   "metadata": {},
   "source": [
    "#### Exercise\n",
    "##### Program: Shirt Count\n",
    "- enter a sizes (S, M, L)\n",
    "- count of each size\n",
    "- input \"exit\" when finished\n",
    "- report out the purchase of each shirt size"
   ]
  },
  {
   "cell_type": "code",
   "execution_count": null,
   "metadata": {},
   "outputs": [],
   "source": [
    "# สร้างตัวแปรเพื่อเก็บการนับก่อน\n",
    "count_s = 0\n",
    "count_m = 0\n",
    "count_l = 0\n",
    "\n",
    "# สร้าง while โดยใช้นับ และ condition ที่ใช้ออกจาก loop\n",
    "# Your code"
   ]
  },
  {
   "cell_type": "markdown",
   "metadata": {},
   "source": [
    "#### Exercise \n",
    "##### Caesar Cipher\n",
    "A \"Caesar Cipher\" is a simple way of encrypting a message by replacing each letter\n",
    "with a letter A a certain number of spaces up the alphabet. For example, if shifting the\n",
    "message by 13, an A would become an N, while an S would wrap around to the start\n",
    "of the alphabet to become an F.\n",
    "Write a program that asks the user for a message (a string) and a shift amount (an\n",
    "integer). The values should be passed to a function that accepts a string and an integer\n",
    "as arguments, and returns a string representing the original string encrypted by\n",
    "shfiting the letters by the integer. For example, as string \"BEWARE THE IDES OF\n",
    "MARCH\", and an integer of 13 should result in a string of \"ORJNER GUR VQRF BS\n",
    "ZNEPU\"."
   ]
  },
  {
   "cell_type": "code",
   "execution_count": null,
   "metadata": {},
   "outputs": [],
   "source": [
    "# Input function\n",
    "plain = input(\"What is your plain text? : \") # \"BEWARE THE IDES OF MARCH\"\n",
    "shift = int(input(\"What is your shift? :\")) # 13\n",
    "# Output \"ORJNER GUR VQRF BS ZNEPU\"\n",
    "\n",
    "# Your code"
   ]
  },
  {
   "cell_type": "code",
   "execution_count": null,
   "metadata": {},
   "outputs": [],
   "source": [
    "# Hint\n",
    "print(ord('a'))\n",
    "print(ord('b'))\n",
    "print(chr(99))"
   ]
  },
  {
   "cell_type": "code",
   "execution_count": null,
   "metadata": {},
   "outputs": [],
   "source": []
  }
 ],
 "metadata": {
  "kernelspec": {
   "display_name": "Python 3",
   "language": "python",
   "name": "python3"
  },
  "language_info": {
   "codemirror_mode": {
    "name": "ipython",
    "version": 3
   },
   "file_extension": ".py",
   "mimetype": "text/x-python",
   "name": "python",
   "nbconvert_exporter": "python",
   "pygments_lexer": "ipython3",
   "version": "3.8.5"
  }
 },
 "nbformat": 4,
 "nbformat_minor": 4
}
