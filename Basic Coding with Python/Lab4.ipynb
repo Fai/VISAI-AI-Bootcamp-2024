{
 "cells": [
  {
   "cell_type": "markdown",
   "metadata": {},
   "source": [
    "# Basic Python Lab 4\n",
    "- Comparison, Logical, and Membership Operators\n",
    "- If-else"
   ]
  },
  {
   "cell_type": "markdown",
   "metadata": {},
   "source": [
    "***\n",
    "### Comparison Operators\n",
    "| Operator | Name |\n",
    "|----------||\n",
    "|==|Equal|\n",
    "|!=|Not equal|\n",
    "|>|Greater than|\n",
    "|<|Less than|\n",
    "|>=|Greater than or equal to|\n",
    "|<=|Less than or equal to|"
   ]
  },
  {
   "cell_type": "code",
   "execution_count": null,
   "metadata": {},
   "outputs": [],
   "source": [
    "3 == 3"
   ]
  },
  {
   "cell_type": "code",
   "execution_count": null,
   "metadata": {},
   "outputs": [],
   "source": [
    "5 > 10"
   ]
  },
  {
   "cell_type": "code",
   "execution_count": null,
   "metadata": {},
   "outputs": [],
   "source": [
    "'a' > 'b'"
   ]
  },
  {
   "cell_type": "code",
   "execution_count": null,
   "metadata": {},
   "outputs": [],
   "source": [
    "'a' > 'A'"
   ]
  },
  {
   "cell_type": "code",
   "execution_count": null,
   "metadata": {},
   "outputs": [],
   "source": [
    "'aaa' > 'aa'"
   ]
  },
  {
   "cell_type": "code",
   "execution_count": null,
   "metadata": {},
   "outputs": [],
   "source": [
    "len('hi') >= len('hello')"
   ]
  },
  {
   "cell_type": "markdown",
   "metadata": {},
   "source": [
    "***\n",
    "### Logical Operators\n",
    "| Operator | Description |\n",
    "|----------||\n",
    "|and|Returns True if both statements are true|\n",
    "|or|Returns True if one of the statements is true|\n",
    "|not|Reverse the result, returns False if the result is true|\n",
    "\n",
    "##### `and`\n",
    "Is a binary operator; it operates on two variables (operands). It produces `True` when both variables are `True` and produces `False` otherwise. The following truth table shows the effect of the `and` operator on combining `A` and `B`.\n",
    "\n",
    "|`A`|`B`|`A and B`|\n",
    "|---|---|---------|\n",
    "|False|False|False|\n",
    "|False|True|False|\n",
    "|True|False|False|\n",
    "|True|True|True|\n",
    "\n",
    "##### `or`\n",
    "Is a binary operator; it operates on two variables (operands). It produces `True` if either (or both) of the variables is `True` and produces `False` otherwise. The following truth table shows the effect of `or` on combining `A` and `B`.\n",
    "\n",
    "|`A`|`B`|`A or B`|\n",
    "|---|---|---------|\n",
    "|False|False|False|\n",
    "|False|True|True|\n",
    "|True|False|True|\n",
    "|True|True|True|\n",
    "\n",
    "##### `not`\n",
    "Is a unary operator; it operates on one variable (operand) by negating it. The following truth table shows the result of negating a `bool` variable `A`.\n",
    "\n",
    "|`A`|`not A`|\n",
    "|---|-------|\n",
    "|False| True|\n",
    "|True|False|"
   ]
  },
  {
   "cell_type": "code",
   "execution_count": null,
   "metadata": {},
   "outputs": [],
   "source": [
    "#Test whether x is within [10, 20]\n",
    "x = 9\n",
    "(x >= 10) and (x <= 20)"
   ]
  },
  {
   "cell_type": "code",
   "execution_count": null,
   "metadata": {},
   "outputs": [],
   "source": [
    "#Test whether x is within (-inf,10) or (20,inf)\n",
    "x = 9\n",
    "(x < 10) or (x > 20)"
   ]
  },
  {
   "cell_type": "code",
   "execution_count": null,
   "metadata": {
    "scrolled": true
   },
   "outputs": [],
   "source": [
    "#Test whether x is within (-inf,10) or (20,inf) = not within [10, 20]\n",
    "x = 9\n",
    "not((x >= 10) and (x <= 20))"
   ]
  },
  {
   "cell_type": "markdown",
   "metadata": {},
   "source": [
    "***\n",
    "### Membership Operators\n",
    "| Operator | Description |\n",
    "|----------||\n",
    "|in|Returns True if a sequence with the specified value is present in the object|\n",
    "|not in|Returns True if a sequence with the specified value is not present in the object|"
   ]
  },
  {
   "cell_type": "code",
   "execution_count": null,
   "metadata": {},
   "outputs": [],
   "source": [
    "menu = \"salad, pasta, sandwich, pizza, drinks, dessert\"\n",
    "print('pizza' in menu)"
   ]
  },
  {
   "cell_type": "code",
   "execution_count": null,
   "metadata": {},
   "outputs": [],
   "source": [
    "menu = \"salad, pasta, sandwich, pizza, drinks, dessert\"\n",
    "print('water' in menu)"
   ]
  },
  {
   "cell_type": "code",
   "execution_count": null,
   "metadata": {
    "scrolled": true
   },
   "outputs": [],
   "source": [
    "menu = \"salad, pasta, sandwich, pizza, drinks, dessert\"\n",
    "print('water' not in menu)"
   ]
  },
  {
   "cell_type": "markdown",
   "metadata": {},
   "source": [
    "***\n",
    "### if, elif, else Statements\n",
    "`if` Statements in Python allow us to tell the computer to perform alternative actions based on a certain set of results.\n",
    "\n",
    "Verbally, we can imagine we are telling the computer:\n",
    "\n",
    "\"Hey if this case happens, perform some action\"\n",
    "\n",
    "We can then expand the idea further with `elif` and `else` statements, which allow us to tell the computer:\n",
    "\n",
    "\"Hey if this case happens, perform some action. Else, if another case happens, perform some other action. Else, if *none* of the above cases happened, perform this action.\"\n",
    "\n",
    "Let's go ahead and look at the syntax format for `if` statements to get a better idea of this:\n",
    "```python\n",
    "if case1:\n",
    "    # Run this code\n",
    "elif case2:\n",
    "    # Run this code\n",
    "else: \n",
    "    # Run this code\n",
    "```"
   ]
  },
  {
   "cell_type": "code",
   "execution_count": null,
   "metadata": {},
   "outputs": [],
   "source": [
    "x = -3\n",
    "if x<0: \n",
    "    x += 10\n",
    "print(x)"
   ]
  },
  {
   "cell_type": "code",
   "execution_count": null,
   "metadata": {},
   "outputs": [],
   "source": [
    "# บอกเลขคู่และคี่\n",
    "num = input(\"Input :\")\n",
    "if int(num)%2==0: \n",
    "    print(f\"{num} is an even number\")\n",
    "else:\n",
    "    print(f\"{num} is a odd number\")"
   ]
  },
  {
   "cell_type": "code",
   "execution_count": null,
   "metadata": {},
   "outputs": [],
   "source": [
    "# บอกเลขคู่และคี่ และเช็คว่าเป็นตัวเลขไหม\n",
    "num = input(\"Input :\")\n",
    "if not num.isnumeric(): \n",
    "    print(f\"{num} is not a number\")\n",
    "elif int(num)%2==0: \n",
    "    print(f\"{num} is an even number\")\n",
    "else:\n",
    "    print(f\"{num} is a odd number\")"
   ]
  },
  {
   "cell_type": "code",
   "execution_count": null,
   "metadata": {},
   "outputs": [],
   "source": [
    "# help(str.isnumeric) # มีข้อจำกัดต้องเป็นจำนวนเต็มเท่านั้น เพราะ . เป็นอักษรจะได้ return เป็น False"
   ]
  },
  {
   "cell_type": "markdown",
   "metadata": {},
   "source": [
    "#### Test Yourself!\n",
    "##### Simple Grading System\n",
    "Write a program calculate a grade of a student\\\n",
    "A : [80,100], (>= 80)\\\n",
    "B : [60,80), (>=60 and <80)\\\n",
    "C : [50,60), (>=50 and <60)\\\n",
    "F : [0,50), (<50)"
   ]
  },
  {
   "cell_type": "code",
   "execution_count": null,
   "metadata": {},
   "outputs": [],
   "source": [
    "score = 75\n",
    "# Grade B"
   ]
  },
  {
   "cell_type": "code",
   "execution_count": null,
   "metadata": {},
   "outputs": [],
   "source": []
  },
  {
   "cell_type": "markdown",
   "metadata": {},
   "source": [
    "#### Exercise\n",
    "##### Sale Recommendation\n",
    "Ask age and gender(m or f) of a customer\\\n",
    "If a customer is male and older than 35 -> recommend an umbrella\\\n",
    "If a customer is female and older or equal 20 -> recommend an umbrella\\\n",
    "If a customer is male and younger than 15 -> recommend a hat\\\n",
    "Else -> recommend a raincoat"
   ]
  },
  {
   "cell_type": "code",
   "execution_count": null,
   "metadata": {},
   "outputs": [],
   "source": [
    "# Input function\n",
    "age = int(input(\"Age:\"))\n",
    "gender = input(\"Gender(m or f):\").lower()\n",
    "# Your code\n"
   ]
  },
  {
   "cell_type": "code",
   "execution_count": null,
   "metadata": {},
   "outputs": [],
   "source": []
  },
  {
   "cell_type": "markdown",
   "metadata": {},
   "source": [
    "#### Exercise\n",
    "##### Adding menu\n",
    "Current `menu = \"salad, pasta, sandwich, pizza, drinks, dessert\"`\n",
    "1. Create a program where a user can check if an item is on the menu\n",
    "2. If not in the menu -> ask a user to add new menu or not\n",
    "3. User wants to add new menu -> add new menu to `menu`\n",
    "\n",
    "Hint: always convert to lowercase"
   ]
  },
  {
   "cell_type": "code",
   "execution_count": null,
   "metadata": {},
   "outputs": [],
   "source": [
    "menu = \"salad, pasta, sandwich, pizza, drinks, dessert\""
   ]
  },
  {
   "cell_type": "code",
   "execution_count": null,
   "metadata": {},
   "outputs": [],
   "source": [
    "item = input(\"Check menu:\").lower()\n",
    "# Your code\n"
   ]
  }
 ],
 "metadata": {
  "kernelspec": {
   "display_name": "Python 3",
   "language": "python",
   "name": "python3"
  },
  "language_info": {
   "codemirror_mode": {
    "name": "ipython",
    "version": 3
   },
   "file_extension": ".py",
   "mimetype": "text/x-python",
   "name": "python",
   "nbconvert_exporter": "python",
   "pygments_lexer": "ipython3",
   "version": "3.8.5"
  }
 },
 "nbformat": 4,
 "nbformat_minor": 4
}
