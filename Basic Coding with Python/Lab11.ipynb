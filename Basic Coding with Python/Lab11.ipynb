{
 "cells": [
  {
   "cell_type": "markdown",
   "metadata": {},
   "source": [
    "# Basic Python Lab 11\n",
    "- OOP Concept\n",
    "- Class"
   ]
  },
  {
   "cell_type": "markdown",
   "metadata": {},
   "source": [
    "***\n",
    "### Everything is an Object\n",
    "In python, everything is an object. Strings are objects, lists are objects, integers are objects, functions are objects. Classes are the mechanism used to create objects. Python includes two built-in functions that help identify the class of an object\n",
    "- `type(obj)` - Returns the object's type, which is essentially a synonym for class.\n",
    "- `isinstance(obj, class_type)` - Returns `True` if `obj` is an instance of `class_type`. Otherwise, returns `False`."
   ]
  },
  {
   "cell_type": "code",
   "execution_count": null,
   "metadata": {},
   "outputs": [],
   "source": [
    "type('Hello')"
   ]
  },
  {
   "cell_type": "code",
   "execution_count": null,
   "metadata": {},
   "outputs": [],
   "source": [
    "isinstance('Hello', int)"
   ]
  },
  {
   "cell_type": "code",
   "execution_count": null,
   "metadata": {},
   "outputs": [],
   "source": [
    "type(1)"
   ]
  },
  {
   "cell_type": "code",
   "execution_count": null,
   "metadata": {},
   "outputs": [],
   "source": [
    "isinstance(1,int)"
   ]
  },
  {
   "cell_type": "code",
   "execution_count": null,
   "metadata": {},
   "outputs": [],
   "source": [
    "type(['a','b','c'])"
   ]
  },
  {
   "cell_type": "code",
   "execution_count": null,
   "metadata": {},
   "outputs": [],
   "source": [
    "isinstance(['a','b','c'], list)"
   ]
  },
  {
   "cell_type": "code",
   "execution_count": null,
   "metadata": {},
   "outputs": [],
   "source": [
    "type({'a':1, 'b':2})"
   ]
  },
  {
   "cell_type": "code",
   "execution_count": null,
   "metadata": {},
   "outputs": [],
   "source": [
    "isinstance({'a':1, 'b':2}, dict)"
   ]
  },
  {
   "cell_type": "markdown",
   "metadata": {},
   "source": [
    "### Define a Class\n",
    "\n",
    "1. Use the class keyword to define a class\n",
    "2. `__init__` method has to be defined with `def` as the initializer.\\\n",
    "It takes one argument: self, which refers to the object itself\n",
    "\n",
    "**Syntax:**\n",
    "```python\n",
    "class ClassName:\n",
    "    def __init__(self):\n",
    "        pass\n",
    "```"
   ]
  },
  {
   "cell_type": "code",
   "execution_count": null,
   "metadata": {},
   "outputs": [],
   "source": [
    "class Car:\n",
    "    def __init__(self):\n",
    "        pass"
   ]
  },
  {
   "cell_type": "code",
   "execution_count": null,
   "metadata": {},
   "outputs": [],
   "source": [
    "my_car = Car()"
   ]
  },
  {
   "cell_type": "code",
   "execution_count": null,
   "metadata": {},
   "outputs": [],
   "source": [
    "type(my_car)"
   ]
  },
  {
   "cell_type": "code",
   "execution_count": null,
   "metadata": {},
   "outputs": [],
   "source": [
    "isinstance(my_car, Car)"
   ]
  },
  {
   "cell_type": "markdown",
   "metadata": {},
   "source": [
    "### Attributes and Methods\n",
    "**Syntax:**\n",
    "```python\n",
    "class ClassName:\n",
    "    def __init__(self,x,y):\n",
    "        self.att1 = x\n",
    "        self.att2 = y\n",
    "    def method(self):\n",
    "        # do something\n",
    "```"
   ]
  },
  {
   "cell_type": "code",
   "execution_count": null,
   "metadata": {},
   "outputs": [],
   "source": [
    "# Attribute\n",
    "class Car:\n",
    "    def __init__(self,b,c,ms=100):\n",
    "        self.brand = b\n",
    "        self.color = c\n",
    "        self.max_speed = ms"
   ]
  },
  {
   "cell_type": "code",
   "execution_count": null,
   "metadata": {},
   "outputs": [],
   "source": [
    "my_car = Car('toyota','blue')"
   ]
  },
  {
   "cell_type": "code",
   "execution_count": null,
   "metadata": {},
   "outputs": [],
   "source": [
    "print(my_car.brand)\n",
    "print(my_car.color)\n",
    "print(my_car.max_speed)"
   ]
  },
  {
   "cell_type": "code",
   "execution_count": null,
   "metadata": {},
   "outputs": [],
   "source": [
    "# Method\n",
    "class Car:\n",
    "    def __init__(self,b,c,f=1.00,r=0.05,s=100):\n",
    "        self.brand = b\n",
    "        self.color = c\n",
    "        self.fuel = f\n",
    "        self.drive_fuel_rate = r\n",
    "        self.speed = s\n",
    "        self.km = 0\n",
    "    def drive(self, hr):\n",
    "        self.fuel = self.fuel-(self.drive_fuel_rate*hr)\n",
    "        self.km += self.speed*hr\n",
    "        print('Gooooooo!!',hr,'hr')\n",
    "    def getFuel(self):\n",
    "        print('Fuel :',self.fuel*100,'%')\n",
    "    def getStatus(self):\n",
    "        return self.fuel, self.km"
   ]
  },
  {
   "cell_type": "code",
   "execution_count": null,
   "metadata": {},
   "outputs": [],
   "source": [
    "my_car = Car('toyota','blue')\n",
    "print(my_car.fuel)\n",
    "print(my_car.km)"
   ]
  },
  {
   "cell_type": "code",
   "execution_count": null,
   "metadata": {},
   "outputs": [],
   "source": [
    "my_car.drive(5)"
   ]
  },
  {
   "cell_type": "code",
   "execution_count": null,
   "metadata": {},
   "outputs": [],
   "source": [
    "print(my_car.fuel)\n",
    "my_car.getFuel()"
   ]
  },
  {
   "cell_type": "code",
   "execution_count": null,
   "metadata": {},
   "outputs": [],
   "source": [
    "my_car.getStatus()"
   ]
  },
  {
   "cell_type": "code",
   "execution_count": null,
   "metadata": {},
   "outputs": [],
   "source": [
    "# Think about your work"
   ]
  },
  {
   "cell_type": "code",
   "execution_count": null,
   "metadata": {},
   "outputs": [],
   "source": [
    "class Country:\n",
    "    def __init__(self, name, pop, area):\n",
    "        pass\n",
    "    def growth(rate,year):\n",
    "        pass"
   ]
  },
  {
   "cell_type": "code",
   "execution_count": null,
   "metadata": {},
   "outputs": [],
   "source": [
    "class Plant:\n",
    "    def __init__(self):\n",
    "        pass\n",
    "    def run(self):\n",
    "        pass"
   ]
  }
 ],
 "metadata": {
  "kernelspec": {
   "display_name": "Python 3",
   "language": "python",
   "name": "python3"
  },
  "language_info": {
   "codemirror_mode": {
    "name": "ipython",
    "version": 3
   },
   "file_extension": ".py",
   "mimetype": "text/x-python",
   "name": "python",
   "nbconvert_exporter": "python",
   "pygments_lexer": "ipython3",
   "version": "3.8.5"
  }
 },
 "nbformat": 4,
 "nbformat_minor": 4
}
