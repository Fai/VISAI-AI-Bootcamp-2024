{
 "cells": [
  {
   "cell_type": "markdown",
   "metadata": {},
   "source": [
    "# Basic Python Lab 7\n",
    "- Set"
   ]
  },
  {
   "cell_type": "markdown",
   "metadata": {},
   "source": [
    "***\n",
    "### Set\n",
    "Sets are mutable **unordered collections** of distinct immutable objects. So, while the set itself can be modified, it cannot be populated with objects that can be modified.\n",
    "In Python sets are written with curly brackets `{}`.\n",
    "1. Set Creation and Operation\n",
    "2. Set Method and Function"
   ]
  },
  {
   "cell_type": "markdown",
   "metadata": {},
   "source": [
    "#### Set Creation\n",
    "Set object types are not restricted so a mix of object types can be in single set"
   ]
  },
  {
   "cell_type": "code",
   "execution_count": null,
   "metadata": {},
   "outputs": [],
   "source": [
    "numbers = {3, 2, 1, 4}\n",
    "print(numbers)\n",
    "\n",
    "letters = {'a', 'b', 'a', 'c', 'b'}\n",
    "print(letters)"
   ]
  },
  {
   "cell_type": "code",
   "execution_count": null,
   "metadata": {},
   "outputs": [],
   "source": [
    "set1 = set([3, 1, 1, 3, 6, 5])\n",
    "print(set1)\n",
    "\n",
    "set2 = set(range(5))\n",
    "print(set2)"
   ]
  },
  {
   "cell_type": "code",
   "execution_count": null,
   "metadata": {},
   "outputs": [],
   "source": [
    "for i in set1:\n",
    "    print(i)"
   ]
  },
  {
   "cell_type": "markdown",
   "metadata": {},
   "source": [
    "#### In Operation"
   ]
  },
  {
   "cell_type": "code",
   "execution_count": null,
   "metadata": {},
   "outputs": [],
   "source": [
    "classes = {'English', 'Math', 'Art', 'Music'}\n",
    "print('Math' in classes)\n",
    "print('Thai' in classes)"
   ]
  },
  {
   "cell_type": "markdown",
   "metadata": {},
   "source": [
    "*----------Desirable----------* ไม่จำเป็นต้องจำทุกตัวจำแค่ที่สำคัญๆ\n",
    "#### Set Method and Function\n",
    "- `.add()` : add a single element to the set. !สำคัญ!\n",
    "- `.update()` : add multiple elements to the set.\n",
    "- `.remove()` : remove the specified element, will cause an error if the element being removed is not part of the set. \n",
    "- `.discard()` : remove the specified element, will not give an error even if the argument being removed does not exist in the set. There is no value returned.\n",
    "- `.pop()` : remove and return an arbitrary set element. Raises KeyError if the set is empty.\n",
    "- `.clear()` : remove all elements from a set (making it empty).\n",
    "- `.union()` : return the union of two sets. !สำคัญ!\n",
    "- `.intersection()` : return  the intersection of two or more sets as a new set. !สำคัญ!\n",
    "- `.difference()` : return the difference of two or more sets.\n",
    "- `.isdisjoint()` : return True if two sets have a null intersection.\n",
    "- `.issubset()` : report whether another set contains this set.\n",
    "- `.issuperset()` : report whether this set contains another set.\n",
    "- `len()` : return the length of collection !สำคัญ!\n",
    "- `min()` : return the minimum element in collection.\n",
    "- `max()` : return the maximum element in collection.\n",
    "- `sum()` : return the sum of elements in set. The particular function requires that the list elements be numbers.\n",
    "- `sorted()` : create an ordered list copy"
   ]
  },
  {
   "cell_type": "code",
   "execution_count": null,
   "metadata": {},
   "outputs": [],
   "source": [
    "my_set = set([3, 1, 1, 3, 6, 5])\n",
    "print(my_set)\n",
    "\n",
    "# Add a single element\n",
    "my_set.add(10)\n",
    "print(my_set)\n",
    "\n",
    "# Try to add the same element\n",
    "my_set.add(5)\n",
    "print(my_set)\n",
    "\n",
    "# Add multiple elements\n",
    "my_set.update({10, 66, 27, 39})\n",
    "print(my_set)"
   ]
  },
  {
   "cell_type": "code",
   "execution_count": null,
   "metadata": {},
   "outputs": [],
   "source": [
    "# Remove an element from a set if it is a member.\n",
    "my_set.discard(3)\n",
    "print(my_set)\n",
    "\n",
    "# Remove an element from a set if it is a member.\n",
    "my_set.remove(5)\n",
    "print(my_set)\n",
    "\n",
    "# If the element is not a member, do nothing.\n",
    "my_set.discard(7)\n",
    "print(my_set)\n",
    "\n",
    "# If the element is not a member, raise an error.\n",
    "my_set.remove(7) # --> raise Error\n",
    "print(my_set)"
   ]
  },
  {
   "cell_type": "code",
   "execution_count": null,
   "metadata": {},
   "outputs": [],
   "source": [
    "# Remove and return an arbitrary set element.\n",
    "print(my_set.pop())\n",
    "print(my_set)"
   ]
  },
  {
   "cell_type": "code",
   "execution_count": null,
   "metadata": {},
   "outputs": [],
   "source": [
    "# Remove all elements from a set\n",
    "my_set.clear()\n",
    "print(my_set)"
   ]
  },
  {
   "cell_type": "code",
   "execution_count": null,
   "metadata": {},
   "outputs": [],
   "source": [
    "# Union\n",
    "set1 = {1, 2, 3}\n",
    "set2 = {1, 2, 4, 5}\n",
    "\n",
    "print(set1.union(set2))\n",
    "print(set2.union(set1))"
   ]
  },
  {
   "cell_type": "code",
   "execution_count": null,
   "metadata": {},
   "outputs": [],
   "source": [
    "# Intersection\n",
    "set1 = {1, 2, 3}\n",
    "set2 = {1, 2, 4, 5}\n",
    "\n",
    "print(set1.intersection(set2))\n",
    "print(set2.intersection(set1))"
   ]
  },
  {
   "cell_type": "code",
   "execution_count": null,
   "metadata": {},
   "outputs": [],
   "source": [
    "# Difference\n",
    "set1 = {1, 2, 3}\n",
    "set2 = {1, 2, 4, 5}\n",
    "\n",
    "print(set1.difference(set2)) # set1-set2\n",
    "print(set2.difference(set1)) # set2-set1"
   ]
  },
  {
   "cell_type": "code",
   "execution_count": null,
   "metadata": {},
   "outputs": [],
   "source": [
    "# Issubset\n",
    "set1 = {1, 2}\n",
    "set2 = {1, 2, 4, 5}\n",
    "\n",
    "print(set1.issubset(set2))\n",
    "print(set2.issubset(set1))"
   ]
  },
  {
   "cell_type": "code",
   "execution_count": null,
   "metadata": {},
   "outputs": [],
   "source": [
    "# Issuperset\n",
    "set1 = {1, 2}\n",
    "set2 = {1, 2, 4, 5}\n",
    "\n",
    "print(set1.issuperset(set2))\n",
    "print(set2.issuperset(set1))"
   ]
  },
  {
   "cell_type": "code",
   "execution_count": null,
   "metadata": {},
   "outputs": [],
   "source": [
    "# len, Min, Max, Sum\n",
    "set1 = {1, 9, 20, 4, -8, 5}\n",
    "\n",
    "print(len(set1))\n",
    "print(min(set1))\n",
    "print(max(set1))\n",
    "print(sum(set1))\n",
    "print(sorted(set1))"
   ]
  },
  {
   "cell_type": "markdown",
   "metadata": {},
   "source": [
    "#### Test Yourself!"
   ]
  },
  {
   "cell_type": "code",
   "execution_count": null,
   "metadata": {},
   "outputs": [],
   "source": [
    "import this"
   ]
  },
  {
   "cell_type": "code",
   "execution_count": null,
   "metadata": {},
   "outputs": [],
   "source": [
    "TheZenofPython = \"\"\"\n",
    "Beautiful is better than ugly.\n",
    "Explicit is better than implicit.\n",
    "Simple is better than complex.\n",
    "Complex is better than complicated.\n",
    "Flat is better than nested.\n",
    "Sparse is better than dense.\n",
    "Readability counts.\n",
    "Special cases aren't special enough to break the rules.\n",
    "Although practicality beats purity.\n",
    "Errors should never pass silently.\n",
    "Unless explicitly silenced.\n",
    "In the face of ambiguity, refuse the temptation to guess.\n",
    "There should be one-- and preferably only one --obvious way to do it.\n",
    "Although that way may not be obvious at first unless you're Dutch.\n",
    "Now is better than never.\n",
    "Although never is often better than *right* now.\n",
    "If the implementation is hard to explain, it's a bad idea.\n",
    "If the implementation is easy to explain, it may be a good idea.\n",
    "Namespaces are one honking great idea -- let's do more of those!\n",
    "\"\"\"\n",
    "# Find unique alphabet in The Zen of Python"
   ]
  },
  {
   "cell_type": "code",
   "execution_count": null,
   "metadata": {},
   "outputs": [],
   "source": []
  },
  {
   "cell_type": "markdown",
   "metadata": {},
   "source": [
    "#### Exercise\n",
    "##### Adding menu\n",
    "Current `menu = {salad, pasta, sandwich, pizza, drinks, dessert}`\n",
    "1. Create a program where a user can check if an item is on the menu\n",
    "2. If not in the menu -> ask a user to add new menu or not\n",
    "3. User wants to add new menu -> add new menu to `menu`\n",
    "\n",
    "Hint: always convert to lowercase"
   ]
  },
  {
   "cell_type": "code",
   "execution_count": null,
   "metadata": {},
   "outputs": [],
   "source": [
    "menu = {'salad', 'pasta', 'sandwich', 'pizza', 'drinks', 'dessert'}"
   ]
  },
  {
   "cell_type": "code",
   "execution_count": null,
   "metadata": {},
   "outputs": [],
   "source": []
  }
 ],
 "metadata": {
  "kernelspec": {
   "display_name": "Python 3",
   "language": "python",
   "name": "python3"
  },
  "language_info": {
   "codemirror_mode": {
    "name": "ipython",
    "version": 3
   },
   "file_extension": ".py",
   "mimetype": "text/x-python",
   "name": "python",
   "nbconvert_exporter": "python",
   "pygments_lexer": "ipython3",
   "version": "3.8.5"
  }
 },
 "nbformat": 4,
 "nbformat_minor": 4
}
