{
 "cells": [
  {
   "cell_type": "markdown",
   "metadata": {},
   "source": [
    "# Basic Python Lab 8\n",
    "- Dictionary"
   ]
  },
  {
   "cell_type": "markdown",
   "metadata": {},
   "source": [
    "***\n",
    "### Dictionary\n",
    "Dictionary is a collection on Python. This collection is **unordered** but **indexed**. We use curly brackets `{key: value}` to refer to this data type.\\\n",
    "Dictionary will contain 2 entities: the left one is called **key** and the right one is called **value**.\n",
    "\n",
    "1. Dict Creation\n",
    "2. Dict Lookup\n",
    "3. Dict Method\n",
    "4. Iteration"
   ]
  },
  {
   "cell_type": "markdown",
   "metadata": {},
   "source": [
    "#### Dict Creation\n",
    "A dictionary is a collection, but it is not a sequence.\\\n",
    "A dictionary is often referred to as a map collection.\\\n",
    "Dictionaries are mappings that use arbitrary keys to map to values.\\\n",
    "Dictionaries are created by surrounding key/value pairs in curly brackets and separating them with commas, like this\n",
    "```python\n",
    "phonebook = {'VISTEC': '01-111-1111',  'Bangkok': '02-222-2222',  'Rayong': '03-333-3333'}\n",
    "```"
   ]
  },
  {
   "cell_type": "code",
   "execution_count": null,
   "metadata": {},
   "outputs": [],
   "source": [
    "squares = {1: 1, 2: 4, 3: 9, 4: 16}\n",
    "print(f\"squares dict = {squares}\")\n",
    "\n",
    "grades = {'English':97, 'Math':93, 'Art':74, 'Music':86}\n",
    "print(f\"grades dict = {grades}\")\n",
    "\n",
    "\n",
    "cities = {'China': ['Shanghai', 'Beijing'],\n",
    "          'USA': ['New York', 'Los Angeles'],\n",
    "          'Spain': ['Madrid', 'Barcelona'],\n",
    "          'Australia': ['Sydney', 'Melbourne']}\n",
    "print(f\"cities dict = {cities}\")"
   ]
  },
  {
   "cell_type": "code",
   "execution_count": null,
   "metadata": {},
   "outputs": [],
   "source": [
    "data = [(1, 'one'), (2, 'two'), (3, 'three')]\n",
    "names = dict(data)\n",
    "print(names)"
   ]
  },
  {
   "cell_type": "code",
   "execution_count": null,
   "metadata": {},
   "outputs": [],
   "source": [
    "# zip() function\n",
    "list1 = [1,2,3]\n",
    "list2 = ['one','two','three']\n",
    "print(zip(list1,list2))\n",
    "print(list(zip(list1,list2)))\n",
    "print(dict(zip(list1,list2)))"
   ]
  },
  {
   "cell_type": "markdown",
   "metadata": {},
   "source": [
    "#### Test yourself!"
   ]
  },
  {
   "cell_type": "code",
   "execution_count": null,
   "metadata": {},
   "outputs": [],
   "source": [
    "# Create dict of month using number of the month as key and month as value\n",
    "\n",
    "# 1. from scratch\n",
    "dict_mon = {____}\n",
    "print(dict_mon)\n",
    "\n",
    "# 2. from list of [1,2,3,4,5,6,7,8,9,10,11,12] and list of month\n",
    "list_num = ____\n",
    "list_mon = ____\n",
    "dict_tuple = dict(zip(____))\n",
    "print(dict_tuple)\n"
   ]
  },
  {
   "cell_type": "markdown",
   "metadata": {},
   "source": [
    "#### Dict Lookup\n",
    "Use indexing with keys to access values.\\\n",
    "Do not support indexing or slicing as they have no set order."
   ]
  },
  {
   "cell_type": "code",
   "execution_count": null,
   "metadata": {},
   "outputs": [],
   "source": [
    "grades = {'English':97, 'Math':93, 'Art':74, 'Music':86}\n",
    "print(f\"English grade = {grades['English']}\")"
   ]
  },
  {
   "cell_type": "code",
   "execution_count": null,
   "metadata": {},
   "outputs": [],
   "source": [
    "print(f\"Thai grade = {grades['Thai']}\") # --> raise Error ไม่มี key 'Thai'"
   ]
  },
  {
   "cell_type": "code",
   "execution_count": null,
   "metadata": {},
   "outputs": [],
   "source": [
    "# Mix of key types\n",
    "# Not recommended\n",
    "mapping = {4.0: 2, 'a': 3, True: 'hello', False: 'bye'}\n",
    "print(mapping)\n",
    "print(mapping[1])\n",
    "print(mapping[0])\n",
    "print(mapping[4])"
   ]
  },
  {
   "cell_type": "code",
   "execution_count": null,
   "metadata": {},
   "outputs": [],
   "source": [
    "# lists cannot be keys for dictionay\n",
    "cities = {['Shanghai', 'Beijing'] : 'China',\n",
    "          ['New York', 'Los Angeles'] : 'USA',\n",
    "          ['Madrid', 'Barcelona'] : 'Spain',\n",
    "          ['Sydney', 'Melbourne'] : 'Australia'}\n",
    "print(f\"cities dict = {cities}\")"
   ]
  },
  {
   "cell_type": "code",
   "execution_count": null,
   "metadata": {},
   "outputs": [],
   "source": [
    "# sets cannot be keys for dictionay\n",
    "cities = {{'Shanghai', 'Beijing'}: 'China',\n",
    "          {'New York', 'Los Angeles'} : 'USA',\n",
    "          {'Madrid', 'Barcelona'} : 'Spain',\n",
    "          {'Sydney', 'Melbourne'} : 'Australia'}\n",
    "print(f\"cities dict = {cities}\")"
   ]
  },
  {
   "cell_type": "code",
   "execution_count": null,
   "metadata": {},
   "outputs": [],
   "source": [
    "# tuples can be keys for dictionay\n",
    "cities = {('Shanghai', 'Beijing'): 'China',\n",
    "          ('New York', 'Los Angeles') : 'USA',\n",
    "          ('Madrid', 'Barcelona') : 'Spain',\n",
    "          ('Sydney', 'Melbourne') : 'Australia'}\n",
    "print(f\"cities dict = {cities}\")"
   ]
  },
  {
   "cell_type": "markdown",
   "metadata": {},
   "source": [
    "#### Dict Modify, Add, Delete\n",
    "- Modify : `dict[key] = new value`\n",
    "- Add : `dict[new key] = value`\n",
    "- Delete : `del dict[key]`, `dict.pop(key)`"
   ]
  },
  {
   "cell_type": "code",
   "execution_count": null,
   "metadata": {},
   "outputs": [],
   "source": [
    "grades = {'English':97, 'Math':93, 'Art':74, 'Music':86}\n",
    "print(f\"English grade = {grades['English']}\")\n",
    "\n",
    "# Modify\n",
    "grades['English'] = 55\n",
    "print(f\"English grade = {grades['English']}\")"
   ]
  },
  {
   "cell_type": "code",
   "execution_count": null,
   "metadata": {},
   "outputs": [],
   "source": [
    "# Add\n",
    "grades['Thai'] = 88\n",
    "print(f\"Thai grade = {grades['Thai']}\")"
   ]
  },
  {
   "cell_type": "code",
   "execution_count": null,
   "metadata": {},
   "outputs": [],
   "source": [
    "# Delete\n",
    "del grades['Thai']\n",
    "print(f\"grades dict = {grades}\")"
   ]
  },
  {
   "cell_type": "code",
   "execution_count": null,
   "metadata": {},
   "outputs": [],
   "source": [
    "# Delete\n",
    "del grades['Thai']\n",
    "print(f\"grades dict = {grades}\") # --> raise Error ไม่มี key 'Thai'"
   ]
  },
  {
   "cell_type": "code",
   "execution_count": null,
   "metadata": {},
   "outputs": [],
   "source": [
    "# Delete\n",
    "grades.pop('English')\n",
    "print(f\"grades dict = {grades}\")"
   ]
  },
  {
   "cell_type": "code",
   "execution_count": null,
   "metadata": {},
   "outputs": [],
   "source": [
    "# Delete\n",
    "grades.pop('English')\n",
    "print(f\"grades dict = {grades}\") # --> raise Error ไม่มี key 'English'"
   ]
  },
  {
   "cell_type": "markdown",
   "metadata": {},
   "source": [
    "*----------Desirable----------* ไม่จำเป็นต้องจำทุกตัวจำแค่ที่สำคัญๆ\n",
    "#### Dict Method\n",
    "- `.get()` : returns the value for key if it is found. Otherwise, it returns default if passed in or None if it is not. !สำคัญ!\n",
    "- `.update()` : mused to add new key/value pairs to a dictionary or to overwrite the values of existing keys or both.\n",
    "- `.setdefault()` : If key does not exist in the dictionary, key is added with a value of default, If key exists in the dictionary, the value for key is left unchanged.\n",
    "- `.clear()` : remove all elements from a dictionary.\n",
    "- `.keys()` : get all keys from a dictionary !สำคัญ!\n",
    "- `.values()` : get all values from a dictionary !สำคัญ!\n",
    "- `.items()` : get all (key,value) in  from a dictionary !สำคัญ!"
   ]
  },
  {
   "cell_type": "code",
   "execution_count": null,
   "metadata": {},
   "outputs": [],
   "source": [
    "# .get(), use when you are unsure if the key exists.\n",
    "\n",
    "grades = {'English':97, 'Math':93, 'Art':74, 'Music':86}\n",
    "\n",
    "print(grades.get('Math'))\n",
    "print(grades.get('Thai'))\n",
    "print(grades.get('Thai', 'default_value'))"
   ]
  },
  {
   "cell_type": "code",
   "execution_count": null,
   "metadata": {},
   "outputs": [],
   "source": [
    "# .update()\n",
    "\n",
    "grades = {'English':97, 'Math':93, 'Art':74, 'Music':86}\n",
    "\n",
    "grades.update({'Math':100, 'Gym':50}) # update Math, add Gym\n",
    "print(grades)"
   ]
  },
  {
   "cell_type": "code",
   "execution_count": null,
   "metadata": {},
   "outputs": [],
   "source": [
    "#.setdefault(key, default)\n",
    "\n",
    "grades = {'English':97, 'Math':93, 'Art':74, 'Music':86} \n",
    "\n",
    "grades.setdefault('Math',100)    # Math key exists. No change.\n",
    "grades.setdefault('Gym',50)      # Gym key is new. Added and set.\n",
    "print(grades)"
   ]
  },
  {
   "cell_type": "code",
   "execution_count": null,
   "metadata": {},
   "outputs": [],
   "source": [
    "# .keys(), .values(), .items()\n",
    "\n",
    "grades = {'English':97, 'Math':93, 'Art':74, 'Music':86} \n",
    "\n",
    "print(grades.keys())     # -> List\n",
    "print(grades.values())   # -> List\n",
    "print(grades.items())    # -> List of tuples (key,value)"
   ]
  },
  {
   "cell_type": "markdown",
   "metadata": {},
   "source": [
    "#### Iteration\n",
    "Iterate over key and value"
   ]
  },
  {
   "cell_type": "code",
   "execution_count": null,
   "metadata": {},
   "outputs": [],
   "source": [
    "grades = {'English':97, 'Math':93, 'Art':74, 'Music':86} \n",
    "\n",
    "for key in grades:  # use key for loop\n",
    "    print(key)"
   ]
  },
  {
   "cell_type": "code",
   "execution_count": null,
   "metadata": {
    "scrolled": true
   },
   "outputs": [],
   "source": [
    "# In operation in Dict\n",
    "print('English' in grades)\n",
    "print('Thai' in grades)\n",
    "print('Math' in grades)"
   ]
  },
  {
   "cell_type": "code",
   "execution_count": null,
   "metadata": {},
   "outputs": [],
   "source": [
    "for key in grades.keys():  #use key for loop\n",
    "    print(key)"
   ]
  },
  {
   "cell_type": "code",
   "execution_count": null,
   "metadata": {},
   "outputs": [],
   "source": [
    "for value in grades.values():  #use value for loop\n",
    "    print(value)"
   ]
  },
  {
   "cell_type": "code",
   "execution_count": null,
   "metadata": {
    "scrolled": true
   },
   "outputs": [],
   "source": [
    "for i in grades.items():  #use item for loop\n",
    "    print(i)"
   ]
  },
  {
   "cell_type": "code",
   "execution_count": null,
   "metadata": {},
   "outputs": [],
   "source": [
    "for key, value in grades.items():  #use item for loop\n",
    "    print(key,\"-\",value)"
   ]
  },
  {
   "cell_type": "markdown",
   "metadata": {},
   "source": [
    "#### Test Yourself!"
   ]
  },
  {
   "cell_type": "code",
   "execution_count": null,
   "metadata": {},
   "outputs": [],
   "source": [
    "# Find the average score\n",
    "grades = {'English':97, 'Math':93, 'Art':74, 'Music':86}\n",
    "# Your code"
   ]
  },
  {
   "cell_type": "code",
   "execution_count": null,
   "metadata": {},
   "outputs": [],
   "source": [
    "# Write a program to find score of each subject in dict, if no subject in dict -> show \"Not found\"\n",
    "subject = input('Find score:') # Ex. \"Math English Thai Gym Art\"\n",
    "# Your code"
   ]
  },
  {
   "cell_type": "markdown",
   "metadata": {},
   "source": [
    "#### Test Yourself!"
   ]
  },
  {
   "cell_type": "code",
   "execution_count": null,
   "metadata": {},
   "outputs": [],
   "source": [
    "TheZenofPython = \"\"\"\n",
    "Beautiful is better than ugly.\n",
    "Explicit is better than implicit.\n",
    "Simple is better than complex.\n",
    "Complex is better than complicated.\n",
    "Flat is better than nested.\n",
    "Sparse is better than dense.\n",
    "Readability counts.\n",
    "Special cases aren't special enough to break the rules.\n",
    "Although practicality beats purity.\n",
    "Errors should never pass silently.\n",
    "Unless explicitly silenced.\n",
    "In the face of ambiguity, refuse the temptation to guess.\n",
    "There should be one-- and preferably only one --obvious way to do it.\n",
    "Although that way may not be obvious at first unless you're Dutch.\n",
    "Now is better than never.\n",
    "Although never is often better than *right* now.\n",
    "If the implementation is hard to explain, it's a bad idea.\n",
    "If the implementation is easy to explain, it may be a good idea.\n",
    "Namespaces are one honking great idea -- let's do more of those!\n",
    "\"\"\"\n",
    "# Count each alphabet in The Zen of Python and return as Dict"
   ]
  },
  {
   "cell_type": "code",
   "execution_count": null,
   "metadata": {},
   "outputs": [],
   "source": []
  },
  {
   "cell_type": "markdown",
   "metadata": {},
   "source": [
    "#### Excercise\n",
    "##### Word Index\n",
    "Write a program that reads the contents of a text file. The program should create a\n",
    "dictionary in which the key-value pairs are described as follows:\n",
    "\n",
    "    • Key. The keys are the individual words found in the file.\n",
    "    • Values. Each value is a list that contains the line numbers in the file where the word (the key) is found.\n",
    "For example, suppose the word “implementation ” is found in lines 17, 18. The\n",
    "dictionary would contain an element in which the key was the string “implementation ”, and the\n",
    "value was a list containing the numbers 17, 18."
   ]
  },
  {
   "cell_type": "code",
   "execution_count": null,
   "metadata": {},
   "outputs": [],
   "source": [
    "TheZenofPython = \"\"\"\n",
    "Beautiful is better than ugly.\n",
    "Explicit is better than implicit.\n",
    "Simple is better than complex.\n",
    "Complex is better than complicated.\n",
    "Flat is better than nested.\n",
    "Sparse is better than dense.\n",
    "Readability counts.\n",
    "Special cases aren't special enough to break the rules.\n",
    "Although practicality beats purity.\n",
    "Errors should never pass silently.\n",
    "Unless explicitly silenced.\n",
    "In the face of ambiguity, refuse the temptation to guess.\n",
    "There should be one-- and preferably only one --obvious way to do it.\n",
    "Although that way may not be obvious at first unless you're Dutch.\n",
    "Now is better than never.\n",
    "Although never is often better than *right* now.\n",
    "If the implementation is hard to explain, it's a bad idea.\n",
    "If the implementation is easy to explain, it may be a good idea.\n",
    "Namespaces are one honking great idea -- let's do more of those!\n",
    "\"\"\"\n",
    "# Example result\n",
    "# Beautiful is found in lines  1\n",
    "# implementation  is found in lines  17,18\n",
    "# idea  is found in lines  17,18,19"
   ]
  },
  {
   "cell_type": "code",
   "execution_count": null,
   "metadata": {},
   "outputs": [],
   "source": []
  }
 ],
 "metadata": {
  "kernelspec": {
   "display_name": "Python 3",
   "language": "python",
   "name": "python3"
  },
  "language_info": {
   "codemirror_mode": {
    "name": "ipython",
    "version": 3
   },
   "file_extension": ".py",
   "mimetype": "text/x-python",
   "name": "python",
   "nbconvert_exporter": "python",
   "pygments_lexer": "ipython3",
   "version": "3.8.5"
  }
 },
 "nbformat": 4,
 "nbformat_minor": 4
}
