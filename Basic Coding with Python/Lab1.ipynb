{
 "cells": [
  {
   "cell_type": "markdown",
   "metadata": {},
   "source": [
    "# Basic Python Lab 1\n",
    "- Jupyter notebook\n",
    "- Data type\n",
    "- Arithmetic Operators\n",
    "- Variables Assignments\n",
    "- Assignment Operators"
   ]
  },
  {
   "cell_type": "markdown",
   "metadata": {},
   "source": [
    "***\n",
    "### Jupyter notebook\n",
    "The Jupyter Notebook is an open-source web application that allows you to create and share documents that contain live code, equations, visualizations and narrative text. Uses include: data cleaning and transformation, numerical simulation, statistical modeling, data visualization, machine learning, and much more.\n",
    "- Cell: Code and Markdown\n",
    "- Comment #......\n",
    "\n",
    "*----------Desirable----------*\n",
    "- Shortcuts\\\n",
    "`Shift + Enter` : run the current cell, select below\\\n",
    "`Ctrl + Enter` : run selected cells\\\n",
    "`Alt + Enter` : run the current cell, insert below\\\n",
    "`Tab code` completion or indent\\\n",
    "`Shift + Tab` tooltip\\\n",
    "`Ctrl + Z` undo\\\n",
    "`Ctrl + Shift + Z` or `Ctrl + Y` redo\n",
    "- Kernal / Runtime(Colab)\n",
    "- Function `print(...)`"
   ]
  },
  {
   "cell_type": "code",
   "execution_count": null,
   "metadata": {},
   "outputs": [],
   "source": [
    "# Code cell\n",
    "print(100)"
   ]
  },
  {
   "cell_type": "markdown",
   "metadata": {},
   "source": [
    "##### Markdown cell\n",
    "- VISTEC\n",
    "- Bangkok\n",
    "- Rayong"
   ]
  },
  {
   "cell_type": "code",
   "execution_count": null,
   "metadata": {},
   "outputs": [],
   "source": [
    "print(2)\n",
    "print(4+5)"
   ]
  },
  {
   "cell_type": "code",
   "execution_count": null,
   "metadata": {},
   "outputs": [],
   "source": [
    "4+5"
   ]
  },
  {
   "cell_type": "markdown",
   "metadata": {},
   "source": [
    "***\n",
    "### Data Types\n",
    "1. bool (boolean)\\\n",
    "Ex. True, False\n",
    "2. int (integer number)\\\n",
    "Ex. 30, 0, 999, -20\n",
    "3. float (approximation to a real number) [Desirable: https://docs.python.org/3/tutorial/floatingpoint.html] \\\n",
    "Ex. 1.23, 0.02, -92.34\n",
    "4. str (string or text)\\\n",
    "Ex. \"Hello\", 'World'\n",
    "\n",
    "Function `type(...)`"
   ]
  },
  {
   "cell_type": "code",
   "execution_count": null,
   "metadata": {},
   "outputs": [],
   "source": [
    "print(type(False))"
   ]
  },
  {
   "cell_type": "code",
   "execution_count": null,
   "metadata": {},
   "outputs": [],
   "source": [
    "print(type(-29))"
   ]
  },
  {
   "cell_type": "code",
   "execution_count": null,
   "metadata": {},
   "outputs": [],
   "source": [
    "print(type(9.823423423))"
   ]
  },
  {
   "cell_type": "code",
   "execution_count": null,
   "metadata": {},
   "outputs": [],
   "source": [
    "# Floating point\n",
    "print(5.0-0.1-0.1-0.1-0.1)"
   ]
  },
  {
   "cell_type": "code",
   "execution_count": null,
   "metadata": {},
   "outputs": [],
   "source": [
    "print(type(\"Hi\"))"
   ]
  },
  {
   "cell_type": "markdown",
   "metadata": {},
   "source": [
    "#### Test Yourself!\n",
    "Type?\n",
    "```python\n",
    "2.1324\n",
    "true\n",
    "-0.0\n",
    "123456\n",
    "False\n",
    "\"Python\"\n",
    "```"
   ]
  },
  {
   "cell_type": "code",
   "execution_count": null,
   "metadata": {},
   "outputs": [],
   "source": []
  },
  {
   "cell_type": "markdown",
   "metadata": {},
   "source": [
    "***\n",
    "### Arithmetic Operators\n",
    "\n",
    "| Operator | Description | Expression | Result |\n",
    "|----------||||\n",
    "|+|addition|9 + 2|11|\n",
    "|-|subtraction|9 - 2|7|\n",
    "|*|multiplication|9 * 2|18|\n",
    "|**|exponentiation|9 ** 2|81|\n",
    "|/|division|9 / 2|4.5|\n",
    "|//|integer division|9 // 2|4|\n",
    "|%|modulo (remainder)|9 % 2|1|\n",
    "\n",
    "### Arithmetic Operator Precedence\n",
    "| Operator | Description |\n",
    "|----------||\n",
    "| () |parentheses|\n",
    "| \\** |exponentiation| \n",
    "| *, /, //, %|multiplication, division, integer division, modulo|\n",
    "|+, -|addition, subtraction|"
   ]
  },
  {
   "cell_type": "code",
   "execution_count": null,
   "metadata": {},
   "outputs": [],
   "source": [
    "# addition\n",
    "print(10+3)\n",
    "print(type(10+3))"
   ]
  },
  {
   "cell_type": "code",
   "execution_count": null,
   "metadata": {},
   "outputs": [],
   "source": [
    "# subtraction\n",
    "print(10-3.0)\n",
    "print(type(10-3.0))"
   ]
  },
  {
   "cell_type": "code",
   "execution_count": null,
   "metadata": {},
   "outputs": [],
   "source": [
    "# multiplication\n",
    "print(10*3.0)\n",
    "print(type(10*3.0))"
   ]
  },
  {
   "cell_type": "code",
   "execution_count": null,
   "metadata": {},
   "outputs": [],
   "source": [
    "# Exponentiation\n",
    "print(10**3)\n",
    "print(type(10**3))"
   ]
  },
  {
   "cell_type": "code",
   "execution_count": null,
   "metadata": {},
   "outputs": [],
   "source": [
    "# division\n",
    "print(10/2)\n",
    "print(type(10/2))"
   ]
  },
  {
   "cell_type": "code",
   "execution_count": null,
   "metadata": {},
   "outputs": [],
   "source": [
    "# integer division\n",
    "print(10//3)\n",
    "print(type(10//3))"
   ]
  },
  {
   "cell_type": "code",
   "execution_count": null,
   "metadata": {},
   "outputs": [],
   "source": [
    "# modulo\n",
    "print(10%3)\n",
    "print(type(10%3))"
   ]
  },
  {
   "cell_type": "code",
   "execution_count": null,
   "metadata": {},
   "outputs": [],
   "source": [
    "# Operator Precedence\n",
    "print(10*2+1)"
   ]
  },
  {
   "cell_type": "code",
   "execution_count": null,
   "metadata": {},
   "outputs": [],
   "source": [
    "# Operator Precedence\n",
    "print(10/2**2)"
   ]
  },
  {
   "cell_type": "markdown",
   "metadata": {},
   "source": [
    "#### Test Yourself!\n",
    "Answer and Type?\n",
    "```python\n",
    "30+1.0\n",
    "30/3\n",
    "40//2\n",
    "40%3\n",
    "3+True\n",
    "4**5+2*(4+5)\n",
    "```"
   ]
  },
  {
   "cell_type": "code",
   "execution_count": null,
   "metadata": {},
   "outputs": [],
   "source": []
  },
  {
   "cell_type": "markdown",
   "metadata": {},
   "source": [
    "***\n",
    "### Variable Assignments\n",
    "\n",
    "variable = expression\n",
    "\n",
    "The names you use when creating these labels need to follow a few rules:\n",
    "1. Names must start with a letter or _.\n",
    "2. There can be no spaces in the name, use _ instead.\n",
    "3. Can't use any of these symbols :'\",<>/?|\\()!@#$%^&*~-+\n",
    "4. It's considered best practice (PEP8) that names are lowercase.\n",
    "5. Avoid using the characters 'l' (lowercase letter el), 'O' (uppercase letter oh), \n",
    "   or 'I' (uppercase letter eye) as single character variable names.\n",
    "6. Avoid using words that have special meaning in Python like \"list\" and \"str\""
   ]
  },
  {
   "cell_type": "markdown",
   "metadata": {},
   "source": [
    "#### Test Yourself!\n",
    "Error or not?\n",
    "```python\n",
    "hi = 0\n",
    "hi2 = hi\n",
    "hi2 = hi4\n",
    "0 = hi3\n",
    "_hi = 0\n",
    "___ = 0\n",
    "3hi = 0\n",
    "hi3 = 0\n",
    "hi_world = 0\n",
    "hi$ = 0\n",
    "```"
   ]
  },
  {
   "cell_type": "code",
   "execution_count": null,
   "metadata": {},
   "outputs": [],
   "source": []
  },
  {
   "cell_type": "markdown",
   "metadata": {},
   "source": [
    "### Assignment Operators\n",
    "| Operator | Example | Same As |\n",
    "|----------|||\n",
    "|=|x = 9|x = 9|\n",
    "|+=|x += 9|x = x + 9|\n",
    "|-=|x -= 9|x = x - 9|\n",
    "|*=|x *= 9|x = x * 9|\n",
    "|**=|x **= 9|x = x ** 9|\n",
    "|/=|x /= 9|x = x / 9|\n",
    "|/=|x //= 9|x = x // 9|\n",
    "|%=|x %= 9|x = x % 9|"
   ]
  },
  {
   "cell_type": "code",
   "execution_count": null,
   "metadata": {},
   "outputs": [],
   "source": [
    "x = 10\n",
    "print(x)"
   ]
  },
  {
   "cell_type": "code",
   "execution_count": null,
   "metadata": {},
   "outputs": [],
   "source": [
    "x += 9\n",
    "print(x)"
   ]
  },
  {
   "cell_type": "code",
   "execution_count": null,
   "metadata": {},
   "outputs": [],
   "source": [
    "x %= 5\n",
    "print(x)"
   ]
  },
  {
   "cell_type": "code",
   "execution_count": null,
   "metadata": {},
   "outputs": [],
   "source": [
    "x **= 2\n",
    "print(x)"
   ]
  },
  {
   "cell_type": "code",
   "execution_count": null,
   "metadata": {},
   "outputs": [],
   "source": [
    "x = True\n",
    "print(x)"
   ]
  },
  {
   "cell_type": "code",
   "execution_count": null,
   "metadata": {},
   "outputs": [],
   "source": [
    "x = 10\n",
    "y = 20\n",
    "print(x/y)"
   ]
  },
  {
   "cell_type": "code",
   "execution_count": null,
   "metadata": {},
   "outputs": [],
   "source": [
    "# Calculate BMI\n",
    "weight = 60 #kg\n",
    "height = 1.6 #meters\n",
    "bmi = weight/height**2\n",
    "print(bmi)"
   ]
  },
  {
   "cell_type": "markdown",
   "metadata": {},
   "source": [
    "#### Test Yourself!\n",
    "Answer?\n",
    "```python\n",
    "x = 20\n",
    "y = 10\n",
    "\n",
    "x += 2\n",
    "y *= 2\n",
    "\n",
    "x,y = ??\n",
    "\n",
    "y //= x\n",
    "\n",
    "x,y = ??\n",
    "```"
   ]
  },
  {
   "cell_type": "code",
   "execution_count": null,
   "metadata": {},
   "outputs": [],
   "source": []
  }
 ],
 "metadata": {
  "kernelspec": {
   "display_name": "Python 3",
   "language": "python",
   "name": "python3"
  },
  "language_info": {
   "codemirror_mode": {
    "name": "ipython",
    "version": 3
   },
   "file_extension": ".py",
   "mimetype": "text/x-python",
   "name": "python",
   "nbconvert_exporter": "python",
   "pygments_lexer": "ipython3",
   "version": "3.8.5"
  }
 },
 "nbformat": 4,
 "nbformat_minor": 4
}
