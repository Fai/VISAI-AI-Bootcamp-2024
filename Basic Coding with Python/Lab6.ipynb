{
 "cells": [
  {
   "cell_type": "markdown",
   "metadata": {},
   "source": [
    "# Basic Python Lab 6\n",
    "### Data Structure\n",
    "- List\n",
    "- Tuple"
   ]
  },
  {
   "cell_type": "markdown",
   "metadata": {},
   "source": [
    "***\n",
    "### List\n",
    "A list is a collection which is ordered and **changeable/mutable**. In Python lists are written with square brackets`[]`.\n",
    "1. List Creation\n",
    "2. List Operation\n",
    "3. List Indexing and Slicing\n",
    "4. List Mutability\n",
    "5. List Method and Function"
   ]
  },
  {
   "cell_type": "markdown",
   "metadata": {},
   "source": [
    "#### List Creation\n",
    "List object types are not restricted so a mix of object types can be in single list"
   ]
  },
  {
   "cell_type": "code",
   "execution_count": null,
   "metadata": {},
   "outputs": [],
   "source": [
    "list_a = [2,\"two\"]\n",
    "list_b = [1, 1, \"one\", \"two\", 2.0, list_a, \"Hello World\"]\n",
    "print(list_b)"
   ]
  },
  {
   "cell_type": "code",
   "execution_count": null,
   "metadata": {},
   "outputs": [],
   "source": [
    "for item in list_b:\n",
    "    print(f\"Type of |{item}| is {type(item)}\")"
   ]
  },
  {
   "cell_type": "markdown",
   "metadata": {},
   "source": [
    "#### List Operation"
   ]
  },
  {
   "cell_type": "code",
   "execution_count": null,
   "metadata": {},
   "outputs": [],
   "source": [
    "list_c = list_a + [10,\"ten\"]\n",
    "print(list_c)"
   ]
  },
  {
   "cell_type": "code",
   "execution_count": null,
   "metadata": {},
   "outputs": [],
   "source": [
    "list_d = list_c - [10,\"ten\"] # --> raise Error ไม่สามารถใช้ list-list ได้\n",
    "print(list_d)"
   ]
  },
  {
   "cell_type": "code",
   "execution_count": null,
   "metadata": {},
   "outputs": [],
   "source": [
    "list_e = list_c*2\n",
    "print(list_e)"
   ]
  },
  {
   "cell_type": "code",
   "execution_count": null,
   "metadata": {},
   "outputs": [],
   "source": [
    "4 in [4,5,6,7]"
   ]
  },
  {
   "cell_type": "code",
   "execution_count": null,
   "metadata": {},
   "outputs": [],
   "source": [
    "2 in [4,5,6,7]"
   ]
  },
  {
   "cell_type": "markdown",
   "metadata": {},
   "source": [
    "#### Test yourself!"
   ]
  },
  {
   "cell_type": "code",
   "execution_count": null,
   "metadata": {},
   "outputs": [],
   "source": [
    "# Vowels and Consonants count\n",
    "sen = 'I love you'\n",
    "#Hint\n",
    "vowel = 0\n",
    "consonant = 0\n",
    "vowel_list = [\"a\",\"e\",\"i\",\"o\",\"u\"]"
   ]
  },
  {
   "cell_type": "markdown",
   "metadata": {},
   "source": [
    "#### List Indexing and Slicing\n",
    "Indexing and slicing work just like in strings."
   ]
  },
  {
   "cell_type": "code",
   "execution_count": null,
   "metadata": {},
   "outputs": [],
   "source": [
    "list_b = [1, 1, \"one\", \"two\", 2.0, list_a, \"Hello World\"]"
   ]
  },
  {
   "cell_type": "code",
   "execution_count": null,
   "metadata": {},
   "outputs": [],
   "source": [
    "list_b[0]"
   ]
  },
  {
   "cell_type": "code",
   "execution_count": null,
   "metadata": {},
   "outputs": [],
   "source": [
    "list_b[:4]"
   ]
  },
  {
   "cell_type": "code",
   "execution_count": null,
   "metadata": {},
   "outputs": [],
   "source": [
    "list_b[-7:-1]"
   ]
  },
  {
   "cell_type": "code",
   "execution_count": null,
   "metadata": {},
   "outputs": [],
   "source": [
    "list_b[::2]"
   ]
  },
  {
   "cell_type": "markdown",
   "metadata": {},
   "source": [
    "#### List Mutability\n",
    "In Python, lists are mutable, which means their elements can be changed. Consequently, an expression in the form `list[index]` can appear on the left side of an assignment operator.\\\n",
    "*Strings are immutable"
   ]
  },
  {
   "cell_type": "code",
   "execution_count": null,
   "metadata": {},
   "outputs": [],
   "source": [
    "list_b = [1, 1, \"one\", \"two\", 2.0, list_a, \"Hello World\"]"
   ]
  },
  {
   "cell_type": "code",
   "execution_count": null,
   "metadata": {},
   "outputs": [],
   "source": [
    "list_b[0] = 'eight'\n",
    "print(list_b)"
   ]
  },
  {
   "cell_type": "code",
   "execution_count": null,
   "metadata": {},
   "outputs": [],
   "source": [
    "list_b[:2] = [6,7]\n",
    "print(list_b)"
   ]
  },
  {
   "cell_type": "code",
   "execution_count": null,
   "metadata": {},
   "outputs": [],
   "source": [
    "s = 'Hello'\n",
    "s[0] = 'A' # String เป็น immutable"
   ]
  },
  {
   "cell_type": "markdown",
   "metadata": {},
   "source": [
    "*----------Desirable----------* ไม่จำเป็นต้องจำทุกตัวจำแค่ที่สำคัญๆ\n",
    "#### List Method\n",
    "- `.append(item)` : adds item to the end of a list. The length of the list is increased by one. !สำคัญ!\n",
    "- `.insert(index, item)` : inserts item into the list at the specified index.\n",
    "- `.pop()` : removes the element at the end of the list and return that element. The list is shortened by one element.\n",
    "- `.pop(index)` : removes the element at the index position and returns that item.\n",
    "- `.remove(item)` : removes the first occurrence of item from the list.\n",
    "- `.index(item)` : returns the index of the first element whose value is equal to item.\n",
    "- `.extend(list)` : adds list into an existing list.\n",
    "- `.reverse()` : reverses the order of the items in the list. !สำคัญ!\n",
    "- `.sort()` : orders a list in place. !สำคัญ!"
   ]
  },
  {
   "cell_type": "code",
   "execution_count": null,
   "metadata": {},
   "outputs": [],
   "source": [
    "# .append()\n",
    "my_list = [0,9,2,3,1,5,6]\n",
    "my_list.append('seven')\n",
    "my_list"
   ]
  },
  {
   "cell_type": "code",
   "execution_count": null,
   "metadata": {},
   "outputs": [],
   "source": [
    "# Powered by 2\n",
    "old_list = [5,2,4,9,11]\n",
    "new_list = []\n",
    "for num in old_list:\n",
    "    new_list.append(num**2)\n",
    "new_list"
   ]
  },
  {
   "cell_type": "code",
   "execution_count": null,
   "metadata": {},
   "outputs": [],
   "source": [
    "my_list"
   ]
  },
  {
   "cell_type": "code",
   "execution_count": null,
   "metadata": {},
   "outputs": [],
   "source": [
    "# .pop()\n",
    "my_list.pop()"
   ]
  },
  {
   "cell_type": "code",
   "execution_count": null,
   "metadata": {},
   "outputs": [],
   "source": [
    "my_list"
   ]
  },
  {
   "cell_type": "code",
   "execution_count": null,
   "metadata": {},
   "outputs": [],
   "source": [
    "# .index()\n",
    "my_list.index(9)"
   ]
  },
  {
   "cell_type": "code",
   "execution_count": null,
   "metadata": {},
   "outputs": [],
   "source": [
    "# .reverse()\n",
    "my_list.reverse()\n",
    "my_list"
   ]
  },
  {
   "cell_type": "code",
   "execution_count": null,
   "metadata": {},
   "outputs": [],
   "source": [
    "# .sort()\n",
    "my_list.sort()\n",
    "my_list"
   ]
  },
  {
   "cell_type": "code",
   "execution_count": null,
   "metadata": {},
   "outputs": [],
   "source": [
    "# .sort()\n",
    "my_list.sort(reverse=True)\n",
    "my_list"
   ]
  },
  {
   "cell_type": "markdown",
   "metadata": {},
   "source": [
    "*----------Desirable----------* ไม่จำเป็นต้องจำทุกตัวจำแค่ที่สำคัญๆ\n",
    "#### List Function\n",
    "- `len()` : return the length of collection !สำคัญ!\n",
    "- `min()` : return the minimum element in collection, If the argument is a list of lists, only the first element in each list is considered for the purposes of comparison.\n",
    "- `max()` : return the maximum element in collection, If the argument is a list of lists, only the first element in each list is considered for the purposes of comparison.\n",
    "- `sum()` : return the sum of elements in list. The particular function requires that the list elements be numbers.\n",
    "- `sorted()` : create an ordered list copy !สำคัญ!"
   ]
  },
  {
   "cell_type": "code",
   "execution_count": null,
   "metadata": {},
   "outputs": [],
   "source": [
    "# len()\n",
    "my_list = [0,9,2,3,1,5,6]\n",
    "len(my_list)"
   ]
  },
  {
   "cell_type": "code",
   "execution_count": null,
   "metadata": {},
   "outputs": [],
   "source": [
    "# min()\n",
    "min(my_list)"
   ]
  },
  {
   "cell_type": "code",
   "execution_count": null,
   "metadata": {},
   "outputs": [],
   "source": [
    "# max()\n",
    "max(my_list)"
   ]
  },
  {
   "cell_type": "code",
   "execution_count": null,
   "metadata": {},
   "outputs": [],
   "source": [
    "# sum()\n",
    "sum(my_list)"
   ]
  },
  {
   "cell_type": "code",
   "execution_count": null,
   "metadata": {},
   "outputs": [],
   "source": [
    "# sum()\n",
    "sum([1,\"2\",3]) # --> raise Error ไม่สามารถ sum int กับ str ได้"
   ]
  },
  {
   "cell_type": "code",
   "execution_count": null,
   "metadata": {},
   "outputs": [],
   "source": [
    "# sorted()\n",
    "sorted(my_list)"
   ]
  },
  {
   "cell_type": "code",
   "execution_count": null,
   "metadata": {},
   "outputs": [],
   "source": [
    "# sorted() เป็น function ที่ return list ไม่มีการเปลี่ยนแปลง list เดิม\n",
    "my_list"
   ]
  },
  {
   "cell_type": "code",
   "execution_count": null,
   "metadata": {},
   "outputs": [],
   "source": [
    "# sorted() ถ้าอยากเก็บการ sort ไว้ต้องเก็บในตัวแปร(ใหม่หรือทับตัวเดิมได้)\n",
    "new_list = sorted(my_list)\n",
    "new_list"
   ]
  },
  {
   "cell_type": "code",
   "execution_count": null,
   "metadata": {},
   "outputs": [],
   "source": [
    "# sort() เป็น method จะเปลี่ยนแปลง list เลย\n",
    "my_list.sort()\n",
    "my_list"
   ]
  },
  {
   "cell_type": "markdown",
   "metadata": {},
   "source": [
    "#### Bonus\n",
    "#### String <---> List"
   ]
  },
  {
   "cell_type": "code",
   "execution_count": null,
   "metadata": {},
   "outputs": [],
   "source": [
    "s = 'I love Python and Jupyter'"
   ]
  },
  {
   "cell_type": "code",
   "execution_count": null,
   "metadata": {
    "scrolled": true
   },
   "outputs": [],
   "source": [
    "print(list(s))"
   ]
  },
  {
   "cell_type": "code",
   "execution_count": null,
   "metadata": {},
   "outputs": [],
   "source": [
    "word_split = s.split(' ')\n",
    "word_split"
   ]
  },
  {
   "cell_type": "code",
   "execution_count": null,
   "metadata": {
    "scrolled": true
   },
   "outputs": [],
   "source": [
    "' '.join(word_split)"
   ]
  },
  {
   "cell_type": "markdown",
   "metadata": {},
   "source": [
    "##### Reversed Sentence\n",
    "Write a program to reverse the sentence(word). For example, if the sentence is “What is your quest”, it should display “quest your is What”."
   ]
  },
  {
   "cell_type": "code",
   "execution_count": null,
   "metadata": {},
   "outputs": [],
   "source": [
    "my_string = \"What is your quest\"\n",
    "my_ls = my_string.split(\" \")\n",
    "print(my_ls)\n",
    "my_ls.reverse()\n",
    "print(my_ls)\n",
    "new_string = \" \".join(my_ls)\n",
    "print(new_string)"
   ]
  },
  {
   "cell_type": "markdown",
   "metadata": {},
   "source": [
    "### Tuple\n",
    "A tuple is a sequence, very much like a list.\n",
    "The primary difference between tuples and lists is that tuples are **immutable**. That means that once a tuple is created, it cannot be changed. In Python tuples are written with parentheses`()`.\\\n",
    "\\\n",
    "Tuples do not support methods such as `append`, `extend`, `remove`, `pop`, `reverse`, `insert`, and `sort`."
   ]
  },
  {
   "cell_type": "code",
   "execution_count": null,
   "metadata": {},
   "outputs": [],
   "source": [
    "list1 = [1,2,3,4,3,2]\n",
    "tuple1 =(1,2,3,4,3,2)"
   ]
  },
  {
   "cell_type": "code",
   "execution_count": null,
   "metadata": {},
   "outputs": [],
   "source": [
    "list1[1] = 5\n",
    "list1"
   ]
  },
  {
   "cell_type": "code",
   "execution_count": null,
   "metadata": {},
   "outputs": [],
   "source": [
    "tuple1[1] = 5 # --> raise Error Tuple เป็น immutable เปลี่ยนค่าไม่ได้\n",
    "tuple1"
   ]
  },
  {
   "cell_type": "code",
   "execution_count": null,
   "metadata": {},
   "outputs": [],
   "source": [
    "tuple1 =(1,2,3,4,3,2)"
   ]
  },
  {
   "cell_type": "code",
   "execution_count": null,
   "metadata": {},
   "outputs": [],
   "source": [
    "# max function\n",
    "max(tuple1)"
   ]
  },
  {
   "cell_type": "code",
   "execution_count": null,
   "metadata": {},
   "outputs": [],
   "source": [
    "# count method\n",
    "tuple1.count(3)"
   ]
  },
  {
   "cell_type": "code",
   "execution_count": null,
   "metadata": {},
   "outputs": [],
   "source": [
    "tuple1 + (6,7)"
   ]
  },
  {
   "cell_type": "code",
   "execution_count": null,
   "metadata": {},
   "outputs": [],
   "source": [
    "tuple1 * 2"
   ]
  },
  {
   "cell_type": "code",
   "execution_count": null,
   "metadata": {},
   "outputs": [],
   "source": [
    "tuple1"
   ]
  },
  {
   "cell_type": "code",
   "execution_count": null,
   "metadata": {},
   "outputs": [],
   "source": [
    "new_tuple = tuple1 * 2\n",
    "new_tuple"
   ]
  },
  {
   "cell_type": "markdown",
   "metadata": {},
   "source": [
    "#### Exercise\n",
    "##### New List\n",
    "Given a list of integers, write Python code to create a new list with same number of elements as the original list such that each integer in **the new list is the sum of its neighbors and itself** in the original list. For example,\\\n",
    "if list1 = [10,20,30,40,50]\\\n",
    "list2 = [30,60,90,120,90]."
   ]
  },
  {
   "cell_type": "code",
   "execution_count": null,
   "metadata": {},
   "outputs": [],
   "source": [
    "list1 = [10,20,30,40,50]\n",
    "list2 = []\n",
    "# Output list2 = [30,60,90,120,90]"
   ]
  },
  {
   "cell_type": "code",
   "execution_count": null,
   "metadata": {},
   "outputs": [],
   "source": []
  }
 ],
 "metadata": {
  "kernelspec": {
   "display_name": "Python 3",
   "language": "python",
   "name": "python3"
  },
  "language_info": {
   "codemirror_mode": {
    "name": "ipython",
    "version": 3
   },
   "file_extension": ".py",
   "mimetype": "text/x-python",
   "name": "python",
   "nbconvert_exporter": "python",
   "pygments_lexer": "ipython3",
   "version": "3.8.5"
  }
 },
 "nbformat": 4,
 "nbformat_minor": 4
}
